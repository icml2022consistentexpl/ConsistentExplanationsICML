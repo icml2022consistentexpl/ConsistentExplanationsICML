{
 "cells": [
  {
   "cell_type": "code",
   "execution_count": 1,
   "id": "funky-person",
   "metadata": {},
   "outputs": [],
   "source": [
    "import argparse\n",
    "import numpy as np\n",
    "\n",
    "from experiments_comp.utils_comp import generate_dataset\n",
    "from experiments_comp.invase_regression import invase\n",
    "from experiments_comp.utils import feature_performance_metric, prediction_performance_metric   \n",
    "from sklearn.metrics import mean_squared_error\n",
    "from experiments.utils import *"
   ]
  },
  {
   "cell_type": "code",
   "execution_count": 2,
   "id": "intense-consolidation",
   "metadata": {},
   "outputs": [],
   "source": [
    "# parser for invase model and data generation\n",
    "\n",
    "parser = argparse.ArgumentParser()\n",
    "parser.add_argument(\n",
    "  '--data_type',\n",
    "  choices=['syn1','syn2','syn3','syn4','syn5','syn6', 'syn7', 'syn8'],\n",
    "  default='syn7',\n",
    "  type=str)\n",
    "parser.add_argument(\n",
    "  '--train_no',\n",
    "  help='the number of training data',\n",
    "  default=50000,\n",
    "  type=int)\n",
    "parser.add_argument(\n",
    "  '--test_no',\n",
    "  help='the number of testing data',\n",
    "  default=100000,\n",
    "  type=int)\n",
    "parser.add_argument(\n",
    "  '--dim',\n",
    "  help='the number of features',\n",
    "  choices=[11, 100],\n",
    "  default=50,\n",
    "  type=int)\n",
    "parser.add_argument(\n",
    "  '--lamda',\n",
    "  help='inavse hyper-parameter lambda',\n",
    "  default=0.1,\n",
    "  type=float)\n",
    "parser.add_argument(\n",
    "  '--actor_h_dim',\n",
    "  help='hidden state dimensions for actor',\n",
    "  default=100,\n",
    "  type=int)\n",
    "parser.add_argument(\n",
    "  '--critic_h_dim',\n",
    "  help='hidden state dimensions for critic',\n",
    "  default=200,\n",
    "  type=int)\n",
    "parser.add_argument(\n",
    "  '--n_layer',\n",
    "  help='the number of layers',\n",
    "  default=3,\n",
    "  type=int)\n",
    "parser.add_argument(\n",
    "  '--batch_size',\n",
    "  help='the number of samples in mini batch',\n",
    "  default=1000,\n",
    "  type=int)\n",
    "parser.add_argument(\n",
    "  '--iteration',\n",
    "  help='the number of iteration',\n",
    "  default=4500,\n",
    "  type=int)\n",
    "parser.add_argument(\n",
    "  '--activation',\n",
    "  help='activation function of the networks',\n",
    "  choices=['selu','relu'],\n",
    "  default='relu',\n",
    "  type=str)\n",
    "parser.add_argument(\n",
    "  '--learning_rate',\n",
    "  help='learning rate of model training',\n",
    "  default=0.00001,\n",
    "  type=float)\n",
    "parser.add_argument(\n",
    "  '--model_type',\n",
    "  help='inavse or invase- (without baseline)',\n",
    "  choices=['invase','invase_minus'],\n",
    "  default='invase_minus',\n",
    "  type=str)\n",
    "\n",
    "args = parser.parse_args([]) \n",
    "\n",
    "model_parameters = {'lamda': args.lamda,\n",
    "                  'actor_h_dim': args.actor_h_dim, \n",
    "                  'critic_h_dim': args.critic_h_dim,\n",
    "                  'n_layer': args.n_layer,\n",
    "                  'batch_size': args.batch_size,\n",
    "                  'iteration': args.iteration, \n",
    "                  'activation': args.activation, \n",
    "                  'learning_rate': args.learning_rate}"
   ]
  },
  {
   "cell_type": "code",
   "execution_count": 4,
   "id": "prostate-farming",
   "metadata": {},
   "outputs": [],
   "source": [
    "# To compute the metric P-MSE\n",
    "\n",
    "def return_output(x, coefs):\n",
    "    logit1 = np.sum(coefs[0:2] * x[:, 0:2], axis=1)\n",
    "    logit2 = np.sum(coefs[2:4] * x[:, 2:4], axis=1)\n",
    "    idx1 = (x[:, 4] < 0) * 1\n",
    "    idx2 = (x[:, 4] >= 0) * 1\n",
    "    logit = logit1 * idx1 + logit2 * idx2\n",
    "    return logit\n",
    "\n",
    "def sample_mcexp(X, coefs, mean, cov, S, N=1000):\n",
    "    d = X.shape[1]\n",
    "    index = list(range(d))\n",
    "    y_cond = np.zeros(X.shape[0])\n",
    "    for i in range(X.shape[0]):\n",
    "        x = X[i]\n",
    "        rg_data = np.zeros(shape=(N, d))\n",
    "        rg_data[:, S] = x[S]\n",
    "        S_bar = [i for i in index if i not in S]\n",
    "        \n",
    "        if len(S) != d:\n",
    "            rg = sampleMVN(N, mean, cov, S_bar, S, x[S])\n",
    "            rg_data[:, S_bar] = rg\n",
    "            y_cond[i] = np.mean(return_output(rg_data, coefs))\n",
    "        else:\n",
    "            y_cond[i] = np.mean(return_output(rg_data, coefs))\n",
    "            \n",
    "    return y_cond"
   ]
  },
  {
   "cell_type": "markdown",
   "id": "062f7541",
   "metadata": {},
   "source": [
    "# Generate toy dataset"
   ]
  },
  {
   "cell_type": "code",
   "execution_count": 5,
   "id": "cloudy-competition",
   "metadata": {},
   "outputs": [],
   "source": [
    "# Generate dataset\n",
    "d = args.dim\n",
    "p = 0.8\n",
    "mean = np.zeros(d)\n",
    "coefs = np.ones(d)\n",
    "# Determinitist covariance\n",
    "cov = p*np.ones(shape=(d, d)) + 5*np.eye(d)\n",
    "# b = np.random.randn(d, d)\n",
    "# cov = np.dot(b, b.T)\n",
    "\n",
    "x_train, y_train, g_train = generate_dataset (mean, cov, n = args.train_no, \n",
    "                                            dim = args.dim, \n",
    "                                            data_type = args.data_type, \n",
    "                                            seed = 0, reg=True, coefs=coefs)\n",
    "\n",
    "x_test, y_test, g_test = generate_dataset (mean, cov, n = args.test_no,\n",
    "                                         dim = args.dim, \n",
    "                                         data_type = args.data_type, \n",
    "                                         seed = 5, reg=True, coefs=coefs)"
   ]
  },
  {
   "cell_type": "code",
   "execution_count": 6,
   "id": "static-anthony",
   "metadata": {},
   "outputs": [],
   "source": [
    "y_train = np.expand_dims(y_train, axis=1)\n",
    "y_test = np.expand_dims(y_test, axis=1)"
   ]
  },
  {
   "cell_type": "markdown",
   "id": "73cf786f",
   "metadata": {},
   "source": [
    "# Model 1: INVASE"
   ]
  },
  {
   "cell_type": "code",
   "execution_count": 7,
   "id": "iraqi-clearance",
   "metadata": {},
   "outputs": [
    {
     "name": "stdout",
     "output_type": "stream",
     "text": [
      "Iterations: 0, critic accuracy: 14.7167329788208, actor loss: -391.5284\n",
      "Iterations: 100, critic accuracy: 13.201102256774902, actor loss: -299.1104\n",
      "Iterations: 200, critic accuracy: 11.990948677062988, actor loss: -287.3979\n",
      "Iterations: 300, critic accuracy: 11.222001075744629, actor loss: -285.506\n",
      "Iterations: 400, critic accuracy: 10.672489166259766, actor loss: -250.1972\n",
      "Iterations: 500, critic accuracy: 10.266728401184082, actor loss: -227.2632\n",
      "Iterations: 600, critic accuracy: 9.946744918823242, actor loss: -229.9763\n",
      "Iterations: 700, critic accuracy: 9.681632995605469, actor loss: -240.4062\n",
      "Iterations: 800, critic accuracy: 9.451498985290527, actor loss: -224.4285\n",
      "Iterations: 900, critic accuracy: 9.244540214538574, actor loss: -221.4833\n",
      "Iterations: 1000, critic accuracy: 9.058870315551758, actor loss: -220.0287\n",
      "Iterations: 1100, critic accuracy: 8.89184856414795, actor loss: -206.8741\n",
      "Iterations: 1200, critic accuracy: 8.73809814453125, actor loss: -208.1987\n",
      "Iterations: 1300, critic accuracy: 8.595551490783691, actor loss: -196.4617\n",
      "Iterations: 1400, critic accuracy: 8.460058212280273, actor loss: -177.2434\n",
      "Iterations: 1500, critic accuracy: 8.329751968383789, actor loss: -188.5434\n",
      "Iterations: 1600, critic accuracy: 8.210201263427734, actor loss: -180.5959\n",
      "Iterations: 1700, critic accuracy: 8.089314460754395, actor loss: -162.9117\n",
      "Iterations: 1800, critic accuracy: 7.973601818084717, actor loss: -177.5941\n",
      "Iterations: 1900, critic accuracy: 7.862608432769775, actor loss: -150.4676\n",
      "Iterations: 2000, critic accuracy: 7.756267070770264, actor loss: -145.1367\n",
      "Iterations: 2100, critic accuracy: 7.649559020996094, actor loss: -158.5501\n",
      "Iterations: 2200, critic accuracy: 7.543710708618164, actor loss: -154.2637\n",
      "Iterations: 2300, critic accuracy: 7.4418816566467285, actor loss: -150.4924\n",
      "Iterations: 2400, critic accuracy: 7.341658592224121, actor loss: -141.493\n",
      "Iterations: 2500, critic accuracy: 7.2404704093933105, actor loss: -132.2858\n",
      "Iterations: 2600, critic accuracy: 7.144228458404541, actor loss: -121.5966\n",
      "Iterations: 2700, critic accuracy: 7.047229766845703, actor loss: -112.7232\n",
      "Iterations: 2800, critic accuracy: 6.9530930519104, actor loss: -120.0273\n",
      "Iterations: 2900, critic accuracy: 6.859833240509033, actor loss: -118.0532\n",
      "Iterations: 3000, critic accuracy: 6.768815517425537, actor loss: -114.5285\n",
      "Iterations: 3100, critic accuracy: 6.678899765014648, actor loss: -109.5726\n",
      "Iterations: 3200, critic accuracy: 6.59060525894165, actor loss: -106.3095\n",
      "Iterations: 3300, critic accuracy: 6.504166603088379, actor loss: -96.1318\n",
      "Iterations: 3400, critic accuracy: 6.418954849243164, actor loss: -102.3625\n",
      "Iterations: 3500, critic accuracy: 6.335186958312988, actor loss: -91.478\n",
      "Iterations: 3600, critic accuracy: 6.2532877922058105, actor loss: -89.9548\n",
      "Iterations: 3700, critic accuracy: 6.173431873321533, actor loss: -88.9667\n",
      "Iterations: 3800, critic accuracy: 6.09466028213501, actor loss: -81.8755\n",
      "Iterations: 3900, critic accuracy: 6.017993927001953, actor loss: -86.5623\n",
      "Iterations: 4000, critic accuracy: 5.943463325500488, actor loss: -80.6972\n",
      "Iterations: 4100, critic accuracy: 5.870641708374023, actor loss: -73.993\n",
      "Iterations: 4200, critic accuracy: 5.798640727996826, actor loss: -79.5436\n",
      "Iterations: 4300, critic accuracy: 5.728356838226318, actor loss: -66.0267\n",
      "Iterations: 4400, critic accuracy: 5.660223484039307, actor loss: -65.6841\n"
     ]
    }
   ],
   "source": [
    "# # # # Train the model\n",
    "model = invase(x_train, y_train, args.model_type, model_parameters)\n",
    "\n",
    "model.train(x_train, y_train)    "
   ]
  },
  {
   "cell_type": "markdown",
   "id": "4b1cd84a",
   "metadata": {},
   "source": [
    "## Discovery Score"
   ]
  },
  {
   "cell_type": "code",
   "execution_count": 8,
   "id": "limiting-hammer",
   "metadata": {},
   "outputs": [
    {
     "name": "stdout",
     "output_type": "stream",
     "text": [
      "TPR mean: 100.0\\%, TPR std: 0.0\\%, \n",
      "FDR mean: 87.4\\%, FDR std: 1.3\\%, \n",
      "mse = 2.6380980900041426\n"
     ]
    }
   ],
   "source": [
    "## Evaluation\n",
    "# Compute importance score\n",
    "g_hat = model.importance_score(x_test)[:1000]\n",
    "importance_score = 1.*(g_hat > 0.5)\n",
    "\n",
    "# Evaluate the performance of feature importance\n",
    "mean_tpr, std_tpr, mean_fdr, std_fdr = \\\n",
    "feature_performance_metric(g_test[:1000], importance_score)\n",
    "\n",
    "# Print the performance of feature importance    \n",
    "print('TPR mean: ' + str(np.round(mean_tpr,1)) + '\\%, ' + \\\n",
    "    'TPR std: ' + str(np.round(std_tpr,1)) + '\\%, ')\n",
    "print('FDR mean: ' + str(np.round(mean_fdr,1)) + '\\%, ' + \\\n",
    "    'FDR std: ' + str(np.round(std_fdr,1)) + '\\%, ')\n",
    "\n",
    "# Predict labels\n",
    "y_hat = model.predict(x_test)\n",
    "\n",
    "mse = mean_squared_error(y_test, y_hat)\n",
    "\n",
    "# Print the performance    \n",
    "print('mse = {}'.format(mse))"
   ]
  },
  {
   "cell_type": "markdown",
   "id": "c18b1342",
   "metadata": {},
   "source": [
    "## P-MSE Score"
   ]
  },
  {
   "cell_type": "code",
   "execution_count": 9,
   "id": "rational-chapter",
   "metadata": {},
   "outputs": [
    {
     "name": "stderr",
     "output_type": "stream",
     "text": [
      "100%|██████████| 1000/1000 [00:01<00:00, 578.93it/s]\n"
     ]
    }
   ],
   "source": [
    "importance = importance_score.copy()\n",
    "N = 1000\n",
    "allS = [i for i in range(x_train.shape[1])]\n",
    "n_test = 1000\n",
    "err_samples = []\n",
    "for i in tqdm(range(n_test)):\n",
    "    S = np.argwhere(importance[i] == 1).reshape(-1)\n",
    "    err = (sample_mcexp(x_test[i:i+1], coefs, mean, cov, S=S, N=N) -\\\n",
    "           sample_mcexp(x_test[i:i+1], coefs, mean, cov, S=allS, N=N))**2\n",
    "    err_samples.append(err)"
   ]
  },
  {
   "cell_type": "code",
   "execution_count": 10,
   "id": "engaging-metropolitan",
   "metadata": {},
   "outputs": [
    {
     "data": {
      "text/plain": [
       "0.0"
      ]
     },
     "execution_count": 10,
     "metadata": {},
     "output_type": "execute_result"
    }
   ],
   "source": [
    "np.mean(err_samples)"
   ]
  },
  {
   "cell_type": "markdown",
   "id": "sunset-tower",
   "metadata": {},
   "source": [
    "# Model 2: SDP explanations via RF"
   ]
  },
  {
   "cell_type": "code",
   "execution_count": 7,
   "id": "linear-profession",
   "metadata": {},
   "outputs": [],
   "source": [
    "from sklearn.ensemble import RandomForestClassifier\n",
    "from sklearn.metrics import mean_squared_error\n",
    "# from skranger.ensemble.classifier import RangerForestClassifier\n",
    "from sklearn.ensemble import RandomForestRegressor\n",
    "from acv_explainers.acv_tree import ACVTreeAgnostic\n",
    "# Necessary packages\n",
    "import numpy as np\n",
    "from sklearn.metrics import roc_auc_score, average_precision_score, accuracy_score\n",
    "import pandas as pd"
   ]
  },
  {
   "cell_type": "code",
   "execution_count": 8,
   "id": "breathing-adapter",
   "metadata": {},
   "outputs": [],
   "source": [
    "n = args.train_no\n",
    "# y_train = np.argmax(y_train, axis=1)\n",
    "# y_test = np.argmax(y_test, axis=1)\n",
    "y_train = y_train.squeeze()\n",
    "y_test = y_test.squeeze()\n",
    "x_train_rf = x_train[:10000]\n",
    "y_train_rf = y_train[:10000].squeeze()\n",
    "# y_test_rf = np.argmax(y_test, axis=1)"
   ]
  },
  {
   "cell_type": "code",
   "execution_count": 9,
   "id": "directed-composite",
   "metadata": {},
   "outputs": [
    {
     "data": {
      "text/plain": [
       "RandomForestRegressor(max_depth=8, n_estimators=10)"
      ]
     },
     "execution_count": 9,
     "metadata": {},
     "output_type": "execute_result"
    }
   ],
   "source": [
    "model = RandomForestRegressor(n_estimators=10, max_depth=8)\n",
    "model.fit(x_train, y_train)"
   ]
  },
  {
   "cell_type": "code",
   "execution_count": 10,
   "id": "related-proposition",
   "metadata": {},
   "outputs": [
    {
     "name": "stdout",
     "output_type": "stream",
     "text": [
      "mse = 0.22896751013859182\n"
     ]
    }
   ],
   "source": [
    "# Evaluate the performance \n",
    "y_hat = model.predict(x_test)\n",
    "mse = mean_squared_error(y_test, y_hat)\n",
    "\n",
    "# Print the performance    \n",
    "print('mse = {}'.format(mse))"
   ]
  },
  {
   "cell_type": "code",
   "execution_count": 11,
   "id": "transparent-efficiency",
   "metadata": {},
   "outputs": [
    {
     "name": "stderr",
     "output_type": "stream",
     "text": [
      "100%|██████████| 10/10 [00:00<00:00, 14.91it/s]\n",
      "100%|██████████| 10/10 [00:00<00:00, 13.99it/s]\n"
     ]
    }
   ],
   "source": [
    "max_size = 10000\n",
    "x_train = pd.DataFrame(x_train[:max_size], columns=['X{}'.format(i) for i in range(x_train.shape[1])])\n",
    "x_test = pd.DataFrame(x_test[:max_size], columns=['X{}'.format(i) for i in range(x_test.shape[1])])\n",
    "y_test = pd.DataFrame(y_test[:max_size])\n",
    "y_train = pd.DataFrame(y_train[:max_size])"
   ]
  },
  {
   "cell_type": "code",
   "execution_count": 13,
   "id": "delayed-combat",
   "metadata": {},
   "outputs": [
    {
     "name": "stderr",
     "output_type": "stream",
     "text": [
      "100%|██████████| 10/10 [00:00<00:00, 14.26it/s]\n"
     ]
    }
   ],
   "source": [
    "# Build ACVTree\n",
    "\n",
    "acvtree = ACVTreeAgnostic(model, x_train.values)"
   ]
  },
  {
   "cell_type": "code",
   "execution_count": 19,
   "id": "intelligent-consequence",
   "metadata": {},
   "outputs": [
    {
     "name": "stderr",
     "output_type": "stream",
     "text": [
      "100%|██████████| 9/9 [1:28:43<00:00, 591.51s/it]   \n"
     ]
    }
   ],
   "source": [
    "# SDP Explanations\n",
    "sdp_global, sdp_index, len_sdp, sdp = acvtree.importance_sdp_rf(x_test.values[:1000].astype(np.double), y_test.values.reshape(-1)[:1000].astype(np.double),\n",
    "                                                                x_train.values.astype(np.double), y_train.values.reshape(-1).astype(np.double),\n",
    "                                                                stop=False, pi_level=0.9, classifier=0, t=5, minimal=2)"
   ]
  },
  {
   "cell_type": "code",
   "execution_count": 20,
   "id": "structured-decimal",
   "metadata": {},
   "outputs": [
    {
     "data": {
      "text/plain": [
       "array([[ 4,  3,  2, ..., -1, -1, -1],\n",
       "       [ 4,  0,  1, ..., -1, -1, -1],\n",
       "       [ 4,  0,  1, ..., -1, -1, -1],\n",
       "       ...,\n",
       "       [ 4,  0,  1, ..., -1, -1, -1],\n",
       "       [ 4,  0,  1, ..., -1, -1, -1],\n",
       "       [ 4,  3,  2, ..., -1, -1, -1]])"
      ]
     },
     "execution_count": 20,
     "metadata": {},
     "output_type": "execute_result"
    }
   ],
   "source": [
    "sdp_index"
   ]
  },
  {
   "cell_type": "code",
   "execution_count": 22,
   "id": "average-alloy",
   "metadata": {},
   "outputs": [],
   "source": [
    "def return_sdp_importance(sdp_index):\n",
    "    fi = np.zeros(shape=sdp_index.shape)\n",
    "    for i in range(sdp_index.shape[0]):\n",
    "        for j in range(sdp_index.shape[1]):\n",
    "            if sdp_index[i, j] != -1:\n",
    "                fi[i, sdp_index[i, j]] = 1 \n",
    "    return fi"
   ]
  },
  {
   "cell_type": "code",
   "execution_count": 23,
   "id": "apart-roommate",
   "metadata": {},
   "outputs": [],
   "source": [
    "importance_sdp = return_sdp_importance(sdp_index)"
   ]
  },
  {
   "cell_type": "markdown",
   "id": "161305dd",
   "metadata": {},
   "source": [
    "## Discovery Score"
   ]
  },
  {
   "cell_type": "code",
   "execution_count": 25,
   "id": "norwegian-guard",
   "metadata": {},
   "outputs": [
    {
     "name": "stdout",
     "output_type": "stream",
     "text": [
      "TPR mean: 99.5\\%, TPR std: 5.1\\%, \n",
      "FDR mean: 2.2\\%, FDR std: 10.7\\%, \n"
     ]
    }
   ],
   "source": [
    "# Evaluate the performance of feature importance\n",
    "mean_tpr, std_tpr, mean_fdr, std_fdr = \\\n",
    "feature_performance_metric(g_test, importance_sdp)\n",
    "\n",
    "# Print the performance of feature importance    \n",
    "print('TPR mean: ' + str(np.round(mean_tpr,1)) + '\\%, ' + \\\n",
    "    'TPR std: ' + str(np.round(std_tpr,1)) + '\\%, ')\n",
    "print('FDR mean: ' + str(np.round(mean_fdr,1)) + '\\%, ' + \\\n",
    "    'FDR std: ' + str(np.round(std_fdr,1)) + '\\%, ')"
   ]
  },
  {
   "cell_type": "markdown",
   "id": "63082f1b",
   "metadata": {},
   "source": [
    "## P-MSE Score"
   ]
  },
  {
   "cell_type": "code",
   "execution_count": 27,
   "id": "negative-notebook",
   "metadata": {},
   "outputs": [
    {
     "name": "stderr",
     "output_type": "stream",
     "text": [
      "100%|██████████| 1000/1000 [00:02<00:00, 450.08it/s]\n"
     ]
    },
    {
     "data": {
      "text/plain": [
       "0.021894446936767276"
      ]
     },
     "execution_count": 27,
     "metadata": {},
     "output_type": "execute_result"
    }
   ],
   "source": [
    "importance = importance_sdp.copy()\n",
    "N = 1000\n",
    "allS = [i for i in range(x_train.shape[1])]\n",
    "n_test = 1000\n",
    "err_samples = []\n",
    "for i in tqdm(range(n_test)):\n",
    "    S = np.argwhere(importance[i] == 1).reshape(-1)\n",
    "    err = (sample_mcexp(x_test.values[i:i+1], coefs, mean, cov, S=S, N=N) -\\\n",
    "           sample_mcexp(x_test.values[i:i+1], coefs, mean, cov, S=allS, N=N))**2\n",
    "    err_samples.append(err)\n",
    "\n",
    "np.mean(err_samples)"
   ]
  },
  {
   "cell_type": "markdown",
   "id": "beautiful-harmony",
   "metadata": {},
   "source": [
    "# Model 3: SHAP"
   ]
  },
  {
   "cell_type": "code",
   "execution_count": 28,
   "id": "interim-temple",
   "metadata": {},
   "outputs": [],
   "source": [
    "columns = ['X{}'.format(i) for i in range(x_test.shape[1])]"
   ]
  },
  {
   "cell_type": "code",
   "execution_count": 29,
   "id": "major-frost",
   "metadata": {},
   "outputs": [],
   "source": [
    "import shap\n",
    "import matplotlib.pyplot as plt\n",
    "\n",
    "explainer = shap.TreeExplainer(model)\n",
    "shap_values = explainer.shap_values(x_test)"
   ]
  },
  {
   "cell_type": "code",
   "execution_count": 31,
   "id": "instrumental-deadline",
   "metadata": {},
   "outputs": [
    {
     "data": {
      "text/plain": [
       "array([3, 3, 3, ..., 3, 3, 3])"
      ]
     },
     "execution_count": 31,
     "metadata": {},
     "output_type": "execute_result"
    }
   ],
   "source": [
    "K = np.sum(g_test, axis=1).astype(np.int)"
   ]
  },
  {
   "cell_type": "code",
   "execution_count": 32,
   "id": "domestic-leone",
   "metadata": {},
   "outputs": [],
   "source": [
    "n_test = x_test.shape[0]"
   ]
  },
  {
   "cell_type": "code",
   "execution_count": 33,
   "id": "affecting-unknown",
   "metadata": {},
   "outputs": [],
   "source": [
    "importance_shap = np.zeros((n_test, d))\n",
    "K = np.sum(g_test, axis=1).astype(np.int)\n",
    "for i in range(n_test):\n",
    "    argsort = np.argsort(-np.abs(shap_values[i]))\n",
    "    for j in range(K[i]):\n",
    "        importance_shap[i, argsort[j]] = 1\n",
    "    "
   ]
  },
  {
   "cell_type": "markdown",
   "id": "fb43d8be",
   "metadata": {},
   "source": [
    "## Discovery Score"
   ]
  },
  {
   "cell_type": "code",
   "execution_count": 34,
   "id": "northern-guess",
   "metadata": {},
   "outputs": [
    {
     "name": "stdout",
     "output_type": "stream",
     "text": [
      "TPR mean: 73.1\\%, TPR std: 19.8\\%, \n",
      "FDR mean: 26.9\\%, FDR std: 19.8\\%, \n"
     ]
    }
   ],
   "source": [
    "# Evaluate the performance of feature importance\n",
    "mean_tpr, std_tpr, mean_fdr, std_fdr = \\\n",
    "feature_performance_metric(g_test, importance_shap)\n",
    "\n",
    "# Print the performance of feature importance    \n",
    "print('TPR mean: ' + str(np.round(mean_tpr,1)) + '\\%, ' + \\\n",
    "    'TPR std: ' + str(np.round(std_tpr,1)) + '\\%, ')\n",
    "print('FDR mean: ' + str(np.round(mean_fdr,1)) + '\\%, ' + \\\n",
    "    'FDR std: ' + str(np.round(std_fdr,1)) + '\\%, ')"
   ]
  },
  {
   "cell_type": "markdown",
   "id": "46d94dc6",
   "metadata": {},
   "source": [
    "## P-MSE Score"
   ]
  },
  {
   "cell_type": "code",
   "execution_count": 35,
   "id": "further-league",
   "metadata": {},
   "outputs": [
    {
     "name": "stderr",
     "output_type": "stream",
     "text": [
      "100%|██████████| 1000/1000 [00:02<00:00, 419.68it/s]\n"
     ]
    },
    {
     "data": {
      "text/plain": [
       "0.7945839156430332"
      ]
     },
     "execution_count": 35,
     "metadata": {},
     "output_type": "execute_result"
    }
   ],
   "source": [
    "importance = importance_shap.copy()\n",
    "N = 1000\n",
    "allS = [i for i in range(x_train.shape[1])]\n",
    "n_test = 1000\n",
    "err_samples = []\n",
    "for i in tqdm(range(n_test)):\n",
    "    S = np.argwhere(importance[i] == 1).reshape(-1)\n",
    "    err = (sample_mcexp(x_test.values[i:i+1], coefs, mean, cov, S=S, N=N) -\\\n",
    "           sample_mcexp(x_test.values[i:i+1], coefs, mean, cov, S=allS, N=N))**2\n",
    "    err_samples.append(err)\n",
    "\n",
    "np.mean(err_samples)"
   ]
  },
  {
   "cell_type": "markdown",
   "id": "positive-extraction",
   "metadata": {},
   "source": [
    "# Model 4: LIME"
   ]
  },
  {
   "cell_type": "code",
   "execution_count": 36,
   "id": "attempted-window",
   "metadata": {},
   "outputs": [],
   "source": [
    "np.random.seed(1)"
   ]
  },
  {
   "cell_type": "code",
   "execution_count": 37,
   "id": "passing-korean",
   "metadata": {},
   "outputs": [],
   "source": [
    "import lime\n",
    "import lime.lime_tabular"
   ]
  },
  {
   "cell_type": "code",
   "execution_count": 38,
   "id": "literary-feature",
   "metadata": {},
   "outputs": [],
   "source": [
    "c = [i for i in range(x_train.shape[1])]"
   ]
  },
  {
   "cell_type": "code",
   "execution_count": 39,
   "id": "nominated-basic",
   "metadata": {},
   "outputs": [],
   "source": [
    "explainer = lime.lime_tabular.LimeTabularExplainer(x_train.values, feature_names=c, verbose=True, mode='regression')"
   ]
  },
  {
   "cell_type": "code",
   "execution_count": 40,
   "id": "invisible-saturn",
   "metadata": {},
   "outputs": [],
   "source": [
    "from tqdm import tqdm"
   ]
  },
  {
   "cell_type": "code",
   "execution_count": 41,
   "id": "solar-coaching",
   "metadata": {},
   "outputs": [
    {
     "name": "stderr",
     "output_type": "stream",
     "text": [
      "  0%|          | 1/1000 [00:15<4:25:28, 15.94s/it]"
     ]
    },
    {
     "name": "stdout",
     "output_type": "stream",
     "text": [
      "Intercept 1.085397464063249\n",
      "Prediction_local [-2.86558098]\n",
      "Right: -2.931161197577681\n"
     ]
    },
    {
     "name": "stderr",
     "output_type": "stream",
     "text": [
      "\r",
      "  0%|          | 2/1000 [00:31<4:23:17, 15.83s/it]"
     ]
    },
    {
     "name": "stdout",
     "output_type": "stream",
     "text": [
      "Intercept 0.5628388377107446\n",
      "Prediction_local [-1.66058732]\n",
      "Right: -2.0591819549379613\n"
     ]
    },
    {
     "name": "stderr",
     "output_type": "stream",
     "text": [
      "\r",
      "  0%|          | 3/1000 [00:47<4:19:45, 15.63s/it]"
     ]
    },
    {
     "name": "stdout",
     "output_type": "stream",
     "text": [
      "Intercept -0.4379185903591122\n",
      "Prediction_local [1.65337727]\n",
      "Right: -4.115285144108251\n"
     ]
    },
    {
     "name": "stderr",
     "output_type": "stream",
     "text": [
      "\r",
      "  0%|          | 4/1000 [01:02<4:19:22, 15.62s/it]"
     ]
    },
    {
     "name": "stdout",
     "output_type": "stream",
     "text": [
      "Intercept 0.5893337286931037\n",
      "Prediction_local [-1.69542667]\n",
      "Right: -1.5896581443241697\n"
     ]
    },
    {
     "name": "stderr",
     "output_type": "stream",
     "text": [
      "\r",
      "  0%|          | 5/1000 [01:18<4:18:13, 15.57s/it]"
     ]
    },
    {
     "name": "stdout",
     "output_type": "stream",
     "text": [
      "Intercept 0.673146110682086\n",
      "Prediction_local [-1.7379625]\n",
      "Right: -1.234229805366147\n"
     ]
    },
    {
     "name": "stderr",
     "output_type": "stream",
     "text": [
      "\r",
      "  1%|          | 6/1000 [01:33<4:17:29, 15.54s/it]"
     ]
    },
    {
     "name": "stdout",
     "output_type": "stream",
     "text": [
      "Intercept 0.9124747821170652\n",
      "Prediction_local [-2.40547216]\n",
      "Right: -3.0120354532163662\n"
     ]
    },
    {
     "name": "stderr",
     "output_type": "stream",
     "text": [
      "\r",
      "  1%|          | 7/1000 [01:49<4:18:26, 15.62s/it]"
     ]
    },
    {
     "name": "stdout",
     "output_type": "stream",
     "text": [
      "Intercept -0.41395245452636187\n",
      "Prediction_local [1.56099148]\n",
      "Right: 1.9650361513912649\n"
     ]
    },
    {
     "name": "stderr",
     "output_type": "stream",
     "text": [
      "\r",
      "  1%|          | 8/1000 [02:05<4:17:59, 15.60s/it]"
     ]
    },
    {
     "name": "stdout",
     "output_type": "stream",
     "text": [
      "Intercept -0.8321374883516698\n",
      "Prediction_local [2.68413524]\n",
      "Right: 5.109136713736822\n"
     ]
    },
    {
     "name": "stderr",
     "output_type": "stream",
     "text": [
      "\r",
      "  1%|          | 9/1000 [02:20<4:17:09, 15.57s/it]"
     ]
    },
    {
     "name": "stdout",
     "output_type": "stream",
     "text": [
      "Intercept -0.05506378978713325\n",
      "Prediction_local [0.5351025]\n",
      "Right: -2.6503582879451892\n"
     ]
    },
    {
     "name": "stderr",
     "output_type": "stream",
     "text": [
      "\r",
      "  1%|          | 10/1000 [02:36<4:16:43, 15.56s/it]"
     ]
    },
    {
     "name": "stdout",
     "output_type": "stream",
     "text": [
      "Intercept 1.0380844291248212\n",
      "Prediction_local [-2.84766076]\n",
      "Right: -7.538029102771938\n"
     ]
    },
    {
     "name": "stderr",
     "output_type": "stream",
     "text": [
      "\r",
      "  1%|          | 11/1000 [02:51<4:15:15, 15.49s/it]"
     ]
    },
    {
     "name": "stdout",
     "output_type": "stream",
     "text": [
      "Intercept 0.5944674267453016\n",
      "Prediction_local [-1.67429967]\n",
      "Right: -3.537916460493632\n"
     ]
    },
    {
     "name": "stderr",
     "output_type": "stream",
     "text": [
      "\r",
      "  1%|          | 12/1000 [03:06<4:14:12, 15.44s/it]"
     ]
    },
    {
     "name": "stdout",
     "output_type": "stream",
     "text": [
      "Intercept 0.5000743064755832\n",
      "Prediction_local [-1.33627346]\n",
      "Right: 2.9112752938094593\n"
     ]
    },
    {
     "name": "stderr",
     "output_type": "stream",
     "text": [
      "\r",
      "  1%|▏         | 13/1000 [03:22<4:13:23, 15.40s/it]"
     ]
    },
    {
     "name": "stdout",
     "output_type": "stream",
     "text": [
      "Intercept -0.9357097065825192\n",
      "Prediction_local [3.09430023]\n",
      "Right: 0.7919281040360917\n"
     ]
    },
    {
     "name": "stderr",
     "output_type": "stream",
     "text": [
      "\r",
      "  1%|▏         | 14/1000 [03:37<4:12:53, 15.39s/it]"
     ]
    },
    {
     "name": "stdout",
     "output_type": "stream",
     "text": [
      "Intercept -1.5664188947758666\n",
      "Prediction_local [4.81730811]\n",
      "Right: 5.80671503779454\n"
     ]
    },
    {
     "name": "stderr",
     "output_type": "stream",
     "text": [
      "\r",
      "  2%|▏         | 15/1000 [03:52<4:12:40, 15.39s/it]"
     ]
    },
    {
     "name": "stdout",
     "output_type": "stream",
     "text": [
      "Intercept -1.1694831173615683\n",
      "Prediction_local [3.82312964]\n",
      "Right: 3.281606733779474\n"
     ]
    },
    {
     "name": "stderr",
     "output_type": "stream",
     "text": [
      "\r",
      "  2%|▏         | 16/1000 [04:08<4:12:15, 15.38s/it]"
     ]
    },
    {
     "name": "stdout",
     "output_type": "stream",
     "text": [
      "Intercept 1.3109688588431765\n",
      "Prediction_local [-3.60929565]\n",
      "Right: -6.570160313413862\n"
     ]
    },
    {
     "name": "stderr",
     "output_type": "stream",
     "text": [
      "\r",
      "  2%|▏         | 17/1000 [04:23<4:11:41, 15.36s/it]"
     ]
    },
    {
     "name": "stdout",
     "output_type": "stream",
     "text": [
      "Intercept -0.12528328128490898\n",
      "Prediction_local [0.53342129]\n",
      "Right: 4.807543800797803\n"
     ]
    },
    {
     "name": "stderr",
     "output_type": "stream",
     "text": [
      "\r",
      "  2%|▏         | 18/1000 [04:38<4:11:35, 15.37s/it]"
     ]
    },
    {
     "name": "stdout",
     "output_type": "stream",
     "text": [
      "Intercept 1.3857514114298786\n",
      "Prediction_local [-3.796789]\n",
      "Right: -3.3866597272452177\n"
     ]
    },
    {
     "name": "stderr",
     "output_type": "stream",
     "text": [
      "\r",
      "  2%|▏         | 19/1000 [04:54<4:11:45, 15.40s/it]"
     ]
    },
    {
     "name": "stdout",
     "output_type": "stream",
     "text": [
      "Intercept 0.5801301287629059\n",
      "Prediction_local [-1.43066686]\n",
      "Right: 0.7128918364975254\n"
     ]
    },
    {
     "name": "stderr",
     "output_type": "stream",
     "text": [
      "\r",
      "  2%|▏         | 20/1000 [05:09<4:11:41, 15.41s/it]"
     ]
    },
    {
     "name": "stdout",
     "output_type": "stream",
     "text": [
      "Intercept 0.911125070401145\n",
      "Prediction_local [-2.5981869]\n",
      "Right: -1.0025897755106965\n"
     ]
    },
    {
     "name": "stderr",
     "output_type": "stream",
     "text": [
      "\r",
      "  2%|▏         | 21/1000 [05:25<4:12:09, 15.45s/it]"
     ]
    },
    {
     "name": "stdout",
     "output_type": "stream",
     "text": [
      "Intercept 1.2891619333467\n",
      "Prediction_local [-3.5473567]\n",
      "Right: -2.172351636738999\n"
     ]
    },
    {
     "name": "stderr",
     "output_type": "stream",
     "text": [
      "\r",
      "  2%|▏         | 22/1000 [05:41<4:13:19, 15.54s/it]"
     ]
    },
    {
     "name": "stdout",
     "output_type": "stream",
     "text": [
      "Intercept -1.5201570073948003\n",
      "Prediction_local [5.01833247]\n",
      "Right: 6.6077717872427275\n"
     ]
    },
    {
     "name": "stderr",
     "output_type": "stream",
     "text": [
      "\r",
      "  2%|▏         | 23/1000 [05:56<4:14:28, 15.63s/it]"
     ]
    },
    {
     "name": "stdout",
     "output_type": "stream",
     "text": [
      "Intercept 1.7112721292488504\n",
      "Prediction_local [-4.89796956]\n",
      "Right: -3.990091596036044\n"
     ]
    },
    {
     "name": "stderr",
     "output_type": "stream",
     "text": [
      "\r",
      "  2%|▏         | 24/1000 [06:12<4:16:09, 15.75s/it]"
     ]
    },
    {
     "name": "stdout",
     "output_type": "stream",
     "text": [
      "Intercept -0.3917942030710112\n",
      "Prediction_local [1.67595813]\n",
      "Right: -0.31203802381021606\n"
     ]
    },
    {
     "name": "stderr",
     "output_type": "stream",
     "text": [
      "\r",
      "  2%|▎         | 25/1000 [06:28<4:14:58, 15.69s/it]"
     ]
    },
    {
     "name": "stdout",
     "output_type": "stream",
     "text": [
      "Intercept -0.8035991480515751\n",
      "Prediction_local [2.5370365]\n",
      "Right: 2.1771087536564044\n"
     ]
    },
    {
     "name": "stderr",
     "output_type": "stream",
     "text": [
      "\r",
      "  3%|▎         | 26/1000 [06:44<4:17:00, 15.83s/it]"
     ]
    },
    {
     "name": "stdout",
     "output_type": "stream",
     "text": [
      "Intercept 1.0795661323150998\n",
      "Prediction_local [-2.8487523]\n",
      "Right: -0.21375192132836202\n"
     ]
    },
    {
     "name": "stderr",
     "output_type": "stream",
     "text": [
      "\r",
      "  3%|▎         | 27/1000 [07:00<4:17:57, 15.91s/it]"
     ]
    },
    {
     "name": "stdout",
     "output_type": "stream",
     "text": [
      "Intercept -0.12263092664305655\n",
      "Prediction_local [0.53617438]\n",
      "Right: 0.2827611355554372\n"
     ]
    },
    {
     "name": "stderr",
     "output_type": "stream",
     "text": [
      "\r",
      "  3%|▎         | 28/1000 [07:16<4:17:32, 15.90s/it]"
     ]
    },
    {
     "name": "stdout",
     "output_type": "stream",
     "text": [
      "Intercept -1.1863908923239423\n",
      "Prediction_local [3.6393854]\n",
      "Right: 3.028885757531874\n"
     ]
    },
    {
     "name": "stderr",
     "output_type": "stream",
     "text": [
      "\r",
      "  3%|▎         | 29/1000 [07:32<4:18:54, 16.00s/it]"
     ]
    },
    {
     "name": "stdout",
     "output_type": "stream",
     "text": [
      "Intercept -0.5178296491065948\n",
      "Prediction_local [1.67295451]\n",
      "Right: 0.993406463353882\n"
     ]
    },
    {
     "name": "stderr",
     "output_type": "stream",
     "text": [
      "\r",
      "  3%|▎         | 30/1000 [07:49<4:20:01, 16.08s/it]"
     ]
    },
    {
     "name": "stdout",
     "output_type": "stream",
     "text": [
      "Intercept -0.42154934858570275\n",
      "Prediction_local [1.63873375]\n",
      "Right: 2.857641500271509\n"
     ]
    },
    {
     "name": "stderr",
     "output_type": "stream",
     "text": [
      "\r",
      "  3%|▎         | 31/1000 [08:04<4:17:16, 15.93s/it]"
     ]
    },
    {
     "name": "stdout",
     "output_type": "stream",
     "text": [
      "Intercept 1.2778800320838481\n",
      "Prediction_local [-3.84176451]\n",
      "Right: -2.6692343486825396\n"
     ]
    },
    {
     "name": "stderr",
     "output_type": "stream",
     "text": [
      "\r",
      "  3%|▎         | 32/1000 [08:20<4:15:27, 15.83s/it]"
     ]
    },
    {
     "name": "stdout",
     "output_type": "stream",
     "text": [
      "Intercept -1.6556096269126588\n",
      "Prediction_local [5.09365547]\n",
      "Right: 6.259222308790246\n"
     ]
    },
    {
     "name": "stderr",
     "output_type": "stream",
     "text": [
      "\r",
      "  3%|▎         | 33/1000 [08:35<4:13:27, 15.73s/it]"
     ]
    },
    {
     "name": "stdout",
     "output_type": "stream",
     "text": [
      "Intercept -1.6121347904804657\n",
      "Prediction_local [5.2013793]\n",
      "Right: 5.717256193791951\n"
     ]
    },
    {
     "name": "stderr",
     "output_type": "stream",
     "text": [
      "\r",
      "  3%|▎         | 34/1000 [08:51<4:11:58, 15.65s/it]"
     ]
    },
    {
     "name": "stdout",
     "output_type": "stream",
     "text": [
      "Intercept -1.6238038098069918\n",
      "Prediction_local [4.94238764]\n",
      "Right: 7.5022799131589135\n"
     ]
    },
    {
     "name": "stderr",
     "output_type": "stream",
     "text": [
      "\r",
      "  4%|▎         | 35/1000 [09:06<4:10:44, 15.59s/it]"
     ]
    },
    {
     "name": "stdout",
     "output_type": "stream",
     "text": [
      "Intercept -0.8171239688981171\n",
      "Prediction_local [2.75212623]\n",
      "Right: 4.141395789733166\n"
     ]
    },
    {
     "name": "stderr",
     "output_type": "stream",
     "text": [
      "\r",
      "  4%|▎         | 36/1000 [09:22<4:09:26, 15.53s/it]"
     ]
    },
    {
     "name": "stdout",
     "output_type": "stream",
     "text": [
      "Intercept -0.8180223224199747\n",
      "Prediction_local [2.68517655]\n",
      "Right: 5.536201328806296\n"
     ]
    },
    {
     "name": "stderr",
     "output_type": "stream",
     "text": [
      "\r",
      "  4%|▎         | 37/1000 [09:37<4:09:16, 15.53s/it]"
     ]
    },
    {
     "name": "stdout",
     "output_type": "stream",
     "text": [
      "Intercept -0.821185407546827\n",
      "Prediction_local [2.87063026]\n",
      "Right: 0.9350319651700589\n"
     ]
    },
    {
     "name": "stderr",
     "output_type": "stream",
     "text": [
      "\r",
      "  4%|▍         | 38/1000 [09:52<4:08:13, 15.48s/it]"
     ]
    },
    {
     "name": "stdout",
     "output_type": "stream",
     "text": [
      "Intercept -0.16987643098602945\n",
      "Prediction_local [0.83638279]\n",
      "Right: 1.7167961954960176\n"
     ]
    },
    {
     "name": "stderr",
     "output_type": "stream",
     "text": [
      "\r",
      "  4%|▍         | 39/1000 [10:08<4:07:09, 15.43s/it]"
     ]
    },
    {
     "name": "stdout",
     "output_type": "stream",
     "text": [
      "Intercept 1.5301605319349754\n",
      "Prediction_local [-4.66395566]\n",
      "Right: -2.8953276780073964\n"
     ]
    },
    {
     "name": "stderr",
     "output_type": "stream",
     "text": [
      "\r",
      "  4%|▍         | 40/1000 [10:24<4:08:31, 15.53s/it]"
     ]
    },
    {
     "name": "stdout",
     "output_type": "stream",
     "text": [
      "Intercept 1.0261654453850877\n",
      "Prediction_local [-2.66189937]\n",
      "Right: -5.317522329784635\n"
     ]
    },
    {
     "name": "stderr",
     "output_type": "stream",
     "text": [
      "\r",
      "  4%|▍         | 41/1000 [10:39<4:08:13, 15.53s/it]"
     ]
    },
    {
     "name": "stdout",
     "output_type": "stream",
     "text": [
      "Intercept -0.46902735104405713\n",
      "Prediction_local [1.65346745]\n",
      "Right: -2.9015763620316393\n"
     ]
    },
    {
     "name": "stderr",
     "output_type": "stream",
     "text": [
      "\r",
      "  4%|▍         | 42/1000 [10:55<4:10:36, 15.70s/it]"
     ]
    },
    {
     "name": "stdout",
     "output_type": "stream",
     "text": [
      "Intercept -0.05960460140500404\n",
      "Prediction_local [0.59875761]\n",
      "Right: 1.4192460833177472\n"
     ]
    },
    {
     "name": "stderr",
     "output_type": "stream",
     "text": [
      "\r",
      "  4%|▍         | 43/1000 [11:11<4:10:31, 15.71s/it]"
     ]
    },
    {
     "name": "stdout",
     "output_type": "stream",
     "text": [
      "Intercept 0.21031079494020705\n",
      "Prediction_local [-0.29696186]\n",
      "Right: 1.3481758504783483\n"
     ]
    },
    {
     "name": "stderr",
     "output_type": "stream",
     "text": [
      "\r",
      "  4%|▍         | 44/1000 [11:26<4:09:04, 15.63s/it]"
     ]
    },
    {
     "name": "stdout",
     "output_type": "stream",
     "text": [
      "Intercept -0.5058870113125932\n",
      "Prediction_local [1.70155458]\n",
      "Right: -2.470353258275405\n"
     ]
    },
    {
     "name": "stderr",
     "output_type": "stream",
     "text": [
      "\r",
      "  4%|▍         | 45/1000 [11:42<4:07:53, 15.57s/it]"
     ]
    },
    {
     "name": "stdout",
     "output_type": "stream",
     "text": [
      "Intercept 1.202529265568031\n",
      "Prediction_local [-3.45862243]\n",
      "Right: -8.813803274603668\n"
     ]
    },
    {
     "name": "stderr",
     "output_type": "stream",
     "text": [
      "\r",
      "  5%|▍         | 46/1000 [11:57<4:08:10, 15.61s/it]"
     ]
    },
    {
     "name": "stdout",
     "output_type": "stream",
     "text": [
      "Intercept -0.4478422551848373\n",
      "Prediction_local [1.91695755]\n",
      "Right: 3.2782076347579996\n"
     ]
    },
    {
     "name": "stderr",
     "output_type": "stream",
     "text": [
      "\r",
      "  5%|▍         | 47/1000 [12:13<4:06:54, 15.54s/it]"
     ]
    },
    {
     "name": "stdout",
     "output_type": "stream",
     "text": [
      "Intercept -0.424929137450064\n",
      "Prediction_local [1.67426706]\n",
      "Right: -1.081529268978139\n"
     ]
    },
    {
     "name": "stderr",
     "output_type": "stream",
     "text": [
      "\r",
      "  5%|▍         | 48/1000 [12:29<4:08:06, 15.64s/it]"
     ]
    },
    {
     "name": "stdout",
     "output_type": "stream",
     "text": [
      "Intercept 0.25044938654328286\n",
      "Prediction_local [-0.26499743]\n",
      "Right: -2.4456329155509726\n"
     ]
    },
    {
     "name": "stderr",
     "output_type": "stream",
     "text": [
      "\r",
      "  5%|▍         | 49/1000 [12:44<4:06:32, 15.55s/it]"
     ]
    },
    {
     "name": "stdout",
     "output_type": "stream",
     "text": [
      "Intercept -0.007111788930848961\n",
      "Prediction_local [0.46925751]\n",
      "Right: -2.6126131627775293\n"
     ]
    },
    {
     "name": "stderr",
     "output_type": "stream",
     "text": [
      "\r",
      "  5%|▌         | 50/1000 [13:00<4:07:53, 15.66s/it]"
     ]
    },
    {
     "name": "stdout",
     "output_type": "stream",
     "text": [
      "Intercept -0.06308824610924904\n",
      "Prediction_local [0.36113628]\n",
      "Right: 2.6827766502337926\n"
     ]
    },
    {
     "name": "stderr",
     "output_type": "stream",
     "text": [
      "\r",
      "  5%|▌         | 51/1000 [13:16<4:08:13, 15.69s/it]"
     ]
    },
    {
     "name": "stdout",
     "output_type": "stream",
     "text": [
      "Intercept 0.504031068315568\n",
      "Prediction_local [-1.26395411]\n",
      "Right: -1.403712190577842\n"
     ]
    },
    {
     "name": "stderr",
     "output_type": "stream",
     "text": [
      "\r",
      "  5%|▌         | 52/1000 [13:32<4:08:55, 15.75s/it]"
     ]
    },
    {
     "name": "stdout",
     "output_type": "stream",
     "text": [
      "Intercept 0.6191340546626385\n",
      "Prediction_local [-1.41289178]\n",
      "Right: -2.617730162143972\n"
     ]
    },
    {
     "name": "stderr",
     "output_type": "stream",
     "text": [
      "\r",
      "  5%|▌         | 53/1000 [13:47<4:08:51, 15.77s/it]"
     ]
    },
    {
     "name": "stdout",
     "output_type": "stream",
     "text": [
      "Intercept 0.1957835639703769\n",
      "Prediction_local [-0.42186037]\n",
      "Right: -3.648465397822792\n"
     ]
    },
    {
     "name": "stderr",
     "output_type": "stream",
     "text": [
      "\r",
      "  5%|▌         | 54/1000 [14:03<4:08:50, 15.78s/it]"
     ]
    },
    {
     "name": "stdout",
     "output_type": "stream",
     "text": [
      "Intercept 0.937626702139106\n",
      "Prediction_local [-2.70005524]\n",
      "Right: -0.031133693396790098\n"
     ]
    },
    {
     "name": "stderr",
     "output_type": "stream",
     "text": [
      "\r",
      "  6%|▌         | 55/1000 [14:19<4:08:02, 15.75s/it]"
     ]
    },
    {
     "name": "stdout",
     "output_type": "stream",
     "text": [
      "Intercept -0.12224882877694915\n",
      "Prediction_local [0.44608756]\n",
      "Right: 2.199019007321422\n"
     ]
    },
    {
     "name": "stderr",
     "output_type": "stream",
     "text": [
      "\r",
      "  6%|▌         | 56/1000 [14:35<4:08:12, 15.78s/it]"
     ]
    },
    {
     "name": "stdout",
     "output_type": "stream",
     "text": [
      "Intercept -1.6793377204912483\n",
      "Prediction_local [5.11382373]\n",
      "Right: 0.23588179002274368\n"
     ]
    },
    {
     "name": "stderr",
     "output_type": "stream",
     "text": [
      "\r",
      "  6%|▌         | 57/1000 [14:51<4:09:27, 15.87s/it]"
     ]
    },
    {
     "name": "stdout",
     "output_type": "stream",
     "text": [
      "Intercept 0.23201720208374546\n",
      "Prediction_local [-0.06583989]\n",
      "Right: 0.29340011793825405\n"
     ]
    },
    {
     "name": "stderr",
     "output_type": "stream",
     "text": [
      "\r",
      "  6%|▌         | 58/1000 [15:06<4:06:02, 15.67s/it]"
     ]
    },
    {
     "name": "stdout",
     "output_type": "stream",
     "text": [
      "Intercept -1.212186997372413\n",
      "Prediction_local [3.7782048]\n",
      "Right: 3.074761966771874\n"
     ]
    },
    {
     "name": "stderr",
     "output_type": "stream",
     "text": [
      "\r",
      "  6%|▌         | 59/1000 [15:21<4:02:43, 15.48s/it]"
     ]
    },
    {
     "name": "stdout",
     "output_type": "stream",
     "text": [
      "Intercept 0.863704981918215\n",
      "Prediction_local [-2.48712294]\n",
      "Right: -3.9532156434016934\n"
     ]
    },
    {
     "name": "stderr",
     "output_type": "stream",
     "text": [
      "\r",
      "  6%|▌         | 60/1000 [15:36<4:00:58, 15.38s/it]"
     ]
    },
    {
     "name": "stdout",
     "output_type": "stream",
     "text": [
      "Intercept -0.47617045607179964\n",
      "Prediction_local [1.603056]\n",
      "Right: -2.5773064538936596\n"
     ]
    },
    {
     "name": "stderr",
     "output_type": "stream",
     "text": [
      "\r",
      "  6%|▌         | 61/1000 [15:52<4:00:34, 15.37s/it]"
     ]
    },
    {
     "name": "stdout",
     "output_type": "stream",
     "text": [
      "Intercept -1.573218368554217\n",
      "Prediction_local [5.34934121]\n",
      "Right: 6.610642784459098\n"
     ]
    },
    {
     "name": "stderr",
     "output_type": "stream",
     "text": [
      "\r",
      "  6%|▌         | 62/1000 [16:07<4:01:03, 15.42s/it]"
     ]
    },
    {
     "name": "stdout",
     "output_type": "stream",
     "text": [
      "Intercept -0.4657259759205064\n",
      "Prediction_local [1.61735516]\n",
      "Right: -1.5372807091026934\n"
     ]
    },
    {
     "name": "stderr",
     "output_type": "stream",
     "text": [
      "\r",
      "  6%|▋         | 63/1000 [16:23<4:02:04, 15.50s/it]"
     ]
    },
    {
     "name": "stdout",
     "output_type": "stream",
     "text": [
      "Intercept -0.8560870400291608\n",
      "Prediction_local [2.8286215]\n",
      "Right: -1.4722106596127873\n"
     ]
    },
    {
     "name": "stderr",
     "output_type": "stream",
     "text": [
      "\r",
      "  6%|▋         | 64/1000 [16:39<4:04:11, 15.65s/it]"
     ]
    },
    {
     "name": "stdout",
     "output_type": "stream",
     "text": [
      "Intercept 0.9522072568955442\n",
      "Prediction_local [-2.73431318]\n",
      "Right: 2.468738254081786\n"
     ]
    },
    {
     "name": "stderr",
     "output_type": "stream",
     "text": [
      "\r",
      "  6%|▋         | 65/1000 [16:54<4:03:32, 15.63s/it]"
     ]
    },
    {
     "name": "stdout",
     "output_type": "stream",
     "text": [
      "Intercept -0.85868978777467\n",
      "Prediction_local [2.93013167]\n",
      "Right: 4.880646740919826\n"
     ]
    },
    {
     "name": "stderr",
     "output_type": "stream",
     "text": [
      "\r",
      "  7%|▋         | 66/1000 [17:10<4:02:43, 15.59s/it]"
     ]
    },
    {
     "name": "stdout",
     "output_type": "stream",
     "text": [
      "Intercept -1.5024224309491387\n",
      "Prediction_local [4.90690866]\n",
      "Right: 0.701474860625031\n"
     ]
    },
    {
     "name": "stderr",
     "output_type": "stream",
     "text": [
      "\r",
      "  7%|▋         | 67/1000 [17:26<4:03:44, 15.67s/it]"
     ]
    },
    {
     "name": "stdout",
     "output_type": "stream",
     "text": [
      "Intercept -1.5955476148393803\n",
      "Prediction_local [4.92316603]\n",
      "Right: 3.8048708971195517\n"
     ]
    },
    {
     "name": "stderr",
     "output_type": "stream",
     "text": [
      "\r",
      "  7%|▋         | 68/1000 [17:42<4:05:01, 15.77s/it]"
     ]
    },
    {
     "name": "stdout",
     "output_type": "stream",
     "text": [
      "Intercept -0.3933064114169996\n",
      "Prediction_local [1.70604849]\n",
      "Right: 1.4830618417964598\n"
     ]
    },
    {
     "name": "stderr",
     "output_type": "stream",
     "text": [
      "\r",
      "  7%|▋         | 69/1000 [17:58<4:05:17, 15.81s/it]"
     ]
    },
    {
     "name": "stdout",
     "output_type": "stream",
     "text": [
      "Intercept 1.2631764521256803\n",
      "Prediction_local [-3.5353778]\n",
      "Right: -4.602441643660448\n"
     ]
    },
    {
     "name": "stderr",
     "output_type": "stream",
     "text": [
      "\r",
      "  7%|▋         | 70/1000 [18:14<4:05:29, 15.84s/it]"
     ]
    },
    {
     "name": "stdout",
     "output_type": "stream",
     "text": [
      "Intercept -0.5198722094013675\n",
      "Prediction_local [1.80489457]\n",
      "Right: 0.8655912346130401\n"
     ]
    },
    {
     "name": "stderr",
     "output_type": "stream",
     "text": [
      "\r",
      "  7%|▋         | 71/1000 [18:29<4:05:21, 15.85s/it]"
     ]
    },
    {
     "name": "stdout",
     "output_type": "stream",
     "text": [
      "Intercept 0.8823240307828439\n",
      "Prediction_local [-2.21890006]\n",
      "Right: 0.1192157813769397\n"
     ]
    },
    {
     "name": "stderr",
     "output_type": "stream",
     "text": [
      "\r",
      "  7%|▋         | 72/1000 [18:45<4:04:35, 15.81s/it]"
     ]
    },
    {
     "name": "stdout",
     "output_type": "stream",
     "text": [
      "Intercept -0.6398369199519909\n",
      "Prediction_local [2.0577469]\n",
      "Right: 0.4738829537493855\n"
     ]
    },
    {
     "name": "stderr",
     "output_type": "stream",
     "text": [
      "\r",
      "  7%|▋         | 73/1000 [19:01<4:02:44, 15.71s/it]"
     ]
    },
    {
     "name": "stdout",
     "output_type": "stream",
     "text": [
      "Intercept -0.45684444518789213\n",
      "Prediction_local [1.77247016]\n",
      "Right: 2.4093642699539024\n"
     ]
    },
    {
     "name": "stderr",
     "output_type": "stream",
     "text": [
      "\r",
      "  7%|▋         | 74/1000 [19:16<4:01:43, 15.66s/it]"
     ]
    },
    {
     "name": "stdout",
     "output_type": "stream",
     "text": [
      "Intercept -1.4824502777916198\n",
      "Prediction_local [4.9454247]\n",
      "Right: 4.276898420261105\n"
     ]
    },
    {
     "name": "stderr",
     "output_type": "stream",
     "text": [
      "\r",
      "  8%|▊         | 75/1000 [19:32<4:01:39, 15.68s/it]"
     ]
    },
    {
     "name": "stdout",
     "output_type": "stream",
     "text": [
      "Intercept -0.5559368678336136\n",
      "Prediction_local [1.70138483]\n",
      "Right: 3.7418044929848406\n"
     ]
    },
    {
     "name": "stderr",
     "output_type": "stream",
     "text": [
      "\r",
      "  8%|▊         | 76/1000 [19:47<4:00:26, 15.61s/it]"
     ]
    },
    {
     "name": "stdout",
     "output_type": "stream",
     "text": [
      "Intercept 0.27400057429325564\n",
      "Prediction_local [-0.76908234]\n",
      "Right: -2.245864584289884\n"
     ]
    },
    {
     "name": "stderr",
     "output_type": "stream",
     "text": [
      "\r",
      "  8%|▊         | 77/1000 [20:03<3:59:46, 15.59s/it]"
     ]
    },
    {
     "name": "stdout",
     "output_type": "stream",
     "text": [
      "Intercept 0.9783369598265037\n",
      "Prediction_local [-2.63736938]\n",
      "Right: -0.5145121110928328\n"
     ]
    },
    {
     "name": "stderr",
     "output_type": "stream",
     "text": [
      "\r",
      "  8%|▊         | 78/1000 [20:19<4:00:55, 15.68s/it]"
     ]
    },
    {
     "name": "stdout",
     "output_type": "stream",
     "text": [
      "Intercept -0.14931628273189984\n",
      "Prediction_local [0.41844797]\n",
      "Right: 0.5342361322026283\n"
     ]
    },
    {
     "name": "stderr",
     "output_type": "stream",
     "text": [
      "\r",
      "  8%|▊         | 79/1000 [20:35<4:00:56, 15.70s/it]"
     ]
    },
    {
     "name": "stdout",
     "output_type": "stream",
     "text": [
      "Intercept 1.6380045345350307\n",
      "Prediction_local [-4.89330056]\n",
      "Right: -8.630675440669801\n"
     ]
    },
    {
     "name": "stderr",
     "output_type": "stream",
     "text": [
      "\r",
      "  8%|▊         | 80/1000 [20:50<4:01:47, 15.77s/it]"
     ]
    },
    {
     "name": "stdout",
     "output_type": "stream",
     "text": [
      "Intercept -1.4900098891514229\n",
      "Prediction_local [4.87216324]\n",
      "Right: 3.348105261806478\n"
     ]
    },
    {
     "name": "stderr",
     "output_type": "stream",
     "text": [
      "\r",
      "  8%|▊         | 81/1000 [21:06<4:01:14, 15.75s/it]"
     ]
    },
    {
     "name": "stdout",
     "output_type": "stream",
     "text": [
      "Intercept -1.2108676995780805\n",
      "Prediction_local [3.86319803]\n",
      "Right: 5.4418737852902614\n"
     ]
    },
    {
     "name": "stderr",
     "output_type": "stream",
     "text": [
      "\r",
      "  8%|▊         | 82/1000 [21:22<3:59:18, 15.64s/it]"
     ]
    },
    {
     "name": "stdout",
     "output_type": "stream",
     "text": [
      "Intercept -0.42232173511403126\n",
      "Prediction_local [1.67213701]\n",
      "Right: 4.753887358974767\n"
     ]
    },
    {
     "name": "stderr",
     "output_type": "stream",
     "text": [
      "\r",
      "  8%|▊         | 83/1000 [21:37<3:57:13, 15.52s/it]"
     ]
    },
    {
     "name": "stdout",
     "output_type": "stream",
     "text": [
      "Intercept -0.7397407755360066\n",
      "Prediction_local [2.52787962]\n",
      "Right: 0.8507165359788944\n"
     ]
    },
    {
     "name": "stderr",
     "output_type": "stream",
     "text": [
      "\r",
      "  8%|▊         | 84/1000 [21:53<3:59:07, 15.66s/it]"
     ]
    },
    {
     "name": "stdout",
     "output_type": "stream",
     "text": [
      "Intercept -0.7711840730316659\n",
      "Prediction_local [2.61839413]\n",
      "Right: 1.834677312489554\n"
     ]
    },
    {
     "name": "stderr",
     "output_type": "stream",
     "text": [
      "\r",
      "  8%|▊         | 85/1000 [22:08<3:57:21, 15.56s/it]"
     ]
    },
    {
     "name": "stdout",
     "output_type": "stream",
     "text": [
      "Intercept -0.05304259323701895\n",
      "Prediction_local [0.30016262]\n",
      "Right: -1.8631843874292429\n"
     ]
    },
    {
     "name": "stderr",
     "output_type": "stream",
     "text": [
      "\r",
      "  9%|▊         | 86/1000 [22:24<3:59:19, 15.71s/it]"
     ]
    },
    {
     "name": "stdout",
     "output_type": "stream",
     "text": [
      "Intercept -1.5036420424154122\n",
      "Prediction_local [4.69884616]\n",
      "Right: 2.958749560840229\n"
     ]
    },
    {
     "name": "stderr",
     "output_type": "stream",
     "text": [
      "\r",
      "  9%|▊         | 87/1000 [22:40<3:58:38, 15.68s/it]"
     ]
    },
    {
     "name": "stdout",
     "output_type": "stream",
     "text": [
      "Intercept -0.5194952237023557\n",
      "Prediction_local [1.74930099]\n",
      "Right: -1.0270471537183936\n"
     ]
    },
    {
     "name": "stderr",
     "output_type": "stream",
     "text": [
      "\r",
      "  9%|▉         | 88/1000 [22:55<3:57:06, 15.60s/it]"
     ]
    },
    {
     "name": "stdout",
     "output_type": "stream",
     "text": [
      "Intercept 0.9678805477248096\n",
      "Prediction_local [-2.71782903]\n",
      "Right: -1.3287578462384715\n"
     ]
    },
    {
     "name": "stderr",
     "output_type": "stream",
     "text": [
      "\r",
      "  9%|▉         | 89/1000 [23:11<3:56:40, 15.59s/it]"
     ]
    },
    {
     "name": "stdout",
     "output_type": "stream",
     "text": [
      "Intercept -0.36021055378449895\n",
      "Prediction_local [1.28914714]\n",
      "Right: 1.7175138879808372\n"
     ]
    },
    {
     "name": "stderr",
     "output_type": "stream",
     "text": [
      "\r",
      "  9%|▉         | 90/1000 [23:26<3:56:13, 15.57s/it]"
     ]
    },
    {
     "name": "stdout",
     "output_type": "stream",
     "text": [
      "Intercept 0.4748142665591116\n",
      "Prediction_local [-1.43409319]\n",
      "Right: -5.050770063380617\n"
     ]
    },
    {
     "name": "stderr",
     "output_type": "stream",
     "text": [
      "\r",
      "  9%|▉         | 91/1000 [23:42<3:56:04, 15.58s/it]"
     ]
    },
    {
     "name": "stdout",
     "output_type": "stream",
     "text": [
      "Intercept -1.6171719036075245\n",
      "Prediction_local [4.88428392]\n",
      "Right: 6.467095814881803\n"
     ]
    },
    {
     "name": "stderr",
     "output_type": "stream",
     "text": [
      "\r",
      "  9%|▉         | 92/1000 [23:58<3:56:46, 15.65s/it]"
     ]
    },
    {
     "name": "stdout",
     "output_type": "stream",
     "text": [
      "Intercept 0.20791525190475268\n",
      "Prediction_local [-0.49589316]\n",
      "Right: 0.6574061360418557\n"
     ]
    },
    {
     "name": "stderr",
     "output_type": "stream",
     "text": [
      "\r",
      "  9%|▉         | 93/1000 [24:13<3:56:15, 15.63s/it]"
     ]
    },
    {
     "name": "stdout",
     "output_type": "stream",
     "text": [
      "Intercept 0.9557149301590624\n",
      "Prediction_local [-2.74540846]\n",
      "Right: -2.396356029503088\n"
     ]
    },
    {
     "name": "stderr",
     "output_type": "stream",
     "text": [
      "\r",
      "  9%|▉         | 94/1000 [24:29<3:56:48, 15.68s/it]"
     ]
    },
    {
     "name": "stdout",
     "output_type": "stream",
     "text": [
      "Intercept 0.10546042243530795\n",
      "Prediction_local [-0.37101118]\n",
      "Right: 1.6117353392847655\n"
     ]
    },
    {
     "name": "stderr",
     "output_type": "stream",
     "text": [
      "\r",
      " 10%|▉         | 95/1000 [24:45<3:55:23, 15.61s/it]"
     ]
    },
    {
     "name": "stdout",
     "output_type": "stream",
     "text": [
      "Intercept -0.8540808358558705\n",
      "Prediction_local [2.74187634]\n",
      "Right: 1.888244329468432\n"
     ]
    },
    {
     "name": "stderr",
     "output_type": "stream",
     "text": [
      "\r",
      " 10%|▉         | 96/1000 [25:01<3:57:14, 15.75s/it]"
     ]
    },
    {
     "name": "stdout",
     "output_type": "stream",
     "text": [
      "Intercept -0.5020745672369755\n",
      "Prediction_local [1.73685125]\n",
      "Right: 4.529723505224284\n"
     ]
    },
    {
     "name": "stderr",
     "output_type": "stream",
     "text": [
      "\r",
      " 10%|▉         | 97/1000 [25:17<3:59:13, 15.90s/it]"
     ]
    },
    {
     "name": "stdout",
     "output_type": "stream",
     "text": [
      "Intercept 0.9700263581325391\n",
      "Prediction_local [-2.63705355]\n",
      "Right: -1.8358877425021896\n"
     ]
    },
    {
     "name": "stderr",
     "output_type": "stream",
     "text": [
      "\r",
      " 10%|▉         | 98/1000 [25:33<4:00:04, 15.97s/it]"
     ]
    },
    {
     "name": "stdout",
     "output_type": "stream",
     "text": [
      "Intercept 1.0145367792742892\n",
      "Prediction_local [-2.6744076]\n",
      "Right: 1.0521420205211156\n"
     ]
    },
    {
     "name": "stderr",
     "output_type": "stream",
     "text": [
      "\r",
      " 10%|▉         | 99/1000 [25:49<3:58:18, 15.87s/it]"
     ]
    },
    {
     "name": "stdout",
     "output_type": "stream",
     "text": [
      "Intercept 0.43829471733034875\n",
      "Prediction_local [-1.16353152]\n",
      "Right: -6.437093817271807\n"
     ]
    },
    {
     "name": "stderr",
     "output_type": "stream",
     "text": [
      "\r",
      " 10%|█         | 100/1000 [26:04<3:55:39, 15.71s/it]"
     ]
    },
    {
     "name": "stdout",
     "output_type": "stream",
     "text": [
      "Intercept -1.2150158872309527\n",
      "Prediction_local [3.66402704]\n",
      "Right: 3.4323260078001914\n"
     ]
    },
    {
     "name": "stderr",
     "output_type": "stream",
     "text": [
      "\r",
      " 10%|█         | 101/1000 [26:19<3:54:19, 15.64s/it]"
     ]
    },
    {
     "name": "stdout",
     "output_type": "stream",
     "text": [
      "Intercept -0.5650100401262534\n",
      "Prediction_local [1.79092541]\n",
      "Right: 5.578246930785558\n"
     ]
    },
    {
     "name": "stderr",
     "output_type": "stream",
     "text": [
      "\r",
      " 10%|█         | 102/1000 [26:35<3:55:54, 15.76s/it]"
     ]
    },
    {
     "name": "stdout",
     "output_type": "stream",
     "text": [
      "Intercept 0.1819361602036373\n",
      "Prediction_local [-0.36908414]\n",
      "Right: -2.2681726766422186\n"
     ]
    },
    {
     "name": "stderr",
     "output_type": "stream",
     "text": [
      "\r",
      " 10%|█         | 103/1000 [26:52<3:59:38, 16.03s/it]"
     ]
    },
    {
     "name": "stdout",
     "output_type": "stream",
     "text": [
      "Intercept -0.45274191926997936\n",
      "Prediction_local [1.7289397]\n",
      "Right: 2.2165833272095496\n"
     ]
    },
    {
     "name": "stderr",
     "output_type": "stream",
     "text": [
      "\r",
      " 10%|█         | 104/1000 [27:08<3:59:44, 16.05s/it]"
     ]
    },
    {
     "name": "stdout",
     "output_type": "stream",
     "text": [
      "Intercept 1.3580752312536286\n",
      "Prediction_local [-3.7020699]\n",
      "Right: 0.9449723830772008\n"
     ]
    },
    {
     "name": "stderr",
     "output_type": "stream",
     "text": [
      "\r",
      " 10%|█         | 105/1000 [27:24<3:59:46, 16.07s/it]"
     ]
    },
    {
     "name": "stdout",
     "output_type": "stream",
     "text": [
      "Intercept 1.7923875108239111\n",
      "Prediction_local [-4.91464421]\n",
      "Right: -4.223285308401669\n"
     ]
    },
    {
     "name": "stderr",
     "output_type": "stream",
     "text": [
      "\r",
      " 11%|█         | 106/1000 [27:40<3:58:05, 15.98s/it]"
     ]
    },
    {
     "name": "stdout",
     "output_type": "stream",
     "text": [
      "Intercept 0.3464527877587569\n",
      "Prediction_local [-0.46289525]\n",
      "Right: 4.7633829637303595\n"
     ]
    },
    {
     "name": "stderr",
     "output_type": "stream",
     "text": [
      "\r",
      " 11%|█         | 107/1000 [27:56<3:58:57, 16.06s/it]"
     ]
    },
    {
     "name": "stdout",
     "output_type": "stream",
     "text": [
      "Intercept -0.7400589487261204\n",
      "Prediction_local [2.71412837]\n",
      "Right: 6.368032218835301\n"
     ]
    },
    {
     "name": "stderr",
     "output_type": "stream",
     "text": [
      "\r",
      " 11%|█         | 108/1000 [28:12<3:56:46, 15.93s/it]"
     ]
    },
    {
     "name": "stdout",
     "output_type": "stream",
     "text": [
      "Intercept -1.1758324114595469\n",
      "Prediction_local [3.75607089]\n",
      "Right: 7.203942680068342\n"
     ]
    },
    {
     "name": "stderr",
     "output_type": "stream",
     "text": [
      "\r",
      " 11%|█         | 109/1000 [28:28<3:54:52, 15.82s/it]"
     ]
    },
    {
     "name": "stdout",
     "output_type": "stream",
     "text": [
      "Intercept -0.4901475379072407\n",
      "Prediction_local [1.67554303]\n",
      "Right: 0.819431616986015\n"
     ]
    },
    {
     "name": "stderr",
     "output_type": "stream",
     "text": [
      "\r",
      " 11%|█         | 110/1000 [28:43<3:53:21, 15.73s/it]"
     ]
    },
    {
     "name": "stdout",
     "output_type": "stream",
     "text": [
      "Intercept 1.2373636568228943\n",
      "Prediction_local [-3.48926261]\n",
      "Right: -6.088288369852075\n"
     ]
    },
    {
     "name": "stderr",
     "output_type": "stream",
     "text": [
      "\r",
      " 11%|█         | 111/1000 [28:59<3:52:29, 15.69s/it]"
     ]
    },
    {
     "name": "stdout",
     "output_type": "stream",
     "text": [
      "Intercept 1.0629505719525765\n",
      "Prediction_local [-2.85329572]\n",
      "Right: -1.0644028354804156\n"
     ]
    },
    {
     "name": "stderr",
     "output_type": "stream",
     "text": [
      "\r",
      " 11%|█         | 112/1000 [29:14<3:49:19, 15.50s/it]"
     ]
    },
    {
     "name": "stdout",
     "output_type": "stream",
     "text": [
      "Intercept -0.47311294066426834\n",
      "Prediction_local [2.08079585]\n",
      "Right: 5.78639050727881\n"
     ]
    },
    {
     "name": "stderr",
     "output_type": "stream",
     "text": [
      "\r",
      " 11%|█▏        | 113/1000 [29:29<3:49:52, 15.55s/it]"
     ]
    },
    {
     "name": "stdout",
     "output_type": "stream",
     "text": [
      "Intercept 0.45493621421783176\n",
      "Prediction_local [-1.39069474]\n",
      "Right: -3.408947978253475\n"
     ]
    },
    {
     "name": "stderr",
     "output_type": "stream",
     "text": [
      "\r",
      " 11%|█▏        | 114/1000 [29:45<3:49:54, 15.57s/it]"
     ]
    },
    {
     "name": "stdout",
     "output_type": "stream",
     "text": [
      "Intercept -1.2592396776936545\n",
      "Prediction_local [3.72893443]\n",
      "Right: 1.8104837176604716\n"
     ]
    },
    {
     "name": "stderr",
     "output_type": "stream",
     "text": [
      "\r",
      " 12%|█▏        | 115/1000 [30:00<3:49:11, 15.54s/it]"
     ]
    },
    {
     "name": "stdout",
     "output_type": "stream",
     "text": [
      "Intercept 1.6170545547756168\n",
      "Prediction_local [-4.84059111]\n",
      "Right: -1.2892630289677622\n"
     ]
    },
    {
     "name": "stderr",
     "output_type": "stream",
     "text": [
      "\r",
      " 12%|█▏        | 116/1000 [30:16<3:48:41, 15.52s/it]"
     ]
    },
    {
     "name": "stdout",
     "output_type": "stream",
     "text": [
      "Intercept 0.1286754042201595\n",
      "Prediction_local [-0.37339028]\n",
      "Right: -1.4761490477855896\n"
     ]
    },
    {
     "name": "stderr",
     "output_type": "stream",
     "text": [
      "\r",
      " 12%|█▏        | 117/1000 [30:32<3:49:19, 15.58s/it]"
     ]
    },
    {
     "name": "stdout",
     "output_type": "stream",
     "text": [
      "Intercept -0.17772222128527704\n",
      "Prediction_local [0.81377164]\n",
      "Right: 2.9278066252429986\n"
     ]
    },
    {
     "name": "stderr",
     "output_type": "stream",
     "text": [
      "\r",
      " 12%|█▏        | 118/1000 [30:47<3:49:56, 15.64s/it]"
     ]
    },
    {
     "name": "stdout",
     "output_type": "stream",
     "text": [
      "Intercept 0.8781703608266327\n",
      "Prediction_local [-2.61322054]\n",
      "Right: -3.2599130526818016\n"
     ]
    },
    {
     "name": "stderr",
     "output_type": "stream",
     "text": [
      "\r",
      " 12%|█▏        | 119/1000 [31:03<3:50:23, 15.69s/it]"
     ]
    },
    {
     "name": "stdout",
     "output_type": "stream",
     "text": [
      "Intercept 1.3264622900291252\n",
      "Prediction_local [-3.6402798]\n",
      "Right: -3.841099242517012\n"
     ]
    },
    {
     "name": "stderr",
     "output_type": "stream",
     "text": [
      "\r",
      " 12%|█▏        | 120/1000 [31:19<3:50:04, 15.69s/it]"
     ]
    },
    {
     "name": "stdout",
     "output_type": "stream",
     "text": [
      "Intercept -0.7815916417295079\n",
      "Prediction_local [2.68913638]\n",
      "Right: 5.848444072540416\n"
     ]
    },
    {
     "name": "stderr",
     "output_type": "stream",
     "text": [
      "\r",
      " 12%|█▏        | 121/1000 [31:35<3:49:23, 15.66s/it]"
     ]
    },
    {
     "name": "stdout",
     "output_type": "stream",
     "text": [
      "Intercept -0.8710943478274757\n",
      "Prediction_local [3.05354052]\n",
      "Right: 1.0315251183084515\n"
     ]
    },
    {
     "name": "stderr",
     "output_type": "stream",
     "text": [
      "\r",
      " 12%|█▏        | 122/1000 [31:50<3:49:28, 15.68s/it]"
     ]
    },
    {
     "name": "stdout",
     "output_type": "stream",
     "text": [
      "Intercept -0.09944603929477833\n",
      "Prediction_local [0.58861911]\n",
      "Right: 4.2202702175095546\n"
     ]
    },
    {
     "name": "stderr",
     "output_type": "stream",
     "text": [
      "\r",
      " 12%|█▏        | 123/1000 [32:06<3:48:32, 15.64s/it]"
     ]
    },
    {
     "name": "stdout",
     "output_type": "stream",
     "text": [
      "Intercept 0.246847346566775\n",
      "Prediction_local [-0.52942663]\n",
      "Right: -4.718058074348425\n"
     ]
    },
    {
     "name": "stderr",
     "output_type": "stream",
     "text": [
      "\r",
      " 12%|█▏        | 124/1000 [32:22<3:49:18, 15.71s/it]"
     ]
    },
    {
     "name": "stdout",
     "output_type": "stream",
     "text": [
      "Intercept 0.16679441350814378\n",
      "Prediction_local [-0.32154511]\n",
      "Right: 0.2848974231912097\n"
     ]
    },
    {
     "name": "stderr",
     "output_type": "stream",
     "text": [
      "\r",
      " 12%|█▎        | 125/1000 [32:37<3:48:06, 15.64s/it]"
     ]
    },
    {
     "name": "stdout",
     "output_type": "stream",
     "text": [
      "Intercept 0.641352255548829\n",
      "Prediction_local [-1.73191036]\n",
      "Right: -0.8283783954869645\n"
     ]
    },
    {
     "name": "stderr",
     "output_type": "stream",
     "text": [
      "\r",
      " 13%|█▎        | 126/1000 [32:53<3:47:36, 15.63s/it]"
     ]
    },
    {
     "name": "stdout",
     "output_type": "stream",
     "text": [
      "Intercept 1.7017175854192685\n",
      "Prediction_local [-4.82654546]\n",
      "Right: -6.642508267056192\n"
     ]
    },
    {
     "name": "stderr",
     "output_type": "stream",
     "text": [
      "\r",
      " 13%|█▎        | 127/1000 [33:08<3:44:51, 15.45s/it]"
     ]
    },
    {
     "name": "stdout",
     "output_type": "stream",
     "text": [
      "Intercept 0.12408161902487855\n",
      "Prediction_local [-0.24161137]\n",
      "Right: -1.4964200580745757\n"
     ]
    },
    {
     "name": "stderr",
     "output_type": "stream",
     "text": [
      "\r",
      " 13%|█▎        | 128/1000 [33:23<3:44:03, 15.42s/it]"
     ]
    },
    {
     "name": "stdout",
     "output_type": "stream",
     "text": [
      "Intercept 1.2990534345369336\n",
      "Prediction_local [-3.54663218]\n",
      "Right: -1.7169588948289385\n"
     ]
    },
    {
     "name": "stderr",
     "output_type": "stream",
     "text": [
      "\r",
      " 13%|█▎        | 129/1000 [33:38<3:41:58, 15.29s/it]"
     ]
    },
    {
     "name": "stdout",
     "output_type": "stream",
     "text": [
      "Intercept -1.5680430895089263\n",
      "Prediction_local [4.89701824]\n",
      "Right: 5.849583670160545\n"
     ]
    },
    {
     "name": "stderr",
     "output_type": "stream",
     "text": [
      "\r",
      " 13%|█▎        | 130/1000 [33:53<3:40:18, 15.19s/it]"
     ]
    },
    {
     "name": "stdout",
     "output_type": "stream",
     "text": [
      "Intercept -0.6003368783386935\n",
      "Prediction_local [1.76471681]\n",
      "Right: 0.9191309446768366\n"
     ]
    },
    {
     "name": "stderr",
     "output_type": "stream",
     "text": [
      "\r",
      " 13%|█▎        | 131/1000 [34:08<3:38:39, 15.10s/it]"
     ]
    },
    {
     "name": "stdout",
     "output_type": "stream",
     "text": [
      "Intercept -0.11951687337370884\n",
      "Prediction_local [0.9673453]\n",
      "Right: 4.606871358340172\n"
     ]
    },
    {
     "name": "stderr",
     "output_type": "stream",
     "text": [
      "\r",
      " 13%|█▎        | 132/1000 [34:23<3:37:49, 15.06s/it]"
     ]
    },
    {
     "name": "stdout",
     "output_type": "stream",
     "text": [
      "Intercept 0.2217127203962691\n",
      "Prediction_local [-0.54001903]\n",
      "Right: -5.222888898110378\n"
     ]
    },
    {
     "name": "stderr",
     "output_type": "stream",
     "text": [
      "\r",
      " 13%|█▎        | 133/1000 [34:38<3:36:45, 15.00s/it]"
     ]
    },
    {
     "name": "stdout",
     "output_type": "stream",
     "text": [
      "Intercept -1.5665819486173407\n",
      "Prediction_local [4.75359326]\n",
      "Right: 5.178157182529214\n"
     ]
    },
    {
     "name": "stderr",
     "output_type": "stream",
     "text": [
      "\r",
      " 13%|█▎        | 134/1000 [34:53<3:36:46, 15.02s/it]"
     ]
    },
    {
     "name": "stdout",
     "output_type": "stream",
     "text": [
      "Intercept 0.6145127440640353\n",
      "Prediction_local [-1.28183424]\n",
      "Right: -0.9143498586539784\n"
     ]
    },
    {
     "name": "stderr",
     "output_type": "stream",
     "text": [
      "\r",
      " 14%|█▎        | 135/1000 [35:08<3:36:26, 15.01s/it]"
     ]
    },
    {
     "name": "stdout",
     "output_type": "stream",
     "text": [
      "Intercept -1.157726983702781\n",
      "Prediction_local [3.6078742]\n",
      "Right: 3.5622588326063878\n"
     ]
    },
    {
     "name": "stderr",
     "output_type": "stream",
     "text": [
      "\r",
      " 14%|█▎        | 136/1000 [35:23<3:35:52, 14.99s/it]"
     ]
    },
    {
     "name": "stdout",
     "output_type": "stream",
     "text": [
      "Intercept -0.5174746065862056\n",
      "Prediction_local [1.61166141]\n",
      "Right: 1.852461239621888\n"
     ]
    },
    {
     "name": "stderr",
     "output_type": "stream",
     "text": [
      "\r",
      " 14%|█▎        | 137/1000 [35:38<3:35:42, 15.00s/it]"
     ]
    },
    {
     "name": "stdout",
     "output_type": "stream",
     "text": [
      "Intercept -1.585809266998423\n",
      "Prediction_local [5.02562534]\n",
      "Right: 0.6179100767058073\n"
     ]
    },
    {
     "name": "stderr",
     "output_type": "stream",
     "text": [
      "\r",
      " 14%|█▍        | 138/1000 [35:53<3:35:24, 14.99s/it]"
     ]
    },
    {
     "name": "stdout",
     "output_type": "stream",
     "text": [
      "Intercept 0.5469319530617404\n",
      "Prediction_local [-1.48901772]\n",
      "Right: -1.2456885879527335\n"
     ]
    },
    {
     "name": "stderr",
     "output_type": "stream",
     "text": [
      "\r",
      " 14%|█▍        | 139/1000 [36:08<3:35:12, 15.00s/it]"
     ]
    },
    {
     "name": "stdout",
     "output_type": "stream",
     "text": [
      "Intercept 1.6703985287566983\n",
      "Prediction_local [-4.60672758]\n",
      "Right: -5.887759522829713\n"
     ]
    },
    {
     "name": "stderr",
     "output_type": "stream",
     "text": [
      "\r",
      " 14%|█▍        | 140/1000 [36:23<3:34:49, 14.99s/it]"
     ]
    },
    {
     "name": "stdout",
     "output_type": "stream",
     "text": [
      "Intercept 0.954942334728015\n",
      "Prediction_local [-2.26558888]\n",
      "Right: -1.921942544819581\n"
     ]
    },
    {
     "name": "stderr",
     "output_type": "stream",
     "text": [
      "\r",
      " 14%|█▍        | 141/1000 [36:38<3:34:23, 14.98s/it]"
     ]
    },
    {
     "name": "stdout",
     "output_type": "stream",
     "text": [
      "Intercept 0.5513936078025986\n",
      "Prediction_local [-1.7073032]\n",
      "Right: 2.515725915535882\n"
     ]
    },
    {
     "name": "stderr",
     "output_type": "stream",
     "text": [
      "\r",
      " 14%|█▍        | 142/1000 [36:53<3:34:34, 15.01s/it]"
     ]
    },
    {
     "name": "stdout",
     "output_type": "stream",
     "text": [
      "Intercept -0.4516024963371565\n",
      "Prediction_local [1.27502036]\n",
      "Right: 1.8492995172535647\n"
     ]
    },
    {
     "name": "stderr",
     "output_type": "stream",
     "text": [
      "\r",
      " 14%|█▍        | 143/1000 [37:08<3:33:50, 14.97s/it]"
     ]
    },
    {
     "name": "stdout",
     "output_type": "stream",
     "text": [
      "Intercept 0.25866597604283326\n",
      "Prediction_local [-0.3415518]\n",
      "Right: -0.15828826111009434\n"
     ]
    },
    {
     "name": "stderr",
     "output_type": "stream",
     "text": [
      "\r",
      " 14%|█▍        | 144/1000 [37:23<3:33:26, 14.96s/it]"
     ]
    },
    {
     "name": "stdout",
     "output_type": "stream",
     "text": [
      "Intercept -1.615568924471702\n",
      "Prediction_local [5.03367695]\n",
      "Right: 5.399162272535745\n"
     ]
    },
    {
     "name": "stderr",
     "output_type": "stream",
     "text": [
      "\r",
      " 14%|█▍        | 145/1000 [37:38<3:32:54, 14.94s/it]"
     ]
    },
    {
     "name": "stdout",
     "output_type": "stream",
     "text": [
      "Intercept -0.08767652853487641\n",
      "Prediction_local [0.38500148]\n",
      "Right: 4.313289237687697\n"
     ]
    },
    {
     "name": "stderr",
     "output_type": "stream",
     "text": [
      "\r",
      " 15%|█▍        | 146/1000 [37:52<3:32:43, 14.95s/it]"
     ]
    },
    {
     "name": "stdout",
     "output_type": "stream",
     "text": [
      "Intercept 0.5926884341817428\n",
      "Prediction_local [-1.51391183]\n",
      "Right: -1.4300050873716503\n"
     ]
    },
    {
     "name": "stderr",
     "output_type": "stream",
     "text": [
      "\r",
      " 15%|█▍        | 147/1000 [38:07<3:32:23, 14.94s/it]"
     ]
    },
    {
     "name": "stdout",
     "output_type": "stream",
     "text": [
      "Intercept -0.01745316116413395\n",
      "Prediction_local [0.62181671]\n",
      "Right: 1.0761365966693008\n"
     ]
    },
    {
     "name": "stderr",
     "output_type": "stream",
     "text": [
      "\r",
      " 15%|█▍        | 148/1000 [38:22<3:32:31, 14.97s/it]"
     ]
    },
    {
     "name": "stdout",
     "output_type": "stream",
     "text": [
      "Intercept 0.2181868410461033\n",
      "Prediction_local [-0.23076699]\n",
      "Right: 1.628104233080555\n"
     ]
    },
    {
     "name": "stderr",
     "output_type": "stream",
     "text": [
      "\r",
      " 15%|█▍        | 149/1000 [38:37<3:32:09, 14.96s/it]"
     ]
    },
    {
     "name": "stdout",
     "output_type": "stream",
     "text": [
      "Intercept -0.49033518843132273\n",
      "Prediction_local [1.72053872]\n",
      "Right: 3.5415333876096584\n"
     ]
    },
    {
     "name": "stderr",
     "output_type": "stream",
     "text": [
      "\r",
      " 15%|█▌        | 150/1000 [38:52<3:31:59, 14.96s/it]"
     ]
    },
    {
     "name": "stdout",
     "output_type": "stream",
     "text": [
      "Intercept -1.1041012434260205\n",
      "Prediction_local [3.56113734]\n",
      "Right: 3.517082327486707\n"
     ]
    },
    {
     "name": "stderr",
     "output_type": "stream",
     "text": [
      "\r",
      " 15%|█▌        | 151/1000 [39:07<3:31:18, 14.93s/it]"
     ]
    },
    {
     "name": "stdout",
     "output_type": "stream",
     "text": [
      "Intercept 0.6505822364857915\n",
      "Prediction_local [-1.56739352]\n",
      "Right: -2.0126121618381783\n"
     ]
    },
    {
     "name": "stderr",
     "output_type": "stream",
     "text": [
      "\r",
      " 15%|█▌        | 152/1000 [39:22<3:31:28, 14.96s/it]"
     ]
    },
    {
     "name": "stdout",
     "output_type": "stream",
     "text": [
      "Intercept -0.22867745932091155\n",
      "Prediction_local [0.94941538]\n",
      "Right: 2.297140397734192\n"
     ]
    },
    {
     "name": "stderr",
     "output_type": "stream",
     "text": [
      "\r",
      " 15%|█▌        | 153/1000 [39:37<3:31:14, 14.96s/it]"
     ]
    },
    {
     "name": "stdout",
     "output_type": "stream",
     "text": [
      "Intercept 1.0146733051080037\n",
      "Prediction_local [-2.77914212]\n",
      "Right: -2.9252460659856845\n"
     ]
    },
    {
     "name": "stderr",
     "output_type": "stream",
     "text": [
      "\r",
      " 15%|█▌        | 154/1000 [39:52<3:30:59, 14.96s/it]"
     ]
    },
    {
     "name": "stdout",
     "output_type": "stream",
     "text": [
      "Intercept -0.541121023573634\n",
      "Prediction_local [1.77368498]\n",
      "Right: 5.578246930785558\n"
     ]
    },
    {
     "name": "stderr",
     "output_type": "stream",
     "text": [
      "\r",
      " 16%|█▌        | 155/1000 [40:07<3:30:52, 14.97s/it]"
     ]
    },
    {
     "name": "stdout",
     "output_type": "stream",
     "text": [
      "Intercept -0.374711361921573\n",
      "Prediction_local [1.75766875]\n",
      "Right: -1.2410479104000498\n"
     ]
    },
    {
     "name": "stderr",
     "output_type": "stream",
     "text": [
      "\r",
      " 16%|█▌        | 156/1000 [40:22<3:30:31, 14.97s/it]"
     ]
    },
    {
     "name": "stdout",
     "output_type": "stream",
     "text": [
      "Intercept -0.5376087780020812\n",
      "Prediction_local [1.70852201]\n",
      "Right: 4.025821027258582\n"
     ]
    },
    {
     "name": "stderr",
     "output_type": "stream",
     "text": [
      "\r",
      " 16%|█▌        | 157/1000 [40:37<3:29:50, 14.94s/it]"
     ]
    },
    {
     "name": "stdout",
     "output_type": "stream",
     "text": [
      "Intercept 1.2114915617632005\n",
      "Prediction_local [-3.28787227]\n",
      "Right: -3.560799847099973\n"
     ]
    },
    {
     "name": "stderr",
     "output_type": "stream",
     "text": [
      "\r",
      " 16%|█▌        | 158/1000 [40:52<3:29:36, 14.94s/it]"
     ]
    },
    {
     "name": "stdout",
     "output_type": "stream",
     "text": [
      "Intercept -0.42295851173824395\n",
      "Prediction_local [1.47446918]\n",
      "Right: 3.871005919719427\n"
     ]
    },
    {
     "name": "stderr",
     "output_type": "stream",
     "text": [
      "\r",
      " 16%|█▌        | 159/1000 [41:07<3:30:15, 15.00s/it]"
     ]
    },
    {
     "name": "stdout",
     "output_type": "stream",
     "text": [
      "Intercept 0.1858670943298718\n",
      "Prediction_local [-0.30978817]\n",
      "Right: -0.667036140892876\n"
     ]
    },
    {
     "name": "stderr",
     "output_type": "stream",
     "text": [
      "\r",
      " 16%|█▌        | 160/1000 [41:22<3:30:35, 15.04s/it]"
     ]
    },
    {
     "name": "stdout",
     "output_type": "stream",
     "text": [
      "Intercept -1.5696337839493522\n",
      "Prediction_local [5.06741632]\n",
      "Right: 6.463940777047571\n"
     ]
    },
    {
     "name": "stderr",
     "output_type": "stream",
     "text": [
      "\r",
      " 16%|█▌        | 161/1000 [41:37<3:29:52, 15.01s/it]"
     ]
    },
    {
     "name": "stdout",
     "output_type": "stream",
     "text": [
      "Intercept -0.22096199067120925\n",
      "Prediction_local [0.84359719]\n",
      "Right: 0.30983653066796124\n"
     ]
    },
    {
     "name": "stderr",
     "output_type": "stream",
     "text": [
      "\r",
      " 16%|█▌        | 162/1000 [41:52<3:29:32, 15.00s/it]"
     ]
    },
    {
     "name": "stdout",
     "output_type": "stream",
     "text": [
      "Intercept 1.6084895334826268\n",
      "Prediction_local [-4.51294153]\n",
      "Right: -4.698924627861858\n"
     ]
    },
    {
     "name": "stderr",
     "output_type": "stream",
     "text": [
      "\r",
      " 16%|█▋        | 163/1000 [42:07<3:30:15, 15.07s/it]"
     ]
    },
    {
     "name": "stdout",
     "output_type": "stream",
     "text": [
      "Intercept 0.607438238753433\n",
      "Prediction_local [-1.60364124]\n",
      "Right: -3.5330168911702744\n"
     ]
    },
    {
     "name": "stderr",
     "output_type": "stream",
     "text": [
      "\r",
      " 16%|█▋        | 164/1000 [42:23<3:30:42, 15.12s/it]"
     ]
    },
    {
     "name": "stdout",
     "output_type": "stream",
     "text": [
      "Intercept -1.5966683351402289\n",
      "Prediction_local [5.1708468]\n",
      "Right: 5.099314210608041\n"
     ]
    },
    {
     "name": "stderr",
     "output_type": "stream",
     "text": [
      "\r",
      " 16%|█▋        | 165/1000 [42:38<3:30:36, 15.13s/it]"
     ]
    },
    {
     "name": "stdout",
     "output_type": "stream",
     "text": [
      "Intercept -1.1245879312820555\n",
      "Prediction_local [3.77190017]\n",
      "Right: 4.833071123966765\n"
     ]
    },
    {
     "name": "stderr",
     "output_type": "stream",
     "text": [
      "\r",
      " 17%|█▋        | 166/1000 [42:53<3:30:46, 15.16s/it]"
     ]
    },
    {
     "name": "stdout",
     "output_type": "stream",
     "text": [
      "Intercept -0.5133302122210033\n",
      "Prediction_local [1.88043353]\n",
      "Right: 0.30826045448896744\n"
     ]
    },
    {
     "name": "stderr",
     "output_type": "stream",
     "text": [
      "\r",
      " 17%|█▋        | 167/1000 [43:08<3:30:56, 15.19s/it]"
     ]
    },
    {
     "name": "stdout",
     "output_type": "stream",
     "text": [
      "Intercept 0.5026177356355034\n",
      "Prediction_local [-1.52586622]\n",
      "Right: -5.313172946963321\n"
     ]
    },
    {
     "name": "stderr",
     "output_type": "stream",
     "text": [
      "\r",
      " 17%|█▋        | 168/1000 [43:24<3:31:14, 15.23s/it]"
     ]
    },
    {
     "name": "stdout",
     "output_type": "stream",
     "text": [
      "Intercept 0.6075434681580635\n",
      "Prediction_local [-1.42135292]\n",
      "Right: -2.118753143026818\n"
     ]
    },
    {
     "name": "stderr",
     "output_type": "stream",
     "text": [
      "\r",
      " 17%|█▋        | 169/1000 [43:39<3:32:44, 15.36s/it]"
     ]
    },
    {
     "name": "stdout",
     "output_type": "stream",
     "text": [
      "Intercept 0.9994136399442446\n",
      "Prediction_local [-2.78823017]\n",
      "Right: 1.4271536942408891\n"
     ]
    },
    {
     "name": "stderr",
     "output_type": "stream",
     "text": [
      "\r",
      " 17%|█▋        | 170/1000 [43:55<3:33:48, 15.46s/it]"
     ]
    },
    {
     "name": "stdout",
     "output_type": "stream",
     "text": [
      "Intercept 0.5619039534941412\n",
      "Prediction_local [-1.59427918]\n",
      "Right: -1.0363916983188273\n"
     ]
    },
    {
     "name": "stderr",
     "output_type": "stream",
     "text": [
      "\r",
      " 17%|█▋        | 171/1000 [44:10<3:33:46, 15.47s/it]"
     ]
    },
    {
     "name": "stdout",
     "output_type": "stream",
     "text": [
      "Intercept -0.38891694741668803\n",
      "Prediction_local [1.43164522]\n",
      "Right: 1.7094501218543439\n"
     ]
    },
    {
     "name": "stderr",
     "output_type": "stream",
     "text": [
      "\r",
      " 17%|█▋        | 172/1000 [44:26<3:33:27, 15.47s/it]"
     ]
    },
    {
     "name": "stdout",
     "output_type": "stream",
     "text": [
      "Intercept 1.556310799901197\n",
      "Prediction_local [-4.56136867]\n",
      "Right: -4.544702707648937\n"
     ]
    },
    {
     "name": "stderr",
     "output_type": "stream",
     "text": [
      "\r",
      " 17%|█▋        | 173/1000 [44:41<3:33:38, 15.50s/it]"
     ]
    },
    {
     "name": "stdout",
     "output_type": "stream",
     "text": [
      "Intercept 1.3059988731821819\n",
      "Prediction_local [-3.53434782]\n",
      "Right: -4.088264900144376\n"
     ]
    },
    {
     "name": "stderr",
     "output_type": "stream",
     "text": [
      "\r",
      " 17%|█▋        | 174/1000 [44:57<3:33:38, 15.52s/it]"
     ]
    },
    {
     "name": "stdout",
     "output_type": "stream",
     "text": [
      "Intercept 0.9791582696472437\n",
      "Prediction_local [-2.75287478]\n",
      "Right: -0.6546624886054998\n"
     ]
    },
    {
     "name": "stderr",
     "output_type": "stream",
     "text": [
      "\r",
      " 18%|█▊        | 175/1000 [45:13<3:33:26, 15.52s/it]"
     ]
    },
    {
     "name": "stdout",
     "output_type": "stream",
     "text": [
      "Intercept 0.18278811642810475\n",
      "Prediction_local [-0.36037609]\n",
      "Right: 1.0641605158283942\n"
     ]
    },
    {
     "name": "stderr",
     "output_type": "stream",
     "text": [
      "\r",
      " 18%|█▊        | 176/1000 [45:28<3:33:13, 15.53s/it]"
     ]
    },
    {
     "name": "stdout",
     "output_type": "stream",
     "text": [
      "Intercept -0.20908164598108492\n",
      "Prediction_local [0.83483975]\n",
      "Right: 3.9036737924518916\n"
     ]
    },
    {
     "name": "stderr",
     "output_type": "stream",
     "text": [
      "\r",
      " 18%|█▊        | 177/1000 [45:44<3:33:07, 15.54s/it]"
     ]
    },
    {
     "name": "stdout",
     "output_type": "stream",
     "text": [
      "Intercept 1.7154597061294854\n",
      "Prediction_local [-4.72379709]\n",
      "Right: -4.36514892024022\n"
     ]
    },
    {
     "name": "stderr",
     "output_type": "stream",
     "text": [
      "\r",
      " 18%|█▊        | 178/1000 [45:59<3:30:23, 15.36s/it]"
     ]
    },
    {
     "name": "stdout",
     "output_type": "stream",
     "text": [
      "Intercept 0.26389864445993105\n",
      "Prediction_local [-0.33713314]\n",
      "Right: -2.721827652225668\n"
     ]
    },
    {
     "name": "stderr",
     "output_type": "stream",
     "text": [
      "\r",
      " 18%|█▊        | 179/1000 [46:14<3:28:59, 15.27s/it]"
     ]
    },
    {
     "name": "stdout",
     "output_type": "stream",
     "text": [
      "Intercept 0.5476784482828593\n",
      "Prediction_local [-1.4868511]\n",
      "Right: -2.118753143026818\n"
     ]
    },
    {
     "name": "stderr",
     "output_type": "stream",
     "text": [
      "\r",
      " 18%|█▊        | 180/1000 [46:29<3:27:23, 15.18s/it]"
     ]
    },
    {
     "name": "stdout",
     "output_type": "stream",
     "text": [
      "Intercept -0.49837323693906777\n",
      "Prediction_local [1.70324742]\n",
      "Right: -0.9204550160211855\n"
     ]
    },
    {
     "name": "stderr",
     "output_type": "stream",
     "text": [
      "\r",
      " 18%|█▊        | 181/1000 [46:44<3:26:51, 15.15s/it]"
     ]
    },
    {
     "name": "stdout",
     "output_type": "stream",
     "text": [
      "Intercept 0.23897256400021238\n",
      "Prediction_local [-0.29761642]\n",
      "Right: -2.9819417889326147\n"
     ]
    },
    {
     "name": "stderr",
     "output_type": "stream",
     "text": [
      "\r",
      " 18%|█▊        | 182/1000 [46:59<3:26:23, 15.14s/it]"
     ]
    },
    {
     "name": "stdout",
     "output_type": "stream",
     "text": [
      "Intercept -0.8314441802363339\n",
      "Prediction_local [2.57495333]\n",
      "Right: 3.247092656492101\n"
     ]
    },
    {
     "name": "stderr",
     "output_type": "stream",
     "text": [
      "\r",
      " 18%|█▊        | 183/1000 [47:14<3:25:36, 15.10s/it]"
     ]
    },
    {
     "name": "stdout",
     "output_type": "stream",
     "text": [
      "Intercept 0.5632486168257692\n",
      "Prediction_local [-1.51279955]\n",
      "Right: -3.8099852897285458\n"
     ]
    },
    {
     "name": "stderr",
     "output_type": "stream",
     "text": [
      "\r",
      " 18%|█▊        | 184/1000 [47:29<3:24:53, 15.07s/it]"
     ]
    },
    {
     "name": "stdout",
     "output_type": "stream",
     "text": [
      "Intercept -0.037649362491239693\n",
      "Prediction_local [0.45438183]\n",
      "Right: 2.5198522903512974\n"
     ]
    },
    {
     "name": "stderr",
     "output_type": "stream",
     "text": [
      "\r",
      " 18%|█▊        | 185/1000 [47:44<3:27:01, 15.24s/it]"
     ]
    },
    {
     "name": "stdout",
     "output_type": "stream",
     "text": [
      "Intercept 0.6109921191481886\n",
      "Prediction_local [-1.57375683]\n",
      "Right: -1.3087446210890998\n"
     ]
    },
    {
     "name": "stderr",
     "output_type": "stream",
     "text": [
      "\r",
      " 19%|█▊        | 186/1000 [48:00<3:27:46, 15.31s/it]"
     ]
    },
    {
     "name": "stdout",
     "output_type": "stream",
     "text": [
      "Intercept -0.1637779302712685\n",
      "Prediction_local [0.54171528]\n",
      "Right: -0.8308308294868783\n"
     ]
    },
    {
     "name": "stderr",
     "output_type": "stream",
     "text": [
      "\r",
      " 19%|█▊        | 187/1000 [48:15<3:28:02, 15.35s/it]"
     ]
    },
    {
     "name": "stdout",
     "output_type": "stream",
     "text": [
      "Intercept -0.5347176720366693\n",
      "Prediction_local [1.67747638]\n",
      "Right: -0.5257597664577951\n"
     ]
    },
    {
     "name": "stderr",
     "output_type": "stream",
     "text": [
      "\r",
      " 19%|█▉        | 188/1000 [48:31<3:28:24, 15.40s/it]"
     ]
    },
    {
     "name": "stdout",
     "output_type": "stream",
     "text": [
      "Intercept 0.1989123702170117\n",
      "Prediction_local [-0.51226729]\n",
      "Right: 0.08026804385023488\n"
     ]
    },
    {
     "name": "stderr",
     "output_type": "stream",
     "text": [
      "\r",
      " 19%|█▉        | 189/1000 [48:46<3:28:53, 15.45s/it]"
     ]
    },
    {
     "name": "stdout",
     "output_type": "stream",
     "text": [
      "Intercept 0.23171620824654304\n",
      "Prediction_local [-0.53762664]\n",
      "Right: 0.29729145300662185\n"
     ]
    },
    {
     "name": "stderr",
     "output_type": "stream",
     "text": [
      "\r",
      " 19%|█▉        | 190/1000 [49:02<3:28:51, 15.47s/it]"
     ]
    },
    {
     "name": "stdout",
     "output_type": "stream",
     "text": [
      "Intercept -1.5883594679638187\n",
      "Prediction_local [4.77642492]\n",
      "Right: 4.421059322660607\n"
     ]
    },
    {
     "name": "stderr",
     "output_type": "stream",
     "text": [
      "\r",
      " 19%|█▉        | 191/1000 [49:18<3:28:45, 15.48s/it]"
     ]
    },
    {
     "name": "stdout",
     "output_type": "stream",
     "text": [
      "Intercept 0.8518614335054178\n",
      "Prediction_local [-2.37076159]\n",
      "Right: -2.1817711146904673\n"
     ]
    },
    {
     "name": "stderr",
     "output_type": "stream",
     "text": [
      "\r",
      " 19%|█▉        | 192/1000 [49:32<3:26:05, 15.30s/it]"
     ]
    },
    {
     "name": "stdout",
     "output_type": "stream",
     "text": [
      "Intercept -0.40173421117344466\n",
      "Prediction_local [1.71133445]\n",
      "Right: 4.69115251392263\n"
     ]
    },
    {
     "name": "stderr",
     "output_type": "stream",
     "text": [
      "\r",
      " 19%|█▉        | 193/1000 [49:47<3:24:09, 15.18s/it]"
     ]
    },
    {
     "name": "stdout",
     "output_type": "stream",
     "text": [
      "Intercept 0.5346234269213627\n",
      "Prediction_local [-1.51269489]\n",
      "Right: -1.05148812253425\n"
     ]
    },
    {
     "name": "stderr",
     "output_type": "stream",
     "text": [
      "\r",
      " 19%|█▉        | 194/1000 [50:02<3:22:45, 15.09s/it]"
     ]
    },
    {
     "name": "stdout",
     "output_type": "stream",
     "text": [
      "Intercept -0.5516794073623424\n",
      "Prediction_local [2.01101544]\n",
      "Right: 6.955156648829865\n"
     ]
    },
    {
     "name": "stderr",
     "output_type": "stream",
     "text": [
      "\r",
      " 20%|█▉        | 195/1000 [50:17<3:21:53, 15.05s/it]"
     ]
    },
    {
     "name": "stdout",
     "output_type": "stream",
     "text": [
      "Intercept -0.8330074330848387\n",
      "Prediction_local [2.85738764]\n",
      "Right: 1.9616659732836428\n"
     ]
    },
    {
     "name": "stderr",
     "output_type": "stream",
     "text": [
      "\r",
      " 20%|█▉        | 196/1000 [50:32<3:21:06, 15.01s/it]"
     ]
    },
    {
     "name": "stdout",
     "output_type": "stream",
     "text": [
      "Intercept 1.2508000973635998\n",
      "Prediction_local [-3.34593401]\n",
      "Right: -3.6302572818895547\n"
     ]
    },
    {
     "name": "stderr",
     "output_type": "stream",
     "text": [
      "\r",
      " 20%|█▉        | 197/1000 [50:47<3:20:43, 15.00s/it]"
     ]
    },
    {
     "name": "stdout",
     "output_type": "stream",
     "text": [
      "Intercept -0.037037429142023154\n",
      "Prediction_local [0.37877831]\n",
      "Right: -2.704977449521763\n"
     ]
    },
    {
     "name": "stderr",
     "output_type": "stream",
     "text": [
      "\r",
      " 20%|█▉        | 198/1000 [51:02<3:20:44, 15.02s/it]"
     ]
    },
    {
     "name": "stdout",
     "output_type": "stream",
     "text": [
      "Intercept -0.8484039770842122\n",
      "Prediction_local [2.6662124]\n",
      "Right: 5.885675800911183\n"
     ]
    },
    {
     "name": "stderr",
     "output_type": "stream",
     "text": [
      "\r",
      " 20%|█▉        | 199/1000 [51:17<3:20:05, 14.99s/it]"
     ]
    },
    {
     "name": "stdout",
     "output_type": "stream",
     "text": [
      "Intercept 0.6092338808800811\n",
      "Prediction_local [-1.62040131]\n",
      "Right: 1.1887686991041175\n"
     ]
    },
    {
     "name": "stderr",
     "output_type": "stream",
     "text": [
      "\r",
      " 20%|██        | 200/1000 [51:32<3:19:25, 14.96s/it]"
     ]
    },
    {
     "name": "stdout",
     "output_type": "stream",
     "text": [
      "Intercept -0.49072379588810205\n",
      "Prediction_local [1.76609979]\n",
      "Right: 0.1561324947384587\n"
     ]
    },
    {
     "name": "stderr",
     "output_type": "stream",
     "text": [
      "\r",
      " 20%|██        | 201/1000 [51:47<3:19:01, 14.95s/it]"
     ]
    },
    {
     "name": "stdout",
     "output_type": "stream",
     "text": [
      "Intercept 0.02871268816927966\n",
      "Prediction_local [0.41300231]\n",
      "Right: -0.5549981379238155\n"
     ]
    },
    {
     "name": "stderr",
     "output_type": "stream",
     "text": [
      "\r",
      " 20%|██        | 202/1000 [52:02<3:18:59, 14.96s/it]"
     ]
    },
    {
     "name": "stdout",
     "output_type": "stream",
     "text": [
      "Intercept -0.02933526407201678\n",
      "Prediction_local [0.59109152]\n",
      "Right: -1.4106583001348798\n"
     ]
    },
    {
     "name": "stderr",
     "output_type": "stream",
     "text": [
      "\r",
      " 20%|██        | 203/1000 [52:17<3:18:55, 14.98s/it]"
     ]
    },
    {
     "name": "stdout",
     "output_type": "stream",
     "text": [
      "Intercept -0.932209992708259\n",
      "Prediction_local [2.83229849]\n",
      "Right: 1.2999982291868126\n"
     ]
    },
    {
     "name": "stderr",
     "output_type": "stream",
     "text": [
      "\r",
      " 20%|██        | 204/1000 [52:32<3:18:51, 14.99s/it]"
     ]
    },
    {
     "name": "stdout",
     "output_type": "stream",
     "text": [
      "Intercept 1.6453917622824756\n",
      "Prediction_local [-4.82380212]\n",
      "Right: -4.7351806412681245\n"
     ]
    },
    {
     "name": "stderr",
     "output_type": "stream",
     "text": [
      "\r",
      " 20%|██        | 205/1000 [52:47<3:18:36, 14.99s/it]"
     ]
    },
    {
     "name": "stdout",
     "output_type": "stream",
     "text": [
      "Intercept -0.7356842126458935\n",
      "Prediction_local [2.40648814]\n",
      "Right: 3.860665924985848\n"
     ]
    },
    {
     "name": "stderr",
     "output_type": "stream",
     "text": [
      "\r",
      " 21%|██        | 206/1000 [53:02<3:19:07, 15.05s/it]"
     ]
    },
    {
     "name": "stdout",
     "output_type": "stream",
     "text": [
      "Intercept 0.9672834394586091\n",
      "Prediction_local [-2.96430581]\n",
      "Right: -8.213982377093485\n"
     ]
    },
    {
     "name": "stderr",
     "output_type": "stream",
     "text": [
      "\r",
      " 21%|██        | 207/1000 [53:17<3:19:48, 15.12s/it]"
     ]
    },
    {
     "name": "stdout",
     "output_type": "stream",
     "text": [
      "Intercept -0.8768708788238847\n",
      "Prediction_local [2.89232259]\n",
      "Right: 2.5348381127779205\n"
     ]
    },
    {
     "name": "stderr",
     "output_type": "stream",
     "text": [
      "\r",
      " 21%|██        | 208/1000 [53:32<3:19:52, 15.14s/it]"
     ]
    },
    {
     "name": "stdout",
     "output_type": "stream",
     "text": [
      "Intercept 0.6860644182775483\n",
      "Prediction_local [-1.51853477]\n",
      "Right: -2.660700891811618\n"
     ]
    },
    {
     "name": "stderr",
     "output_type": "stream",
     "text": [
      "\r",
      " 21%|██        | 209/1000 [53:48<3:20:21, 15.20s/it]"
     ]
    },
    {
     "name": "stdout",
     "output_type": "stream",
     "text": [
      "Intercept 1.703562755568883\n",
      "Prediction_local [-4.99064102]\n",
      "Right: -3.1349684207873407\n"
     ]
    },
    {
     "name": "stderr",
     "output_type": "stream",
     "text": [
      "\r",
      " 21%|██        | 210/1000 [54:03<3:20:18, 15.21s/it]"
     ]
    },
    {
     "name": "stdout",
     "output_type": "stream",
     "text": [
      "Intercept 1.0704428846609828\n",
      "Prediction_local [-2.86862939]\n",
      "Right: -0.8376944180254586\n"
     ]
    },
    {
     "name": "stderr",
     "output_type": "stream",
     "text": [
      "\r",
      " 21%|██        | 211/1000 [54:18<3:19:53, 15.20s/it]"
     ]
    },
    {
     "name": "stdout",
     "output_type": "stream",
     "text": [
      "Intercept 0.23700623915059338\n",
      "Prediction_local [-0.5217345]\n",
      "Right: -1.1992951847287163\n"
     ]
    },
    {
     "name": "stderr",
     "output_type": "stream",
     "text": [
      "\r",
      " 21%|██        | 212/1000 [54:33<3:19:39, 15.20s/it]"
     ]
    },
    {
     "name": "stdout",
     "output_type": "stream",
     "text": [
      "Intercept 1.1286409417429442\n",
      "Prediction_local [-2.82739859]\n",
      "Right: -2.6038641354631444\n"
     ]
    },
    {
     "name": "stderr",
     "output_type": "stream",
     "text": [
      "\r",
      " 21%|██▏       | 213/1000 [54:49<3:19:33, 15.21s/it]"
     ]
    },
    {
     "name": "stdout",
     "output_type": "stream",
     "text": [
      "Intercept 0.5607199883598776\n",
      "Prediction_local [-1.61374215]\n",
      "Right: -3.2892594310917325\n"
     ]
    },
    {
     "name": "stderr",
     "output_type": "stream",
     "text": [
      "\r",
      " 21%|██▏       | 214/1000 [55:04<3:19:03, 15.20s/it]"
     ]
    },
    {
     "name": "stdout",
     "output_type": "stream",
     "text": [
      "Intercept -0.1371374966021483\n",
      "Prediction_local [0.39273628]\n",
      "Right: -3.4831058076582964\n"
     ]
    },
    {
     "name": "stderr",
     "output_type": "stream",
     "text": [
      "\r",
      " 22%|██▏       | 215/1000 [55:19<3:18:47, 15.19s/it]"
     ]
    },
    {
     "name": "stdout",
     "output_type": "stream",
     "text": [
      "Intercept 0.13245775233914275\n",
      "Prediction_local [-0.36921248]\n",
      "Right: 0.40778064838589606\n"
     ]
    },
    {
     "name": "stderr",
     "output_type": "stream",
     "text": [
      "\r",
      " 22%|██▏       | 216/1000 [55:34<3:18:43, 15.21s/it]"
     ]
    },
    {
     "name": "stdout",
     "output_type": "stream",
     "text": [
      "Intercept 0.5595784650437154\n",
      "Prediction_local [-1.5512868]\n",
      "Right: 0.8259971081397867\n"
     ]
    },
    {
     "name": "stderr",
     "output_type": "stream",
     "text": [
      "\r",
      " 22%|██▏       | 217/1000 [55:49<3:18:27, 15.21s/it]"
     ]
    },
    {
     "name": "stdout",
     "output_type": "stream",
     "text": [
      "Intercept -1.247223275549453\n",
      "Prediction_local [3.90523152]\n",
      "Right: 6.192539605162855\n"
     ]
    },
    {
     "name": "stderr",
     "output_type": "stream",
     "text": [
      "\r",
      " 22%|██▏       | 218/1000 [56:05<3:17:55, 15.19s/it]"
     ]
    },
    {
     "name": "stdout",
     "output_type": "stream",
     "text": [
      "Intercept 0.6570585757422779\n",
      "Prediction_local [-1.60954495]\n",
      "Right: -3.3153141602629352\n"
     ]
    },
    {
     "name": "stderr",
     "output_type": "stream",
     "text": [
      "\r",
      " 22%|██▏       | 219/1000 [56:20<3:18:44, 15.27s/it]"
     ]
    },
    {
     "name": "stdout",
     "output_type": "stream",
     "text": [
      "Intercept 1.6923240763348941\n",
      "Prediction_local [-4.90581788]\n",
      "Right: -6.021237076480158\n"
     ]
    },
    {
     "name": "stderr",
     "output_type": "stream",
     "text": [
      "\r",
      " 22%|██▏       | 220/1000 [56:35<3:18:12, 15.25s/it]"
     ]
    },
    {
     "name": "stdout",
     "output_type": "stream",
     "text": [
      "Intercept 1.403758375693963\n",
      "Prediction_local [-3.7525959]\n",
      "Right: -5.114017545446409\n"
     ]
    },
    {
     "name": "stderr",
     "output_type": "stream",
     "text": [
      "\r",
      " 22%|██▏       | 221/1000 [56:51<3:18:00, 15.25s/it]"
     ]
    },
    {
     "name": "stdout",
     "output_type": "stream",
     "text": [
      "Intercept -0.4570371608159885\n",
      "Prediction_local [1.62940034]\n",
      "Right: 2.7762255174371724\n"
     ]
    },
    {
     "name": "stderr",
     "output_type": "stream",
     "text": [
      "\r",
      " 22%|██▏       | 222/1000 [57:06<3:17:18, 15.22s/it]"
     ]
    },
    {
     "name": "stdout",
     "output_type": "stream",
     "text": [
      "Intercept 0.6574628453642866\n",
      "Prediction_local [-1.55797474]\n",
      "Right: -5.827762140934902\n"
     ]
    },
    {
     "name": "stderr",
     "output_type": "stream",
     "text": [
      "\r",
      " 22%|██▏       | 223/1000 [57:21<3:18:20, 15.32s/it]"
     ]
    },
    {
     "name": "stdout",
     "output_type": "stream",
     "text": [
      "Intercept 0.8234093426787457\n",
      "Prediction_local [-2.48053676]\n",
      "Right: -1.3287578462384715\n"
     ]
    },
    {
     "name": "stderr",
     "output_type": "stream",
     "text": [
      "\r",
      " 22%|██▏       | 224/1000 [57:37<3:18:56, 15.38s/it]"
     ]
    },
    {
     "name": "stdout",
     "output_type": "stream",
     "text": [
      "Intercept 1.2919214609018506\n",
      "Prediction_local [-3.57912928]\n",
      "Right: -0.5550176380610886\n"
     ]
    },
    {
     "name": "stderr",
     "output_type": "stream",
     "text": [
      "\r",
      " 22%|██▎       | 225/1000 [57:52<3:17:58, 15.33s/it]"
     ]
    },
    {
     "name": "stdout",
     "output_type": "stream",
     "text": [
      "Intercept -0.7845454385513282\n",
      "Prediction_local [2.42053555]\n",
      "Right: 4.894232117310507\n"
     ]
    },
    {
     "name": "stderr",
     "output_type": "stream",
     "text": [
      "\r",
      " 23%|██▎       | 226/1000 [58:07<3:17:18, 15.29s/it]"
     ]
    },
    {
     "name": "stdout",
     "output_type": "stream",
     "text": [
      "Intercept -0.6371072241994222\n",
      "Prediction_local [2.33646018]\n",
      "Right: 0.5308653220095658\n"
     ]
    },
    {
     "name": "stderr",
     "output_type": "stream",
     "text": [
      "\r",
      " 23%|██▎       | 227/1000 [58:22<3:16:13, 15.23s/it]"
     ]
    },
    {
     "name": "stdout",
     "output_type": "stream",
     "text": [
      "Intercept -0.4656379101867429\n",
      "Prediction_local [1.6309092]\n",
      "Right: 0.8507165359788944\n"
     ]
    },
    {
     "name": "stderr",
     "output_type": "stream",
     "text": [
      "\r",
      " 23%|██▎       | 228/1000 [58:37<3:15:45, 15.21s/it]"
     ]
    },
    {
     "name": "stdout",
     "output_type": "stream",
     "text": [
      "Intercept 0.21560566530641856\n",
      "Prediction_local [-0.42795775]\n",
      "Right: 0.5013345105654802\n"
     ]
    },
    {
     "name": "stderr",
     "output_type": "stream",
     "text": [
      "\r",
      " 23%|██▎       | 229/1000 [58:53<3:15:41, 15.23s/it]"
     ]
    },
    {
     "name": "stdout",
     "output_type": "stream",
     "text": [
      "Intercept 0.6029239623931637\n",
      "Prediction_local [-1.51042586]\n",
      "Right: -0.0799392747492613\n"
     ]
    },
    {
     "name": "stderr",
     "output_type": "stream",
     "text": [
      "\r",
      " 23%|██▎       | 230/1000 [59:08<3:15:14, 15.21s/it]"
     ]
    },
    {
     "name": "stdout",
     "output_type": "stream",
     "text": [
      "Intercept 0.6267108765313807\n",
      "Prediction_local [-1.61128043]\n",
      "Right: -1.6808606733486045\n"
     ]
    },
    {
     "name": "stderr",
     "output_type": "stream",
     "text": [
      "\r",
      " 23%|██▎       | 231/1000 [59:23<3:14:59, 15.21s/it]"
     ]
    },
    {
     "name": "stdout",
     "output_type": "stream",
     "text": [
      "Intercept 0.28496986677950414\n",
      "Prediction_local [-0.76754495]\n",
      "Right: 2.6783914826319966\n"
     ]
    },
    {
     "name": "stderr",
     "output_type": "stream",
     "text": [
      "\r",
      " 23%|██▎       | 232/1000 [59:38<3:14:58, 15.23s/it]"
     ]
    },
    {
     "name": "stdout",
     "output_type": "stream",
     "text": [
      "Intercept 0.7347516639532287\n",
      "Prediction_local [-1.7240945]\n",
      "Right: -0.5367143802618587\n"
     ]
    },
    {
     "name": "stderr",
     "output_type": "stream",
     "text": [
      "\r",
      " 23%|██▎       | 233/1000 [59:54<3:15:00, 15.26s/it]"
     ]
    },
    {
     "name": "stdout",
     "output_type": "stream",
     "text": [
      "Intercept 1.6111023921094014\n",
      "Prediction_local [-4.75420026]\n",
      "Right: -8.83231667079764\n"
     ]
    },
    {
     "name": "stderr",
     "output_type": "stream",
     "text": [
      "\r",
      " 23%|██▎       | 234/1000 [1:00:09<3:14:09, 15.21s/it]"
     ]
    },
    {
     "name": "stdout",
     "output_type": "stream",
     "text": [
      "Intercept -0.43649302350054753\n",
      "Prediction_local [1.40728955]\n",
      "Right: 3.5834598785951606\n"
     ]
    },
    {
     "name": "stderr",
     "output_type": "stream",
     "text": [
      "\r",
      " 24%|██▎       | 235/1000 [1:00:24<3:13:55, 15.21s/it]"
     ]
    },
    {
     "name": "stdout",
     "output_type": "stream",
     "text": [
      "Intercept -1.1599935911959842\n",
      "Prediction_local [3.71240895]\n",
      "Right: 2.686264391625853\n"
     ]
    },
    {
     "name": "stderr",
     "output_type": "stream",
     "text": [
      "\r",
      " 24%|██▎       | 236/1000 [1:00:39<3:14:51, 15.30s/it]"
     ]
    },
    {
     "name": "stdout",
     "output_type": "stream",
     "text": [
      "Intercept 0.5456087627002387\n",
      "Prediction_local [-1.42074384]\n",
      "Right: 1.2703818223367336\n"
     ]
    },
    {
     "name": "stderr",
     "output_type": "stream",
     "text": [
      "\r",
      " 24%|██▎       | 237/1000 [1:00:55<3:15:47, 15.40s/it]"
     ]
    },
    {
     "name": "stdout",
     "output_type": "stream",
     "text": [
      "Intercept -0.41525290332266873\n",
      "Prediction_local [1.57921196]\n",
      "Right: 2.032396493936152\n"
     ]
    },
    {
     "name": "stderr",
     "output_type": "stream",
     "text": [
      "\r",
      " 24%|██▍       | 238/1000 [1:01:10<3:14:47, 15.34s/it]"
     ]
    },
    {
     "name": "stdout",
     "output_type": "stream",
     "text": [
      "Intercept -0.5477380948979917\n",
      "Prediction_local [1.6758079]\n",
      "Right: 1.071820570922298\n"
     ]
    },
    {
     "name": "stderr",
     "output_type": "stream",
     "text": [
      "\r",
      " 24%|██▍       | 239/1000 [1:01:26<3:14:08, 15.31s/it]"
     ]
    },
    {
     "name": "stdout",
     "output_type": "stream",
     "text": [
      "Intercept -0.5284871241564247\n",
      "Prediction_local [1.53340192]\n",
      "Right: 1.761357222216974\n"
     ]
    },
    {
     "name": "stderr",
     "output_type": "stream",
     "text": [
      "\r",
      " 24%|██▍       | 240/1000 [1:01:41<3:13:47, 15.30s/it]"
     ]
    },
    {
     "name": "stdout",
     "output_type": "stream",
     "text": [
      "Intercept -0.156456732487881\n",
      "Prediction_local [0.5124466]\n",
      "Right: -2.362327236456994\n"
     ]
    },
    {
     "name": "stderr",
     "output_type": "stream",
     "text": [
      "\r",
      " 24%|██▍       | 241/1000 [1:01:56<3:13:12, 15.27s/it]"
     ]
    },
    {
     "name": "stdout",
     "output_type": "stream",
     "text": [
      "Intercept -1.190590584785896\n",
      "Prediction_local [3.83678917]\n",
      "Right: 7.6939065389258925\n"
     ]
    },
    {
     "name": "stderr",
     "output_type": "stream",
     "text": [
      "\r",
      " 24%|██▍       | 242/1000 [1:02:11<3:12:53, 15.27s/it]"
     ]
    },
    {
     "name": "stdout",
     "output_type": "stream",
     "text": [
      "Intercept -0.47994522943706625\n",
      "Prediction_local [1.63355162]\n",
      "Right: 2.7761237539172705\n"
     ]
    },
    {
     "name": "stderr",
     "output_type": "stream",
     "text": [
      "\r",
      " 24%|██▍       | 243/1000 [1:02:27<3:12:41, 15.27s/it]"
     ]
    },
    {
     "name": "stdout",
     "output_type": "stream",
     "text": [
      "Intercept -0.43103820436352347\n",
      "Prediction_local [1.63303549]\n",
      "Right: 1.5275644394658827\n"
     ]
    },
    {
     "name": "stderr",
     "output_type": "stream",
     "text": [
      "\r",
      " 24%|██▍       | 244/1000 [1:02:42<3:12:09, 15.25s/it]"
     ]
    },
    {
     "name": "stdout",
     "output_type": "stream",
     "text": [
      "Intercept 0.8747058116175628\n",
      "Prediction_local [-2.43775388]\n",
      "Right: -3.8059906815090363\n"
     ]
    },
    {
     "name": "stderr",
     "output_type": "stream",
     "text": [
      "\r",
      " 24%|██▍       | 245/1000 [1:02:57<3:12:08, 15.27s/it]"
     ]
    },
    {
     "name": "stdout",
     "output_type": "stream",
     "text": [
      "Intercept 0.07581784597131086\n",
      "Prediction_local [-0.38522271]\n",
      "Right: 1.069388490239288\n"
     ]
    },
    {
     "name": "stderr",
     "output_type": "stream",
     "text": [
      "\r",
      " 25%|██▍       | 246/1000 [1:03:12<3:11:48, 15.26s/it]"
     ]
    },
    {
     "name": "stdout",
     "output_type": "stream",
     "text": [
      "Intercept -0.05122940293178185\n",
      "Prediction_local [0.41827461]\n",
      "Right: -1.032199275710544\n"
     ]
    },
    {
     "name": "stderr",
     "output_type": "stream",
     "text": [
      "\r",
      " 25%|██▍       | 247/1000 [1:03:28<3:11:41, 15.27s/it]"
     ]
    },
    {
     "name": "stdout",
     "output_type": "stream",
     "text": [
      "Intercept -0.4120602550571253\n",
      "Prediction_local [1.73616478]\n",
      "Right: -0.8241991548561943\n"
     ]
    },
    {
     "name": "stderr",
     "output_type": "stream",
     "text": [
      "\r",
      " 25%|██▍       | 248/1000 [1:03:43<3:11:23, 15.27s/it]"
     ]
    },
    {
     "name": "stdout",
     "output_type": "stream",
     "text": [
      "Intercept 0.15434995113432973\n",
      "Prediction_local [-0.35658723]\n",
      "Right: 2.352705029427024\n"
     ]
    },
    {
     "name": "stderr",
     "output_type": "stream",
     "text": [
      "\r",
      " 25%|██▍       | 249/1000 [1:03:58<3:10:53, 15.25s/it]"
     ]
    },
    {
     "name": "stdout",
     "output_type": "stream",
     "text": [
      "Intercept 0.021885112582662847\n",
      "Prediction_local [0.26887248]\n",
      "Right: 2.8803874535476934\n"
     ]
    },
    {
     "name": "stderr",
     "output_type": "stream",
     "text": [
      "\r",
      " 25%|██▌       | 250/1000 [1:04:13<3:10:33, 15.24s/it]"
     ]
    },
    {
     "name": "stdout",
     "output_type": "stream",
     "text": [
      "Intercept -0.4328555246450847\n",
      "Prediction_local [1.65170056]\n",
      "Right: 4.377266590703155\n"
     ]
    },
    {
     "name": "stderr",
     "output_type": "stream",
     "text": [
      "\r",
      " 25%|██▌       | 251/1000 [1:04:29<3:10:38, 15.27s/it]"
     ]
    },
    {
     "name": "stdout",
     "output_type": "stream",
     "text": [
      "Intercept 0.519188223350168\n",
      "Prediction_local [-1.49791172]\n",
      "Right: -4.144919183048464\n"
     ]
    },
    {
     "name": "stderr",
     "output_type": "stream",
     "text": [
      "\r",
      " 25%|██▌       | 252/1000 [1:04:44<3:10:28, 15.28s/it]"
     ]
    },
    {
     "name": "stdout",
     "output_type": "stream",
     "text": [
      "Intercept 0.43630003098983583\n",
      "Prediction_local [-1.17180358]\n",
      "Right: -0.162056930573532\n"
     ]
    },
    {
     "name": "stderr",
     "output_type": "stream",
     "text": [
      "\r",
      " 25%|██▌       | 253/1000 [1:04:59<3:10:27, 15.30s/it]"
     ]
    },
    {
     "name": "stdout",
     "output_type": "stream",
     "text": [
      "Intercept 0.14667400008474515\n",
      "Prediction_local [-0.45679854]\n",
      "Right: -0.07369127166190946\n"
     ]
    },
    {
     "name": "stderr",
     "output_type": "stream",
     "text": [
      "\r",
      " 25%|██▌       | 254/1000 [1:05:15<3:10:00, 15.28s/it]"
     ]
    },
    {
     "name": "stdout",
     "output_type": "stream",
     "text": [
      "Intercept -1.5319054806987793\n",
      "Prediction_local [4.67842359]\n",
      "Right: 3.183491928089624\n"
     ]
    },
    {
     "name": "stderr",
     "output_type": "stream",
     "text": [
      "\r",
      " 26%|██▌       | 255/1000 [1:05:30<3:09:44, 15.28s/it]"
     ]
    },
    {
     "name": "stdout",
     "output_type": "stream",
     "text": [
      "Intercept -0.22553567037833597\n",
      "Prediction_local [0.89288793]\n",
      "Right: -0.29253237313906827\n"
     ]
    },
    {
     "name": "stderr",
     "output_type": "stream",
     "text": [
      "\r",
      " 26%|██▌       | 256/1000 [1:05:45<3:09:12, 15.26s/it]"
     ]
    },
    {
     "name": "stdout",
     "output_type": "stream",
     "text": [
      "Intercept 0.49706406206093395\n",
      "Prediction_local [-1.46086045]\n",
      "Right: 1.8125777370317309\n"
     ]
    },
    {
     "name": "stderr",
     "output_type": "stream",
     "text": [
      "\r",
      " 26%|██▌       | 257/1000 [1:06:00<3:08:52, 15.25s/it]"
     ]
    },
    {
     "name": "stdout",
     "output_type": "stream",
     "text": [
      "Intercept 1.698506135999418\n",
      "Prediction_local [-4.74850401]\n",
      "Right: -8.622404414804167\n"
     ]
    },
    {
     "name": "stderr",
     "output_type": "stream",
     "text": [
      "\r",
      " 26%|██▌       | 258/1000 [1:06:16<3:08:50, 15.27s/it]"
     ]
    },
    {
     "name": "stdout",
     "output_type": "stream",
     "text": [
      "Intercept -0.2192142148626163\n",
      "Prediction_local [0.78217822]\n",
      "Right: -0.9680966170721643\n"
     ]
    },
    {
     "name": "stderr",
     "output_type": "stream",
     "text": [
      "\r",
      " 26%|██▌       | 259/1000 [1:06:31<3:08:26, 15.26s/it]"
     ]
    },
    {
     "name": "stdout",
     "output_type": "stream",
     "text": [
      "Intercept 0.751238307252348\n",
      "Prediction_local [-2.43826414]\n",
      "Right: -2.207148467114504\n"
     ]
    },
    {
     "name": "stderr",
     "output_type": "stream",
     "text": [
      "\r",
      " 26%|██▌       | 260/1000 [1:06:46<3:08:18, 15.27s/it]"
     ]
    },
    {
     "name": "stdout",
     "output_type": "stream",
     "text": [
      "Intercept 0.3318787277820395\n",
      "Prediction_local [-0.66938797]\n",
      "Right: 0.6704479681162642\n"
     ]
    },
    {
     "name": "stderr",
     "output_type": "stream",
     "text": [
      "\r",
      " 26%|██▌       | 261/1000 [1:07:01<3:07:26, 15.22s/it]"
     ]
    },
    {
     "name": "stdout",
     "output_type": "stream",
     "text": [
      "Intercept 0.6576566048810281\n",
      "Prediction_local [-1.68131791]\n",
      "Right: 0.733553873000523\n"
     ]
    },
    {
     "name": "stderr",
     "output_type": "stream",
     "text": [
      "\r",
      " 26%|██▌       | 262/1000 [1:07:16<3:06:08, 15.13s/it]"
     ]
    },
    {
     "name": "stdout",
     "output_type": "stream",
     "text": [
      "Intercept 0.8693970826855613\n",
      "Prediction_local [-2.52960094]\n",
      "Right: -0.12138928575920471\n"
     ]
    },
    {
     "name": "stderr",
     "output_type": "stream",
     "text": [
      "\r",
      " 26%|██▋       | 263/1000 [1:07:31<3:05:31, 15.10s/it]"
     ]
    },
    {
     "name": "stdout",
     "output_type": "stream",
     "text": [
      "Intercept -0.10866190288959454\n",
      "Prediction_local [0.48600587]\n",
      "Right: 3.8442929145962594\n"
     ]
    },
    {
     "name": "stderr",
     "output_type": "stream",
     "text": [
      "\r",
      " 26%|██▋       | 264/1000 [1:07:46<3:04:34, 15.05s/it]"
     ]
    },
    {
     "name": "stdout",
     "output_type": "stream",
     "text": [
      "Intercept 1.6840388090359264\n",
      "Prediction_local [-4.69572043]\n",
      "Right: -2.8029342982817074\n"
     ]
    },
    {
     "name": "stderr",
     "output_type": "stream",
     "text": [
      "\r",
      " 26%|██▋       | 265/1000 [1:08:01<3:03:42, 15.00s/it]"
     ]
    },
    {
     "name": "stdout",
     "output_type": "stream",
     "text": [
      "Intercept -1.6065580382080866\n",
      "Prediction_local [5.0852775]\n",
      "Right: 7.567579491459372\n"
     ]
    },
    {
     "name": "stderr",
     "output_type": "stream",
     "text": [
      "\r",
      " 27%|██▋       | 266/1000 [1:08:16<3:03:14, 14.98s/it]"
     ]
    },
    {
     "name": "stdout",
     "output_type": "stream",
     "text": [
      "Intercept 0.6380201104431122\n",
      "Prediction_local [-1.71106872]\n",
      "Right: -3.414878056263879\n"
     ]
    },
    {
     "name": "stderr",
     "output_type": "stream",
     "text": [
      "\r",
      " 27%|██▋       | 267/1000 [1:08:31<3:02:46, 14.96s/it]"
     ]
    },
    {
     "name": "stdout",
     "output_type": "stream",
     "text": [
      "Intercept -0.5045739290088493\n",
      "Prediction_local [1.89390998]\n",
      "Right: 4.653989400577689\n"
     ]
    },
    {
     "name": "stderr",
     "output_type": "stream",
     "text": [
      "\r",
      " 27%|██▋       | 268/1000 [1:08:46<3:02:52, 14.99s/it]"
     ]
    },
    {
     "name": "stdout",
     "output_type": "stream",
     "text": [
      "Intercept -1.474635914732872\n",
      "Prediction_local [4.77777702]\n",
      "Right: 6.6077717872427275\n"
     ]
    },
    {
     "name": "stderr",
     "output_type": "stream",
     "text": [
      "\r",
      " 27%|██▋       | 269/1000 [1:09:01<3:02:19, 14.97s/it]"
     ]
    },
    {
     "name": "stdout",
     "output_type": "stream",
     "text": [
      "Intercept -0.5287895365741149\n",
      "Prediction_local [1.70351618]\n",
      "Right: 2.8109882071711283\n"
     ]
    },
    {
     "name": "stderr",
     "output_type": "stream",
     "text": [
      "\r",
      " 27%|██▋       | 270/1000 [1:09:16<3:01:54, 14.95s/it]"
     ]
    },
    {
     "name": "stdout",
     "output_type": "stream",
     "text": [
      "Intercept 0.7913076537195434\n",
      "Prediction_local [-2.31297539]\n",
      "Right: 0.33091591072407944\n"
     ]
    },
    {
     "name": "stderr",
     "output_type": "stream",
     "text": [
      "\r",
      " 27%|██▋       | 271/1000 [1:09:31<3:01:31, 14.94s/it]"
     ]
    },
    {
     "name": "stdout",
     "output_type": "stream",
     "text": [
      "Intercept 0.5396616628063793\n",
      "Prediction_local [-1.58509063]\n",
      "Right: -3.263909574204125\n"
     ]
    },
    {
     "name": "stderr",
     "output_type": "stream",
     "text": [
      "\r",
      " 27%|██▋       | 272/1000 [1:09:46<3:01:43, 14.98s/it]"
     ]
    },
    {
     "name": "stdout",
     "output_type": "stream",
     "text": [
      "Intercept -0.8785055758053937\n",
      "Prediction_local [2.80811823]\n",
      "Right: 2.8797683333002078\n"
     ]
    },
    {
     "name": "stderr",
     "output_type": "stream",
     "text": [
      "\r",
      " 27%|██▋       | 273/1000 [1:10:01<3:01:27, 14.98s/it]"
     ]
    },
    {
     "name": "stdout",
     "output_type": "stream",
     "text": [
      "Intercept -0.9783580457969279\n",
      "Prediction_local [2.96866339]\n",
      "Right: 6.334448330301756\n"
     ]
    },
    {
     "name": "stderr",
     "output_type": "stream",
     "text": [
      "\r",
      " 27%|██▋       | 274/1000 [1:10:16<3:01:21, 14.99s/it]"
     ]
    },
    {
     "name": "stdout",
     "output_type": "stream",
     "text": [
      "Intercept -0.38085843345583187\n",
      "Prediction_local [1.50266842]\n",
      "Right: 4.265022790493424\n"
     ]
    },
    {
     "name": "stderr",
     "output_type": "stream",
     "text": [
      "\r",
      " 28%|██▊       | 275/1000 [1:10:31<3:01:00, 14.98s/it]"
     ]
    },
    {
     "name": "stdout",
     "output_type": "stream",
     "text": [
      "Intercept 1.650311744470524\n",
      "Prediction_local [-4.89958867]\n",
      "Right: -3.500244378608051\n"
     ]
    },
    {
     "name": "stderr",
     "output_type": "stream",
     "text": [
      "\r",
      " 28%|██▊       | 276/1000 [1:10:46<3:00:33, 14.96s/it]"
     ]
    },
    {
     "name": "stdout",
     "output_type": "stream",
     "text": [
      "Intercept -0.8971247703783757\n",
      "Prediction_local [2.6969135]\n",
      "Right: 3.6189040873178535\n"
     ]
    },
    {
     "name": "stderr",
     "output_type": "stream",
     "text": [
      "\r",
      " 28%|██▊       | 277/1000 [1:11:01<3:01:00, 15.02s/it]"
     ]
    },
    {
     "name": "stdout",
     "output_type": "stream",
     "text": [
      "Intercept -0.48944278356009147\n",
      "Prediction_local [1.64047108]\n",
      "Right: -3.8338758492895826\n"
     ]
    },
    {
     "name": "stderr",
     "output_type": "stream",
     "text": [
      "\r",
      " 28%|██▊       | 278/1000 [1:11:16<3:00:23, 14.99s/it]"
     ]
    },
    {
     "name": "stdout",
     "output_type": "stream",
     "text": [
      "Intercept -0.0675780167723251\n",
      "Prediction_local [0.46348827]\n",
      "Right: -1.134834911179777\n"
     ]
    },
    {
     "name": "stderr",
     "output_type": "stream",
     "text": [
      "\r",
      " 28%|██▊       | 279/1000 [1:11:31<3:00:04, 14.99s/it]"
     ]
    },
    {
     "name": "stdout",
     "output_type": "stream",
     "text": [
      "Intercept -0.11667342199219877\n",
      "Prediction_local [0.46171129]\n",
      "Right: 4.502334440942745\n"
     ]
    },
    {
     "name": "stderr",
     "output_type": "stream",
     "text": [
      "\r",
      " 28%|██▊       | 280/1000 [1:11:46<3:00:13, 15.02s/it]"
     ]
    },
    {
     "name": "stdout",
     "output_type": "stream",
     "text": [
      "Intercept 1.032126849511782\n",
      "Prediction_local [-2.60940842]\n",
      "Right: -0.4910574852826617\n"
     ]
    },
    {
     "name": "stderr",
     "output_type": "stream",
     "text": [
      "\r",
      " 28%|██▊       | 281/1000 [1:12:01<2:59:51, 15.01s/it]"
     ]
    },
    {
     "name": "stdout",
     "output_type": "stream",
     "text": [
      "Intercept 0.8924237894962103\n",
      "Prediction_local [-2.61605305]\n",
      "Right: -3.4550153588400563\n"
     ]
    },
    {
     "name": "stderr",
     "output_type": "stream",
     "text": [
      "\r",
      " 28%|██▊       | 282/1000 [1:12:16<2:59:50, 15.03s/it]"
     ]
    },
    {
     "name": "stdout",
     "output_type": "stream",
     "text": [
      "Intercept -1.148639267908413\n",
      "Prediction_local [3.51855079]\n",
      "Right: 2.497119579277233\n"
     ]
    },
    {
     "name": "stderr",
     "output_type": "stream",
     "text": [
      "\r",
      " 28%|██▊       | 283/1000 [1:12:31<2:58:55, 14.97s/it]"
     ]
    },
    {
     "name": "stdout",
     "output_type": "stream",
     "text": [
      "Intercept -0.5822223011099831\n",
      "Prediction_local [1.76385584]\n",
      "Right: -3.2981134383337314\n"
     ]
    },
    {
     "name": "stderr",
     "output_type": "stream",
     "text": [
      "\r",
      " 28%|██▊       | 284/1000 [1:12:46<2:58:36, 14.97s/it]"
     ]
    },
    {
     "name": "stdout",
     "output_type": "stream",
     "text": [
      "Intercept -0.5246315370882471\n",
      "Prediction_local [1.61191365]\n",
      "Right: 7.221004042340273\n"
     ]
    },
    {
     "name": "stderr",
     "output_type": "stream",
     "text": [
      "\r",
      " 28%|██▊       | 285/1000 [1:13:00<2:58:03, 14.94s/it]"
     ]
    },
    {
     "name": "stdout",
     "output_type": "stream",
     "text": [
      "Intercept 1.5876866575899506\n",
      "Prediction_local [-4.77251673]\n",
      "Right: -5.7827585036715865\n"
     ]
    },
    {
     "name": "stderr",
     "output_type": "stream",
     "text": [
      "\r",
      " 29%|██▊       | 286/1000 [1:13:15<2:57:39, 14.93s/it]"
     ]
    },
    {
     "name": "stdout",
     "output_type": "stream",
     "text": [
      "Intercept -0.07026018098688987\n",
      "Prediction_local [0.6257644]\n",
      "Right: -0.9650898828318961\n"
     ]
    },
    {
     "name": "stderr",
     "output_type": "stream",
     "text": [
      "\r",
      " 29%|██▊       | 287/1000 [1:13:30<2:57:32, 14.94s/it]"
     ]
    },
    {
     "name": "stdout",
     "output_type": "stream",
     "text": [
      "Intercept -0.5334638007469852\n",
      "Prediction_local [1.70467569]\n",
      "Right: 2.517856801018125\n"
     ]
    },
    {
     "name": "stderr",
     "output_type": "stream",
     "text": [
      "\r",
      " 29%|██▉       | 288/1000 [1:13:45<2:57:29, 14.96s/it]"
     ]
    },
    {
     "name": "stdout",
     "output_type": "stream",
     "text": [
      "Intercept 0.08301100438839129\n",
      "Prediction_local [0.16075885]\n",
      "Right: -2.3311336820500848\n"
     ]
    },
    {
     "name": "stderr",
     "output_type": "stream",
     "text": [
      "\r",
      " 29%|██▉       | 289/1000 [1:14:00<2:57:18, 14.96s/it]"
     ]
    },
    {
     "name": "stdout",
     "output_type": "stream",
     "text": [
      "Intercept -0.4726373426292727\n",
      "Prediction_local [1.47520408]\n",
      "Right: 2.5882720397307697\n"
     ]
    },
    {
     "name": "stderr",
     "output_type": "stream",
     "text": [
      "\r",
      " 29%|██▉       | 290/1000 [1:14:15<2:56:52, 14.95s/it]"
     ]
    },
    {
     "name": "stdout",
     "output_type": "stream",
     "text": [
      "Intercept 0.024650591691328452\n",
      "Prediction_local [0.21892525]\n",
      "Right: 2.8803874535476934\n"
     ]
    },
    {
     "name": "stderr",
     "output_type": "stream",
     "text": [
      "\r",
      " 29%|██▉       | 291/1000 [1:14:30<2:56:29, 14.94s/it]"
     ]
    },
    {
     "name": "stdout",
     "output_type": "stream",
     "text": [
      "Intercept 1.5873181137154067\n",
      "Prediction_local [-4.78863307]\n",
      "Right: -2.999269941263523\n"
     ]
    },
    {
     "name": "stderr",
     "output_type": "stream",
     "text": [
      "\r",
      " 29%|██▉       | 292/1000 [1:14:45<2:56:11, 14.93s/it]"
     ]
    },
    {
     "name": "stdout",
     "output_type": "stream",
     "text": [
      "Intercept 1.009975516312594\n",
      "Prediction_local [-2.4816672]\n",
      "Right: -1.7754080471913223\n"
     ]
    },
    {
     "name": "stderr",
     "output_type": "stream",
     "text": [
      "\r",
      " 29%|██▉       | 293/1000 [1:15:00<2:56:01, 14.94s/it]"
     ]
    },
    {
     "name": "stdout",
     "output_type": "stream",
     "text": [
      "Intercept -0.457784813228008\n",
      "Prediction_local [1.68226083]\n",
      "Right: 7.138942786852323\n"
     ]
    },
    {
     "name": "stderr",
     "output_type": "stream",
     "text": [
      "\r",
      " 29%|██▉       | 294/1000 [1:15:15<2:56:37, 15.01s/it]"
     ]
    },
    {
     "name": "stdout",
     "output_type": "stream",
     "text": [
      "Intercept -0.4625408200543605\n",
      "Prediction_local [1.6283124]\n",
      "Right: 5.582031543124126\n"
     ]
    },
    {
     "name": "stderr",
     "output_type": "stream",
     "text": [
      "\r",
      " 30%|██▉       | 295/1000 [1:15:30<2:56:11, 15.00s/it]"
     ]
    },
    {
     "name": "stdout",
     "output_type": "stream",
     "text": [
      "Intercept -0.8015242979565689\n",
      "Prediction_local [2.4959992]\n",
      "Right: 3.3993886493864913\n"
     ]
    },
    {
     "name": "stderr",
     "output_type": "stream",
     "text": [
      "\r",
      " 30%|██▉       | 296/1000 [1:15:45<2:55:52, 14.99s/it]"
     ]
    },
    {
     "name": "stdout",
     "output_type": "stream",
     "text": [
      "Intercept -1.1483866654106771\n",
      "Prediction_local [3.8029987]\n",
      "Right: 3.9790471282621143\n"
     ]
    },
    {
     "name": "stderr",
     "output_type": "stream",
     "text": [
      "\r",
      " 30%|██▉       | 297/1000 [1:16:00<2:55:05, 14.94s/it]"
     ]
    },
    {
     "name": "stdout",
     "output_type": "stream",
     "text": [
      "Intercept -0.07277368798434299\n",
      "Prediction_local [0.56515225]\n",
      "Right: 3.1585797660184958\n"
     ]
    },
    {
     "name": "stderr",
     "output_type": "stream",
     "text": [
      "\r",
      " 30%|██▉       | 298/1000 [1:16:15<2:55:19, 14.99s/it]"
     ]
    },
    {
     "name": "stdout",
     "output_type": "stream",
     "text": [
      "Intercept -1.5667187374370641\n",
      "Prediction_local [5.01679548]\n",
      "Right: 5.012284254798306\n"
     ]
    },
    {
     "name": "stderr",
     "output_type": "stream",
     "text": [
      "\r",
      " 30%|██▉       | 299/1000 [1:16:30<2:54:37, 14.95s/it]"
     ]
    },
    {
     "name": "stdout",
     "output_type": "stream",
     "text": [
      "Intercept 0.3935012063069958\n",
      "Prediction_local [-0.85772666]\n",
      "Right: 1.4271536942408891\n"
     ]
    },
    {
     "name": "stderr",
     "output_type": "stream",
     "text": [
      "\r",
      " 30%|███       | 300/1000 [1:16:45<2:54:37, 14.97s/it]"
     ]
    },
    {
     "name": "stdout",
     "output_type": "stream",
     "text": [
      "Intercept -0.8195201176958811\n",
      "Prediction_local [2.63294985]\n",
      "Right: 2.1771087536564044\n"
     ]
    },
    {
     "name": "stderr",
     "output_type": "stream",
     "text": [
      "\r",
      " 30%|███       | 301/1000 [1:17:00<2:54:30, 14.98s/it]"
     ]
    },
    {
     "name": "stdout",
     "output_type": "stream",
     "text": [
      "Intercept -1.4930481548789538\n",
      "Prediction_local [4.83703757]\n",
      "Right: 2.2729525611326453\n"
     ]
    },
    {
     "name": "stderr",
     "output_type": "stream",
     "text": [
      "\r",
      " 30%|███       | 302/1000 [1:17:15<2:54:11, 14.97s/it]"
     ]
    },
    {
     "name": "stdout",
     "output_type": "stream",
     "text": [
      "Intercept 0.6062823268902516\n",
      "Prediction_local [-1.62566872]\n",
      "Right: 0.3386543448924776\n"
     ]
    },
    {
     "name": "stderr",
     "output_type": "stream",
     "text": [
      "\r",
      " 30%|███       | 303/1000 [1:17:30<2:53:54, 14.97s/it]"
     ]
    },
    {
     "name": "stdout",
     "output_type": "stream",
     "text": [
      "Intercept 0.27276080586981816\n",
      "Prediction_local [-0.43944485]\n",
      "Right: 2.3458911692342443\n"
     ]
    },
    {
     "name": "stderr",
     "output_type": "stream",
     "text": [
      "\r",
      " 30%|███       | 304/1000 [1:17:45<2:53:33, 14.96s/it]"
     ]
    },
    {
     "name": "stdout",
     "output_type": "stream",
     "text": [
      "Intercept 0.6043795101689767\n",
      "Prediction_local [-1.5423663]\n",
      "Right: -5.227431540673277\n"
     ]
    },
    {
     "name": "stderr",
     "output_type": "stream",
     "text": [
      "\r",
      " 30%|███       | 305/1000 [1:18:00<2:53:30, 14.98s/it]"
     ]
    },
    {
     "name": "stdout",
     "output_type": "stream",
     "text": [
      "Intercept -0.44925053396933184\n",
      "Prediction_local [1.61670594]\n",
      "Right: 2.0433342971637\n"
     ]
    },
    {
     "name": "stderr",
     "output_type": "stream",
     "text": [
      "\r",
      " 31%|███       | 306/1000 [1:18:15<2:54:50, 15.12s/it]"
     ]
    },
    {
     "name": "stdout",
     "output_type": "stream",
     "text": [
      "Intercept 0.2174678239069897\n",
      "Prediction_local [-0.44974397]\n",
      "Right: 2.9950280980124697\n"
     ]
    },
    {
     "name": "stderr",
     "output_type": "stream",
     "text": [
      "\r",
      " 31%|███       | 307/1000 [1:18:31<2:55:37, 15.21s/it]"
     ]
    },
    {
     "name": "stdout",
     "output_type": "stream",
     "text": [
      "Intercept -1.6354721314839287\n",
      "Prediction_local [4.99652314]\n",
      "Right: 9.86654737940648\n"
     ]
    },
    {
     "name": "stderr",
     "output_type": "stream",
     "text": [
      "\r",
      " 31%|███       | 308/1000 [1:18:46<2:56:21, 15.29s/it]"
     ]
    },
    {
     "name": "stdout",
     "output_type": "stream",
     "text": [
      "Intercept -1.1991706651514689\n",
      "Prediction_local [3.61448797]\n",
      "Right: 2.9207486386675456\n"
     ]
    },
    {
     "name": "stderr",
     "output_type": "stream",
     "text": [
      "\r",
      " 31%|███       | 309/1000 [1:19:02<2:57:11, 15.39s/it]"
     ]
    },
    {
     "name": "stdout",
     "output_type": "stream",
     "text": [
      "Intercept 0.11052246188024673\n",
      "Prediction_local [-0.17196275]\n",
      "Right: -1.796796849538076\n"
     ]
    },
    {
     "name": "stderr",
     "output_type": "stream",
     "text": [
      "\r",
      " 31%|███       | 310/1000 [1:19:17<2:57:13, 15.41s/it]"
     ]
    },
    {
     "name": "stdout",
     "output_type": "stream",
     "text": [
      "Intercept -0.9210753585632383\n",
      "Prediction_local [2.6813434]\n",
      "Right: 2.958974362548086\n"
     ]
    },
    {
     "name": "stderr",
     "output_type": "stream",
     "text": [
      "\r",
      " 31%|███       | 311/1000 [1:19:33<2:57:05, 15.42s/it]"
     ]
    },
    {
     "name": "stdout",
     "output_type": "stream",
     "text": [
      "Intercept -0.410846507669259\n",
      "Prediction_local [1.62697308]\n",
      "Right: -1.4138144969599937\n"
     ]
    },
    {
     "name": "stderr",
     "output_type": "stream",
     "text": [
      "\r",
      " 31%|███       | 312/1000 [1:19:48<2:56:30, 15.39s/it]"
     ]
    },
    {
     "name": "stdout",
     "output_type": "stream",
     "text": [
      "Intercept -1.131310477265795\n",
      "Prediction_local [3.87210431]\n",
      "Right: 3.489475297643833\n"
     ]
    },
    {
     "name": "stderr",
     "output_type": "stream",
     "text": [
      "\r",
      " 31%|███▏      | 313/1000 [1:20:03<2:56:30, 15.42s/it]"
     ]
    },
    {
     "name": "stdout",
     "output_type": "stream",
     "text": [
      "Intercept -1.6279950206309675\n",
      "Prediction_local [4.78744809]\n",
      "Right: 3.964454318129755\n"
     ]
    },
    {
     "name": "stderr",
     "output_type": "stream",
     "text": [
      "\r",
      " 31%|███▏      | 314/1000 [1:20:19<2:56:03, 15.40s/it]"
     ]
    },
    {
     "name": "stdout",
     "output_type": "stream",
     "text": [
      "Intercept 1.6721029349940657\n",
      "Prediction_local [-4.65385929]\n",
      "Right: -1.3005974172987913\n"
     ]
    },
    {
     "name": "stderr",
     "output_type": "stream",
     "text": [
      "\r",
      " 32%|███▏      | 315/1000 [1:20:35<2:57:12, 15.52s/it]"
     ]
    },
    {
     "name": "stdout",
     "output_type": "stream",
     "text": [
      "Intercept -1.5645500273387425\n",
      "Prediction_local [4.56174711]\n",
      "Right: 1.5863676143212946\n"
     ]
    },
    {
     "name": "stderr",
     "output_type": "stream",
     "text": [
      "\r",
      " 32%|███▏      | 316/1000 [1:20:50<2:57:46, 15.59s/it]"
     ]
    },
    {
     "name": "stdout",
     "output_type": "stream",
     "text": [
      "Intercept -0.08369830400765145\n",
      "Prediction_local [0.5006091]\n",
      "Right: -0.8314425839052728\n"
     ]
    },
    {
     "name": "stderr",
     "output_type": "stream",
     "text": [
      "\r",
      " 32%|███▏      | 317/1000 [1:21:06<2:58:20, 15.67s/it]"
     ]
    },
    {
     "name": "stdout",
     "output_type": "stream",
     "text": [
      "Intercept -0.9581581892709468\n",
      "Prediction_local [2.97256053]\n",
      "Right: 1.884383743739452\n"
     ]
    },
    {
     "name": "stderr",
     "output_type": "stream",
     "text": [
      "\r",
      " 32%|███▏      | 318/1000 [1:21:22<2:57:33, 15.62s/it]"
     ]
    },
    {
     "name": "stdout",
     "output_type": "stream",
     "text": [
      "Intercept 1.121210194459264\n",
      "Prediction_local [-2.94145706]\n",
      "Right: -1.123227298887734\n"
     ]
    },
    {
     "name": "stderr",
     "output_type": "stream",
     "text": [
      "\r",
      " 32%|███▏      | 319/1000 [1:21:37<2:57:02, 15.60s/it]"
     ]
    },
    {
     "name": "stdout",
     "output_type": "stream",
     "text": [
      "Intercept -0.5236283852843988\n",
      "Prediction_local [1.80384296]\n",
      "Right: -5.0973541881686675\n"
     ]
    },
    {
     "name": "stderr",
     "output_type": "stream",
     "text": [
      "\r",
      " 32%|███▏      | 320/1000 [1:21:53<2:56:31, 15.58s/it]"
     ]
    },
    {
     "name": "stdout",
     "output_type": "stream",
     "text": [
      "Intercept 0.5806840397535877\n",
      "Prediction_local [-1.58966754]\n",
      "Right: 0.2476329840002384\n"
     ]
    },
    {
     "name": "stderr",
     "output_type": "stream",
     "text": [
      "\r",
      " 32%|███▏      | 321/1000 [1:22:08<2:55:54, 15.54s/it]"
     ]
    },
    {
     "name": "stdout",
     "output_type": "stream",
     "text": [
      "Intercept -1.6028619318037236\n",
      "Prediction_local [4.93194552]\n",
      "Right: 4.314200233084991\n"
     ]
    },
    {
     "name": "stderr",
     "output_type": "stream",
     "text": [
      "\r",
      " 32%|███▏      | 322/1000 [1:22:24<2:55:30, 15.53s/it]"
     ]
    },
    {
     "name": "stdout",
     "output_type": "stream",
     "text": [
      "Intercept 0.522268104125876\n",
      "Prediction_local [-1.37971992]\n",
      "Right: -0.667036140892876\n"
     ]
    },
    {
     "name": "stderr",
     "output_type": "stream",
     "text": [
      "\r",
      " 32%|███▏      | 323/1000 [1:22:39<2:54:49, 15.49s/it]"
     ]
    },
    {
     "name": "stdout",
     "output_type": "stream",
     "text": [
      "Intercept 0.14415928061267902\n",
      "Prediction_local [-0.41470041]\n",
      "Right: -0.4111921403782216\n"
     ]
    },
    {
     "name": "stderr",
     "output_type": "stream",
     "text": [
      "\r",
      " 32%|███▏      | 324/1000 [1:22:55<2:54:45, 15.51s/it]"
     ]
    },
    {
     "name": "stdout",
     "output_type": "stream",
     "text": [
      "Intercept 1.6337965456823702\n",
      "Prediction_local [-4.72473752]\n",
      "Right: -6.2612575678891185\n"
     ]
    },
    {
     "name": "stderr",
     "output_type": "stream",
     "text": [
      "\r",
      " 32%|███▎      | 325/1000 [1:23:10<2:54:34, 15.52s/it]"
     ]
    },
    {
     "name": "stdout",
     "output_type": "stream",
     "text": [
      "Intercept -0.9007631699911901\n",
      "Prediction_local [2.93910566]\n",
      "Right: -2.2015522170638313\n"
     ]
    },
    {
     "name": "stderr",
     "output_type": "stream",
     "text": [
      "\r",
      " 33%|███▎      | 326/1000 [1:23:26<2:54:00, 15.49s/it]"
     ]
    },
    {
     "name": "stdout",
     "output_type": "stream",
     "text": [
      "Intercept 0.6444906748258987\n",
      "Prediction_local [-1.6601567]\n",
      "Right: -0.8227363540329644\n"
     ]
    },
    {
     "name": "stderr",
     "output_type": "stream",
     "text": [
      "\r",
      " 33%|███▎      | 327/1000 [1:23:41<2:53:45, 15.49s/it]"
     ]
    },
    {
     "name": "stdout",
     "output_type": "stream",
     "text": [
      "Intercept -0.8037537956479729\n",
      "Prediction_local [2.39616853]\n",
      "Right: 4.810735578205313\n"
     ]
    },
    {
     "name": "stderr",
     "output_type": "stream",
     "text": [
      "\r",
      " 33%|███▎      | 328/1000 [1:23:57<2:53:39, 15.50s/it]"
     ]
    },
    {
     "name": "stdout",
     "output_type": "stream",
     "text": [
      "Intercept 0.28518592395483583\n",
      "Prediction_local [-0.61293542]\n",
      "Right: -3.7185736044781357\n"
     ]
    },
    {
     "name": "stderr",
     "output_type": "stream",
     "text": [
      "\r",
      " 33%|███▎      | 329/1000 [1:24:12<2:53:49, 15.54s/it]"
     ]
    },
    {
     "name": "stdout",
     "output_type": "stream",
     "text": [
      "Intercept -0.03876211520887349\n",
      "Prediction_local [0.71410351]\n",
      "Right: 0.8768902737355795\n"
     ]
    },
    {
     "name": "stderr",
     "output_type": "stream",
     "text": [
      "\r",
      " 33%|███▎      | 330/1000 [1:24:28<2:53:24, 15.53s/it]"
     ]
    },
    {
     "name": "stdout",
     "output_type": "stream",
     "text": [
      "Intercept -0.4750893447723664\n",
      "Prediction_local [1.6669391]\n",
      "Right: -2.2457844794236976\n"
     ]
    },
    {
     "name": "stderr",
     "output_type": "stream",
     "text": [
      "\r",
      " 33%|███▎      | 331/1000 [1:24:43<2:52:46, 15.50s/it]"
     ]
    },
    {
     "name": "stdout",
     "output_type": "stream",
     "text": [
      "Intercept 1.755043075454277\n",
      "Prediction_local [-4.96814452]\n",
      "Right: -6.423598821359886\n"
     ]
    },
    {
     "name": "stderr",
     "output_type": "stream",
     "text": [
      "\r",
      " 33%|███▎      | 332/1000 [1:24:59<2:52:28, 15.49s/it]"
     ]
    },
    {
     "name": "stdout",
     "output_type": "stream",
     "text": [
      "Intercept 0.6086550810312922\n",
      "Prediction_local [-1.77900268]\n",
      "Right: -3.5850130956618833\n"
     ]
    },
    {
     "name": "stderr",
     "output_type": "stream",
     "text": [
      "\r",
      " 33%|███▎      | 333/1000 [1:25:14<2:52:01, 15.47s/it]"
     ]
    },
    {
     "name": "stdout",
     "output_type": "stream",
     "text": [
      "Intercept 0.254168069630355\n",
      "Prediction_local [-0.75868967]\n",
      "Right: 1.559406708824667\n"
     ]
    },
    {
     "name": "stderr",
     "output_type": "stream",
     "text": [
      "\r",
      " 33%|███▎      | 334/1000 [1:25:29<2:50:59, 15.40s/it]"
     ]
    },
    {
     "name": "stdout",
     "output_type": "stream",
     "text": [
      "Intercept 0.47627314473571397\n",
      "Prediction_local [-1.20598799]\n",
      "Right: -1.7656452268302938\n"
     ]
    },
    {
     "name": "stderr",
     "output_type": "stream",
     "text": [
      "\r",
      " 34%|███▎      | 335/1000 [1:25:45<2:50:43, 15.40s/it]"
     ]
    },
    {
     "name": "stdout",
     "output_type": "stream",
     "text": [
      "Intercept -0.7222243205632117\n",
      "Prediction_local [2.53944131]\n",
      "Right: 2.7079011303704523\n"
     ]
    },
    {
     "name": "stderr",
     "output_type": "stream",
     "text": [
      "\r",
      " 34%|███▎      | 336/1000 [1:26:00<2:50:45, 15.43s/it]"
     ]
    },
    {
     "name": "stdout",
     "output_type": "stream",
     "text": [
      "Intercept 1.6723053356635411\n",
      "Prediction_local [-4.91331842]\n",
      "Right: -8.062888743237249\n"
     ]
    },
    {
     "name": "stderr",
     "output_type": "stream",
     "text": [
      "\r",
      " 34%|███▎      | 337/1000 [1:26:16<2:50:52, 15.46s/it]"
     ]
    },
    {
     "name": "stdout",
     "output_type": "stream",
     "text": [
      "Intercept 0.275363488280434\n",
      "Prediction_local [-0.71972942]\n",
      "Right: 0.5759608905340726\n"
     ]
    },
    {
     "name": "stderr",
     "output_type": "stream",
     "text": [
      "\r",
      " 34%|███▍      | 338/1000 [1:26:31<2:50:48, 15.48s/it]"
     ]
    },
    {
     "name": "stdout",
     "output_type": "stream",
     "text": [
      "Intercept 0.1283155632566335\n",
      "Prediction_local [-0.19142883]\n",
      "Right: -0.566245435507498\n"
     ]
    },
    {
     "name": "stderr",
     "output_type": "stream",
     "text": [
      "\r",
      " 34%|███▍      | 339/1000 [1:26:47<2:50:53, 15.51s/it]"
     ]
    },
    {
     "name": "stdout",
     "output_type": "stream",
     "text": [
      "Intercept -0.05258173020716275\n",
      "Prediction_local [0.50200688]\n",
      "Right: 4.684074637704631\n"
     ]
    },
    {
     "name": "stderr",
     "output_type": "stream",
     "text": [
      "\r",
      " 34%|███▍      | 340/1000 [1:27:02<2:50:27, 15.50s/it]"
     ]
    },
    {
     "name": "stdout",
     "output_type": "stream",
     "text": [
      "Intercept -1.1142768721947867\n",
      "Prediction_local [3.42830001]\n",
      "Right: 4.301209176400817\n"
     ]
    },
    {
     "name": "stderr",
     "output_type": "stream",
     "text": [
      "\r",
      " 34%|███▍      | 341/1000 [1:27:18<2:50:17, 15.50s/it]"
     ]
    },
    {
     "name": "stdout",
     "output_type": "stream",
     "text": [
      "Intercept 0.025719725501621202\n",
      "Prediction_local [0.39668364]\n",
      "Right: 2.0966237695258285\n"
     ]
    },
    {
     "name": "stderr",
     "output_type": "stream",
     "text": [
      "\r",
      " 34%|███▍      | 342/1000 [1:27:33<2:49:59, 15.50s/it]"
     ]
    },
    {
     "name": "stdout",
     "output_type": "stream",
     "text": [
      "Intercept 1.0512555763607188\n",
      "Prediction_local [-2.96394984]\n",
      "Right: -4.422563932772554\n"
     ]
    },
    {
     "name": "stderr",
     "output_type": "stream",
     "text": [
      "\r",
      " 34%|███▍      | 343/1000 [1:27:49<2:49:35, 15.49s/it]"
     ]
    },
    {
     "name": "stdout",
     "output_type": "stream",
     "text": [
      "Intercept 0.5903339200170575\n",
      "Prediction_local [-1.70071859]\n",
      "Right: -3.2844236496531254\n"
     ]
    },
    {
     "name": "stderr",
     "output_type": "stream",
     "text": [
      "\r",
      " 34%|███▍      | 344/1000 [1:28:04<2:49:37, 15.51s/it]"
     ]
    },
    {
     "name": "stdout",
     "output_type": "stream",
     "text": [
      "Intercept -0.4215818376353365\n",
      "Prediction_local [1.63899337]\n",
      "Right: 0.514428280084896\n"
     ]
    },
    {
     "name": "stderr",
     "output_type": "stream",
     "text": [
      "\r",
      " 34%|███▍      | 345/1000 [1:28:20<2:48:49, 15.46s/it]"
     ]
    },
    {
     "name": "stdout",
     "output_type": "stream",
     "text": [
      "Intercept 1.6267920927196466\n",
      "Prediction_local [-4.66983364]\n",
      "Right: -3.176480387257769\n"
     ]
    },
    {
     "name": "stderr",
     "output_type": "stream",
     "text": [
      "\r",
      " 35%|███▍      | 346/1000 [1:28:35<2:48:26, 15.45s/it]"
     ]
    },
    {
     "name": "stdout",
     "output_type": "stream",
     "text": [
      "Intercept -1.4793514044544092\n",
      "Prediction_local [4.80020884]\n",
      "Right: 3.934658940988341\n"
     ]
    },
    {
     "name": "stderr",
     "output_type": "stream",
     "text": [
      "\r",
      " 35%|███▍      | 347/1000 [1:28:51<2:47:58, 15.43s/it]"
     ]
    },
    {
     "name": "stdout",
     "output_type": "stream",
     "text": [
      "Intercept 0.5892716284434365\n",
      "Prediction_local [-1.59859117]\n",
      "Right: -2.830785038844092\n"
     ]
    },
    {
     "name": "stderr",
     "output_type": "stream",
     "text": [
      "\r",
      " 35%|███▍      | 348/1000 [1:29:06<2:47:43, 15.44s/it]"
     ]
    },
    {
     "name": "stdout",
     "output_type": "stream",
     "text": [
      "Intercept 1.6377086877939893\n",
      "Prediction_local [-4.77492253]\n",
      "Right: -7.080395663753173\n"
     ]
    },
    {
     "name": "stderr",
     "output_type": "stream",
     "text": [
      "\r",
      " 35%|███▍      | 349/1000 [1:29:22<2:47:37, 15.45s/it]"
     ]
    },
    {
     "name": "stdout",
     "output_type": "stream",
     "text": [
      "Intercept 0.5316058992423646\n",
      "Prediction_local [-1.10881708]\n",
      "Right: -1.5279501416922614\n"
     ]
    },
    {
     "name": "stderr",
     "output_type": "stream",
     "text": [
      "\r",
      " 35%|███▌      | 350/1000 [1:29:37<2:47:52, 15.50s/it]"
     ]
    },
    {
     "name": "stdout",
     "output_type": "stream",
     "text": [
      "Intercept -1.5228547481355514\n",
      "Prediction_local [4.80746623]\n",
      "Right: 2.734231995298691\n"
     ]
    },
    {
     "name": "stderr",
     "output_type": "stream",
     "text": [
      "\r",
      " 35%|███▌      | 351/1000 [1:29:53<2:47:56, 15.53s/it]"
     ]
    },
    {
     "name": "stdout",
     "output_type": "stream",
     "text": [
      "Intercept 0.483322133426027\n",
      "Prediction_local [-1.64999317]\n",
      "Right: -0.2920004189029285\n"
     ]
    },
    {
     "name": "stderr",
     "output_type": "stream",
     "text": [
      "\r",
      " 35%|███▌      | 352/1000 [1:30:08<2:47:46, 15.53s/it]"
     ]
    },
    {
     "name": "stdout",
     "output_type": "stream",
     "text": [
      "Intercept 0.22938043148656379\n",
      "Prediction_local [-0.48917077]\n",
      "Right: -1.1889353610141111\n"
     ]
    },
    {
     "name": "stderr",
     "output_type": "stream",
     "text": [
      "\r",
      " 35%|███▌      | 353/1000 [1:30:24<2:47:09, 15.50s/it]"
     ]
    },
    {
     "name": "stdout",
     "output_type": "stream",
     "text": [
      "Intercept 0.5432388098005948\n",
      "Prediction_local [-1.55100779]\n",
      "Right: -3.0043701434140373\n"
     ]
    },
    {
     "name": "stderr",
     "output_type": "stream",
     "text": [
      "\r",
      " 35%|███▌      | 354/1000 [1:30:39<2:47:05, 15.52s/it]"
     ]
    },
    {
     "name": "stdout",
     "output_type": "stream",
     "text": [
      "Intercept -0.4422854230842431\n",
      "Prediction_local [1.89201448]\n",
      "Right: 2.6783914826319966\n"
     ]
    },
    {
     "name": "stderr",
     "output_type": "stream",
     "text": [
      "\r",
      " 36%|███▌      | 355/1000 [1:30:55<2:46:42, 15.51s/it]"
     ]
    },
    {
     "name": "stdout",
     "output_type": "stream",
     "text": [
      "Intercept 0.2552663491052878\n",
      "Prediction_local [-0.81542225]\n",
      "Right: -0.5127111810915804\n"
     ]
    },
    {
     "name": "stderr",
     "output_type": "stream",
     "text": [
      "\r",
      " 36%|███▌      | 356/1000 [1:31:10<2:46:27, 15.51s/it]"
     ]
    },
    {
     "name": "stdout",
     "output_type": "stream",
     "text": [
      "Intercept -0.03706627991140838\n",
      "Prediction_local [0.32992171]\n",
      "Right: -1.0270471537183936\n"
     ]
    },
    {
     "name": "stderr",
     "output_type": "stream",
     "text": [
      "\r",
      " 36%|███▌      | 357/1000 [1:31:25<2:44:34, 15.36s/it]"
     ]
    },
    {
     "name": "stdout",
     "output_type": "stream",
     "text": [
      "Intercept -0.5064911566182982\n",
      "Prediction_local [1.66566534]\n",
      "Right: 1.3115335890493793\n"
     ]
    },
    {
     "name": "stderr",
     "output_type": "stream",
     "text": [
      "\r",
      " 36%|███▌      | 358/1000 [1:31:40<2:43:01, 15.24s/it]"
     ]
    },
    {
     "name": "stdout",
     "output_type": "stream",
     "text": [
      "Intercept 0.26443543861012386\n",
      "Prediction_local [-0.60231728]\n",
      "Right: -3.119547883467118\n"
     ]
    },
    {
     "name": "stderr",
     "output_type": "stream",
     "text": [
      "\r",
      " 36%|███▌      | 359/1000 [1:31:55<2:41:45, 15.14s/it]"
     ]
    },
    {
     "name": "stdout",
     "output_type": "stream",
     "text": [
      "Intercept -0.42827494565283153\n",
      "Prediction_local [1.53879362]\n",
      "Right: -1.8287627753739641\n"
     ]
    },
    {
     "name": "stderr",
     "output_type": "stream",
     "text": [
      "\r",
      " 36%|███▌      | 360/1000 [1:32:10<2:40:41, 15.06s/it]"
     ]
    },
    {
     "name": "stdout",
     "output_type": "stream",
     "text": [
      "Intercept -1.6233416524558761\n",
      "Prediction_local [4.95788218]\n",
      "Right: 1.9242215682371953\n"
     ]
    },
    {
     "name": "stderr",
     "output_type": "stream",
     "text": [
      "\r",
      " 36%|███▌      | 361/1000 [1:32:25<2:39:56, 15.02s/it]"
     ]
    },
    {
     "name": "stdout",
     "output_type": "stream",
     "text": [
      "Intercept -1.543115639318406\n",
      "Prediction_local [4.78931042]\n",
      "Right: 2.938934234886816\n"
     ]
    },
    {
     "name": "stderr",
     "output_type": "stream",
     "text": [
      "\r",
      " 36%|███▌      | 362/1000 [1:32:40<2:39:27, 15.00s/it]"
     ]
    },
    {
     "name": "stdout",
     "output_type": "stream",
     "text": [
      "Intercept 0.9594029502892691\n",
      "Prediction_local [-2.70788179]\n",
      "Right: -4.743910908712746\n"
     ]
    },
    {
     "name": "stderr",
     "output_type": "stream",
     "text": [
      "\r",
      " 36%|███▋      | 363/1000 [1:32:55<2:39:28, 15.02s/it]"
     ]
    },
    {
     "name": "stdout",
     "output_type": "stream",
     "text": [
      "Intercept -0.463672430398974\n",
      "Prediction_local [1.73562573]\n",
      "Right: 2.9345497842151196\n"
     ]
    },
    {
     "name": "stderr",
     "output_type": "stream",
     "text": [
      "\r",
      " 36%|███▋      | 364/1000 [1:33:10<2:39:02, 15.00s/it]"
     ]
    },
    {
     "name": "stdout",
     "output_type": "stream",
     "text": [
      "Intercept -0.15739835312042505\n",
      "Prediction_local [0.5153737]\n",
      "Right: -1.2147071754994938\n"
     ]
    },
    {
     "name": "stderr",
     "output_type": "stream",
     "text": [
      "\r",
      " 36%|███▋      | 365/1000 [1:33:25<2:39:02, 15.03s/it]"
     ]
    },
    {
     "name": "stdout",
     "output_type": "stream",
     "text": [
      "Intercept -0.8460774605403174\n",
      "Prediction_local [2.85091318]\n",
      "Right: 2.980985720689296\n"
     ]
    },
    {
     "name": "stderr",
     "output_type": "stream",
     "text": [
      "\r",
      " 37%|███▋      | 366/1000 [1:33:40<2:38:27, 15.00s/it]"
     ]
    },
    {
     "name": "stdout",
     "output_type": "stream",
     "text": [
      "Intercept -0.7714603601465148\n",
      "Prediction_local [2.37961881]\n",
      "Right: 6.972791315443828\n"
     ]
    },
    {
     "name": "stderr",
     "output_type": "stream",
     "text": [
      "\r",
      " 37%|███▋      | 367/1000 [1:33:55<2:37:50, 14.96s/it]"
     ]
    },
    {
     "name": "stdout",
     "output_type": "stream",
     "text": [
      "Intercept 0.8238030530274625\n",
      "Prediction_local [-2.67830327]\n",
      "Right: -1.9485330675254204\n"
     ]
    },
    {
     "name": "stderr",
     "output_type": "stream",
     "text": [
      "\r",
      " 37%|███▋      | 368/1000 [1:34:10<2:37:26, 14.95s/it]"
     ]
    },
    {
     "name": "stdout",
     "output_type": "stream",
     "text": [
      "Intercept -0.14539084739870212\n",
      "Prediction_local [0.4009537]\n",
      "Right: 0.41477283558612565\n"
     ]
    },
    {
     "name": "stderr",
     "output_type": "stream",
     "text": [
      "\r",
      " 37%|███▋      | 369/1000 [1:34:25<2:37:25, 14.97s/it]"
     ]
    },
    {
     "name": "stdout",
     "output_type": "stream",
     "text": [
      "Intercept 0.5975796026109215\n",
      "Prediction_local [-1.5133518]\n",
      "Right: 1.49034822746802\n"
     ]
    },
    {
     "name": "stderr",
     "output_type": "stream",
     "text": [
      "\r",
      " 37%|███▋      | 370/1000 [1:34:40<2:36:59, 14.95s/it]"
     ]
    },
    {
     "name": "stdout",
     "output_type": "stream",
     "text": [
      "Intercept -1.177098033770402\n",
      "Prediction_local [3.62102313]\n",
      "Right: 4.756077144429531\n"
     ]
    },
    {
     "name": "stderr",
     "output_type": "stream",
     "text": [
      "\r",
      " 37%|███▋      | 371/1000 [1:34:55<2:36:40, 14.95s/it]"
     ]
    },
    {
     "name": "stdout",
     "output_type": "stream",
     "text": [
      "Intercept 0.9719126269166607\n",
      "Prediction_local [-2.73315814]\n",
      "Right: -0.8294473814100497\n"
     ]
    },
    {
     "name": "stderr",
     "output_type": "stream",
     "text": [
      "\r",
      " 37%|███▋      | 372/1000 [1:35:10<2:36:19, 14.94s/it]"
     ]
    },
    {
     "name": "stdout",
     "output_type": "stream",
     "text": [
      "Intercept 0.21897433642577813\n",
      "Prediction_local [-0.45022856]\n",
      "Right: -1.0759500385400373\n"
     ]
    },
    {
     "name": "stderr",
     "output_type": "stream",
     "text": [
      "\r",
      " 37%|███▋      | 373/1000 [1:35:24<2:36:05, 14.94s/it]"
     ]
    },
    {
     "name": "stdout",
     "output_type": "stream",
     "text": [
      "Intercept 0.5733841972512321\n",
      "Prediction_local [-1.53460169]\n",
      "Right: -0.8232677652652047\n"
     ]
    },
    {
     "name": "stderr",
     "output_type": "stream",
     "text": [
      "\r",
      " 37%|███▋      | 374/1000 [1:35:39<2:35:38, 14.92s/it]"
     ]
    },
    {
     "name": "stdout",
     "output_type": "stream",
     "text": [
      "Intercept 0.2648113749704816\n",
      "Prediction_local [-0.26556598]\n",
      "Right: -3.5492445625422904\n"
     ]
    },
    {
     "name": "stderr",
     "output_type": "stream",
     "text": [
      "\r",
      " 38%|███▊      | 375/1000 [1:35:54<2:35:16, 14.91s/it]"
     ]
    },
    {
     "name": "stdout",
     "output_type": "stream",
     "text": [
      "Intercept -0.5775589331348435\n",
      "Prediction_local [1.7455324]\n",
      "Right: 4.717163283748529\n"
     ]
    },
    {
     "name": "stderr",
     "output_type": "stream",
     "text": [
      "\r",
      " 38%|███▊      | 376/1000 [1:36:09<2:34:46, 14.88s/it]"
     ]
    },
    {
     "name": "stdout",
     "output_type": "stream",
     "text": [
      "Intercept -1.57709402063475\n",
      "Prediction_local [4.80326111]\n",
      "Right: 5.561752762737292\n"
     ]
    },
    {
     "name": "stderr",
     "output_type": "stream",
     "text": [
      "\r",
      " 38%|███▊      | 377/1000 [1:36:24<2:34:40, 14.90s/it]"
     ]
    },
    {
     "name": "stdout",
     "output_type": "stream",
     "text": [
      "Intercept -0.7324513738225429\n",
      "Prediction_local [2.54988322]\n",
      "Right: 1.723802479787512\n"
     ]
    },
    {
     "name": "stderr",
     "output_type": "stream",
     "text": [
      "\r",
      " 38%|███▊      | 378/1000 [1:36:39<2:34:18, 14.89s/it]"
     ]
    },
    {
     "name": "stdout",
     "output_type": "stream",
     "text": [
      "Intercept 0.5370677710063151\n",
      "Prediction_local [-1.46800525]\n",
      "Right: -0.3691228383377629\n"
     ]
    },
    {
     "name": "stderr",
     "output_type": "stream",
     "text": [
      "\r",
      " 38%|███▊      | 379/1000 [1:36:54<2:34:17, 14.91s/it]"
     ]
    },
    {
     "name": "stdout",
     "output_type": "stream",
     "text": [
      "Intercept 0.6339720512863778\n",
      "Prediction_local [-1.51795062]\n",
      "Right: 0.2810681807886611\n"
     ]
    },
    {
     "name": "stderr",
     "output_type": "stream",
     "text": [
      "\r",
      " 38%|███▊      | 380/1000 [1:37:09<2:34:26, 14.95s/it]"
     ]
    },
    {
     "name": "stdout",
     "output_type": "stream",
     "text": [
      "Intercept 0.488346990874199\n",
      "Prediction_local [-1.43439176]\n",
      "Right: -6.017755199307315\n"
     ]
    },
    {
     "name": "stderr",
     "output_type": "stream",
     "text": [
      "\r",
      " 38%|███▊      | 381/1000 [1:37:24<2:34:04, 14.94s/it]"
     ]
    },
    {
     "name": "stdout",
     "output_type": "stream",
     "text": [
      "Intercept 0.9596117412393552\n",
      "Prediction_local [-2.79385724]\n",
      "Right: -1.9094462749259655\n"
     ]
    },
    {
     "name": "stderr",
     "output_type": "stream",
     "text": [
      "\r",
      " 38%|███▊      | 382/1000 [1:37:39<2:33:47, 14.93s/it]"
     ]
    },
    {
     "name": "stdout",
     "output_type": "stream",
     "text": [
      "Intercept -1.5802998888304907\n",
      "Prediction_local [5.05327307]\n",
      "Right: 7.095943955057568\n"
     ]
    },
    {
     "name": "stderr",
     "output_type": "stream",
     "text": [
      "\r",
      " 38%|███▊      | 383/1000 [1:37:54<2:33:19, 14.91s/it]"
     ]
    },
    {
     "name": "stdout",
     "output_type": "stream",
     "text": [
      "Intercept -0.40478818064864364\n",
      "Prediction_local [1.54185331]\n",
      "Right: -0.29253237313906827\n"
     ]
    },
    {
     "name": "stderr",
     "output_type": "stream",
     "text": [
      "\r",
      " 38%|███▊      | 384/1000 [1:38:08<2:33:01, 14.90s/it]"
     ]
    },
    {
     "name": "stdout",
     "output_type": "stream",
     "text": [
      "Intercept 0.2232055149510783\n",
      "Prediction_local [-0.24976437]\n",
      "Right: 4.9307063747963635\n"
     ]
    },
    {
     "name": "stderr",
     "output_type": "stream",
     "text": [
      "\r",
      " 38%|███▊      | 385/1000 [1:38:23<2:33:09, 14.94s/it]"
     ]
    },
    {
     "name": "stdout",
     "output_type": "stream",
     "text": [
      "Intercept 0.5596659221935066\n",
      "Prediction_local [-1.53658985]\n",
      "Right: -3.083595873010805\n"
     ]
    },
    {
     "name": "stderr",
     "output_type": "stream",
     "text": [
      "\r",
      " 39%|███▊      | 386/1000 [1:38:38<2:32:59, 14.95s/it]"
     ]
    },
    {
     "name": "stdout",
     "output_type": "stream",
     "text": [
      "Intercept -0.20052484859477965\n",
      "Prediction_local [0.58948548]\n",
      "Right: -0.5458242924479676\n"
     ]
    },
    {
     "name": "stderr",
     "output_type": "stream",
     "text": [
      "\r",
      " 39%|███▊      | 387/1000 [1:38:53<2:32:52, 14.96s/it]"
     ]
    },
    {
     "name": "stdout",
     "output_type": "stream",
     "text": [
      "Intercept -0.7824948591308959\n",
      "Prediction_local [2.41882318]\n",
      "Right: 2.022457354341644\n"
     ]
    },
    {
     "name": "stderr",
     "output_type": "stream",
     "text": [
      "\r",
      " 39%|███▉      | 388/1000 [1:39:08<2:32:26, 14.95s/it]"
     ]
    },
    {
     "name": "stdout",
     "output_type": "stream",
     "text": [
      "Intercept -0.01090237413962189\n",
      "Prediction_local [0.54558273]\n",
      "Right: 0.3782226289041466\n"
     ]
    },
    {
     "name": "stderr",
     "output_type": "stream",
     "text": [
      "\r",
      " 39%|███▉      | 389/1000 [1:39:23<2:32:09, 14.94s/it]"
     ]
    },
    {
     "name": "stdout",
     "output_type": "stream",
     "text": [
      "Intercept -0.2590114320442101\n",
      "Prediction_local [1.06395855]\n",
      "Right: 2.8803874535476934\n"
     ]
    },
    {
     "name": "stderr",
     "output_type": "stream",
     "text": [
      "\r",
      " 39%|███▉      | 390/1000 [1:39:38<2:31:59, 14.95s/it]"
     ]
    },
    {
     "name": "stdout",
     "output_type": "stream",
     "text": [
      "Intercept 1.285668660955719\n",
      "Prediction_local [-3.73014598]\n",
      "Right: -1.9310302022331858\n"
     ]
    },
    {
     "name": "stderr",
     "output_type": "stream",
     "text": [
      "\r",
      " 39%|███▉      | 391/1000 [1:39:53<2:31:38, 14.94s/it]"
     ]
    },
    {
     "name": "stdout",
     "output_type": "stream",
     "text": [
      "Intercept -0.49712731104068403\n",
      "Prediction_local [1.67280947]\n",
      "Right: 1.124563140663814\n"
     ]
    },
    {
     "name": "stderr",
     "output_type": "stream",
     "text": [
      "\r",
      " 39%|███▉      | 392/1000 [1:40:08<2:31:34, 14.96s/it]"
     ]
    },
    {
     "name": "stdout",
     "output_type": "stream",
     "text": [
      "Intercept 0.9418627620197804\n",
      "Prediction_local [-2.44072063]\n",
      "Right: -2.4942469461887433\n"
     ]
    },
    {
     "name": "stderr",
     "output_type": "stream",
     "text": [
      "\r",
      " 39%|███▉      | 393/1000 [1:40:23<2:31:17, 14.96s/it]"
     ]
    },
    {
     "name": "stdout",
     "output_type": "stream",
     "text": [
      "Intercept 0.719555406839261\n",
      "Prediction_local [-1.62523432]\n",
      "Right: -5.655376235291426\n"
     ]
    },
    {
     "name": "stderr",
     "output_type": "stream",
     "text": [
      "\r",
      " 39%|███▉      | 394/1000 [1:40:38<2:31:00, 14.95s/it]"
     ]
    },
    {
     "name": "stdout",
     "output_type": "stream",
     "text": [
      "Intercept -0.1332375909688745\n",
      "Prediction_local [0.46574114]\n",
      "Right: -1.97636346294418\n"
     ]
    },
    {
     "name": "stderr",
     "output_type": "stream",
     "text": [
      "\r",
      " 40%|███▉      | 395/1000 [1:40:53<2:30:40, 14.94s/it]"
     ]
    },
    {
     "name": "stdout",
     "output_type": "stream",
     "text": [
      "Intercept 0.15831069641634515\n",
      "Prediction_local [-0.08554762]\n",
      "Right: -1.1745837258702618\n"
     ]
    },
    {
     "name": "stderr",
     "output_type": "stream",
     "text": [
      "\r",
      " 40%|███▉      | 396/1000 [1:41:08<2:30:15, 14.93s/it]"
     ]
    },
    {
     "name": "stdout",
     "output_type": "stream",
     "text": [
      "Intercept -1.157612856552157\n",
      "Prediction_local [3.65311034]\n",
      "Right: 6.505558582166084\n"
     ]
    },
    {
     "name": "stderr",
     "output_type": "stream",
     "text": [
      "\r",
      " 40%|███▉      | 397/1000 [1:41:23<2:30:12, 14.95s/it]"
     ]
    },
    {
     "name": "stdout",
     "output_type": "stream",
     "text": [
      "Intercept 1.6871255980572244\n",
      "Prediction_local [-4.94636475]\n",
      "Right: -2.377072578869808\n"
     ]
    },
    {
     "name": "stderr",
     "output_type": "stream",
     "text": [
      "\r",
      " 40%|███▉      | 398/1000 [1:41:38<2:30:04, 14.96s/it]"
     ]
    },
    {
     "name": "stdout",
     "output_type": "stream",
     "text": [
      "Intercept -1.1683611046676396\n",
      "Prediction_local [3.8437345]\n",
      "Right: 3.662749926652629\n"
     ]
    },
    {
     "name": "stderr",
     "output_type": "stream",
     "text": [
      "\r",
      " 40%|███▉      | 399/1000 [1:41:53<2:30:00, 14.98s/it]"
     ]
    },
    {
     "name": "stdout",
     "output_type": "stream",
     "text": [
      "Intercept -0.8200399990961162\n",
      "Prediction_local [2.84804437]\n",
      "Right: -1.7619513619279228\n"
     ]
    },
    {
     "name": "stderr",
     "output_type": "stream",
     "text": [
      "\r",
      " 40%|████      | 400/1000 [1:42:08<2:29:34, 14.96s/it]"
     ]
    },
    {
     "name": "stdout",
     "output_type": "stream",
     "text": [
      "Intercept -1.5234590824167265\n",
      "Prediction_local [4.97135578]\n",
      "Right: 4.610592743969865\n"
     ]
    },
    {
     "name": "stderr",
     "output_type": "stream",
     "text": [
      "\r",
      " 40%|████      | 401/1000 [1:42:23<2:29:24, 14.97s/it]"
     ]
    },
    {
     "name": "stdout",
     "output_type": "stream",
     "text": [
      "Intercept 0.5192445276566822\n",
      "Prediction_local [-1.49237575]\n",
      "Right: 0.1973261409144897\n"
     ]
    },
    {
     "name": "stderr",
     "output_type": "stream",
     "text": [
      "\r",
      " 40%|████      | 402/1000 [1:42:38<2:28:46, 14.93s/it]"
     ]
    },
    {
     "name": "stdout",
     "output_type": "stream",
     "text": [
      "Intercept 0.15783850025071014\n",
      "Prediction_local [-0.51853009]\n",
      "Right: 0.3879145614722773\n"
     ]
    },
    {
     "name": "stderr",
     "output_type": "stream",
     "text": [
      "\r",
      " 40%|████      | 403/1000 [1:42:53<2:28:53, 14.96s/it]"
     ]
    },
    {
     "name": "stdout",
     "output_type": "stream",
     "text": [
      "Intercept 0.57710273382201\n",
      "Prediction_local [-1.47186298]\n",
      "Right: -0.8034070222487811\n"
     ]
    },
    {
     "name": "stderr",
     "output_type": "stream",
     "text": [
      "\r",
      " 40%|████      | 404/1000 [1:43:08<2:28:55, 14.99s/it]"
     ]
    },
    {
     "name": "stdout",
     "output_type": "stream",
     "text": [
      "Intercept 1.7038338207937527\n",
      "Prediction_local [-4.79108206]\n",
      "Right: -3.8626569297662585\n"
     ]
    },
    {
     "name": "stderr",
     "output_type": "stream",
     "text": [
      "\r",
      " 40%|████      | 405/1000 [1:43:23<2:28:38, 14.99s/it]"
     ]
    },
    {
     "name": "stdout",
     "output_type": "stream",
     "text": [
      "Intercept -1.5333576957712483\n",
      "Prediction_local [4.98008248]\n",
      "Right: 1.9918394444547878\n"
     ]
    },
    {
     "name": "stderr",
     "output_type": "stream",
     "text": [
      "\r",
      " 41%|████      | 406/1000 [1:43:38<2:28:11, 14.97s/it]"
     ]
    },
    {
     "name": "stdout",
     "output_type": "stream",
     "text": [
      "Intercept 0.5780964712178069\n",
      "Prediction_local [-1.41015305]\n",
      "Right: 1.1823624584036214\n"
     ]
    },
    {
     "name": "stderr",
     "output_type": "stream",
     "text": [
      "\r",
      " 41%|████      | 407/1000 [1:43:53<2:27:49, 14.96s/it]"
     ]
    },
    {
     "name": "stdout",
     "output_type": "stream",
     "text": [
      "Intercept 0.915752360936446\n",
      "Prediction_local [-2.80708494]\n",
      "Right: -1.9035575449846054\n"
     ]
    },
    {
     "name": "stderr",
     "output_type": "stream",
     "text": [
      "\r",
      " 41%|████      | 408/1000 [1:44:07<2:27:40, 14.97s/it]"
     ]
    },
    {
     "name": "stdout",
     "output_type": "stream",
     "text": [
      "Intercept 0.5754728131585174\n",
      "Prediction_local [-1.46087681]\n",
      "Right: 1.6902466666063822\n"
     ]
    },
    {
     "name": "stderr",
     "output_type": "stream",
     "text": [
      "\r",
      " 41%|████      | 409/1000 [1:44:22<2:27:15, 14.95s/it]"
     ]
    },
    {
     "name": "stdout",
     "output_type": "stream",
     "text": [
      "Intercept -0.8847472306291904\n",
      "Prediction_local [2.94904467]\n",
      "Right: 0.9761382160809461\n"
     ]
    },
    {
     "name": "stderr",
     "output_type": "stream",
     "text": [
      "\r",
      " 41%|████      | 410/1000 [1:44:38<2:27:40, 15.02s/it]"
     ]
    },
    {
     "name": "stdout",
     "output_type": "stream",
     "text": [
      "Intercept -0.13377188364594345\n",
      "Prediction_local [0.62974069]\n",
      "Right: 3.557772939228959\n"
     ]
    },
    {
     "name": "stderr",
     "output_type": "stream",
     "text": [
      "\r",
      " 41%|████      | 411/1000 [1:44:53<2:27:28, 15.02s/it]"
     ]
    },
    {
     "name": "stdout",
     "output_type": "stream",
     "text": [
      "Intercept -1.5036996989888762\n",
      "Prediction_local [5.03423691]\n",
      "Right: 4.560419015868768\n"
     ]
    },
    {
     "name": "stderr",
     "output_type": "stream",
     "text": [
      "\r",
      " 41%|████      | 412/1000 [1:45:08<2:27:13, 15.02s/it]"
     ]
    },
    {
     "name": "stdout",
     "output_type": "stream",
     "text": [
      "Intercept 0.5967949205100819\n",
      "Prediction_local [-1.77029919]\n",
      "Right: -5.114017545446409\n"
     ]
    },
    {
     "name": "stderr",
     "output_type": "stream",
     "text": [
      "\r",
      " 41%|████▏     | 413/1000 [1:45:23<2:27:11, 15.04s/it]"
     ]
    },
    {
     "name": "stdout",
     "output_type": "stream",
     "text": [
      "Intercept -0.481881616550909\n",
      "Prediction_local [1.83286161]\n",
      "Right: 1.138939914707883\n"
     ]
    },
    {
     "name": "stderr",
     "output_type": "stream",
     "text": [
      "\r",
      " 41%|████▏     | 414/1000 [1:45:38<2:27:02, 15.06s/it]"
     ]
    },
    {
     "name": "stdout",
     "output_type": "stream",
     "text": [
      "Intercept -0.09443542356375692\n",
      "Prediction_local [0.46837174]\n",
      "Right: -0.2074225182403176\n"
     ]
    },
    {
     "name": "stderr",
     "output_type": "stream",
     "text": [
      "\r",
      " 42%|████▏     | 415/1000 [1:45:53<2:26:45, 15.05s/it]"
     ]
    },
    {
     "name": "stdout",
     "output_type": "stream",
     "text": [
      "Intercept 0.5913038162371953\n",
      "Prediction_local [-1.5334974]\n",
      "Right: -0.38797099851211625\n"
     ]
    },
    {
     "name": "stderr",
     "output_type": "stream",
     "text": [
      "\r",
      " 42%|████▏     | 416/1000 [1:46:08<2:26:12, 15.02s/it]"
     ]
    },
    {
     "name": "stdout",
     "output_type": "stream",
     "text": [
      "Intercept 0.4960705852817641\n",
      "Prediction_local [-1.26864906]\n",
      "Right: 2.4532721140878713\n"
     ]
    },
    {
     "name": "stderr",
     "output_type": "stream",
     "text": [
      "\r",
      " 42%|████▏     | 417/1000 [1:46:23<2:26:03, 15.03s/it]"
     ]
    },
    {
     "name": "stdout",
     "output_type": "stream",
     "text": [
      "Intercept -0.48733904086108387\n",
      "Prediction_local [1.79282405]\n",
      "Right: 3.3703151938795073\n"
     ]
    },
    {
     "name": "stderr",
     "output_type": "stream",
     "text": [
      "\r",
      " 42%|████▏     | 418/1000 [1:46:38<2:25:53, 15.04s/it]"
     ]
    },
    {
     "name": "stdout",
     "output_type": "stream",
     "text": [
      "Intercept 1.2399412136930936\n",
      "Prediction_local [-3.64390616]\n",
      "Right: -0.3101774582693489\n"
     ]
    },
    {
     "name": "stderr",
     "output_type": "stream",
     "text": [
      "\r",
      " 42%|████▏     | 419/1000 [1:46:53<2:25:49, 15.06s/it]"
     ]
    },
    {
     "name": "stdout",
     "output_type": "stream",
     "text": [
      "Intercept 0.6891091420741785\n",
      "Prediction_local [-1.52431002]\n",
      "Right: 1.043596085547141\n"
     ]
    },
    {
     "name": "stderr",
     "output_type": "stream",
     "text": [
      "\r",
      " 42%|████▏     | 420/1000 [1:47:08<2:25:39, 15.07s/it]"
     ]
    },
    {
     "name": "stdout",
     "output_type": "stream",
     "text": [
      "Intercept 0.511259189435073\n",
      "Prediction_local [-1.53086203]\n",
      "Right: 0.19385668514624443\n"
     ]
    },
    {
     "name": "stderr",
     "output_type": "stream",
     "text": [
      "\r",
      " 42%|████▏     | 421/1000 [1:47:23<2:25:29, 15.08s/it]"
     ]
    },
    {
     "name": "stdout",
     "output_type": "stream",
     "text": [
      "Intercept -0.4968669228835024\n",
      "Prediction_local [1.70045902]\n",
      "Right: 0.08753130826201241\n"
     ]
    },
    {
     "name": "stderr",
     "output_type": "stream",
     "text": [
      "\r",
      " 42%|████▏     | 422/1000 [1:47:38<2:25:08, 15.07s/it]"
     ]
    },
    {
     "name": "stdout",
     "output_type": "stream",
     "text": [
      "Intercept -0.4465318296535436\n",
      "Prediction_local [1.63146191]\n",
      "Right: 0.33095711343874307\n"
     ]
    },
    {
     "name": "stderr",
     "output_type": "stream",
     "text": [
      "\r",
      " 42%|████▏     | 423/1000 [1:47:54<2:25:26, 15.12s/it]"
     ]
    },
    {
     "name": "stdout",
     "output_type": "stream",
     "text": [
      "Intercept -0.48155751109366923\n",
      "Prediction_local [1.62705112]\n",
      "Right: 3.580150409712003\n"
     ]
    },
    {
     "name": "stderr",
     "output_type": "stream",
     "text": [
      "\r",
      " 42%|████▏     | 424/1000 [1:48:09<2:26:02, 15.21s/it]"
     ]
    },
    {
     "name": "stdout",
     "output_type": "stream",
     "text": [
      "Intercept 1.000693547603312\n",
      "Prediction_local [-2.29316534]\n",
      "Right: -4.679257678896358\n"
     ]
    },
    {
     "name": "stderr",
     "output_type": "stream",
     "text": [
      "\r",
      " 42%|████▎     | 425/1000 [1:48:24<2:25:08, 15.15s/it]"
     ]
    },
    {
     "name": "stdout",
     "output_type": "stream",
     "text": [
      "Intercept -0.40340191367550493\n",
      "Prediction_local [1.58606756]\n",
      "Right: 7.590696374559046\n"
     ]
    },
    {
     "name": "stderr",
     "output_type": "stream",
     "text": [
      "\r",
      " 43%|████▎     | 426/1000 [1:48:39<2:24:37, 15.12s/it]"
     ]
    },
    {
     "name": "stdout",
     "output_type": "stream",
     "text": [
      "Intercept -1.228475333590565\n",
      "Prediction_local [3.84510772]\n",
      "Right: 3.4572119748606296\n"
     ]
    },
    {
     "name": "stderr",
     "output_type": "stream",
     "text": [
      "\r",
      " 43%|████▎     | 427/1000 [1:48:54<2:24:13, 15.10s/it]"
     ]
    },
    {
     "name": "stdout",
     "output_type": "stream",
     "text": [
      "Intercept 0.5053346436060085\n",
      "Prediction_local [-1.4048549]\n",
      "Right: -0.9301977962649968\n"
     ]
    },
    {
     "name": "stderr",
     "output_type": "stream",
     "text": [
      "\r",
      " 43%|████▎     | 428/1000 [1:49:09<2:23:57, 15.10s/it]"
     ]
    },
    {
     "name": "stdout",
     "output_type": "stream",
     "text": [
      "Intercept -1.2430140989914324\n",
      "Prediction_local [3.80634104]\n",
      "Right: 5.4418737852902614\n"
     ]
    },
    {
     "name": "stderr",
     "output_type": "stream",
     "text": [
      "\r",
      " 43%|████▎     | 429/1000 [1:49:24<2:23:35, 15.09s/it]"
     ]
    },
    {
     "name": "stdout",
     "output_type": "stream",
     "text": [
      "Intercept -0.759917035895411\n",
      "Prediction_local [2.40591544]\n",
      "Right: 0.6696334268568497\n"
     ]
    },
    {
     "name": "stderr",
     "output_type": "stream",
     "text": [
      "\r",
      " 43%|████▎     | 430/1000 [1:49:39<2:23:00, 15.05s/it]"
     ]
    },
    {
     "name": "stdout",
     "output_type": "stream",
     "text": [
      "Intercept -0.7026275946656115\n",
      "Prediction_local [2.8697521]\n",
      "Right: 2.0920512100394744\n"
     ]
    },
    {
     "name": "stderr",
     "output_type": "stream",
     "text": [
      "\r",
      " 43%|████▎     | 431/1000 [1:49:54<2:23:11, 15.10s/it]"
     ]
    },
    {
     "name": "stdout",
     "output_type": "stream",
     "text": [
      "Intercept -0.42726134633409185\n",
      "Prediction_local [1.629941]\n",
      "Right: 2.0828767628575955\n"
     ]
    },
    {
     "name": "stderr",
     "output_type": "stream",
     "text": [
      "\r",
      " 43%|████▎     | 432/1000 [1:50:09<2:22:37, 15.07s/it]"
     ]
    },
    {
     "name": "stdout",
     "output_type": "stream",
     "text": [
      "Intercept 0.5802625833438769\n",
      "Prediction_local [-1.37563724]\n",
      "Right: 3.914319260493915\n"
     ]
    },
    {
     "name": "stderr",
     "output_type": "stream",
     "text": [
      "\r",
      " 43%|████▎     | 433/1000 [1:50:25<2:22:54, 15.12s/it]"
     ]
    },
    {
     "name": "stdout",
     "output_type": "stream",
     "text": [
      "Intercept -0.7397925363091165\n",
      "Prediction_local [2.44747762]\n",
      "Right: -1.0627408468630275\n"
     ]
    },
    {
     "name": "stderr",
     "output_type": "stream",
     "text": [
      "\r",
      " 43%|████▎     | 434/1000 [1:50:40<2:22:15, 15.08s/it]"
     ]
    },
    {
     "name": "stdout",
     "output_type": "stream",
     "text": [
      "Intercept -0.9413024583447867\n",
      "Prediction_local [2.8455869]\n",
      "Right: 1.359185794080042\n"
     ]
    },
    {
     "name": "stderr",
     "output_type": "stream",
     "text": [
      "\r",
      " 44%|████▎     | 435/1000 [1:50:55<2:23:54, 15.28s/it]"
     ]
    },
    {
     "name": "stdout",
     "output_type": "stream",
     "text": [
      "Intercept 1.3375181225811539\n",
      "Prediction_local [-3.62821975]\n",
      "Right: -3.436802756145336\n"
     ]
    },
    {
     "name": "stderr",
     "output_type": "stream",
     "text": [
      "\r",
      " 44%|████▎     | 436/1000 [1:51:10<2:23:07, 15.23s/it]"
     ]
    },
    {
     "name": "stdout",
     "output_type": "stream",
     "text": [
      "Intercept 0.1219278430805841\n",
      "Prediction_local [-0.21700145]\n",
      "Right: 2.3458911692342443\n"
     ]
    },
    {
     "name": "stderr",
     "output_type": "stream",
     "text": [
      "\r",
      " 44%|████▎     | 437/1000 [1:51:26<2:22:22, 15.17s/it]"
     ]
    },
    {
     "name": "stdout",
     "output_type": "stream",
     "text": [
      "Intercept -1.6276147916640005\n",
      "Prediction_local [4.99367011]\n",
      "Right: 6.36103203371473\n"
     ]
    },
    {
     "name": "stderr",
     "output_type": "stream",
     "text": [
      "\r",
      " 44%|████▍     | 438/1000 [1:51:41<2:21:43, 15.13s/it]"
     ]
    },
    {
     "name": "stdout",
     "output_type": "stream",
     "text": [
      "Intercept -0.5356002120893906\n",
      "Prediction_local [1.53399598]\n",
      "Right: 2.3241926071009567\n"
     ]
    },
    {
     "name": "stderr",
     "output_type": "stream",
     "text": [
      "\r",
      " 44%|████▍     | 439/1000 [1:51:56<2:21:09, 15.10s/it]"
     ]
    },
    {
     "name": "stdout",
     "output_type": "stream",
     "text": [
      "Intercept 0.6215342938793659\n",
      "Prediction_local [-1.5687837]\n",
      "Right: -0.4910574852826617\n"
     ]
    },
    {
     "name": "stderr",
     "output_type": "stream",
     "text": [
      "\r",
      " 44%|████▍     | 440/1000 [1:52:11<2:20:53, 15.10s/it]"
     ]
    },
    {
     "name": "stdout",
     "output_type": "stream",
     "text": [
      "Intercept 0.24140463978754118\n",
      "Prediction_local [-0.40978499]\n",
      "Right: 2.2176653691469195\n"
     ]
    },
    {
     "name": "stderr",
     "output_type": "stream",
     "text": [
      "\r",
      " 44%|████▍     | 441/1000 [1:52:26<2:20:31, 15.08s/it]"
     ]
    },
    {
     "name": "stdout",
     "output_type": "stream",
     "text": [
      "Intercept -0.52114054617253\n",
      "Prediction_local [1.57237276]\n",
      "Right: 1.1725314187682554\n"
     ]
    },
    {
     "name": "stderr",
     "output_type": "stream",
     "text": [
      "\r",
      " 44%|████▍     | 442/1000 [1:52:41<2:19:58, 15.05s/it]"
     ]
    },
    {
     "name": "stdout",
     "output_type": "stream",
     "text": [
      "Intercept -1.3065261884824901\n",
      "Prediction_local [3.7870519]\n",
      "Right: 0.10360405548862177\n"
     ]
    },
    {
     "name": "stderr",
     "output_type": "stream",
     "text": [
      "\r",
      " 44%|████▍     | 443/1000 [1:52:56<2:19:42, 15.05s/it]"
     ]
    },
    {
     "name": "stdout",
     "output_type": "stream",
     "text": [
      "Intercept 1.232828947034076\n",
      "Prediction_local [-3.45344876]\n",
      "Right: -1.9347734431315853\n"
     ]
    },
    {
     "name": "stderr",
     "output_type": "stream",
     "text": [
      "\r",
      " 44%|████▍     | 444/1000 [1:53:11<2:19:08, 15.01s/it]"
     ]
    },
    {
     "name": "stdout",
     "output_type": "stream",
     "text": [
      "Intercept 0.5916968677238303\n",
      "Prediction_local [-1.36102604]\n",
      "Right: -2.3656591627813324\n"
     ]
    },
    {
     "name": "stderr",
     "output_type": "stream",
     "text": [
      "\r",
      " 44%|████▍     | 445/1000 [1:53:26<2:19:03, 15.03s/it]"
     ]
    },
    {
     "name": "stdout",
     "output_type": "stream",
     "text": [
      "Intercept -0.07619330110536374\n",
      "Prediction_local [0.47161346]\n",
      "Right: 2.791657872568602\n"
     ]
    },
    {
     "name": "stderr",
     "output_type": "stream",
     "text": [
      "\r",
      " 45%|████▍     | 446/1000 [1:53:41<2:18:25, 14.99s/it]"
     ]
    },
    {
     "name": "stdout",
     "output_type": "stream",
     "text": [
      "Intercept -0.46158509533569375\n",
      "Prediction_local [1.64386244]\n",
      "Right: 3.864802165344355\n"
     ]
    },
    {
     "name": "stderr",
     "output_type": "stream",
     "text": [
      "\r",
      " 45%|████▍     | 447/1000 [1:53:56<2:18:07, 14.99s/it]"
     ]
    },
    {
     "name": "stdout",
     "output_type": "stream",
     "text": [
      "Intercept 0.011354859427749622\n",
      "Prediction_local [0.17644523]\n",
      "Right: 0.8202928742387826\n"
     ]
    },
    {
     "name": "stderr",
     "output_type": "stream",
     "text": [
      "\r",
      " 45%|████▍     | 448/1000 [1:54:10<2:17:23, 14.93s/it]"
     ]
    },
    {
     "name": "stdout",
     "output_type": "stream",
     "text": [
      "Intercept -1.2106364316723341\n",
      "Prediction_local [3.81898173]\n",
      "Right: 3.6617809950339755\n"
     ]
    },
    {
     "name": "stderr",
     "output_type": "stream",
     "text": [
      "\r",
      " 45%|████▍     | 449/1000 [1:54:25<2:17:02, 14.92s/it]"
     ]
    },
    {
     "name": "stdout",
     "output_type": "stream",
     "text": [
      "Intercept 0.7168359394620045\n",
      "Prediction_local [-1.32022978]\n",
      "Right: 2.3717266376322477\n"
     ]
    },
    {
     "name": "stderr",
     "output_type": "stream",
     "text": [
      "\r",
      " 45%|████▌     | 450/1000 [1:54:40<2:16:58, 14.94s/it]"
     ]
    },
    {
     "name": "stdout",
     "output_type": "stream",
     "text": [
      "Intercept 1.7013570826691504\n",
      "Prediction_local [-4.95741295]\n",
      "Right: -1.8334132545136999\n"
     ]
    },
    {
     "name": "stderr",
     "output_type": "stream",
     "text": [
      "\r",
      " 45%|████▌     | 451/1000 [1:54:55<2:17:23, 15.02s/it]"
     ]
    },
    {
     "name": "stdout",
     "output_type": "stream",
     "text": [
      "Intercept 0.614086532471958\n",
      "Prediction_local [-1.50391119]\n",
      "Right: 1.1316161032764878\n"
     ]
    },
    {
     "name": "stderr",
     "output_type": "stream",
     "text": [
      "\r",
      " 45%|████▌     | 452/1000 [1:55:10<2:17:02, 15.01s/it]"
     ]
    },
    {
     "name": "stdout",
     "output_type": "stream",
     "text": [
      "Intercept -0.1231940424161243\n",
      "Prediction_local [0.4959686]\n",
      "Right: -1.5173205498620104\n"
     ]
    },
    {
     "name": "stderr",
     "output_type": "stream",
     "text": [
      "\r",
      " 45%|████▌     | 453/1000 [1:55:25<2:16:45, 15.00s/it]"
     ]
    },
    {
     "name": "stdout",
     "output_type": "stream",
     "text": [
      "Intercept 0.6589752214573936\n",
      "Prediction_local [-1.61914685]\n",
      "Right: -2.452665900491566\n"
     ]
    },
    {
     "name": "stderr",
     "output_type": "stream",
     "text": [
      "\r",
      " 45%|████▌     | 454/1000 [1:55:40<2:16:27, 15.00s/it]"
     ]
    },
    {
     "name": "stdout",
     "output_type": "stream",
     "text": [
      "Intercept -0.44829269260257704\n",
      "Prediction_local [1.78878112]\n",
      "Right: 3.025423691822129\n"
     ]
    },
    {
     "name": "stderr",
     "output_type": "stream",
     "text": [
      "\r",
      " 46%|████▌     | 455/1000 [1:55:55<2:16:12, 15.00s/it]"
     ]
    },
    {
     "name": "stdout",
     "output_type": "stream",
     "text": [
      "Intercept 0.6455310651585018\n",
      "Prediction_local [-1.5555705]\n",
      "Right: -3.752672883712716\n"
     ]
    },
    {
     "name": "stderr",
     "output_type": "stream",
     "text": [
      "\r",
      " 46%|████▌     | 456/1000 [1:56:10<2:16:00, 15.00s/it]"
     ]
    },
    {
     "name": "stdout",
     "output_type": "stream",
     "text": [
      "Intercept 0.6060390891003574\n",
      "Prediction_local [-1.53426551]\n",
      "Right: 0.8162994075913597\n"
     ]
    },
    {
     "name": "stderr",
     "output_type": "stream",
     "text": [
      "\r",
      " 46%|████▌     | 457/1000 [1:56:25<2:15:46, 15.00s/it]"
     ]
    },
    {
     "name": "stdout",
     "output_type": "stream",
     "text": [
      "Intercept 1.6621451697808352\n",
      "Prediction_local [-4.76046412]\n",
      "Right: -3.776059394460571\n"
     ]
    },
    {
     "name": "stderr",
     "output_type": "stream",
     "text": [
      "\r",
      " 46%|████▌     | 458/1000 [1:56:40<2:15:05, 14.95s/it]"
     ]
    },
    {
     "name": "stdout",
     "output_type": "stream",
     "text": [
      "Intercept 0.5686512282638437\n",
      "Prediction_local [-1.40646465]\n",
      "Right: -0.593391166035472\n"
     ]
    },
    {
     "name": "stderr",
     "output_type": "stream",
     "text": [
      "\r",
      " 46%|████▌     | 459/1000 [1:56:55<2:14:44, 14.94s/it]"
     ]
    },
    {
     "name": "stdout",
     "output_type": "stream",
     "text": [
      "Intercept -0.4254111391232724\n",
      "Prediction_local [1.62940429]\n",
      "Right: 0.9151452692525979\n"
     ]
    },
    {
     "name": "stderr",
     "output_type": "stream",
     "text": [
      "\r",
      " 46%|████▌     | 460/1000 [1:57:10<2:14:29, 14.94s/it]"
     ]
    },
    {
     "name": "stdout",
     "output_type": "stream",
     "text": [
      "Intercept -0.4832085587273513\n",
      "Prediction_local [1.75449201]\n",
      "Right: 2.6471474818226044\n"
     ]
    },
    {
     "name": "stderr",
     "output_type": "stream",
     "text": [
      "\r",
      " 46%|████▌     | 461/1000 [1:57:25<2:14:11, 14.94s/it]"
     ]
    },
    {
     "name": "stdout",
     "output_type": "stream",
     "text": [
      "Intercept -0.7904479943232501\n",
      "Prediction_local [2.72650248]\n",
      "Right: 2.958749560840229\n"
     ]
    },
    {
     "name": "stderr",
     "output_type": "stream",
     "text": [
      "\r",
      " 46%|████▌     | 462/1000 [1:57:40<2:14:02, 14.95s/it]"
     ]
    },
    {
     "name": "stdout",
     "output_type": "stream",
     "text": [
      "Intercept -0.847688464106217\n",
      "Prediction_local [2.83018808]\n",
      "Right: 3.918660204157029\n"
     ]
    },
    {
     "name": "stderr",
     "output_type": "stream",
     "text": [
      "\r",
      " 46%|████▋     | 463/1000 [1:57:55<2:13:50, 14.95s/it]"
     ]
    },
    {
     "name": "stdout",
     "output_type": "stream",
     "text": [
      "Intercept 0.05162942043600961\n",
      "Prediction_local [0.36951801]\n",
      "Right: -1.2320035449584337\n"
     ]
    },
    {
     "name": "stderr",
     "output_type": "stream",
     "text": [
      "\r",
      " 46%|████▋     | 464/1000 [1:58:10<2:13:31, 14.95s/it]"
     ]
    },
    {
     "name": "stdout",
     "output_type": "stream",
     "text": [
      "Intercept 0.18436235234196346\n",
      "Prediction_local [-0.24325407]\n",
      "Right: 1.9585913849416623\n"
     ]
    },
    {
     "name": "stderr",
     "output_type": "stream",
     "text": [
      "\r",
      " 46%|████▋     | 465/1000 [1:58:25<2:13:21, 14.96s/it]"
     ]
    },
    {
     "name": "stdout",
     "output_type": "stream",
     "text": [
      "Intercept 0.24202905709444927\n",
      "Prediction_local [-0.50458648]\n",
      "Right: -0.9225591429922637\n"
     ]
    },
    {
     "name": "stderr",
     "output_type": "stream",
     "text": [
      "\r",
      " 47%|████▋     | 466/1000 [1:58:40<2:13:05, 14.95s/it]"
     ]
    },
    {
     "name": "stdout",
     "output_type": "stream",
     "text": [
      "Intercept 1.684416801587504\n",
      "Prediction_local [-4.53462979]\n",
      "Right: -4.296915762742864\n"
     ]
    },
    {
     "name": "stderr",
     "output_type": "stream",
     "text": [
      "\r",
      " 47%|████▋     | 467/1000 [1:58:55<2:12:48, 14.95s/it]"
     ]
    },
    {
     "name": "stdout",
     "output_type": "stream",
     "text": [
      "Intercept 1.2327753975789038\n",
      "Prediction_local [-3.85050312]\n",
      "Right: -3.9934549094546483\n"
     ]
    },
    {
     "name": "stderr",
     "output_type": "stream",
     "text": [
      "\r",
      " 47%|████▋     | 468/1000 [1:59:10<2:12:36, 14.96s/it]"
     ]
    },
    {
     "name": "stdout",
     "output_type": "stream",
     "text": [
      "Intercept -0.45872207801652903\n",
      "Prediction_local [1.68670804]\n",
      "Right: 0.14075874095428115\n"
     ]
    },
    {
     "name": "stderr",
     "output_type": "stream",
     "text": [
      "\r",
      " 47%|████▋     | 469/1000 [1:59:25<2:12:20, 14.95s/it]"
     ]
    },
    {
     "name": "stdout",
     "output_type": "stream",
     "text": [
      "Intercept 0.5995855139557177\n",
      "Prediction_local [-1.52908676]\n",
      "Right: -5.670306582464308\n"
     ]
    },
    {
     "name": "stderr",
     "output_type": "stream",
     "text": [
      "\r",
      " 47%|████▋     | 470/1000 [1:59:40<2:12:10, 14.96s/it]"
     ]
    },
    {
     "name": "stdout",
     "output_type": "stream",
     "text": [
      "Intercept 1.684737868769556\n",
      "Prediction_local [-4.63783515]\n",
      "Right: -3.7001839082049335\n"
     ]
    },
    {
     "name": "stderr",
     "output_type": "stream",
     "text": [
      "\r",
      " 47%|████▋     | 471/1000 [1:59:55<2:12:01, 14.97s/it]"
     ]
    },
    {
     "name": "stdout",
     "output_type": "stream",
     "text": [
      "Intercept 0.15516796326400614\n",
      "Prediction_local [-0.45448951]\n",
      "Right: -2.8767694087269424\n"
     ]
    },
    {
     "name": "stderr",
     "output_type": "stream",
     "text": [
      "\r",
      " 47%|████▋     | 472/1000 [2:00:10<2:11:42, 14.97s/it]"
     ]
    },
    {
     "name": "stdout",
     "output_type": "stream",
     "text": [
      "Intercept 1.284019492364001\n",
      "Prediction_local [-3.60133476]\n",
      "Right: -0.40339959794549907\n"
     ]
    },
    {
     "name": "stderr",
     "output_type": "stream",
     "text": [
      "\r",
      " 47%|████▋     | 473/1000 [2:00:25<2:11:14, 14.94s/it]"
     ]
    },
    {
     "name": "stdout",
     "output_type": "stream",
     "text": [
      "Intercept 0.0702500585564127\n",
      "Prediction_local [-0.28215995]\n",
      "Right: 0.25245484183484457\n"
     ]
    },
    {
     "name": "stderr",
     "output_type": "stream",
     "text": [
      "\r",
      " 47%|████▋     | 474/1000 [2:00:39<2:10:59, 14.94s/it]"
     ]
    },
    {
     "name": "stdout",
     "output_type": "stream",
     "text": [
      "Intercept -0.48319327690079594\n",
      "Prediction_local [1.47822347]\n",
      "Right: -1.2988649629888458\n"
     ]
    },
    {
     "name": "stderr",
     "output_type": "stream",
     "text": [
      "\r",
      " 48%|████▊     | 475/1000 [2:00:55<2:11:13, 15.00s/it]"
     ]
    },
    {
     "name": "stdout",
     "output_type": "stream",
     "text": [
      "Intercept 0.18555381919109992\n",
      "Prediction_local [-0.23926608]\n",
      "Right: 2.8803874535476934\n"
     ]
    },
    {
     "name": "stderr",
     "output_type": "stream",
     "text": [
      "\r",
      " 48%|████▊     | 476/1000 [2:01:10<2:10:44, 14.97s/it]"
     ]
    },
    {
     "name": "stdout",
     "output_type": "stream",
     "text": [
      "Intercept 0.579653733328784\n",
      "Prediction_local [-1.49568617]\n",
      "Right: -6.710538264257049\n"
     ]
    },
    {
     "name": "stderr",
     "output_type": "stream",
     "text": [
      "\r",
      " 48%|████▊     | 477/1000 [2:01:25<2:10:39, 14.99s/it]"
     ]
    },
    {
     "name": "stdout",
     "output_type": "stream",
     "text": [
      "Intercept 0.011542081264172402\n",
      "Prediction_local [0.28258783]\n",
      "Right: -0.5052377121034393\n"
     ]
    },
    {
     "name": "stderr",
     "output_type": "stream",
     "text": [
      "\r",
      " 48%|████▊     | 478/1000 [2:01:40<2:10:28, 15.00s/it]"
     ]
    },
    {
     "name": "stdout",
     "output_type": "stream",
     "text": [
      "Intercept -1.1837534541340327\n",
      "Prediction_local [3.61738591]\n",
      "Right: 1.775013423081927\n"
     ]
    },
    {
     "name": "stderr",
     "output_type": "stream",
     "text": [
      "\r",
      " 48%|████▊     | 479/1000 [2:01:54<2:10:00, 14.97s/it]"
     ]
    },
    {
     "name": "stdout",
     "output_type": "stream",
     "text": [
      "Intercept -0.8819129606364962\n",
      "Prediction_local [2.69355295]\n",
      "Right: 4.53466725429543\n"
     ]
    },
    {
     "name": "stderr",
     "output_type": "stream",
     "text": [
      "\r",
      " 48%|████▊     | 480/1000 [2:02:09<2:09:39, 14.96s/it]"
     ]
    },
    {
     "name": "stdout",
     "output_type": "stream",
     "text": [
      "Intercept 0.9308390532432831\n",
      "Prediction_local [-2.67487545]\n",
      "Right: -4.223285308401669\n"
     ]
    },
    {
     "name": "stderr",
     "output_type": "stream",
     "text": [
      "\r",
      " 48%|████▊     | 481/1000 [2:02:24<2:09:19, 14.95s/it]"
     ]
    },
    {
     "name": "stdout",
     "output_type": "stream",
     "text": [
      "Intercept -1.2371365730493111\n",
      "Prediction_local [3.69499373]\n",
      "Right: 3.9002751775646907\n"
     ]
    },
    {
     "name": "stderr",
     "output_type": "stream",
     "text": [
      "\r",
      " 48%|████▊     | 482/1000 [2:02:39<2:09:00, 14.94s/it]"
     ]
    },
    {
     "name": "stdout",
     "output_type": "stream",
     "text": [
      "Intercept -0.45412249777323976\n",
      "Prediction_local [1.78479589]\n",
      "Right: 1.6879171035191665\n"
     ]
    },
    {
     "name": "stderr",
     "output_type": "stream",
     "text": [
      "\r",
      " 48%|████▊     | 483/1000 [2:02:54<2:09:06, 14.98s/it]"
     ]
    },
    {
     "name": "stdout",
     "output_type": "stream",
     "text": [
      "Intercept 1.6344309037463864\n",
      "Prediction_local [-4.6595088]\n",
      "Right: -6.943594716134998\n"
     ]
    },
    {
     "name": "stderr",
     "output_type": "stream",
     "text": [
      "\r",
      " 48%|████▊     | 484/1000 [2:03:09<2:09:01, 15.00s/it]"
     ]
    },
    {
     "name": "stdout",
     "output_type": "stream",
     "text": [
      "Intercept -1.5056620255562363\n",
      "Prediction_local [4.83782367]\n",
      "Right: 3.9645485939675047\n"
     ]
    },
    {
     "name": "stderr",
     "output_type": "stream",
     "text": [
      "\r",
      " 48%|████▊     | 485/1000 [2:03:24<2:08:40, 14.99s/it]"
     ]
    },
    {
     "name": "stdout",
     "output_type": "stream",
     "text": [
      "Intercept -0.546514608404195\n",
      "Prediction_local [1.77673118]\n",
      "Right: 7.587693928076503\n"
     ]
    },
    {
     "name": "stderr",
     "output_type": "stream",
     "text": [
      "\r",
      " 49%|████▊     | 486/1000 [2:03:39<2:08:24, 14.99s/it]"
     ]
    },
    {
     "name": "stdout",
     "output_type": "stream",
     "text": [
      "Intercept 0.6111652601658104\n",
      "Prediction_local [-1.54839933]\n",
      "Right: -0.08802328239402417\n"
     ]
    },
    {
     "name": "stderr",
     "output_type": "stream",
     "text": [
      "\r",
      " 49%|████▊     | 487/1000 [2:03:54<2:08:11, 14.99s/it]"
     ]
    },
    {
     "name": "stdout",
     "output_type": "stream",
     "text": [
      "Intercept -0.16414720419087497\n",
      "Prediction_local [0.52548181]\n",
      "Right: 4.228199358343295\n"
     ]
    },
    {
     "name": "stderr",
     "output_type": "stream",
     "text": [
      "\r",
      " 49%|████▉     | 488/1000 [2:04:09<2:07:52, 14.98s/it]"
     ]
    },
    {
     "name": "stdout",
     "output_type": "stream",
     "text": [
      "Intercept 1.3547231028442173\n",
      "Prediction_local [-3.62752625]\n",
      "Right: -4.387008366979758\n"
     ]
    },
    {
     "name": "stderr",
     "output_type": "stream",
     "text": [
      "\r",
      " 49%|████▉     | 489/1000 [2:04:24<2:07:38, 14.99s/it]"
     ]
    },
    {
     "name": "stdout",
     "output_type": "stream",
     "text": [
      "Intercept 1.2112180758027997\n",
      "Prediction_local [-3.62085554]\n",
      "Right: -3.16303648039416\n"
     ]
    },
    {
     "name": "stderr",
     "output_type": "stream",
     "text": [
      "\r",
      " 49%|████▉     | 490/1000 [2:04:39<2:07:29, 15.00s/it]"
     ]
    },
    {
     "name": "stdout",
     "output_type": "stream",
     "text": [
      "Intercept 0.6081695565070937\n",
      "Prediction_local [-1.62125068]\n",
      "Right: -4.071479492368651\n"
     ]
    },
    {
     "name": "stderr",
     "output_type": "stream",
     "text": [
      "\r",
      " 49%|████▉     | 491/1000 [2:04:54<2:07:26, 15.02s/it]"
     ]
    },
    {
     "name": "stdout",
     "output_type": "stream",
     "text": [
      "Intercept -0.40041775036836996\n",
      "Prediction_local [1.78964916]\n",
      "Right: 1.1879455781521986\n"
     ]
    },
    {
     "name": "stderr",
     "output_type": "stream",
     "text": [
      "\r",
      " 49%|████▉     | 492/1000 [2:05:09<2:06:59, 15.00s/it]"
     ]
    },
    {
     "name": "stdout",
     "output_type": "stream",
     "text": [
      "Intercept 0.653102688121318\n",
      "Prediction_local [-1.73185544]\n",
      "Right: -3.457434387151131\n"
     ]
    },
    {
     "name": "stderr",
     "output_type": "stream",
     "text": [
      "\r",
      " 49%|████▉     | 493/1000 [2:05:24<2:06:39, 14.99s/it]"
     ]
    },
    {
     "name": "stdout",
     "output_type": "stream",
     "text": [
      "Intercept -1.0743243039336363\n",
      "Prediction_local [3.74965582]\n",
      "Right: 3.8496680352768635\n"
     ]
    },
    {
     "name": "stderr",
     "output_type": "stream",
     "text": [
      "\r",
      " 49%|████▉     | 494/1000 [2:05:39<2:06:42, 15.03s/it]"
     ]
    },
    {
     "name": "stdout",
     "output_type": "stream",
     "text": [
      "Intercept -0.446804675100023\n",
      "Prediction_local [1.78971769]\n",
      "Right: 2.208643386178225\n"
     ]
    },
    {
     "name": "stderr",
     "output_type": "stream",
     "text": [
      "\r",
      " 50%|████▉     | 495/1000 [2:05:54<2:06:21, 15.01s/it]"
     ]
    },
    {
     "name": "stdout",
     "output_type": "stream",
     "text": [
      "Intercept -0.2112653444121324\n",
      "Prediction_local [0.85772605]\n",
      "Right: 0.6498738924598843\n"
     ]
    },
    {
     "name": "stderr",
     "output_type": "stream",
     "text": [
      "\r",
      " 50%|████▉     | 496/1000 [2:06:09<2:06:12, 15.02s/it]"
     ]
    },
    {
     "name": "stdout",
     "output_type": "stream",
     "text": [
      "Intercept -1.6329728124595848\n",
      "Prediction_local [4.93655687]\n",
      "Right: 5.399162272535745\n"
     ]
    },
    {
     "name": "stderr",
     "output_type": "stream",
     "text": [
      "\r",
      " 50%|████▉     | 497/1000 [2:06:25<2:05:59, 15.03s/it]"
     ]
    },
    {
     "name": "stdout",
     "output_type": "stream",
     "text": [
      "Intercept 1.7505367777307963\n",
      "Prediction_local [-4.70639648]\n",
      "Right: -4.907655739790685\n"
     ]
    },
    {
     "name": "stderr",
     "output_type": "stream",
     "text": [
      "\r",
      " 50%|████▉     | 498/1000 [2:06:40<2:05:51, 15.04s/it]"
     ]
    },
    {
     "name": "stdout",
     "output_type": "stream",
     "text": [
      "Intercept -0.4827775111244775\n",
      "Prediction_local [1.95549674]\n",
      "Right: -1.4655012650434998\n"
     ]
    },
    {
     "name": "stderr",
     "output_type": "stream",
     "text": [
      "\r",
      " 50%|████▉     | 499/1000 [2:06:55<2:07:04, 15.22s/it]"
     ]
    },
    {
     "name": "stdout",
     "output_type": "stream",
     "text": [
      "Intercept 1.0254803578187837\n",
      "Prediction_local [-2.43243831]\n",
      "Right: 0.23552488202903593\n"
     ]
    },
    {
     "name": "stderr",
     "output_type": "stream",
     "text": [
      "\r",
      " 50%|█████     | 500/1000 [2:07:11<2:07:17, 15.28s/it]"
     ]
    },
    {
     "name": "stdout",
     "output_type": "stream",
     "text": [
      "Intercept -0.8640033937058358\n",
      "Prediction_local [2.91362331]\n",
      "Right: 6.460499134700987\n"
     ]
    },
    {
     "name": "stderr",
     "output_type": "stream",
     "text": [
      "\r",
      " 50%|█████     | 501/1000 [2:07:26<2:07:37, 15.35s/it]"
     ]
    },
    {
     "name": "stdout",
     "output_type": "stream",
     "text": [
      "Intercept -1.5292977439560378\n",
      "Prediction_local [4.75614999]\n",
      "Right: 7.729093697933813\n"
     ]
    },
    {
     "name": "stderr",
     "output_type": "stream",
     "text": [
      "\r",
      " 50%|█████     | 502/1000 [2:07:42<2:07:41, 15.39s/it]"
     ]
    },
    {
     "name": "stdout",
     "output_type": "stream",
     "text": [
      "Intercept -0.02021273447285897\n",
      "Prediction_local [0.41873529]\n",
      "Right: 4.131330445797579\n"
     ]
    },
    {
     "name": "stderr",
     "output_type": "stream",
     "text": [
      "\r",
      " 50%|█████     | 503/1000 [2:07:57<2:07:42, 15.42s/it]"
     ]
    },
    {
     "name": "stdout",
     "output_type": "stream",
     "text": [
      "Intercept 1.1554382455856367\n",
      "Prediction_local [-3.3919863]\n",
      "Right: -2.441274244610124\n"
     ]
    },
    {
     "name": "stderr",
     "output_type": "stream",
     "text": [
      "\r",
      " 50%|█████     | 504/1000 [2:08:13<2:07:56, 15.48s/it]"
     ]
    },
    {
     "name": "stdout",
     "output_type": "stream",
     "text": [
      "Intercept -0.1304876199234293\n",
      "Prediction_local [0.63047776]\n",
      "Right: 1.6898289669656905\n"
     ]
    },
    {
     "name": "stderr",
     "output_type": "stream",
     "text": [
      "\r",
      " 50%|█████     | 505/1000 [2:08:28<2:08:18, 15.55s/it]"
     ]
    },
    {
     "name": "stdout",
     "output_type": "stream",
     "text": [
      "Intercept -0.03373879125606814\n",
      "Prediction_local [0.43104868]\n",
      "Right: 1.5405669703500786\n"
     ]
    },
    {
     "name": "stderr",
     "output_type": "stream",
     "text": [
      "\r",
      " 51%|█████     | 506/1000 [2:08:44<2:08:44, 15.64s/it]"
     ]
    },
    {
     "name": "stdout",
     "output_type": "stream",
     "text": [
      "Intercept -1.5664037915649556\n",
      "Prediction_local [4.70912181]\n",
      "Right: 5.2424806612757795\n"
     ]
    },
    {
     "name": "stderr",
     "output_type": "stream",
     "text": [
      "\r",
      " 51%|█████     | 507/1000 [2:09:00<2:08:36, 15.65s/it]"
     ]
    },
    {
     "name": "stdout",
     "output_type": "stream",
     "text": [
      "Intercept 0.5701752095408558\n",
      "Prediction_local [-1.81158202]\n",
      "Right: -5.573251841769615\n"
     ]
    },
    {
     "name": "stderr",
     "output_type": "stream",
     "text": [
      "\r",
      " 51%|█████     | 508/1000 [2:09:15<2:07:03, 15.50s/it]"
     ]
    },
    {
     "name": "stdout",
     "output_type": "stream",
     "text": [
      "Intercept 0.4534627363545246\n",
      "Prediction_local [-0.97370321]\n",
      "Right: -1.2077022250666016\n"
     ]
    },
    {
     "name": "stderr",
     "output_type": "stream",
     "text": [
      "\r",
      " 51%|█████     | 509/1000 [2:09:30<2:05:50, 15.38s/it]"
     ]
    },
    {
     "name": "stdout",
     "output_type": "stream",
     "text": [
      "Intercept -1.5654096175248\n",
      "Prediction_local [4.73858436]\n",
      "Right: -1.066571501045016\n"
     ]
    },
    {
     "name": "stderr",
     "output_type": "stream",
     "text": [
      "\r",
      " 51%|█████     | 510/1000 [2:09:45<2:04:55, 15.30s/it]"
     ]
    },
    {
     "name": "stdout",
     "output_type": "stream",
     "text": [
      "Intercept 0.28963210734046435\n",
      "Prediction_local [-0.72712036]\n",
      "Right: 0.9889139352184069\n"
     ]
    },
    {
     "name": "stderr",
     "output_type": "stream",
     "text": [
      "\r",
      " 51%|█████     | 511/1000 [2:10:00<2:04:09, 15.23s/it]"
     ]
    },
    {
     "name": "stdout",
     "output_type": "stream",
     "text": [
      "Intercept -0.5426336021717715\n",
      "Prediction_local [1.6432327]\n",
      "Right: -2.431191785107293\n"
     ]
    },
    {
     "name": "stderr",
     "output_type": "stream",
     "text": [
      "\r",
      " 51%|█████     | 512/1000 [2:10:15<2:03:27, 15.18s/it]"
     ]
    },
    {
     "name": "stdout",
     "output_type": "stream",
     "text": [
      "Intercept -0.6216189824227771\n",
      "Prediction_local [2.38154048]\n",
      "Right: -0.007625793130900527\n"
     ]
    },
    {
     "name": "stderr",
     "output_type": "stream",
     "text": [
      "\r",
      " 51%|█████▏    | 513/1000 [2:10:30<2:02:46, 15.13s/it]"
     ]
    },
    {
     "name": "stdout",
     "output_type": "stream",
     "text": [
      "Intercept -0.4219137361072304\n",
      "Prediction_local [1.5228572]\n",
      "Right: -1.748569996586319\n"
     ]
    },
    {
     "name": "stderr",
     "output_type": "stream",
     "text": [
      "\r",
      " 51%|█████▏    | 514/1000 [2:10:45<2:02:04, 15.07s/it]"
     ]
    },
    {
     "name": "stdout",
     "output_type": "stream",
     "text": [
      "Intercept -1.1493556320670748\n",
      "Prediction_local [3.79586617]\n",
      "Right: 3.4433771104155313\n"
     ]
    },
    {
     "name": "stderr",
     "output_type": "stream",
     "text": [
      "\r",
      " 52%|█████▏    | 515/1000 [2:11:00<2:01:45, 15.06s/it]"
     ]
    },
    {
     "name": "stdout",
     "output_type": "stream",
     "text": [
      "Intercept 1.2734669509395198\n",
      "Prediction_local [-3.42785668]\n",
      "Right: -3.073106116139132\n"
     ]
    },
    {
     "name": "stderr",
     "output_type": "stream",
     "text": [
      "\r",
      " 52%|█████▏    | 516/1000 [2:11:15<2:01:12, 15.03s/it]"
     ]
    },
    {
     "name": "stdout",
     "output_type": "stream",
     "text": [
      "Intercept 0.16470413961970526\n",
      "Prediction_local [-0.35910672]\n",
      "Right: 2.003513713228429\n"
     ]
    },
    {
     "name": "stderr",
     "output_type": "stream",
     "text": [
      "\r",
      " 52%|█████▏    | 517/1000 [2:11:30<2:00:44, 15.00s/it]"
     ]
    },
    {
     "name": "stdout",
     "output_type": "stream",
     "text": [
      "Intercept 0.3155739798465593\n",
      "Prediction_local [-0.66629924]\n",
      "Right: -2.2913289865156257\n"
     ]
    },
    {
     "name": "stderr",
     "output_type": "stream",
     "text": [
      "\r",
      " 52%|█████▏    | 518/1000 [2:11:45<2:00:16, 14.97s/it]"
     ]
    },
    {
     "name": "stdout",
     "output_type": "stream",
     "text": [
      "Intercept 1.6039173599034091\n",
      "Prediction_local [-4.81059626]\n",
      "Right: -9.292262740714667\n"
     ]
    },
    {
     "name": "stderr",
     "output_type": "stream",
     "text": [
      "\r",
      " 52%|█████▏    | 519/1000 [2:12:00<1:59:57, 14.96s/it]"
     ]
    },
    {
     "name": "stdout",
     "output_type": "stream",
     "text": [
      "Intercept 0.3117091940428857\n",
      "Prediction_local [-0.82510216]\n",
      "Right: 1.615513743474175\n"
     ]
    },
    {
     "name": "stderr",
     "output_type": "stream",
     "text": [
      "\r",
      " 52%|█████▏    | 520/1000 [2:12:15<1:59:44, 14.97s/it]"
     ]
    },
    {
     "name": "stdout",
     "output_type": "stream",
     "text": [
      "Intercept 1.6665222471349264\n",
      "Prediction_local [-4.86235406]\n",
      "Right: -6.819554322765645\n"
     ]
    },
    {
     "name": "stderr",
     "output_type": "stream",
     "text": [
      "\r",
      " 52%|█████▏    | 521/1000 [2:12:30<1:59:28, 14.97s/it]"
     ]
    },
    {
     "name": "stdout",
     "output_type": "stream",
     "text": [
      "Intercept -1.6558741083266486\n",
      "Prediction_local [5.00352925]\n",
      "Right: 11.124512080926515\n"
     ]
    },
    {
     "name": "stderr",
     "output_type": "stream",
     "text": [
      "\r",
      " 52%|█████▏    | 522/1000 [2:12:45<1:59:23, 14.99s/it]"
     ]
    },
    {
     "name": "stdout",
     "output_type": "stream",
     "text": [
      "Intercept 0.5891835681620015\n",
      "Prediction_local [-1.66650408]\n",
      "Right: -0.667036140892876\n"
     ]
    },
    {
     "name": "stderr",
     "output_type": "stream",
     "text": [
      "\r",
      " 52%|█████▏    | 523/1000 [2:13:00<1:59:11, 14.99s/it]"
     ]
    },
    {
     "name": "stdout",
     "output_type": "stream",
     "text": [
      "Intercept -1.6216437506540502\n",
      "Prediction_local [4.91681251]\n",
      "Right: 4.4272597204009045\n"
     ]
    },
    {
     "name": "stderr",
     "output_type": "stream",
     "text": [
      "\r",
      " 52%|█████▏    | 524/1000 [2:13:15<1:58:58, 15.00s/it]"
     ]
    },
    {
     "name": "stdout",
     "output_type": "stream",
     "text": [
      "Intercept 1.6821138257513393\n",
      "Prediction_local [-4.87516221]\n",
      "Right: -2.1672016284308038\n"
     ]
    },
    {
     "name": "stderr",
     "output_type": "stream",
     "text": [
      "\r",
      " 52%|█████▎    | 525/1000 [2:13:31<1:59:40, 15.12s/it]"
     ]
    },
    {
     "name": "stdout",
     "output_type": "stream",
     "text": [
      "Intercept 0.23358058195348846\n",
      "Prediction_local [-0.21636272]\n",
      "Right: 0.5318499196231661\n"
     ]
    },
    {
     "name": "stderr",
     "output_type": "stream",
     "text": [
      "\r",
      " 53%|█████▎    | 526/1000 [2:13:46<1:59:45, 15.16s/it]"
     ]
    },
    {
     "name": "stdout",
     "output_type": "stream",
     "text": [
      "Intercept -0.7793544226014408\n",
      "Prediction_local [2.49309566]\n",
      "Right: 1.3305307725887003\n"
     ]
    },
    {
     "name": "stderr",
     "output_type": "stream",
     "text": [
      "\r",
      " 53%|█████▎    | 527/1000 [2:14:01<1:59:44, 15.19s/it]"
     ]
    },
    {
     "name": "stdout",
     "output_type": "stream",
     "text": [
      "Intercept 0.16904038046504863\n",
      "Prediction_local [-0.55232477]\n",
      "Right: 2.1670312906445393\n"
     ]
    },
    {
     "name": "stderr",
     "output_type": "stream",
     "text": [
      "\r",
      " 53%|█████▎    | 528/1000 [2:14:16<1:59:21, 15.17s/it]"
     ]
    },
    {
     "name": "stdout",
     "output_type": "stream",
     "text": [
      "Intercept 0.2741863475492289\n",
      "Prediction_local [-0.74047411]\n",
      "Right: -1.2020779033312041\n"
     ]
    },
    {
     "name": "stderr",
     "output_type": "stream",
     "text": [
      "\r",
      " 53%|█████▎    | 529/1000 [2:14:31<1:59:05, 15.17s/it]"
     ]
    },
    {
     "name": "stdout",
     "output_type": "stream",
     "text": [
      "Intercept -0.814304489040631\n",
      "Prediction_local [2.5476594]\n",
      "Right: 3.941306656342961\n"
     ]
    },
    {
     "name": "stderr",
     "output_type": "stream",
     "text": [
      "\r",
      " 53%|█████▎    | 530/1000 [2:14:47<1:59:13, 15.22s/it]"
     ]
    },
    {
     "name": "stdout",
     "output_type": "stream",
     "text": [
      "Intercept 0.05137277311360358\n",
      "Prediction_local [0.33006557]\n",
      "Right: -4.085244829337759\n"
     ]
    },
    {
     "name": "stderr",
     "output_type": "stream",
     "text": [
      "\r",
      " 53%|█████▎    | 531/1000 [2:15:03<2:00:23, 15.40s/it]"
     ]
    },
    {
     "name": "stdout",
     "output_type": "stream",
     "text": [
      "Intercept -1.180959037344154\n",
      "Prediction_local [3.75398149]\n",
      "Right: 4.405310885582527\n"
     ]
    },
    {
     "name": "stderr",
     "output_type": "stream",
     "text": [
      "\r",
      " 53%|█████▎    | 532/1000 [2:15:18<2:01:14, 15.54s/it]"
     ]
    },
    {
     "name": "stdout",
     "output_type": "stream",
     "text": [
      "Intercept -1.2792541604696783\n",
      "Prediction_local [3.81903896]\n",
      "Right: 3.941306656342961\n"
     ]
    },
    {
     "name": "stderr",
     "output_type": "stream",
     "text": [
      "\r",
      " 53%|█████▎    | 533/1000 [2:15:34<2:01:25, 15.60s/it]"
     ]
    },
    {
     "name": "stdout",
     "output_type": "stream",
     "text": [
      "Intercept -0.09503243532560508\n",
      "Prediction_local [0.65411876]\n",
      "Right: 2.773597715392008\n"
     ]
    },
    {
     "name": "stderr",
     "output_type": "stream",
     "text": [
      "\r",
      " 53%|█████▎    | 534/1000 [2:15:49<2:00:29, 15.51s/it]"
     ]
    },
    {
     "name": "stdout",
     "output_type": "stream",
     "text": [
      "Intercept -0.7923297142399685\n",
      "Prediction_local [2.45568874]\n",
      "Right: 1.1223919102121342\n"
     ]
    },
    {
     "name": "stderr",
     "output_type": "stream",
     "text": [
      "\r",
      " 54%|█████▎    | 535/1000 [2:16:04<1:58:59, 15.35s/it]"
     ]
    },
    {
     "name": "stdout",
     "output_type": "stream",
     "text": [
      "Intercept 1.6791727168385393\n",
      "Prediction_local [-4.7037236]\n",
      "Right: -3.8578929457344\n"
     ]
    },
    {
     "name": "stderr",
     "output_type": "stream",
     "text": [
      "\r",
      " 54%|█████▎    | 536/1000 [2:16:20<1:58:09, 15.28s/it]"
     ]
    },
    {
     "name": "stdout",
     "output_type": "stream",
     "text": [
      "Intercept 0.21772056900910736\n",
      "Prediction_local [-0.19361978]\n",
      "Right: -1.4841120349566652\n"
     ]
    },
    {
     "name": "stderr",
     "output_type": "stream",
     "text": [
      "\r",
      " 54%|█████▎    | 537/1000 [2:16:35<1:57:27, 15.22s/it]"
     ]
    },
    {
     "name": "stdout",
     "output_type": "stream",
     "text": [
      "Intercept -1.465496794043957\n",
      "Prediction_local [4.8337947]\n",
      "Right: 4.218499617223327\n"
     ]
    },
    {
     "name": "stderr",
     "output_type": "stream",
     "text": [
      "\r",
      " 54%|█████▍    | 538/1000 [2:16:50<1:56:59, 15.19s/it]"
     ]
    },
    {
     "name": "stdout",
     "output_type": "stream",
     "text": [
      "Intercept -1.5102067397441878\n",
      "Prediction_local [4.73336326]\n",
      "Right: 2.958974362548086\n"
     ]
    },
    {
     "name": "stderr",
     "output_type": "stream",
     "text": [
      "\r",
      " 54%|█████▍    | 539/1000 [2:17:05<1:56:10, 15.12s/it]"
     ]
    },
    {
     "name": "stdout",
     "output_type": "stream",
     "text": [
      "Intercept 0.9014146555271256\n",
      "Prediction_local [-2.35789514]\n",
      "Right: -4.2611835527071715\n"
     ]
    },
    {
     "name": "stderr",
     "output_type": "stream",
     "text": [
      "\r",
      " 54%|█████▍    | 540/1000 [2:17:20<1:55:39, 15.09s/it]"
     ]
    },
    {
     "name": "stdout",
     "output_type": "stream",
     "text": [
      "Intercept 1.3643232814155186\n",
      "Prediction_local [-3.64573027]\n",
      "Right: -2.1033682558587947\n"
     ]
    },
    {
     "name": "stderr",
     "output_type": "stream",
     "text": [
      "\r",
      " 54%|█████▍    | 541/1000 [2:17:35<1:55:04, 15.04s/it]"
     ]
    },
    {
     "name": "stdout",
     "output_type": "stream",
     "text": [
      "Intercept -1.1500665134142416\n",
      "Prediction_local [3.59669459]\n",
      "Right: 2.622481728371815\n"
     ]
    },
    {
     "name": "stderr",
     "output_type": "stream",
     "text": [
      "\r",
      " 54%|█████▍    | 542/1000 [2:17:50<1:54:36, 15.02s/it]"
     ]
    },
    {
     "name": "stdout",
     "output_type": "stream",
     "text": [
      "Intercept -0.5013327118082564\n",
      "Prediction_local [1.78939799]\n",
      "Right: 0.08257163051973956\n"
     ]
    },
    {
     "name": "stderr",
     "output_type": "stream",
     "text": [
      "\r",
      " 54%|█████▍    | 543/1000 [2:18:05<1:54:17, 15.01s/it]"
     ]
    },
    {
     "name": "stdout",
     "output_type": "stream",
     "text": [
      "Intercept -1.569126126681163\n",
      "Prediction_local [5.08216708]\n",
      "Right: 7.057690309233403\n"
     ]
    },
    {
     "name": "stderr",
     "output_type": "stream",
     "text": [
      "\r",
      " 54%|█████▍    | 544/1000 [2:18:20<1:53:56, 14.99s/it]"
     ]
    },
    {
     "name": "stdout",
     "output_type": "stream",
     "text": [
      "Intercept 0.06595311289577085\n",
      "Prediction_local [0.46596127]\n",
      "Right: -0.3681533834773266\n"
     ]
    },
    {
     "name": "stderr",
     "output_type": "stream",
     "text": [
      "\r",
      " 55%|█████▍    | 545/1000 [2:18:35<1:53:45, 15.00s/it]"
     ]
    },
    {
     "name": "stdout",
     "output_type": "stream",
     "text": [
      "Intercept 0.9012859403622361\n",
      "Prediction_local [-2.63663521]\n",
      "Right: -3.2505845664311037\n"
     ]
    },
    {
     "name": "stderr",
     "output_type": "stream",
     "text": [
      "\r",
      " 55%|█████▍    | 546/1000 [2:18:50<1:54:12, 15.09s/it]"
     ]
    },
    {
     "name": "stdout",
     "output_type": "stream",
     "text": [
      "Intercept -0.516129214002982\n",
      "Prediction_local [1.84222453]\n",
      "Right: 6.531141810571041\n"
     ]
    },
    {
     "name": "stderr",
     "output_type": "stream",
     "text": [
      "\r",
      " 55%|█████▍    | 547/1000 [2:19:05<1:55:03, 15.24s/it]"
     ]
    },
    {
     "name": "stdout",
     "output_type": "stream",
     "text": [
      "Intercept -0.2171750894912911\n",
      "Prediction_local [0.82702778]\n",
      "Right: 2.478350923523256\n"
     ]
    },
    {
     "name": "stderr",
     "output_type": "stream",
     "text": [
      "\r",
      " 55%|█████▍    | 548/1000 [2:19:21<1:55:25, 15.32s/it]"
     ]
    },
    {
     "name": "stdout",
     "output_type": "stream",
     "text": [
      "Intercept -1.4744993441654661\n",
      "Prediction_local [5.01461765]\n",
      "Right: 2.935177882782728\n"
     ]
    },
    {
     "name": "stderr",
     "output_type": "stream",
     "text": [
      "\r",
      " 55%|█████▍    | 549/1000 [2:19:36<1:55:19, 15.34s/it]"
     ]
    },
    {
     "name": "stdout",
     "output_type": "stream",
     "text": [
      "Intercept -1.60484829270054\n",
      "Prediction_local [4.88853796]\n",
      "Right: 3.183491928089624\n"
     ]
    },
    {
     "name": "stderr",
     "output_type": "stream",
     "text": [
      "\r",
      " 55%|█████▌    | 550/1000 [2:19:52<1:55:16, 15.37s/it]"
     ]
    },
    {
     "name": "stdout",
     "output_type": "stream",
     "text": [
      "Intercept 0.5507458359482671\n",
      "Prediction_local [-1.47455642]\n",
      "Right: -3.451170177919868\n"
     ]
    },
    {
     "name": "stderr",
     "output_type": "stream",
     "text": [
      "\r",
      " 55%|█████▌    | 551/1000 [2:20:07<1:54:59, 15.37s/it]"
     ]
    },
    {
     "name": "stdout",
     "output_type": "stream",
     "text": [
      "Intercept 0.6323869266991821\n",
      "Prediction_local [-1.48377796]\n",
      "Right: -2.806546634483353\n"
     ]
    },
    {
     "name": "stderr",
     "output_type": "stream",
     "text": [
      "\r",
      " 55%|█████▌    | 552/1000 [2:20:23<1:54:48, 15.38s/it]"
     ]
    },
    {
     "name": "stdout",
     "output_type": "stream",
     "text": [
      "Intercept 1.706527362123432\n",
      "Prediction_local [-5.0660336]\n",
      "Right: -3.066505171707765\n"
     ]
    },
    {
     "name": "stderr",
     "output_type": "stream",
     "text": [
      "\r",
      " 55%|█████▌    | 553/1000 [2:20:38<1:54:30, 15.37s/it]"
     ]
    },
    {
     "name": "stdout",
     "output_type": "stream",
     "text": [
      "Intercept -0.08770537075678717\n",
      "Prediction_local [0.58773134]\n",
      "Right: 4.925622226340762\n"
     ]
    },
    {
     "name": "stderr",
     "output_type": "stream",
     "text": [
      "\r",
      " 55%|█████▌    | 554/1000 [2:20:53<1:54:29, 15.40s/it]"
     ]
    },
    {
     "name": "stdout",
     "output_type": "stream",
     "text": [
      "Intercept -0.43000052711086456\n",
      "Prediction_local [1.88431875]\n",
      "Right: 2.875612664528784\n"
     ]
    },
    {
     "name": "stderr",
     "output_type": "stream",
     "text": [
      "\r",
      " 56%|█████▌    | 555/1000 [2:21:09<1:54:23, 15.42s/it]"
     ]
    },
    {
     "name": "stdout",
     "output_type": "stream",
     "text": [
      "Intercept 1.0578379239037536\n",
      "Prediction_local [-3.01440441]\n",
      "Right: -1.6099078647716465\n"
     ]
    },
    {
     "name": "stderr",
     "output_type": "stream",
     "text": [
      "\r",
      " 56%|█████▌    | 556/1000 [2:21:24<1:53:59, 15.40s/it]"
     ]
    },
    {
     "name": "stdout",
     "output_type": "stream",
     "text": [
      "Intercept 0.5051226292545861\n",
      "Prediction_local [-1.51259541]\n",
      "Right: -3.8889442691548277\n"
     ]
    },
    {
     "name": "stderr",
     "output_type": "stream",
     "text": [
      "\r",
      " 56%|█████▌    | 557/1000 [2:21:40<1:53:33, 15.38s/it]"
     ]
    },
    {
     "name": "stdout",
     "output_type": "stream",
     "text": [
      "Intercept -0.45918473005947413\n",
      "Prediction_local [1.74610118]\n",
      "Right: 2.4822276452266054\n"
     ]
    },
    {
     "name": "stderr",
     "output_type": "stream",
     "text": [
      "\r",
      " 56%|█████▌    | 558/1000 [2:21:55<1:53:19, 15.38s/it]"
     ]
    },
    {
     "name": "stdout",
     "output_type": "stream",
     "text": [
      "Intercept 0.6560667607447059\n",
      "Prediction_local [-1.57702796]\n",
      "Right: -3.9822616784770424\n"
     ]
    },
    {
     "name": "stderr",
     "output_type": "stream",
     "text": [
      "\r",
      " 56%|█████▌    | 559/1000 [2:22:10<1:52:56, 15.37s/it]"
     ]
    },
    {
     "name": "stdout",
     "output_type": "stream",
     "text": [
      "Intercept 0.10124359320890404\n",
      "Prediction_local [-0.38901468]\n",
      "Right: 5.042476183172625\n"
     ]
    },
    {
     "name": "stderr",
     "output_type": "stream",
     "text": [
      "\r",
      " 56%|█████▌    | 560/1000 [2:22:26<1:52:53, 15.39s/it]"
     ]
    },
    {
     "name": "stdout",
     "output_type": "stream",
     "text": [
      "Intercept 0.5830456239066335\n",
      "Prediction_local [-1.38381711]\n",
      "Right: -4.356495008299583\n"
     ]
    },
    {
     "name": "stderr",
     "output_type": "stream",
     "text": [
      "\r",
      " 56%|█████▌    | 561/1000 [2:22:41<1:52:56, 15.44s/it]"
     ]
    },
    {
     "name": "stdout",
     "output_type": "stream",
     "text": [
      "Intercept 0.014399107286206775\n",
      "Prediction_local [0.43989687]\n",
      "Right: -0.7914141507371568\n"
     ]
    },
    {
     "name": "stderr",
     "output_type": "stream",
     "text": [
      "\r",
      " 56%|█████▌    | 562/1000 [2:22:57<1:52:51, 15.46s/it]"
     ]
    },
    {
     "name": "stdout",
     "output_type": "stream",
     "text": [
      "Intercept -0.17542691237800956\n",
      "Prediction_local [0.70356512]\n",
      "Right: 1.7431846551883734\n"
     ]
    },
    {
     "name": "stderr",
     "output_type": "stream",
     "text": [
      "\r",
      " 56%|█████▋    | 563/1000 [2:23:12<1:52:16, 15.42s/it]"
     ]
    },
    {
     "name": "stdout",
     "output_type": "stream",
     "text": [
      "Intercept 0.5119600138358138\n",
      "Prediction_local [-1.53111007]\n",
      "Right: 0.6123715856182395\n"
     ]
    },
    {
     "name": "stderr",
     "output_type": "stream",
     "text": [
      "\r",
      " 56%|█████▋    | 564/1000 [2:23:27<1:51:53, 15.40s/it]"
     ]
    },
    {
     "name": "stdout",
     "output_type": "stream",
     "text": [
      "Intercept -0.768571950049875\n",
      "Prediction_local [2.83810731]\n",
      "Right: 4.967339967192872\n"
     ]
    },
    {
     "name": "stderr",
     "output_type": "stream",
     "text": [
      "\r",
      " 56%|█████▋    | 565/1000 [2:23:43<1:51:36, 15.39s/it]"
     ]
    },
    {
     "name": "stdout",
     "output_type": "stream",
     "text": [
      "Intercept -1.5477384207626845\n",
      "Prediction_local [4.98244889]\n",
      "Right: 4.44740490417203\n"
     ]
    },
    {
     "name": "stderr",
     "output_type": "stream",
     "text": [
      "\r",
      " 57%|█████▋    | 566/1000 [2:23:58<1:51:46, 15.45s/it]"
     ]
    },
    {
     "name": "stdout",
     "output_type": "stream",
     "text": [
      "Intercept -1.0995016709865806\n",
      "Prediction_local [3.47749247]\n",
      "Right: -0.11072167361973033\n"
     ]
    },
    {
     "name": "stderr",
     "output_type": "stream",
     "text": [
      "\r",
      " 57%|█████▋    | 567/1000 [2:24:14<1:51:48, 15.49s/it]"
     ]
    },
    {
     "name": "stdout",
     "output_type": "stream",
     "text": [
      "Intercept -1.2046758343888064\n",
      "Prediction_local [3.72631587]\n",
      "Right: 3.3839777705971423\n"
     ]
    },
    {
     "name": "stderr",
     "output_type": "stream",
     "text": [
      "\r",
      " 57%|█████▋    | 568/1000 [2:24:30<1:51:50, 15.53s/it]"
     ]
    },
    {
     "name": "stdout",
     "output_type": "stream",
     "text": [
      "Intercept 0.1816303312674661\n",
      "Prediction_local [-0.38846899]\n",
      "Right: -1.500829905003135\n"
     ]
    },
    {
     "name": "stderr",
     "output_type": "stream",
     "text": [
      "\r",
      " 57%|█████▋    | 569/1000 [2:24:45<1:51:17, 15.49s/it]"
     ]
    },
    {
     "name": "stdout",
     "output_type": "stream",
     "text": [
      "Intercept 0.304960631406269\n",
      "Prediction_local [-1.16179295]\n",
      "Right: -0.2864336992827672\n"
     ]
    },
    {
     "name": "stderr",
     "output_type": "stream",
     "text": [
      "\r",
      " 57%|█████▋    | 570/1000 [2:25:01<1:51:01, 15.49s/it]"
     ]
    },
    {
     "name": "stdout",
     "output_type": "stream",
     "text": [
      "Intercept -0.1456495437945104\n",
      "Prediction_local [0.67133882]\n",
      "Right: 2.620266144785682\n"
     ]
    },
    {
     "name": "stderr",
     "output_type": "stream",
     "text": [
      "\r",
      " 57%|█████▋    | 571/1000 [2:25:15<1:49:35, 15.33s/it]"
     ]
    },
    {
     "name": "stdout",
     "output_type": "stream",
     "text": [
      "Intercept 0.6284950398012139\n",
      "Prediction_local [-1.66399053]\n",
      "Right: -3.8161206433309713\n"
     ]
    },
    {
     "name": "stderr",
     "output_type": "stream",
     "text": [
      "\r",
      " 57%|█████▋    | 572/1000 [2:25:30<1:48:30, 15.21s/it]"
     ]
    },
    {
     "name": "stdout",
     "output_type": "stream",
     "text": [
      "Intercept 0.8388468570625888\n",
      "Prediction_local [-2.21792189]\n",
      "Right: -2.476633889577074\n"
     ]
    },
    {
     "name": "stderr",
     "output_type": "stream",
     "text": [
      "\r",
      " 57%|█████▋    | 573/1000 [2:25:45<1:47:41, 15.13s/it]"
     ]
    },
    {
     "name": "stdout",
     "output_type": "stream",
     "text": [
      "Intercept 0.925167566825576\n",
      "Prediction_local [-2.60295115]\n",
      "Right: -3.391901631838574\n"
     ]
    },
    {
     "name": "stderr",
     "output_type": "stream",
     "text": [
      "\r",
      " 57%|█████▋    | 574/1000 [2:26:00<1:46:58, 15.07s/it]"
     ]
    },
    {
     "name": "stdout",
     "output_type": "stream",
     "text": [
      "Intercept -0.49615219590667525\n",
      "Prediction_local [1.64943396]\n",
      "Right: -1.574716291125508\n"
     ]
    },
    {
     "name": "stderr",
     "output_type": "stream",
     "text": [
      "\r",
      " 57%|█████▊    | 575/1000 [2:26:15<1:46:39, 15.06s/it]"
     ]
    },
    {
     "name": "stdout",
     "output_type": "stream",
     "text": [
      "Intercept 1.0086279459965377\n",
      "Prediction_local [-2.64179725]\n",
      "Right: -2.1593667275433037\n"
     ]
    },
    {
     "name": "stderr",
     "output_type": "stream",
     "text": [
      "\r",
      " 58%|█████▊    | 576/1000 [2:26:30<1:46:09, 15.02s/it]"
     ]
    },
    {
     "name": "stdout",
     "output_type": "stream",
     "text": [
      "Intercept 0.651452329098133\n",
      "Prediction_local [-1.71187118]\n",
      "Right: -3.9402885842326953\n"
     ]
    },
    {
     "name": "stderr",
     "output_type": "stream",
     "text": [
      "\r",
      " 58%|█████▊    | 577/1000 [2:26:45<1:45:33, 14.97s/it]"
     ]
    },
    {
     "name": "stdout",
     "output_type": "stream",
     "text": [
      "Intercept 0.6608359182590132\n",
      "Prediction_local [-1.67342681]\n",
      "Right: -4.7774529485876185\n"
     ]
    },
    {
     "name": "stderr",
     "output_type": "stream",
     "text": [
      "\r",
      " 58%|█████▊    | 578/1000 [2:27:00<1:45:07, 14.95s/it]"
     ]
    },
    {
     "name": "stdout",
     "output_type": "stream",
     "text": [
      "Intercept 0.62474390681292\n",
      "Prediction_local [-1.5259527]\n",
      "Right: -3.74412308011214\n"
     ]
    },
    {
     "name": "stderr",
     "output_type": "stream",
     "text": [
      "\r",
      " 58%|█████▊    | 579/1000 [2:27:15<1:44:41, 14.92s/it]"
     ]
    },
    {
     "name": "stdout",
     "output_type": "stream",
     "text": [
      "Intercept 0.18356588028649964\n",
      "Prediction_local [-0.36166154]\n",
      "Right: -1.7202199935330882\n"
     ]
    },
    {
     "name": "stderr",
     "output_type": "stream",
     "text": [
      "\r",
      " 58%|█████▊    | 580/1000 [2:27:30<1:44:19, 14.90s/it]"
     ]
    },
    {
     "name": "stdout",
     "output_type": "stream",
     "text": [
      "Intercept -1.1729920714290019\n",
      "Prediction_local [3.56646117]\n",
      "Right: 3.3416002461287286\n"
     ]
    },
    {
     "name": "stderr",
     "output_type": "stream",
     "text": [
      "\r",
      " 58%|█████▊    | 581/1000 [2:27:45<1:44:00, 14.89s/it]"
     ]
    },
    {
     "name": "stdout",
     "output_type": "stream",
     "text": [
      "Intercept 0.3246938729216908\n",
      "Prediction_local [-0.68494874]\n",
      "Right: -0.12472793499571597\n"
     ]
    },
    {
     "name": "stderr",
     "output_type": "stream",
     "text": [
      "\r",
      " 58%|█████▊    | 582/1000 [2:28:00<1:44:05, 14.94s/it]"
     ]
    },
    {
     "name": "stdout",
     "output_type": "stream",
     "text": [
      "Intercept -0.5408439740208065\n",
      "Prediction_local [1.61853608]\n",
      "Right: -4.825357606106418\n"
     ]
    },
    {
     "name": "stderr",
     "output_type": "stream",
     "text": [
      "\r",
      " 58%|█████▊    | 583/1000 [2:28:15<1:44:01, 14.97s/it]"
     ]
    },
    {
     "name": "stdout",
     "output_type": "stream",
     "text": [
      "Intercept -0.12532421560164508\n",
      "Prediction_local [0.57387644]\n",
      "Right: 1.3546409147125447\n"
     ]
    },
    {
     "name": "stderr",
     "output_type": "stream",
     "text": [
      "\r",
      " 58%|█████▊    | 584/1000 [2:28:30<1:43:44, 14.96s/it]"
     ]
    },
    {
     "name": "stdout",
     "output_type": "stream",
     "text": [
      "Intercept 1.268051940982299\n",
      "Prediction_local [-3.57369154]\n",
      "Right: -1.415946050983746\n"
     ]
    },
    {
     "name": "stderr",
     "output_type": "stream",
     "text": [
      "\r",
      " 58%|█████▊    | 585/1000 [2:28:44<1:43:18, 14.94s/it]"
     ]
    },
    {
     "name": "stdout",
     "output_type": "stream",
     "text": [
      "Intercept -0.13281873374827374\n",
      "Prediction_local [0.467429]\n",
      "Right: 3.403006759528213\n"
     ]
    },
    {
     "name": "stderr",
     "output_type": "stream",
     "text": [
      "\r",
      " 59%|█████▊    | 586/1000 [2:28:59<1:43:09, 14.95s/it]"
     ]
    },
    {
     "name": "stdout",
     "output_type": "stream",
     "text": [
      "Intercept -1.115880919177733\n",
      "Prediction_local [3.62273597]\n",
      "Right: 2.2279328613733784\n"
     ]
    },
    {
     "name": "stderr",
     "output_type": "stream",
     "text": [
      "\r",
      " 59%|█████▊    | 587/1000 [2:29:14<1:42:47, 14.93s/it]"
     ]
    },
    {
     "name": "stdout",
     "output_type": "stream",
     "text": [
      "Intercept -1.56749721309285\n",
      "Prediction_local [4.95419985]\n",
      "Right: 5.399162272535745\n"
     ]
    },
    {
     "name": "stderr",
     "output_type": "stream",
     "text": [
      "\r",
      " 59%|█████▉    | 588/1000 [2:29:29<1:42:34, 14.94s/it]"
     ]
    },
    {
     "name": "stdout",
     "output_type": "stream",
     "text": [
      "Intercept 0.592661850610627\n",
      "Prediction_local [-1.71491882]\n",
      "Right: 1.2061676456375234\n"
     ]
    },
    {
     "name": "stderr",
     "output_type": "stream",
     "text": [
      "\r",
      " 59%|█████▉    | 589/1000 [2:29:44<1:42:19, 14.94s/it]"
     ]
    },
    {
     "name": "stdout",
     "output_type": "stream",
     "text": [
      "Intercept -0.4348976168074388\n",
      "Prediction_local [1.43183791]\n",
      "Right: 2.9143294455054365\n"
     ]
    },
    {
     "name": "stderr",
     "output_type": "stream",
     "text": [
      "\r",
      " 59%|█████▉    | 590/1000 [2:29:59<1:42:40, 15.03s/it]"
     ]
    },
    {
     "name": "stdout",
     "output_type": "stream",
     "text": [
      "Intercept 0.8594802909076598\n",
      "Prediction_local [-2.2405935]\n",
      "Right: -6.463392674177195\n"
     ]
    },
    {
     "name": "stderr",
     "output_type": "stream",
     "text": [
      "\r",
      " 59%|█████▉    | 591/1000 [2:30:15<1:43:17, 15.15s/it]"
     ]
    },
    {
     "name": "stdout",
     "output_type": "stream",
     "text": [
      "Intercept 0.8752665639065086\n",
      "Prediction_local [-2.59486989]\n",
      "Right: -3.7976064851320097\n"
     ]
    },
    {
     "name": "stderr",
     "output_type": "stream",
     "text": [
      "\r",
      " 59%|█████▉    | 592/1000 [2:30:30<1:43:36, 15.24s/it]"
     ]
    },
    {
     "name": "stdout",
     "output_type": "stream",
     "text": [
      "Intercept -1.1217572372845754\n",
      "Prediction_local [3.65229893]\n",
      "Right: 5.4418737852902614\n"
     ]
    },
    {
     "name": "stderr",
     "output_type": "stream",
     "text": [
      "\r",
      " 59%|█████▉    | 593/1000 [2:30:46<1:43:55, 15.32s/it]"
     ]
    },
    {
     "name": "stdout",
     "output_type": "stream",
     "text": [
      "Intercept 1.6417463718047804\n",
      "Prediction_local [-4.97669041]\n",
      "Right: 0.4463577311492696\n"
     ]
    },
    {
     "name": "stderr",
     "output_type": "stream",
     "text": [
      "\r",
      " 59%|█████▉    | 594/1000 [2:31:01<1:43:55, 15.36s/it]"
     ]
    },
    {
     "name": "stdout",
     "output_type": "stream",
     "text": [
      "Intercept -0.22750251212547176\n",
      "Prediction_local [0.88655735]\n",
      "Right: 2.593138205063603\n"
     ]
    },
    {
     "name": "stderr",
     "output_type": "stream",
     "text": [
      "\r",
      " 60%|█████▉    | 595/1000 [2:31:17<1:43:34, 15.34s/it]"
     ]
    },
    {
     "name": "stdout",
     "output_type": "stream",
     "text": [
      "Intercept -0.59340571897405\n",
      "Prediction_local [2.27426886]\n",
      "Right: 4.099109966060773\n"
     ]
    },
    {
     "name": "stderr",
     "output_type": "stream",
     "text": [
      "\r",
      " 60%|█████▉    | 596/1000 [2:31:32<1:43:05, 15.31s/it]"
     ]
    },
    {
     "name": "stdout",
     "output_type": "stream",
     "text": [
      "Intercept -0.19385467281412808\n",
      "Prediction_local [0.60735918]\n",
      "Right: 1.2464846468026627\n"
     ]
    },
    {
     "name": "stderr",
     "output_type": "stream",
     "text": [
      "\r",
      " 60%|█████▉    | 597/1000 [2:31:47<1:42:43, 15.29s/it]"
     ]
    },
    {
     "name": "stdout",
     "output_type": "stream",
     "text": [
      "Intercept -0.5030243568535755\n",
      "Prediction_local [1.85896666]\n",
      "Right: 3.51532977487402\n"
     ]
    },
    {
     "name": "stderr",
     "output_type": "stream",
     "text": [
      "\r",
      " 60%|█████▉    | 598/1000 [2:32:02<1:42:12, 15.25s/it]"
     ]
    },
    {
     "name": "stdout",
     "output_type": "stream",
     "text": [
      "Intercept -1.6123486559220999\n",
      "Prediction_local [5.0302032]\n",
      "Right: 4.9164961379616425\n"
     ]
    },
    {
     "name": "stderr",
     "output_type": "stream",
     "text": [
      "\r",
      " 60%|█████▉    | 599/1000 [2:32:17<1:41:46, 15.23s/it]"
     ]
    },
    {
     "name": "stdout",
     "output_type": "stream",
     "text": [
      "Intercept 0.25669537105023343\n",
      "Prediction_local [-0.67858179]\n",
      "Right: 1.9352609299484225\n"
     ]
    },
    {
     "name": "stderr",
     "output_type": "stream",
     "text": [
      "\r",
      " 60%|██████    | 600/1000 [2:32:33<1:41:11, 15.18s/it]"
     ]
    },
    {
     "name": "stdout",
     "output_type": "stream",
     "text": [
      "Intercept 0.22037696518872407\n",
      "Prediction_local [-0.21951038]\n",
      "Right: 3.914319260493915\n"
     ]
    },
    {
     "name": "stderr",
     "output_type": "stream",
     "text": [
      "\r",
      " 60%|██████    | 601/1000 [2:32:48<1:40:40, 15.14s/it]"
     ]
    },
    {
     "name": "stdout",
     "output_type": "stream",
     "text": [
      "Intercept -1.5422448490229086\n",
      "Prediction_local [4.75437116]\n",
      "Right: 5.891001918627163\n"
     ]
    },
    {
     "name": "stderr",
     "output_type": "stream",
     "text": [
      "\r",
      " 60%|██████    | 602/1000 [2:33:02<1:39:59, 15.07s/it]"
     ]
    },
    {
     "name": "stdout",
     "output_type": "stream",
     "text": [
      "Intercept -0.5004559135968424\n",
      "Prediction_local [1.81074931]\n",
      "Right: 0.38688540550955147\n"
     ]
    },
    {
     "name": "stderr",
     "output_type": "stream",
     "text": [
      "\r",
      " 60%|██████    | 603/1000 [2:33:18<1:39:42, 15.07s/it]"
     ]
    },
    {
     "name": "stdout",
     "output_type": "stream",
     "text": [
      "Intercept 0.6604938135737165\n",
      "Prediction_local [-1.57112691]\n",
      "Right: -1.6778483913535431\n"
     ]
    },
    {
     "name": "stderr",
     "output_type": "stream",
     "text": [
      "\r",
      " 60%|██████    | 604/1000 [2:33:33<1:39:28, 15.07s/it]"
     ]
    },
    {
     "name": "stdout",
     "output_type": "stream",
     "text": [
      "Intercept -0.7811758779059805\n",
      "Prediction_local [2.32949286]\n",
      "Right: -0.37840446198705735\n"
     ]
    },
    {
     "name": "stderr",
     "output_type": "stream",
     "text": [
      "\r",
      " 60%|██████    | 605/1000 [2:33:48<1:39:03, 15.05s/it]"
     ]
    },
    {
     "name": "stdout",
     "output_type": "stream",
     "text": [
      "Intercept -1.512687853863028\n",
      "Prediction_local [4.77654393]\n",
      "Right: 5.83117774825927\n"
     ]
    },
    {
     "name": "stderr",
     "output_type": "stream",
     "text": [
      "\r",
      " 61%|██████    | 606/1000 [2:34:03<1:38:36, 15.02s/it]"
     ]
    },
    {
     "name": "stdout",
     "output_type": "stream",
     "text": [
      "Intercept 0.5609015311049249\n",
      "Prediction_local [-1.34495825]\n",
      "Right: 1.1887686991041175\n"
     ]
    },
    {
     "name": "stderr",
     "output_type": "stream",
     "text": [
      "\r",
      " 61%|██████    | 607/1000 [2:34:18<1:38:20, 15.02s/it]"
     ]
    },
    {
     "name": "stdout",
     "output_type": "stream",
     "text": [
      "Intercept 1.4120716094847925\n",
      "Prediction_local [-3.72730094]\n",
      "Right: -3.680823139063829\n"
     ]
    },
    {
     "name": "stderr",
     "output_type": "stream",
     "text": [
      "\r",
      " 61%|██████    | 608/1000 [2:34:33<1:38:04, 15.01s/it]"
     ]
    },
    {
     "name": "stdout",
     "output_type": "stream",
     "text": [
      "Intercept -0.4752209802672428\n",
      "Prediction_local [1.62450283]\n",
      "Right: 2.5744255624255987\n"
     ]
    },
    {
     "name": "stderr",
     "output_type": "stream",
     "text": [
      "\r",
      " 61%|██████    | 609/1000 [2:34:48<1:37:57, 15.03s/it]"
     ]
    },
    {
     "name": "stdout",
     "output_type": "stream",
     "text": [
      "Intercept 0.6558001883236961\n",
      "Prediction_local [-1.37880141]\n",
      "Right: -0.6447820260250483\n"
     ]
    },
    {
     "name": "stderr",
     "output_type": "stream",
     "text": [
      "\r",
      " 61%|██████    | 610/1000 [2:35:03<1:37:45, 15.04s/it]"
     ]
    },
    {
     "name": "stdout",
     "output_type": "stream",
     "text": [
      "Intercept 1.7179512185932686\n",
      "Prediction_local [-4.84925499]\n",
      "Right: -3.230223530458096\n"
     ]
    },
    {
     "name": "stderr",
     "output_type": "stream",
     "text": [
      "\r",
      " 61%|██████    | 611/1000 [2:35:18<1:37:30, 15.04s/it]"
     ]
    },
    {
     "name": "stdout",
     "output_type": "stream",
     "text": [
      "Intercept -0.3757737617828326\n",
      "Prediction_local [1.6124279]\n",
      "Right: -1.6639528898354148\n"
     ]
    },
    {
     "name": "stderr",
     "output_type": "stream",
     "text": [
      "\r",
      " 61%|██████    | 612/1000 [2:35:33<1:37:09, 15.02s/it]"
     ]
    },
    {
     "name": "stdout",
     "output_type": "stream",
     "text": [
      "Intercept 0.21189456323472797\n",
      "Prediction_local [-0.30589445]\n",
      "Right: -2.763612389341359\n"
     ]
    },
    {
     "name": "stderr",
     "output_type": "stream",
     "text": [
      "\r",
      " 61%|██████▏   | 613/1000 [2:35:48<1:36:51, 15.02s/it]"
     ]
    },
    {
     "name": "stdout",
     "output_type": "stream",
     "text": [
      "Intercept 1.69354405536065\n",
      "Prediction_local [-4.98866486]\n",
      "Right: -2.156637650791659\n"
     ]
    },
    {
     "name": "stderr",
     "output_type": "stream",
     "text": [
      "\r",
      " 61%|██████▏   | 614/1000 [2:36:03<1:36:28, 15.00s/it]"
     ]
    },
    {
     "name": "stdout",
     "output_type": "stream",
     "text": [
      "Intercept 0.26142426722966194\n",
      "Prediction_local [-0.20834493]\n",
      "Right: -1.6575784927325554\n"
     ]
    },
    {
     "name": "stderr",
     "output_type": "stream",
     "text": [
      "\r",
      " 62%|██████▏   | 615/1000 [2:36:18<1:36:17, 15.01s/it]"
     ]
    },
    {
     "name": "stdout",
     "output_type": "stream",
     "text": [
      "Intercept -0.03115256967011218\n",
      "Prediction_local [0.67280467]\n",
      "Right: 3.040962194060727\n"
     ]
    },
    {
     "name": "stderr",
     "output_type": "stream",
     "text": [
      "\r",
      " 62%|██████▏   | 616/1000 [2:36:33<1:36:25, 15.07s/it]"
     ]
    },
    {
     "name": "stdout",
     "output_type": "stream",
     "text": [
      "Intercept -0.03679143995932979\n",
      "Prediction_local [0.38075647]\n",
      "Right: -2.6815539538164903\n"
     ]
    },
    {
     "name": "stderr",
     "output_type": "stream",
     "text": [
      "\r",
      " 62%|██████▏   | 617/1000 [2:36:48<1:36:29, 15.12s/it]"
     ]
    },
    {
     "name": "stdout",
     "output_type": "stream",
     "text": [
      "Intercept 0.24869519947321328\n",
      "Prediction_local [-0.49822886]\n",
      "Right: -2.297220427784785\n"
     ]
    },
    {
     "name": "stderr",
     "output_type": "stream",
     "text": [
      "\r",
      " 62%|██████▏   | 618/1000 [2:37:03<1:36:26, 15.15s/it]"
     ]
    },
    {
     "name": "stdout",
     "output_type": "stream",
     "text": [
      "Intercept 0.23041471363820443\n",
      "Prediction_local [-0.38924923]\n",
      "Right: -0.8366484143451973\n"
     ]
    },
    {
     "name": "stderr",
     "output_type": "stream",
     "text": [
      "\r",
      " 62%|██████▏   | 619/1000 [2:37:18<1:36:01, 15.12s/it]"
     ]
    },
    {
     "name": "stdout",
     "output_type": "stream",
     "text": [
      "Intercept 1.0134711159566328\n",
      "Prediction_local [-2.85318539]\n",
      "Right: -1.7560591873935032\n"
     ]
    },
    {
     "name": "stderr",
     "output_type": "stream",
     "text": [
      "\r",
      " 62%|██████▏   | 620/1000 [2:37:34<1:35:52, 15.14s/it]"
     ]
    },
    {
     "name": "stdout",
     "output_type": "stream",
     "text": [
      "Intercept -0.062124914171030665\n",
      "Prediction_local [0.35323504]\n",
      "Right: 0.9202275795395674\n"
     ]
    },
    {
     "name": "stderr",
     "output_type": "stream",
     "text": [
      "\r",
      " 62%|██████▏   | 621/1000 [2:37:49<1:35:41, 15.15s/it]"
     ]
    },
    {
     "name": "stdout",
     "output_type": "stream",
     "text": [
      "Intercept -0.822845664158274\n",
      "Prediction_local [2.92989929]\n",
      "Right: 4.646637570503152\n"
     ]
    },
    {
     "name": "stderr",
     "output_type": "stream",
     "text": [
      "\r",
      " 62%|██████▏   | 622/1000 [2:38:04<1:35:32, 15.17s/it]"
     ]
    },
    {
     "name": "stdout",
     "output_type": "stream",
     "text": [
      "Intercept 0.889486699006969\n",
      "Prediction_local [-2.46311975]\n",
      "Right: -1.3729287047958194\n"
     ]
    },
    {
     "name": "stderr",
     "output_type": "stream",
     "text": [
      "\r",
      " 62%|██████▏   | 623/1000 [2:38:19<1:35:26, 15.19s/it]"
     ]
    },
    {
     "name": "stdout",
     "output_type": "stream",
     "text": [
      "Intercept -0.8513317848671568\n",
      "Prediction_local [2.78386535]\n",
      "Right: 1.9029484277780604\n"
     ]
    },
    {
     "name": "stderr",
     "output_type": "stream",
     "text": [
      "\r",
      " 62%|██████▏   | 624/1000 [2:38:34<1:35:09, 15.19s/it]"
     ]
    },
    {
     "name": "stdout",
     "output_type": "stream",
     "text": [
      "Intercept -0.16595684018292722\n",
      "Prediction_local [0.88811274]\n",
      "Right: 0.733553873000523\n"
     ]
    },
    {
     "name": "stderr",
     "output_type": "stream",
     "text": [
      "\r",
      " 62%|██████▎   | 625/1000 [2:38:50<1:34:57, 15.19s/it]"
     ]
    },
    {
     "name": "stdout",
     "output_type": "stream",
     "text": [
      "Intercept -1.5149077771969852\n",
      "Prediction_local [5.10855044]\n",
      "Right: 5.001890861493373\n"
     ]
    },
    {
     "name": "stderr",
     "output_type": "stream",
     "text": [
      "\r",
      " 63%|██████▎   | 626/1000 [2:39:05<1:34:47, 15.21s/it]"
     ]
    },
    {
     "name": "stdout",
     "output_type": "stream",
     "text": [
      "Intercept -0.48881824569835125\n",
      "Prediction_local [1.6397723]\n",
      "Right: 0.29265900895124364\n"
     ]
    },
    {
     "name": "stderr",
     "output_type": "stream",
     "text": [
      "\r",
      " 63%|██████▎   | 627/1000 [2:39:20<1:34:23, 15.18s/it]"
     ]
    },
    {
     "name": "stdout",
     "output_type": "stream",
     "text": [
      "Intercept -0.004081144372792195\n",
      "Prediction_local [0.63132196]\n",
      "Right: 1.1133880011374262\n"
     ]
    },
    {
     "name": "stderr",
     "output_type": "stream",
     "text": [
      "\r",
      " 63%|██████▎   | 628/1000 [2:39:35<1:34:22, 15.22s/it]"
     ]
    },
    {
     "name": "stdout",
     "output_type": "stream",
     "text": [
      "Intercept -0.4034675536007605\n",
      "Prediction_local [1.54604626]\n",
      "Right: 1.5359843012031775\n"
     ]
    },
    {
     "name": "stderr",
     "output_type": "stream",
     "text": [
      "\r",
      " 63%|██████▎   | 629/1000 [2:39:50<1:34:00, 15.20s/it]"
     ]
    },
    {
     "name": "stdout",
     "output_type": "stream",
     "text": [
      "Intercept 0.568450570640516\n",
      "Prediction_local [-1.62267126]\n",
      "Right: -7.10577318153094\n"
     ]
    },
    {
     "name": "stderr",
     "output_type": "stream",
     "text": [
      "\r",
      " 63%|██████▎   | 630/1000 [2:40:06<1:34:00, 15.24s/it]"
     ]
    },
    {
     "name": "stdout",
     "output_type": "stream",
     "text": [
      "Intercept -0.45393237926856056\n",
      "Prediction_local [1.81527505]\n",
      "Right: -0.8337999019349265\n"
     ]
    },
    {
     "name": "stderr",
     "output_type": "stream",
     "text": [
      "\r",
      " 63%|██████▎   | 631/1000 [2:40:21<1:33:32, 15.21s/it]"
     ]
    },
    {
     "name": "stdout",
     "output_type": "stream",
     "text": [
      "Intercept 1.268049638339991\n",
      "Prediction_local [-3.60327021]\n",
      "Right: -4.069941719885417\n"
     ]
    },
    {
     "name": "stderr",
     "output_type": "stream",
     "text": [
      "\r",
      " 63%|██████▎   | 632/1000 [2:40:36<1:33:16, 15.21s/it]"
     ]
    },
    {
     "name": "stdout",
     "output_type": "stream",
     "text": [
      "Intercept 1.3681996894608668\n",
      "Prediction_local [-3.67879754]\n",
      "Right: -3.2081009706624584\n"
     ]
    },
    {
     "name": "stderr",
     "output_type": "stream",
     "text": [
      "\r",
      " 63%|██████▎   | 633/1000 [2:40:51<1:32:52, 15.18s/it]"
     ]
    },
    {
     "name": "stdout",
     "output_type": "stream",
     "text": [
      "Intercept 1.0648388998082015\n",
      "Prediction_local [-2.90614956]\n",
      "Right: -3.431763606338116\n"
     ]
    },
    {
     "name": "stderr",
     "output_type": "stream",
     "text": [
      "\r",
      " 63%|██████▎   | 634/1000 [2:41:06<1:32:08, 15.11s/it]"
     ]
    },
    {
     "name": "stdout",
     "output_type": "stream",
     "text": [
      "Intercept -1.5663775440872079\n",
      "Prediction_local [4.97115721]\n",
      "Right: 3.737079598948467\n"
     ]
    },
    {
     "name": "stderr",
     "output_type": "stream",
     "text": [
      "\r",
      " 64%|██████▎   | 635/1000 [2:41:21<1:31:29, 15.04s/it]"
     ]
    },
    {
     "name": "stdout",
     "output_type": "stream",
     "text": [
      "Intercept 0.6398136237006435\n",
      "Prediction_local [-1.61061389]\n",
      "Right: -0.20467523103377036\n"
     ]
    },
    {
     "name": "stderr",
     "output_type": "stream",
     "text": [
      "\r",
      " 64%|██████▎   | 636/1000 [2:41:36<1:31:54, 15.15s/it]"
     ]
    },
    {
     "name": "stdout",
     "output_type": "stream",
     "text": [
      "Intercept 0.606420996375259\n",
      "Prediction_local [-1.48178411]\n",
      "Right: -6.623539541180423\n"
     ]
    },
    {
     "name": "stderr",
     "output_type": "stream",
     "text": [
      "\r",
      " 64%|██████▎   | 637/1000 [2:41:52<1:31:26, 15.12s/it]"
     ]
    },
    {
     "name": "stdout",
     "output_type": "stream",
     "text": [
      "Intercept 0.5145242721666767\n",
      "Prediction_local [-1.64384015]\n",
      "Right: -2.7509704519863996\n"
     ]
    },
    {
     "name": "stderr",
     "output_type": "stream",
     "text": [
      "\r",
      " 64%|██████▍   | 638/1000 [2:42:07<1:30:58, 15.08s/it]"
     ]
    },
    {
     "name": "stdout",
     "output_type": "stream",
     "text": [
      "Intercept 1.3010946574632243\n",
      "Prediction_local [-3.55281145]\n",
      "Right: -2.2122109570472532\n"
     ]
    },
    {
     "name": "stderr",
     "output_type": "stream",
     "text": [
      "\r",
      " 64%|██████▍   | 639/1000 [2:42:22<1:30:43, 15.08s/it]"
     ]
    },
    {
     "name": "stdout",
     "output_type": "stream",
     "text": [
      "Intercept -0.5358291413001603\n",
      "Prediction_local [1.52821887]\n",
      "Right: 3.532878769244116\n"
     ]
    },
    {
     "name": "stderr",
     "output_type": "stream",
     "text": [
      "\r",
      " 64%|██████▍   | 640/1000 [2:42:36<1:30:09, 15.03s/it]"
     ]
    },
    {
     "name": "stdout",
     "output_type": "stream",
     "text": [
      "Intercept -0.8264073131075325\n",
      "Prediction_local [2.62241624]\n",
      "Right: 3.183491928089624\n"
     ]
    },
    {
     "name": "stderr",
     "output_type": "stream",
     "text": [
      "\r",
      " 64%|██████▍   | 641/1000 [2:42:51<1:29:51, 15.02s/it]"
     ]
    },
    {
     "name": "stdout",
     "output_type": "stream",
     "text": [
      "Intercept -0.027578331570407774\n",
      "Prediction_local [0.45359055]\n",
      "Right: 4.91825506167523\n"
     ]
    },
    {
     "name": "stderr",
     "output_type": "stream",
     "text": [
      "\r",
      " 64%|██████▍   | 642/1000 [2:43:06<1:29:32, 15.01s/it]"
     ]
    },
    {
     "name": "stdout",
     "output_type": "stream",
     "text": [
      "Intercept 0.6297137445123941\n",
      "Prediction_local [-1.5833029]\n",
      "Right: 0.8131212586819021\n"
     ]
    },
    {
     "name": "stderr",
     "output_type": "stream",
     "text": [
      "\r",
      " 64%|██████▍   | 643/1000 [2:43:21<1:29:19, 15.01s/it]"
     ]
    },
    {
     "name": "stdout",
     "output_type": "stream",
     "text": [
      "Intercept -0.5304915348350362\n",
      "Prediction_local [1.56570102]\n",
      "Right: -1.0270471537183936\n"
     ]
    },
    {
     "name": "stderr",
     "output_type": "stream",
     "text": [
      "\r",
      " 64%|██████▍   | 644/1000 [2:43:36<1:29:02, 15.01s/it]"
     ]
    },
    {
     "name": "stdout",
     "output_type": "stream",
     "text": [
      "Intercept -0.007993484731491432\n",
      "Prediction_local [0.30856328]\n",
      "Right: 0.4720791645234813\n"
     ]
    },
    {
     "name": "stderr",
     "output_type": "stream",
     "text": [
      "\r",
      " 64%|██████▍   | 645/1000 [2:43:52<1:29:28, 15.12s/it]"
     ]
    },
    {
     "name": "stdout",
     "output_type": "stream",
     "text": [
      "Intercept -0.2755505095162444\n",
      "Prediction_local [0.73564403]\n",
      "Right: -0.4825761291693028\n"
     ]
    },
    {
     "name": "stderr",
     "output_type": "stream",
     "text": [
      "\r",
      " 65%|██████▍   | 646/1000 [2:44:08<1:30:23, 15.32s/it]"
     ]
    },
    {
     "name": "stdout",
     "output_type": "stream",
     "text": [
      "Intercept 0.6815178247865846\n",
      "Prediction_local [-1.51396033]\n",
      "Right: -3.2762140343359567\n"
     ]
    },
    {
     "name": "stderr",
     "output_type": "stream",
     "text": [
      "\r",
      " 65%|██████▍   | 647/1000 [2:44:23<1:30:54, 15.45s/it]"
     ]
    },
    {
     "name": "stdout",
     "output_type": "stream",
     "text": [
      "Intercept -0.49085001931059397\n",
      "Prediction_local [1.46832607]\n",
      "Right: 1.6117353392847655\n"
     ]
    },
    {
     "name": "stderr",
     "output_type": "stream",
     "text": [
      "\r",
      " 65%|██████▍   | 648/1000 [2:44:39<1:31:15, 15.56s/it]"
     ]
    },
    {
     "name": "stdout",
     "output_type": "stream",
     "text": [
      "Intercept -1.1691042342985727\n",
      "Prediction_local [3.82006755]\n",
      "Right: 2.621031879950198\n"
     ]
    },
    {
     "name": "stderr",
     "output_type": "stream",
     "text": [
      "\r",
      " 65%|██████▍   | 649/1000 [2:44:55<1:30:55, 15.54s/it]"
     ]
    },
    {
     "name": "stdout",
     "output_type": "stream",
     "text": [
      "Intercept -1.5717537116980846\n",
      "Prediction_local [5.05274997]\n",
      "Right: 5.50661266935738\n"
     ]
    },
    {
     "name": "stderr",
     "output_type": "stream",
     "text": [
      "\r",
      " 65%|██████▌   | 650/1000 [2:45:10<1:31:02, 15.61s/it]"
     ]
    },
    {
     "name": "stdout",
     "output_type": "stream",
     "text": [
      "Intercept -0.5254136455107628\n",
      "Prediction_local [1.8896761]\n",
      "Right: 1.8769271631602726\n"
     ]
    },
    {
     "name": "stderr",
     "output_type": "stream",
     "text": [
      "\r",
      " 65%|██████▌   | 651/1000 [2:45:26<1:30:22, 15.54s/it]"
     ]
    },
    {
     "name": "stdout",
     "output_type": "stream",
     "text": [
      "Intercept -0.07131853066517847\n",
      "Prediction_local [0.20899621]\n",
      "Right: -0.80218698234952\n"
     ]
    },
    {
     "name": "stderr",
     "output_type": "stream",
     "text": [
      "\r",
      " 65%|██████▌   | 652/1000 [2:45:41<1:30:03, 15.53s/it]"
     ]
    },
    {
     "name": "stdout",
     "output_type": "stream",
     "text": [
      "Intercept -0.34823434323612174\n",
      "Prediction_local [1.70879533]\n",
      "Right: 2.221237290070914\n"
     ]
    },
    {
     "name": "stderr",
     "output_type": "stream",
     "text": [
      "\r",
      " 65%|██████▌   | 653/1000 [2:45:57<1:29:41, 15.51s/it]"
     ]
    },
    {
     "name": "stdout",
     "output_type": "stream",
     "text": [
      "Intercept -0.44450557286020703\n",
      "Prediction_local [1.40359332]\n",
      "Right: 0.09281012421695593\n"
     ]
    },
    {
     "name": "stderr",
     "output_type": "stream",
     "text": [
      "\r",
      " 65%|██████▌   | 654/1000 [2:46:12<1:29:14, 15.48s/it]"
     ]
    },
    {
     "name": "stdout",
     "output_type": "stream",
     "text": [
      "Intercept 0.20403580754952505\n",
      "Prediction_local [-0.4083415]\n",
      "Right: 0.6967488138867072\n"
     ]
    },
    {
     "name": "stderr",
     "output_type": "stream",
     "text": [
      "\r",
      " 66%|██████▌   | 655/1000 [2:46:28<1:28:55, 15.47s/it]"
     ]
    },
    {
     "name": "stdout",
     "output_type": "stream",
     "text": [
      "Intercept -1.5666878636681036\n",
      "Prediction_local [5.05176775]\n",
      "Right: 7.408727441165807\n"
     ]
    },
    {
     "name": "stderr",
     "output_type": "stream",
     "text": [
      "\r",
      " 66%|██████▌   | 656/1000 [2:46:43<1:28:41, 15.47s/it]"
     ]
    },
    {
     "name": "stdout",
     "output_type": "stream",
     "text": [
      "Intercept 0.565057297443075\n",
      "Prediction_local [-1.5874476]\n",
      "Right: -2.7005071444992415\n"
     ]
    },
    {
     "name": "stderr",
     "output_type": "stream",
     "text": [
      "\r",
      " 66%|██████▌   | 657/1000 [2:46:59<1:28:25, 15.47s/it]"
     ]
    },
    {
     "name": "stdout",
     "output_type": "stream",
     "text": [
      "Intercept -0.09622461972947138\n",
      "Prediction_local [0.59099227]\n",
      "Right: -5.1997465294907315\n"
     ]
    },
    {
     "name": "stderr",
     "output_type": "stream",
     "text": [
      "\r",
      " 66%|██████▌   | 658/1000 [2:47:14<1:28:26, 15.51s/it]"
     ]
    },
    {
     "name": "stdout",
     "output_type": "stream",
     "text": [
      "Intercept 0.5926175245344748\n",
      "Prediction_local [-1.55594801]\n",
      "Right: 3.880138751537838\n"
     ]
    },
    {
     "name": "stderr",
     "output_type": "stream",
     "text": [
      "\r",
      " 66%|██████▌   | 659/1000 [2:47:30<1:28:02, 15.49s/it]"
     ]
    },
    {
     "name": "stdout",
     "output_type": "stream",
     "text": [
      "Intercept 0.1462094961016399\n",
      "Prediction_local [-0.37477448]\n",
      "Right: 0.4584367725450901\n"
     ]
    },
    {
     "name": "stderr",
     "output_type": "stream",
     "text": [
      "\r",
      " 66%|██████▌   | 660/1000 [2:47:45<1:27:38, 15.47s/it]"
     ]
    },
    {
     "name": "stdout",
     "output_type": "stream",
     "text": [
      "Intercept -1.1682041102252592\n",
      "Prediction_local [3.70493001]\n",
      "Right: 3.4452370627813123\n"
     ]
    },
    {
     "name": "stderr",
     "output_type": "stream",
     "text": [
      "\r",
      " 66%|██████▌   | 661/1000 [2:48:00<1:27:11, 15.43s/it]"
     ]
    },
    {
     "name": "stdout",
     "output_type": "stream",
     "text": [
      "Intercept 0.5499310688409905\n",
      "Prediction_local [-1.61373134]\n",
      "Right: -0.4425877272396227\n"
     ]
    },
    {
     "name": "stderr",
     "output_type": "stream",
     "text": [
      "\r",
      " 66%|██████▌   | 662/1000 [2:48:16<1:26:52, 15.42s/it]"
     ]
    },
    {
     "name": "stdout",
     "output_type": "stream",
     "text": [
      "Intercept -0.07242767176754987\n",
      "Prediction_local [0.41493691]\n",
      "Right: 2.699865481268106\n"
     ]
    },
    {
     "name": "stderr",
     "output_type": "stream",
     "text": [
      "\r",
      " 66%|██████▋   | 663/1000 [2:48:31<1:26:35, 15.42s/it]"
     ]
    },
    {
     "name": "stdout",
     "output_type": "stream",
     "text": [
      "Intercept -0.41815937752303867\n",
      "Prediction_local [1.34425605]\n",
      "Right: -2.470353258275405\n"
     ]
    },
    {
     "name": "stderr",
     "output_type": "stream",
     "text": [
      "\r",
      " 66%|██████▋   | 664/1000 [2:48:47<1:26:22, 15.42s/it]"
     ]
    },
    {
     "name": "stdout",
     "output_type": "stream",
     "text": [
      "Intercept 0.9909370623303714\n",
      "Prediction_local [-2.79450578]\n",
      "Right: -3.160430301857123\n"
     ]
    },
    {
     "name": "stderr",
     "output_type": "stream",
     "text": [
      "\r",
      " 66%|██████▋   | 665/1000 [2:49:02<1:26:03, 15.41s/it]"
     ]
    },
    {
     "name": "stdout",
     "output_type": "stream",
     "text": [
      "Intercept 0.22077047977037473\n",
      "Prediction_local [-0.31570254]\n",
      "Right: 0.7304862159564885\n"
     ]
    },
    {
     "name": "stderr",
     "output_type": "stream",
     "text": [
      "\r",
      " 67%|██████▋   | 666/1000 [2:49:17<1:25:46, 15.41s/it]"
     ]
    },
    {
     "name": "stdout",
     "output_type": "stream",
     "text": [
      "Intercept -0.4485655816196939\n",
      "Prediction_local [1.56046794]\n",
      "Right: 1.1325027941249164\n"
     ]
    },
    {
     "name": "stderr",
     "output_type": "stream",
     "text": [
      "\r",
      " 67%|██████▋   | 667/1000 [2:49:33<1:25:39, 15.43s/it]"
     ]
    },
    {
     "name": "stdout",
     "output_type": "stream",
     "text": [
      "Intercept 0.20377955989406263\n",
      "Prediction_local [-0.3176644]\n",
      "Right: 3.4357485011018993\n"
     ]
    },
    {
     "name": "stderr",
     "output_type": "stream",
     "text": [
      "\r",
      " 67%|██████▋   | 668/1000 [2:49:48<1:25:18, 15.42s/it]"
     ]
    },
    {
     "name": "stdout",
     "output_type": "stream",
     "text": [
      "Intercept -0.09061726475682758\n",
      "Prediction_local [0.58871098]\n",
      "Right: 2.054448024570604\n"
     ]
    },
    {
     "name": "stderr",
     "output_type": "stream",
     "text": [
      "\r",
      " 67%|██████▋   | 669/1000 [2:50:04<1:24:58, 15.40s/it]"
     ]
    },
    {
     "name": "stdout",
     "output_type": "stream",
     "text": [
      "Intercept -1.438885884560675\n",
      "Prediction_local [4.6990807]\n",
      "Right: 2.0836762879520196\n"
     ]
    },
    {
     "name": "stderr",
     "output_type": "stream",
     "text": [
      "\r",
      " 67%|██████▋   | 670/1000 [2:50:19<1:24:33, 15.37s/it]"
     ]
    },
    {
     "name": "stdout",
     "output_type": "stream",
     "text": [
      "Intercept -1.5078521714905277\n",
      "Prediction_local [4.96184969]\n",
      "Right: 8.737686806505543\n"
     ]
    },
    {
     "name": "stderr",
     "output_type": "stream",
     "text": [
      "\r",
      " 67%|██████▋   | 671/1000 [2:50:34<1:24:18, 15.38s/it]"
     ]
    },
    {
     "name": "stdout",
     "output_type": "stream",
     "text": [
      "Intercept 0.5366398286417161\n",
      "Prediction_local [-1.6530429]\n",
      "Right: -1.3428076805341065\n"
     ]
    },
    {
     "name": "stderr",
     "output_type": "stream",
     "text": [
      "\r",
      " 67%|██████▋   | 672/1000 [2:50:50<1:24:27, 15.45s/it]"
     ]
    },
    {
     "name": "stdout",
     "output_type": "stream",
     "text": [
      "Intercept 0.1348057885822685\n",
      "Prediction_local [-0.24051875]\n",
      "Right: -0.6616170176195073\n"
     ]
    },
    {
     "name": "stderr",
     "output_type": "stream",
     "text": [
      "\r",
      " 67%|██████▋   | 673/1000 [2:51:05<1:24:02, 15.42s/it]"
     ]
    },
    {
     "name": "stdout",
     "output_type": "stream",
     "text": [
      "Intercept -0.011888052855372547\n",
      "Prediction_local [0.46047095]\n",
      "Right: 0.2074944998754828\n"
     ]
    },
    {
     "name": "stderr",
     "output_type": "stream",
     "text": [
      "\r",
      " 67%|██████▋   | 674/1000 [2:51:21<1:23:26, 15.36s/it]"
     ]
    },
    {
     "name": "stdout",
     "output_type": "stream",
     "text": [
      "Intercept -1.5681114802971827\n",
      "Prediction_local [5.0771924]\n",
      "Right: 3.189723604048517\n"
     ]
    },
    {
     "name": "stderr",
     "output_type": "stream",
     "text": [
      "\r",
      " 68%|██████▊   | 675/1000 [2:51:36<1:23:07, 15.35s/it]"
     ]
    },
    {
     "name": "stdout",
     "output_type": "stream",
     "text": [
      "Intercept -1.2138476728652141\n",
      "Prediction_local [3.87772622]\n",
      "Right: 2.1857949253991915\n"
     ]
    },
    {
     "name": "stderr",
     "output_type": "stream",
     "text": [
      "\r",
      " 68%|██████▊   | 676/1000 [2:51:51<1:22:46, 15.33s/it]"
     ]
    },
    {
     "name": "stdout",
     "output_type": "stream",
     "text": [
      "Intercept 0.6321760392628868\n",
      "Prediction_local [-1.88589098]\n",
      "Right: -5.33222471257516\n"
     ]
    },
    {
     "name": "stderr",
     "output_type": "stream",
     "text": [
      "\r",
      " 68%|██████▊   | 677/1000 [2:52:06<1:22:24, 15.31s/it]"
     ]
    },
    {
     "name": "stdout",
     "output_type": "stream",
     "text": [
      "Intercept -0.5953858282322865\n",
      "Prediction_local [1.87226344]\n",
      "Right: -1.2880737645252862\n"
     ]
    },
    {
     "name": "stderr",
     "output_type": "stream",
     "text": [
      "\r",
      " 68%|██████▊   | 678/1000 [2:52:22<1:21:56, 15.27s/it]"
     ]
    },
    {
     "name": "stdout",
     "output_type": "stream",
     "text": [
      "Intercept 1.257040328177098\n",
      "Prediction_local [-3.38364479]\n",
      "Right: -1.3279318560510815\n"
     ]
    },
    {
     "name": "stderr",
     "output_type": "stream",
     "text": [
      "\r",
      " 68%|██████▊   | 679/1000 [2:52:37<1:21:28, 15.23s/it]"
     ]
    },
    {
     "name": "stdout",
     "output_type": "stream",
     "text": [
      "Intercept 0.2846897968399434\n",
      "Prediction_local [-0.50547134]\n",
      "Right: 4.924097288748064\n"
     ]
    },
    {
     "name": "stderr",
     "output_type": "stream",
     "text": [
      "\r",
      " 68%|██████▊   | 680/1000 [2:52:52<1:21:18, 15.25s/it]"
     ]
    },
    {
     "name": "stdout",
     "output_type": "stream",
     "text": [
      "Intercept 0.9108547478130679\n",
      "Prediction_local [-2.51008502]\n",
      "Right: -4.602161572990179\n"
     ]
    },
    {
     "name": "stderr",
     "output_type": "stream",
     "text": [
      "\r",
      " 68%|██████▊   | 681/1000 [2:53:07<1:21:01, 15.24s/it]"
     ]
    },
    {
     "name": "stdout",
     "output_type": "stream",
     "text": [
      "Intercept -0.9208678546854541\n",
      "Prediction_local [2.95376932]\n",
      "Right: -0.7783149962395861\n"
     ]
    },
    {
     "name": "stderr",
     "output_type": "stream",
     "text": [
      "\r",
      " 68%|██████▊   | 682/1000 [2:53:23<1:20:47, 15.24s/it]"
     ]
    },
    {
     "name": "stdout",
     "output_type": "stream",
     "text": [
      "Intercept 1.3537892388710553\n",
      "Prediction_local [-3.80774013]\n",
      "Right: -3.9572416230285823\n"
     ]
    },
    {
     "name": "stderr",
     "output_type": "stream",
     "text": [
      "\r",
      " 68%|██████▊   | 683/1000 [2:53:38<1:20:44, 15.28s/it]"
     ]
    },
    {
     "name": "stdout",
     "output_type": "stream",
     "text": [
      "Intercept -0.7350507602658083\n",
      "Prediction_local [2.48915007]\n",
      "Right: 2.1592800696646766\n"
     ]
    },
    {
     "name": "stderr",
     "output_type": "stream",
     "text": [
      "\r",
      " 68%|██████▊   | 684/1000 [2:53:53<1:20:22, 15.26s/it]"
     ]
    },
    {
     "name": "stdout",
     "output_type": "stream",
     "text": [
      "Intercept 0.11903604205313834\n",
      "Prediction_local [-0.2493982]\n",
      "Right: 2.1990245605782417\n"
     ]
    },
    {
     "name": "stderr",
     "output_type": "stream",
     "text": [
      "\r",
      " 68%|██████▊   | 685/1000 [2:54:09<1:20:22, 15.31s/it]"
     ]
    },
    {
     "name": "stdout",
     "output_type": "stream",
     "text": [
      "Intercept 0.49653093258996756\n",
      "Prediction_local [-1.55377576]\n",
      "Right: -2.7708890624369333\n"
     ]
    },
    {
     "name": "stderr",
     "output_type": "stream",
     "text": [
      "\r",
      " 69%|██████▊   | 686/1000 [2:54:24<1:20:04, 15.30s/it]"
     ]
    },
    {
     "name": "stdout",
     "output_type": "stream",
     "text": [
      "Intercept -0.06222466556311792\n",
      "Prediction_local [0.44547408]\n",
      "Right: -0.2547635330879933\n"
     ]
    },
    {
     "name": "stderr",
     "output_type": "stream",
     "text": [
      "\r",
      " 69%|██████▊   | 687/1000 [2:54:39<1:19:46, 15.29s/it]"
     ]
    },
    {
     "name": "stdout",
     "output_type": "stream",
     "text": [
      "Intercept -0.1750348897526789\n",
      "Prediction_local [0.51633737]\n",
      "Right: -0.7914141507371568\n"
     ]
    },
    {
     "name": "stderr",
     "output_type": "stream",
     "text": [
      "\r",
      " 69%|██████▉   | 688/1000 [2:54:54<1:19:36, 15.31s/it]"
     ]
    },
    {
     "name": "stdout",
     "output_type": "stream",
     "text": [
      "Intercept 0.9553383010003813\n",
      "Prediction_local [-2.39583302]\n",
      "Right: -2.7872794291909946\n"
     ]
    },
    {
     "name": "stderr",
     "output_type": "stream",
     "text": [
      "\r",
      " 69%|██████▉   | 689/1000 [2:55:10<1:19:20, 15.31s/it]"
     ]
    },
    {
     "name": "stdout",
     "output_type": "stream",
     "text": [
      "Intercept 0.02857141889229199\n",
      "Prediction_local [-0.06415268]\n",
      "Right: -2.4860197385744356\n"
     ]
    },
    {
     "name": "stderr",
     "output_type": "stream",
     "text": [
      "\r",
      " 69%|██████▉   | 690/1000 [2:55:25<1:19:13, 15.33s/it]"
     ]
    },
    {
     "name": "stdout",
     "output_type": "stream",
     "text": [
      "Intercept 0.23100186908199521\n",
      "Prediction_local [-0.36950721]\n",
      "Right: -5.074799508809329\n"
     ]
    },
    {
     "name": "stderr",
     "output_type": "stream",
     "text": [
      "\r",
      " 69%|██████▉   | 691/1000 [2:55:40<1:18:58, 15.34s/it]"
     ]
    },
    {
     "name": "stdout",
     "output_type": "stream",
     "text": [
      "Intercept 0.27977759515237755\n",
      "Prediction_local [-0.4509744]\n",
      "Right: 1.8919694730673076\n"
     ]
    },
    {
     "name": "stderr",
     "output_type": "stream",
     "text": [
      "\r",
      " 69%|██████▉   | 692/1000 [2:55:56<1:18:40, 15.33s/it]"
     ]
    },
    {
     "name": "stdout",
     "output_type": "stream",
     "text": [
      "Intercept -0.1095499346587437\n",
      "Prediction_local [0.5314744]\n",
      "Right: 0.819431616986015\n"
     ]
    },
    {
     "name": "stderr",
     "output_type": "stream",
     "text": [
      "\r",
      " 69%|██████▉   | 693/1000 [2:56:11<1:18:29, 15.34s/it]"
     ]
    },
    {
     "name": "stdout",
     "output_type": "stream",
     "text": [
      "Intercept 0.10335060100378089\n",
      "Prediction_local [-0.16809188]\n",
      "Right: -1.0273071947752008\n"
     ]
    },
    {
     "name": "stderr",
     "output_type": "stream",
     "text": [
      "\r",
      " 69%|██████▉   | 694/1000 [2:56:26<1:18:14, 15.34s/it]"
     ]
    },
    {
     "name": "stdout",
     "output_type": "stream",
     "text": [
      "Intercept 0.6423485226831593\n",
      "Prediction_local [-1.52458487]\n",
      "Right: -0.5048125769989469\n"
     ]
    },
    {
     "name": "stderr",
     "output_type": "stream",
     "text": [
      "\r",
      " 70%|██████▉   | 695/1000 [2:56:42<1:18:00, 15.35s/it]"
     ]
    },
    {
     "name": "stdout",
     "output_type": "stream",
     "text": [
      "Intercept 0.14306541890179383\n",
      "Prediction_local [-0.50511582]\n",
      "Right: 1.445707624417667\n"
     ]
    },
    {
     "name": "stderr",
     "output_type": "stream",
     "text": [
      "\r",
      " 70%|██████▉   | 696/1000 [2:56:57<1:17:36, 15.32s/it]"
     ]
    },
    {
     "name": "stdout",
     "output_type": "stream",
     "text": [
      "Intercept -0.1641379388351173\n",
      "Prediction_local [0.4512309]\n",
      "Right: -0.0344904382707222\n"
     ]
    },
    {
     "name": "stderr",
     "output_type": "stream",
     "text": [
      "\r",
      " 70%|██████▉   | 697/1000 [2:57:12<1:17:11, 15.29s/it]"
     ]
    },
    {
     "name": "stdout",
     "output_type": "stream",
     "text": [
      "Intercept 0.6129157318768448\n",
      "Prediction_local [-1.62797111]\n",
      "Right: -2.886106257734544\n"
     ]
    },
    {
     "name": "stderr",
     "output_type": "stream",
     "text": [
      "\r",
      " 70%|██████▉   | 698/1000 [2:57:28<1:17:01, 15.30s/it]"
     ]
    },
    {
     "name": "stdout",
     "output_type": "stream",
     "text": [
      "Intercept -1.145447216620367\n",
      "Prediction_local [3.67697404]\n",
      "Right: 0.5460156192405581\n"
     ]
    },
    {
     "name": "stderr",
     "output_type": "stream",
     "text": [
      "\r",
      " 70%|██████▉   | 699/1000 [2:57:43<1:16:51, 15.32s/it]"
     ]
    },
    {
     "name": "stdout",
     "output_type": "stream",
     "text": [
      "Intercept 1.6368214682393685\n",
      "Prediction_local [-4.90258342]\n",
      "Right: -6.889696289834186\n"
     ]
    },
    {
     "name": "stderr",
     "output_type": "stream",
     "text": [
      "\r",
      " 70%|███████   | 700/1000 [2:57:58<1:16:29, 15.30s/it]"
     ]
    },
    {
     "name": "stdout",
     "output_type": "stream",
     "text": [
      "Intercept -0.1717322632732901\n",
      "Prediction_local [0.66471194]\n",
      "Right: -0.8981810676697839\n"
     ]
    },
    {
     "name": "stderr",
     "output_type": "stream",
     "text": [
      "\r",
      " 70%|███████   | 701/1000 [2:58:14<1:16:19, 15.32s/it]"
     ]
    },
    {
     "name": "stdout",
     "output_type": "stream",
     "text": [
      "Intercept 0.8595998718298095\n",
      "Prediction_local [-2.39497655]\n",
      "Right: -2.71169335844282\n"
     ]
    },
    {
     "name": "stderr",
     "output_type": "stream",
     "text": [
      "\r",
      " 70%|███████   | 702/1000 [2:58:29<1:16:04, 15.32s/it]"
     ]
    },
    {
     "name": "stdout",
     "output_type": "stream",
     "text": [
      "Intercept -0.7034376631199315\n",
      "Prediction_local [2.34001673]\n",
      "Right: 4.227924823667892\n"
     ]
    },
    {
     "name": "stderr",
     "output_type": "stream",
     "text": [
      "\r",
      " 70%|███████   | 703/1000 [2:58:44<1:15:44, 15.30s/it]"
     ]
    },
    {
     "name": "stdout",
     "output_type": "stream",
     "text": [
      "Intercept -0.4575560679207042\n",
      "Prediction_local [1.68441991]\n",
      "Right: 1.5651547511684283\n"
     ]
    },
    {
     "name": "stderr",
     "output_type": "stream",
     "text": [
      "\r",
      " 70%|███████   | 704/1000 [2:59:00<1:15:32, 15.31s/it]"
     ]
    },
    {
     "name": "stdout",
     "output_type": "stream",
     "text": [
      "Intercept 0.27756198339663096\n",
      "Prediction_local [-0.56512184]\n",
      "Right: -1.0759500385400373\n"
     ]
    },
    {
     "name": "stderr",
     "output_type": "stream",
     "text": [
      "\r",
      " 70%|███████   | 705/1000 [2:59:15<1:14:56, 15.24s/it]"
     ]
    },
    {
     "name": "stdout",
     "output_type": "stream",
     "text": [
      "Intercept 1.7090182998962216\n",
      "Prediction_local [-4.67084502]\n",
      "Right: -3.844298702171357\n"
     ]
    },
    {
     "name": "stderr",
     "output_type": "stream",
     "text": [
      "\r",
      " 71%|███████   | 706/1000 [2:59:30<1:14:10, 15.14s/it]"
     ]
    },
    {
     "name": "stdout",
     "output_type": "stream",
     "text": [
      "Intercept 1.732114271512981\n",
      "Prediction_local [-4.94056973]\n",
      "Right: -6.182547635013648\n"
     ]
    },
    {
     "name": "stderr",
     "output_type": "stream",
     "text": [
      "\r",
      " 71%|███████   | 707/1000 [2:59:44<1:13:28, 15.05s/it]"
     ]
    },
    {
     "name": "stdout",
     "output_type": "stream",
     "text": [
      "Intercept -1.5786608211523738\n",
      "Prediction_local [4.95522056]\n",
      "Right: 6.463782384092253\n"
     ]
    },
    {
     "name": "stderr",
     "output_type": "stream",
     "text": [
      "\r",
      " 71%|███████   | 708/1000 [2:59:59<1:13:09, 15.03s/it]"
     ]
    },
    {
     "name": "stdout",
     "output_type": "stream",
     "text": [
      "Intercept -0.3701858881260331\n",
      "Prediction_local [1.44289611]\n",
      "Right: -0.6609135198884492\n"
     ]
    },
    {
     "name": "stderr",
     "output_type": "stream",
     "text": [
      "\r",
      " 71%|███████   | 709/1000 [3:00:14<1:12:56, 15.04s/it]"
     ]
    },
    {
     "name": "stdout",
     "output_type": "stream",
     "text": [
      "Intercept 0.8935816620836626\n",
      "Prediction_local [-2.46068696]\n",
      "Right: -3.839706573805728\n"
     ]
    },
    {
     "name": "stderr",
     "output_type": "stream",
     "text": [
      "\r",
      " 71%|███████   | 710/1000 [3:00:29<1:12:33, 15.01s/it]"
     ]
    },
    {
     "name": "stdout",
     "output_type": "stream",
     "text": [
      "Intercept 0.4394181710170381\n",
      "Prediction_local [-1.31949753]\n",
      "Right: 1.447309785652808\n"
     ]
    },
    {
     "name": "stderr",
     "output_type": "stream",
     "text": [
      "\r",
      " 71%|███████   | 711/1000 [3:00:44<1:12:19, 15.01s/it]"
     ]
    },
    {
     "name": "stdout",
     "output_type": "stream",
     "text": [
      "Intercept 1.3417744505796383\n",
      "Prediction_local [-3.89007714]\n",
      "Right: -5.5249243837454785\n"
     ]
    },
    {
     "name": "stderr",
     "output_type": "stream",
     "text": [
      "\r",
      " 71%|███████   | 712/1000 [3:00:59<1:12:09, 15.03s/it]"
     ]
    },
    {
     "name": "stdout",
     "output_type": "stream",
     "text": [
      "Intercept 0.5759053833231661\n",
      "Prediction_local [-1.46119119]\n",
      "Right: -0.2078868907411958\n"
     ]
    },
    {
     "name": "stderr",
     "output_type": "stream",
     "text": [
      "\r",
      " 71%|███████▏  | 713/1000 [3:01:14<1:11:55, 15.04s/it]"
     ]
    },
    {
     "name": "stdout",
     "output_type": "stream",
     "text": [
      "Intercept 0.4707451100870238\n",
      "Prediction_local [-1.21244626]\n",
      "Right: -2.5388137798815213\n"
     ]
    },
    {
     "name": "stderr",
     "output_type": "stream",
     "text": [
      "\r",
      " 71%|███████▏  | 714/1000 [3:01:30<1:11:39, 15.03s/it]"
     ]
    },
    {
     "name": "stdout",
     "output_type": "stream",
     "text": [
      "Intercept 0.9378933339496424\n",
      "Prediction_local [-2.75447358]\n",
      "Right: -2.77524763977792\n"
     ]
    },
    {
     "name": "stderr",
     "output_type": "stream",
     "text": [
      "\r",
      " 72%|███████▏  | 715/1000 [3:01:45<1:11:24, 15.03s/it]"
     ]
    },
    {
     "name": "stdout",
     "output_type": "stream",
     "text": [
      "Intercept -1.1469270531484725\n",
      "Prediction_local [3.69679529]\n",
      "Right: 3.4867305819290464\n"
     ]
    },
    {
     "name": "stderr",
     "output_type": "stream",
     "text": [
      "\r",
      " 72%|███████▏  | 716/1000 [3:02:00<1:11:09, 15.03s/it]"
     ]
    },
    {
     "name": "stdout",
     "output_type": "stream",
     "text": [
      "Intercept 0.616752723822523\n",
      "Prediction_local [-1.43984221]\n",
      "Right: 0.17533337374868094\n"
     ]
    },
    {
     "name": "stderr",
     "output_type": "stream",
     "text": [
      "\r",
      " 72%|███████▏  | 717/1000 [3:02:15<1:10:48, 15.01s/it]"
     ]
    },
    {
     "name": "stdout",
     "output_type": "stream",
     "text": [
      "Intercept 1.3315241143688354\n",
      "Prediction_local [-3.5894924]\n",
      "Right: -1.9728532739964908\n"
     ]
    },
    {
     "name": "stderr",
     "output_type": "stream",
     "text": [
      "\r",
      " 72%|███████▏  | 718/1000 [3:02:29<1:10:24, 14.98s/it]"
     ]
    },
    {
     "name": "stdout",
     "output_type": "stream",
     "text": [
      "Intercept -1.5324406013943748\n",
      "Prediction_local [4.72528727]\n",
      "Right: 4.208266432760629\n"
     ]
    },
    {
     "name": "stderr",
     "output_type": "stream",
     "text": [
      "\r",
      " 72%|███████▏  | 719/1000 [3:02:45<1:10:17, 15.01s/it]"
     ]
    },
    {
     "name": "stdout",
     "output_type": "stream",
     "text": [
      "Intercept 0.49350845602728066\n",
      "Prediction_local [-1.62019523]\n",
      "Right: 0.3976190709971642\n"
     ]
    },
    {
     "name": "stderr",
     "output_type": "stream",
     "text": [
      "\r",
      " 72%|███████▏  | 720/1000 [3:03:00<1:10:17, 15.06s/it]"
     ]
    },
    {
     "name": "stdout",
     "output_type": "stream",
     "text": [
      "Intercept 1.6575993578857047\n",
      "Prediction_local [-4.79435516]\n",
      "Right: -5.711354198367564\n"
     ]
    },
    {
     "name": "stderr",
     "output_type": "stream",
     "text": [
      "\r",
      " 72%|███████▏  | 721/1000 [3:03:15<1:10:01, 15.06s/it]"
     ]
    },
    {
     "name": "stdout",
     "output_type": "stream",
     "text": [
      "Intercept -0.4979425744259253\n",
      "Prediction_local [1.98196561]\n",
      "Right: 4.366815955111529\n"
     ]
    },
    {
     "name": "stderr",
     "output_type": "stream",
     "text": [
      "\r",
      " 72%|███████▏  | 722/1000 [3:03:30<1:09:39, 15.03s/it]"
     ]
    },
    {
     "name": "stdout",
     "output_type": "stream",
     "text": [
      "Intercept -0.698716125720251\n",
      "Prediction_local [2.48378125]\n",
      "Right: 5.112600976179668\n"
     ]
    },
    {
     "name": "stderr",
     "output_type": "stream",
     "text": [
      "\r",
      " 72%|███████▏  | 723/1000 [3:03:45<1:09:27, 15.04s/it]"
     ]
    },
    {
     "name": "stdout",
     "output_type": "stream",
     "text": [
      "Intercept -0.06694819443185196\n",
      "Prediction_local [0.62846219]\n",
      "Right: 0.5224811680595343\n"
     ]
    },
    {
     "name": "stderr",
     "output_type": "stream",
     "text": [
      "\r",
      " 72%|███████▏  | 724/1000 [3:04:00<1:09:07, 15.03s/it]"
     ]
    },
    {
     "name": "stdout",
     "output_type": "stream",
     "text": [
      "Intercept 0.0024424494944014774\n",
      "Prediction_local [0.52564954]\n",
      "Right: -0.7084387940749559\n"
     ]
    },
    {
     "name": "stderr",
     "output_type": "stream",
     "text": [
      "\r",
      " 72%|███████▎  | 725/1000 [3:04:15<1:08:44, 15.00s/it]"
     ]
    },
    {
     "name": "stdout",
     "output_type": "stream",
     "text": [
      "Intercept 0.6319332638050869\n",
      "Prediction_local [-1.73435028]\n",
      "Right: -7.416883919849385\n"
     ]
    },
    {
     "name": "stderr",
     "output_type": "stream",
     "text": [
      "\r",
      " 73%|███████▎  | 726/1000 [3:04:30<1:08:28, 14.99s/it]"
     ]
    },
    {
     "name": "stdout",
     "output_type": "stream",
     "text": [
      "Intercept 0.27513498482512777\n",
      "Prediction_local [-0.59888661]\n",
      "Right: -6.403862405654931\n"
     ]
    },
    {
     "name": "stderr",
     "output_type": "stream",
     "text": [
      "\r",
      " 73%|███████▎  | 727/1000 [3:04:45<1:08:16, 15.01s/it]"
     ]
    },
    {
     "name": "stdout",
     "output_type": "stream",
     "text": [
      "Intercept 0.5838157561288638\n",
      "Prediction_local [-1.61121995]\n",
      "Right: -0.046456292277548425\n"
     ]
    },
    {
     "name": "stderr",
     "output_type": "stream",
     "text": [
      "\r",
      " 73%|███████▎  | 728/1000 [3:05:01<1:09:02, 15.23s/it]"
     ]
    },
    {
     "name": "stdout",
     "output_type": "stream",
     "text": [
      "Intercept -0.19184784760154652\n",
      "Prediction_local [0.66696578]\n",
      "Right: -2.7169238639469384\n"
     ]
    },
    {
     "name": "stderr",
     "output_type": "stream",
     "text": [
      "\r",
      " 73%|███████▎  | 729/1000 [3:05:16<1:08:49, 15.24s/it]"
     ]
    },
    {
     "name": "stdout",
     "output_type": "stream",
     "text": [
      "Intercept 0.7142225623851067\n",
      "Prediction_local [-2.6130495]\n",
      "Right: -2.3802958683065976\n"
     ]
    },
    {
     "name": "stderr",
     "output_type": "stream",
     "text": [
      "\r",
      " 73%|███████▎  | 730/1000 [3:05:31<1:08:15, 15.17s/it]"
     ]
    },
    {
     "name": "stdout",
     "output_type": "stream",
     "text": [
      "Intercept 1.668464596291907\n",
      "Prediction_local [-4.74656125]\n",
      "Right: -2.2160372260529746\n"
     ]
    },
    {
     "name": "stderr",
     "output_type": "stream",
     "text": [
      "\r",
      " 73%|███████▎  | 731/1000 [3:05:46<1:07:46, 15.12s/it]"
     ]
    },
    {
     "name": "stdout",
     "output_type": "stream",
     "text": [
      "Intercept -0.039195180303158494\n",
      "Prediction_local [0.49300458]\n",
      "Right: 2.022457354341644\n"
     ]
    },
    {
     "name": "stderr",
     "output_type": "stream",
     "text": [
      "\r",
      " 73%|███████▎  | 732/1000 [3:06:01<1:07:20, 15.08s/it]"
     ]
    },
    {
     "name": "stdout",
     "output_type": "stream",
     "text": [
      "Intercept 0.8852915219917716\n",
      "Prediction_local [-2.29752271]\n",
      "Right: -1.602294469265948\n"
     ]
    },
    {
     "name": "stderr",
     "output_type": "stream",
     "text": [
      "\r",
      " 73%|███████▎  | 733/1000 [3:06:16<1:06:59, 15.06s/it]"
     ]
    },
    {
     "name": "stdout",
     "output_type": "stream",
     "text": [
      "Intercept -1.53932890846749\n",
      "Prediction_local [4.82666223]\n",
      "Right: 3.494031919282901\n"
     ]
    },
    {
     "name": "stderr",
     "output_type": "stream",
     "text": [
      "\r",
      " 73%|███████▎  | 734/1000 [3:06:31<1:06:35, 15.02s/it]"
     ]
    },
    {
     "name": "stdout",
     "output_type": "stream",
     "text": [
      "Intercept 1.7488228335820568\n",
      "Prediction_local [-4.63649542]\n",
      "Right: -5.26170281373747\n"
     ]
    },
    {
     "name": "stderr",
     "output_type": "stream",
     "text": [
      "\r",
      " 74%|███████▎  | 735/1000 [3:06:46<1:06:17, 15.01s/it]"
     ]
    },
    {
     "name": "stdout",
     "output_type": "stream",
     "text": [
      "Intercept 0.9281294142902377\n",
      "Prediction_local [-3.00318329]\n",
      "Right: 1.4271536942408891\n"
     ]
    },
    {
     "name": "stderr",
     "output_type": "stream",
     "text": [
      "\r",
      " 74%|███████▎  | 736/1000 [3:07:01<1:06:05, 15.02s/it]"
     ]
    },
    {
     "name": "stdout",
     "output_type": "stream",
     "text": [
      "Intercept 1.7323851395797822\n",
      "Prediction_local [-4.61368017]\n",
      "Right: -5.902632228765022\n"
     ]
    },
    {
     "name": "stderr",
     "output_type": "stream",
     "text": [
      "\r",
      " 74%|███████▎  | 737/1000 [3:07:16<1:05:46, 15.01s/it]"
     ]
    },
    {
     "name": "stdout",
     "output_type": "stream",
     "text": [
      "Intercept -0.2074975884233895\n",
      "Prediction_local [0.56680316]\n",
      "Right: -3.70610404854313\n"
     ]
    },
    {
     "name": "stderr",
     "output_type": "stream",
     "text": [
      "\r",
      " 74%|███████▍  | 738/1000 [3:07:31<1:05:24, 14.98s/it]"
     ]
    },
    {
     "name": "stdout",
     "output_type": "stream",
     "text": [
      "Intercept 1.6666015285085818\n",
      "Prediction_local [-4.67203415]\n",
      "Right: -3.247221578616954\n"
     ]
    },
    {
     "name": "stderr",
     "output_type": "stream",
     "text": [
      "\r",
      " 74%|███████▍  | 739/1000 [3:07:46<1:05:02, 14.95s/it]"
     ]
    },
    {
     "name": "stdout",
     "output_type": "stream",
     "text": [
      "Intercept 0.519268288549007\n",
      "Prediction_local [-1.88349695]\n",
      "Right: -1.7339198022931601\n"
     ]
    },
    {
     "name": "stderr",
     "output_type": "stream",
     "text": [
      "\r",
      " 74%|███████▍  | 740/1000 [3:08:00<1:04:42, 14.93s/it]"
     ]
    },
    {
     "name": "stdout",
     "output_type": "stream",
     "text": [
      "Intercept -0.15115506025760603\n",
      "Prediction_local [0.62809309]\n",
      "Right: 4.801298792404371\n"
     ]
    },
    {
     "name": "stderr",
     "output_type": "stream",
     "text": [
      "\r",
      " 74%|███████▍  | 741/1000 [3:08:15<1:04:28, 14.94s/it]"
     ]
    },
    {
     "name": "stdout",
     "output_type": "stream",
     "text": [
      "Intercept -0.8092837081778744\n",
      "Prediction_local [2.74389774]\n",
      "Right: 3.6678270879147177\n"
     ]
    },
    {
     "name": "stderr",
     "output_type": "stream",
     "text": [
      "\r",
      " 74%|███████▍  | 742/1000 [3:08:30<1:04:16, 14.95s/it]"
     ]
    },
    {
     "name": "stdout",
     "output_type": "stream",
     "text": [
      "Intercept 0.5277115547457111\n",
      "Prediction_local [-1.60365437]\n",
      "Right: -3.1225388038062856\n"
     ]
    },
    {
     "name": "stderr",
     "output_type": "stream",
     "text": [
      "\r",
      " 74%|███████▍  | 743/1000 [3:08:45<1:04:03, 14.95s/it]"
     ]
    },
    {
     "name": "stdout",
     "output_type": "stream",
     "text": [
      "Intercept 0.5878376940897729\n",
      "Prediction_local [-1.42533276]\n",
      "Right: -1.623395810310471\n"
     ]
    },
    {
     "name": "stderr",
     "output_type": "stream",
     "text": [
      "\r",
      " 74%|███████▍  | 744/1000 [3:09:00<1:03:46, 14.95s/it]"
     ]
    },
    {
     "name": "stdout",
     "output_type": "stream",
     "text": [
      "Intercept 1.1909041789716797\n",
      "Prediction_local [-3.367261]\n",
      "Right: -5.5249243837454785\n"
     ]
    },
    {
     "name": "stderr",
     "output_type": "stream",
     "text": [
      "\r",
      " 74%|███████▍  | 745/1000 [3:09:15<1:03:30, 14.94s/it]"
     ]
    },
    {
     "name": "stdout",
     "output_type": "stream",
     "text": [
      "Intercept 1.3076554934050644\n",
      "Prediction_local [-3.4612774]\n",
      "Right: -3.96954882235052\n"
     ]
    },
    {
     "name": "stderr",
     "output_type": "stream",
     "text": [
      "\r",
      " 75%|███████▍  | 746/1000 [3:09:30<1:03:02, 14.89s/it]"
     ]
    },
    {
     "name": "stdout",
     "output_type": "stream",
     "text": [
      "Intercept 0.9699961629698899\n",
      "Prediction_local [-2.8937287]\n",
      "Right: -3.9932441823424396\n"
     ]
    },
    {
     "name": "stderr",
     "output_type": "stream",
     "text": [
      "\r",
      " 75%|███████▍  | 747/1000 [3:09:45<1:02:48, 14.90s/it]"
     ]
    },
    {
     "name": "stdout",
     "output_type": "stream",
     "text": [
      "Intercept -1.266093768295191\n",
      "Prediction_local [3.69926062]\n",
      "Right: 6.342386009146395\n"
     ]
    },
    {
     "name": "stderr",
     "output_type": "stream",
     "text": [
      "\r",
      " 75%|███████▍  | 748/1000 [3:10:00<1:02:34, 14.90s/it]"
     ]
    },
    {
     "name": "stdout",
     "output_type": "stream",
     "text": [
      "Intercept 1.3005262155239625\n",
      "Prediction_local [-3.66019647]\n",
      "Right: -2.5420981985298394\n"
     ]
    },
    {
     "name": "stderr",
     "output_type": "stream",
     "text": [
      "\r",
      " 75%|███████▍  | 749/1000 [3:10:15<1:02:20, 14.90s/it]"
     ]
    },
    {
     "name": "stdout",
     "output_type": "stream",
     "text": [
      "Intercept -0.5106239296583809\n",
      "Prediction_local [1.6308441]\n",
      "Right: 5.73016552349393\n"
     ]
    },
    {
     "name": "stderr",
     "output_type": "stream",
     "text": [
      "\r",
      " 75%|███████▌  | 750/1000 [3:10:30<1:02:12, 14.93s/it]"
     ]
    },
    {
     "name": "stdout",
     "output_type": "stream",
     "text": [
      "Intercept -0.9395253878104216\n",
      "Prediction_local [3.07090494]\n",
      "Right: 2.262688832479831\n"
     ]
    },
    {
     "name": "stderr",
     "output_type": "stream",
     "text": [
      "\r",
      " 75%|███████▌  | 751/1000 [3:10:45<1:01:59, 14.94s/it]"
     ]
    },
    {
     "name": "stdout",
     "output_type": "stream",
     "text": [
      "Intercept -0.9028938352815754\n",
      "Prediction_local [2.90308834]\n",
      "Right: 1.169965719498522\n"
     ]
    },
    {
     "name": "stderr",
     "output_type": "stream",
     "text": [
      "\r",
      " 75%|███████▌  | 752/1000 [3:10:59<1:01:41, 14.93s/it]"
     ]
    },
    {
     "name": "stdout",
     "output_type": "stream",
     "text": [
      "Intercept -0.5156382948396124\n",
      "Prediction_local [1.85203188]\n",
      "Right: -1.3530001687545616\n"
     ]
    },
    {
     "name": "stderr",
     "output_type": "stream",
     "text": [
      "\r",
      " 75%|███████▌  | 753/1000 [3:11:14<1:01:23, 14.91s/it]"
     ]
    },
    {
     "name": "stdout",
     "output_type": "stream",
     "text": [
      "Intercept -0.5757077045499245\n",
      "Prediction_local [1.63675162]\n",
      "Right: 0.5301501248867677\n"
     ]
    },
    {
     "name": "stderr",
     "output_type": "stream",
     "text": [
      "\r",
      " 75%|███████▌  | 754/1000 [3:11:29<1:01:07, 14.91s/it]"
     ]
    },
    {
     "name": "stdout",
     "output_type": "stream",
     "text": [
      "Intercept -0.420706314136574\n",
      "Prediction_local [1.69229511]\n",
      "Right: 2.022457354341644\n"
     ]
    },
    {
     "name": "stderr",
     "output_type": "stream",
     "text": [
      "\r",
      " 76%|███████▌  | 755/1000 [3:11:44<1:00:59, 14.94s/it]"
     ]
    },
    {
     "name": "stdout",
     "output_type": "stream",
     "text": [
      "Intercept 0.19394754971318898\n",
      "Prediction_local [-0.22228795]\n",
      "Right: -2.6503582879451892\n"
     ]
    },
    {
     "name": "stderr",
     "output_type": "stream",
     "text": [
      "\r",
      " 76%|███████▌  | 756/1000 [3:11:59<1:00:42, 14.93s/it]"
     ]
    },
    {
     "name": "stdout",
     "output_type": "stream",
     "text": [
      "Intercept 0.8134256894619777\n",
      "Prediction_local [-2.45832692]\n",
      "Right: -3.3278845043288383\n"
     ]
    },
    {
     "name": "stderr",
     "output_type": "stream",
     "text": [
      "\r",
      " 76%|███████▌  | 757/1000 [3:12:14<1:00:30, 14.94s/it]"
     ]
    },
    {
     "name": "stdout",
     "output_type": "stream",
     "text": [
      "Intercept -0.5672951333039554\n",
      "Prediction_local [1.56816796]\n",
      "Right: 1.8410623571687743\n"
     ]
    },
    {
     "name": "stderr",
     "output_type": "stream",
     "text": [
      "\r",
      " 76%|███████▌  | 758/1000 [3:12:29<1:00:10, 14.92s/it]"
     ]
    },
    {
     "name": "stdout",
     "output_type": "stream",
     "text": [
      "Intercept 0.35176959848867145\n",
      "Prediction_local [-1.17472891]\n",
      "Right: -1.306660049706322\n"
     ]
    },
    {
     "name": "stderr",
     "output_type": "stream",
     "text": [
      "\r",
      " 76%|███████▌  | 759/1000 [3:12:44<59:58, 14.93s/it]  "
     ]
    },
    {
     "name": "stdout",
     "output_type": "stream",
     "text": [
      "Intercept 0.5837185204974513\n",
      "Prediction_local [-1.32607636]\n",
      "Right: -2.452665900491566\n"
     ]
    },
    {
     "name": "stderr",
     "output_type": "stream",
     "text": [
      "\r",
      " 76%|███████▌  | 760/1000 [3:12:59<59:51, 14.97s/it]"
     ]
    },
    {
     "name": "stdout",
     "output_type": "stream",
     "text": [
      "Intercept 1.795613189666645\n",
      "Prediction_local [-5.09101717]\n",
      "Right: -7.101298348944132\n"
     ]
    },
    {
     "name": "stderr",
     "output_type": "stream",
     "text": [
      "\r",
      " 76%|███████▌  | 761/1000 [3:13:14<59:41, 14.98s/it]"
     ]
    },
    {
     "name": "stdout",
     "output_type": "stream",
     "text": [
      "Intercept 1.7676447110064542\n",
      "Prediction_local [-5.05931266]\n",
      "Right: -6.1234834127099305\n"
     ]
    },
    {
     "name": "stderr",
     "output_type": "stream",
     "text": [
      "\r",
      " 76%|███████▌  | 762/1000 [3:13:29<59:26, 14.98s/it]"
     ]
    },
    {
     "name": "stdout",
     "output_type": "stream",
     "text": [
      "Intercept -0.3238456213740102\n",
      "Prediction_local [1.06089922]\n",
      "Right: 5.187471486200608\n"
     ]
    },
    {
     "name": "stderr",
     "output_type": "stream",
     "text": [
      "\r",
      " 76%|███████▋  | 763/1000 [3:13:44<59:06, 14.97s/it]"
     ]
    },
    {
     "name": "stdout",
     "output_type": "stream",
     "text": [
      "Intercept 0.4947770265575324\n",
      "Prediction_local [-1.53230426]\n",
      "Right: 2.3409571729793583\n"
     ]
    },
    {
     "name": "stderr",
     "output_type": "stream",
     "text": [
      "\r",
      " 76%|███████▋  | 764/1000 [3:13:59<58:53, 14.97s/it]"
     ]
    },
    {
     "name": "stdout",
     "output_type": "stream",
     "text": [
      "Intercept 0.7450512895139153\n",
      "Prediction_local [-2.28541891]\n",
      "Right: -3.4689045192153385\n"
     ]
    },
    {
     "name": "stderr",
     "output_type": "stream",
     "text": [
      "\r",
      " 76%|███████▋  | 765/1000 [3:14:14<58:43, 14.99s/it]"
     ]
    },
    {
     "name": "stdout",
     "output_type": "stream",
     "text": [
      "Intercept -0.17241064586703017\n",
      "Prediction_local [0.49812703]\n",
      "Right: 4.9095358052039355\n"
     ]
    },
    {
     "name": "stderr",
     "output_type": "stream",
     "text": [
      "\r",
      " 77%|███████▋  | 766/1000 [3:14:29<58:22, 14.97s/it]"
     ]
    },
    {
     "name": "stdout",
     "output_type": "stream",
     "text": [
      "Intercept 0.1980474035986719\n",
      "Prediction_local [-0.29401319]\n",
      "Right: -1.649481850738903\n"
     ]
    },
    {
     "name": "stderr",
     "output_type": "stream",
     "text": [
      "\r",
      " 77%|███████▋  | 767/1000 [3:14:44<58:01, 14.94s/it]"
     ]
    },
    {
     "name": "stdout",
     "output_type": "stream",
     "text": [
      "Intercept -1.5234365476080414\n",
      "Prediction_local [4.86787418]\n",
      "Right: 5.986025884009857\n"
     ]
    },
    {
     "name": "stderr",
     "output_type": "stream",
     "text": [
      "\r",
      " 77%|███████▋  | 768/1000 [3:14:59<57:50, 14.96s/it]"
     ]
    },
    {
     "name": "stdout",
     "output_type": "stream",
     "text": [
      "Intercept -1.1285888812672702\n",
      "Prediction_local [3.63666471]\n",
      "Right: 2.3585708621719155\n"
     ]
    },
    {
     "name": "stderr",
     "output_type": "stream",
     "text": [
      "\r",
      " 77%|███████▋  | 769/1000 [3:15:14<57:36, 14.96s/it]"
     ]
    },
    {
     "name": "stdout",
     "output_type": "stream",
     "text": [
      "Intercept 0.6158450168207007\n",
      "Prediction_local [-1.7783389]\n",
      "Right: 1.0743217007414976\n"
     ]
    },
    {
     "name": "stderr",
     "output_type": "stream",
     "text": [
      "\r",
      " 77%|███████▋  | 770/1000 [3:15:29<57:16, 14.94s/it]"
     ]
    },
    {
     "name": "stdout",
     "output_type": "stream",
     "text": [
      "Intercept 0.541822784473659\n",
      "Prediction_local [-1.30927382]\n",
      "Right: -1.4502823244081686\n"
     ]
    },
    {
     "name": "stderr",
     "output_type": "stream",
     "text": [
      "\r",
      " 77%|███████▋  | 771/1000 [3:15:44<57:05, 14.96s/it]"
     ]
    },
    {
     "name": "stdout",
     "output_type": "stream",
     "text": [
      "Intercept 0.5747146889053558\n",
      "Prediction_local [-1.39750402]\n",
      "Right: 3.8850663256757114\n"
     ]
    },
    {
     "name": "stderr",
     "output_type": "stream",
     "text": [
      "\r",
      " 77%|███████▋  | 772/1000 [3:15:59<56:44, 14.93s/it]"
     ]
    },
    {
     "name": "stdout",
     "output_type": "stream",
     "text": [
      "Intercept -0.13765846080750666\n",
      "Prediction_local [0.55048756]\n",
      "Right: -2.2385800770813695\n"
     ]
    },
    {
     "name": "stderr",
     "output_type": "stream",
     "text": [
      "\r",
      " 77%|███████▋  | 773/1000 [3:16:13<56:23, 14.91s/it]"
     ]
    },
    {
     "name": "stdout",
     "output_type": "stream",
     "text": [
      "Intercept -0.41937223580927585\n",
      "Prediction_local [1.48660356]\n",
      "Right: -0.1548872980172071\n"
     ]
    },
    {
     "name": "stderr",
     "output_type": "stream",
     "text": [
      "\r",
      " 77%|███████▋  | 774/1000 [3:16:28<56:08, 14.91s/it]"
     ]
    },
    {
     "name": "stdout",
     "output_type": "stream",
     "text": [
      "Intercept -0.5111271225641312\n",
      "Prediction_local [1.82326449]\n",
      "Right: 2.661255810835276\n"
     ]
    },
    {
     "name": "stderr",
     "output_type": "stream",
     "text": [
      "\r",
      " 78%|███████▊  | 775/1000 [3:16:43<55:51, 14.90s/it]"
     ]
    },
    {
     "name": "stdout",
     "output_type": "stream",
     "text": [
      "Intercept -1.5545427763433948\n",
      "Prediction_local [4.89575]\n",
      "Right: 4.891860265620049\n"
     ]
    },
    {
     "name": "stderr",
     "output_type": "stream",
     "text": [
      "\r",
      " 78%|███████▊  | 776/1000 [3:16:58<55:40, 14.91s/it]"
     ]
    },
    {
     "name": "stdout",
     "output_type": "stream",
     "text": [
      "Intercept -0.0670918343530306\n",
      "Prediction_local [0.6292227]\n",
      "Right: 5.4942053991628175\n"
     ]
    },
    {
     "name": "stderr",
     "output_type": "stream",
     "text": [
      "\r",
      " 78%|███████▊  | 777/1000 [3:17:13<55:27, 14.92s/it]"
     ]
    },
    {
     "name": "stdout",
     "output_type": "stream",
     "text": [
      "Intercept -0.47387765915419744\n",
      "Prediction_local [1.55943238]\n",
      "Right: -0.4814439894952593\n"
     ]
    },
    {
     "name": "stderr",
     "output_type": "stream",
     "text": [
      "\r",
      " 78%|███████▊  | 778/1000 [3:17:28<55:47, 15.08s/it]"
     ]
    },
    {
     "name": "stdout",
     "output_type": "stream",
     "text": [
      "Intercept 0.925419078987262\n",
      "Prediction_local [-2.74835231]\n",
      "Right: -4.61114195438568\n"
     ]
    },
    {
     "name": "stderr",
     "output_type": "stream",
     "text": [
      "\r",
      " 78%|███████▊  | 779/1000 [3:17:44<56:04, 15.23s/it]"
     ]
    },
    {
     "name": "stdout",
     "output_type": "stream",
     "text": [
      "Intercept 0.059495543413608035\n",
      "Prediction_local [-0.13150144]\n",
      "Right: 2.878252327349443\n"
     ]
    },
    {
     "name": "stderr",
     "output_type": "stream",
     "text": [
      "\r",
      " 78%|███████▊  | 780/1000 [3:17:59<55:58, 15.26s/it]"
     ]
    },
    {
     "name": "stdout",
     "output_type": "stream",
     "text": [
      "Intercept -1.6414503818600876\n",
      "Prediction_local [5.07445628]\n",
      "Right: 8.982743897535533\n"
     ]
    },
    {
     "name": "stderr",
     "output_type": "stream",
     "text": [
      "\r",
      " 78%|███████▊  | 781/1000 [3:18:15<55:59, 15.34s/it]"
     ]
    },
    {
     "name": "stdout",
     "output_type": "stream",
     "text": [
      "Intercept 0.22829940325943374\n",
      "Prediction_local [-0.54592813]\n",
      "Right: 0.9038642582527627\n"
     ]
    },
    {
     "name": "stderr",
     "output_type": "stream",
     "text": [
      "\r",
      " 78%|███████▊  | 782/1000 [3:18:30<55:55, 15.39s/it]"
     ]
    },
    {
     "name": "stdout",
     "output_type": "stream",
     "text": [
      "Intercept -0.4864810819271451\n",
      "Prediction_local [1.82376865]\n",
      "Right: 0.3099842513891108\n"
     ]
    },
    {
     "name": "stderr",
     "output_type": "stream",
     "text": [
      "\r",
      " 78%|███████▊  | 783/1000 [3:18:46<55:48, 15.43s/it]"
     ]
    },
    {
     "name": "stdout",
     "output_type": "stream",
     "text": [
      "Intercept 0.27651386149012397\n",
      "Prediction_local [-0.70435473]\n",
      "Right: -1.5772053664674803\n"
     ]
    },
    {
     "name": "stderr",
     "output_type": "stream",
     "text": [
      "\r",
      " 78%|███████▊  | 784/1000 [3:19:01<55:35, 15.44s/it]"
     ]
    },
    {
     "name": "stdout",
     "output_type": "stream",
     "text": [
      "Intercept 0.5785870350130866\n",
      "Prediction_local [-1.6450764]\n",
      "Right: -1.3748446890501922\n"
     ]
    },
    {
     "name": "stderr",
     "output_type": "stream",
     "text": [
      "\r",
      " 78%|███████▊  | 785/1000 [3:19:17<55:20, 15.44s/it]"
     ]
    },
    {
     "name": "stdout",
     "output_type": "stream",
     "text": [
      "Intercept -0.5198088906490058\n",
      "Prediction_local [1.76371321]\n",
      "Right: 0.6886533207575387\n"
     ]
    },
    {
     "name": "stderr",
     "output_type": "stream",
     "text": [
      "\r",
      " 79%|███████▊  | 786/1000 [3:19:32<55:09, 15.47s/it]"
     ]
    },
    {
     "name": "stdout",
     "output_type": "stream",
     "text": [
      "Intercept 0.526686402963192\n",
      "Prediction_local [-1.24819518]\n",
      "Right: -2.113291713308422\n"
     ]
    },
    {
     "name": "stderr",
     "output_type": "stream",
     "text": [
      "\r",
      " 79%|███████▊  | 787/1000 [3:19:48<54:47, 15.43s/it]"
     ]
    },
    {
     "name": "stdout",
     "output_type": "stream",
     "text": [
      "Intercept 0.9443633954664685\n",
      "Prediction_local [-2.63764135]\n",
      "Right: 1.0661041294641271\n"
     ]
    },
    {
     "name": "stderr",
     "output_type": "stream",
     "text": [
      "\r",
      " 79%|███████▉  | 788/1000 [3:20:03<54:37, 15.46s/it]"
     ]
    },
    {
     "name": "stdout",
     "output_type": "stream",
     "text": [
      "Intercept 0.07870377843108613\n",
      "Prediction_local [-0.13856741]\n",
      "Right: 1.4478492576363935\n"
     ]
    },
    {
     "name": "stderr",
     "output_type": "stream",
     "text": [
      "\r",
      " 79%|███████▉  | 789/1000 [3:20:19<54:24, 15.47s/it]"
     ]
    },
    {
     "name": "stdout",
     "output_type": "stream",
     "text": [
      "Intercept 0.030194456386224477\n",
      "Prediction_local [0.42221235]\n",
      "Right: -1.0270471537183936\n"
     ]
    },
    {
     "name": "stderr",
     "output_type": "stream",
     "text": [
      "\r",
      " 79%|███████▉  | 790/1000 [3:20:34<54:20, 15.53s/it]"
     ]
    },
    {
     "name": "stdout",
     "output_type": "stream",
     "text": [
      "Intercept -0.7117604197034435\n",
      "Prediction_local [2.72803698]\n",
      "Right: 2.1518137920162785\n"
     ]
    },
    {
     "name": "stderr",
     "output_type": "stream",
     "text": [
      "\r",
      " 79%|███████▉  | 791/1000 [3:20:50<54:25, 15.63s/it]"
     ]
    },
    {
     "name": "stdout",
     "output_type": "stream",
     "text": [
      "Intercept 0.486189863212882\n",
      "Prediction_local [-1.46722975]\n",
      "Right: 2.417672352318287\n"
     ]
    },
    {
     "name": "stderr",
     "output_type": "stream",
     "text": [
      "\r",
      " 79%|███████▉  | 792/1000 [3:21:06<54:08, 15.62s/it]"
     ]
    },
    {
     "name": "stdout",
     "output_type": "stream",
     "text": [
      "Intercept 0.8471647838085763\n",
      "Prediction_local [-2.64175578]\n",
      "Right: -2.193068903230796\n"
     ]
    },
    {
     "name": "stderr",
     "output_type": "stream",
     "text": [
      "\r",
      " 79%|███████▉  | 793/1000 [3:21:22<54:02, 15.66s/it]"
     ]
    },
    {
     "name": "stdout",
     "output_type": "stream",
     "text": [
      "Intercept -0.5108838570286742\n",
      "Prediction_local [1.54139469]\n",
      "Right: -2.797335978169751\n"
     ]
    },
    {
     "name": "stderr",
     "output_type": "stream",
     "text": [
      "\r",
      " 79%|███████▉  | 794/1000 [3:21:37<53:51, 15.69s/it]"
     ]
    },
    {
     "name": "stdout",
     "output_type": "stream",
     "text": [
      "Intercept -0.16749745953835218\n",
      "Prediction_local [0.2806237]\n",
      "Right: 2.536033638683772\n"
     ]
    },
    {
     "name": "stderr",
     "output_type": "stream",
     "text": [
      "\r",
      " 80%|███████▉  | 795/1000 [3:21:53<53:31, 15.67s/it]"
     ]
    },
    {
     "name": "stdout",
     "output_type": "stream",
     "text": [
      "Intercept 1.301693785276788\n",
      "Prediction_local [-3.43094206]\n",
      "Right: -2.219871854382867\n"
     ]
    },
    {
     "name": "stderr",
     "output_type": "stream",
     "text": [
      "\r",
      " 80%|███████▉  | 796/1000 [3:22:09<53:12, 15.65s/it]"
     ]
    },
    {
     "name": "stdout",
     "output_type": "stream",
     "text": [
      "Intercept -0.7330546684693479\n",
      "Prediction_local [2.50935727]\n",
      "Right: 0.2534707642906403\n"
     ]
    },
    {
     "name": "stderr",
     "output_type": "stream",
     "text": [
      "\r",
      " 80%|███████▉  | 797/1000 [3:22:25<53:14, 15.74s/it]"
     ]
    },
    {
     "name": "stdout",
     "output_type": "stream",
     "text": [
      "Intercept 0.6510616400703049\n",
      "Prediction_local [-1.75459168]\n",
      "Right: 4.114134145242812\n"
     ]
    },
    {
     "name": "stderr",
     "output_type": "stream",
     "text": [
      "\r",
      " 80%|███████▉  | 798/1000 [3:22:40<53:03, 15.76s/it]"
     ]
    },
    {
     "name": "stdout",
     "output_type": "stream",
     "text": [
      "Intercept -0.7863463788813287\n",
      "Prediction_local [2.4139455]\n",
      "Right: 1.9077922759693209\n"
     ]
    },
    {
     "name": "stderr",
     "output_type": "stream",
     "text": [
      "\r",
      " 80%|███████▉  | 799/1000 [3:22:56<53:01, 15.83s/it]"
     ]
    },
    {
     "name": "stdout",
     "output_type": "stream",
     "text": [
      "Intercept 0.2834563888925628\n",
      "Prediction_local [-0.76969172]\n",
      "Right: -0.18303515523809114\n"
     ]
    },
    {
     "name": "stderr",
     "output_type": "stream",
     "text": [
      "\r",
      " 80%|████████  | 800/1000 [3:23:12<52:34, 15.77s/it]"
     ]
    },
    {
     "name": "stdout",
     "output_type": "stream",
     "text": [
      "Intercept 0.059793887436576404\n",
      "Prediction_local [0.44060889]\n",
      "Right: 1.5651547511684283\n"
     ]
    },
    {
     "name": "stderr",
     "output_type": "stream",
     "text": [
      "\r",
      " 80%|████████  | 801/1000 [3:23:28<52:11, 15.73s/it]"
     ]
    },
    {
     "name": "stdout",
     "output_type": "stream",
     "text": [
      "Intercept 1.692149196531014\n",
      "Prediction_local [-4.71794956]\n",
      "Right: -6.825785628994017\n"
     ]
    },
    {
     "name": "stderr",
     "output_type": "stream",
     "text": [
      "\r",
      " 80%|████████  | 802/1000 [3:23:43<51:10, 15.51s/it]"
     ]
    },
    {
     "name": "stdout",
     "output_type": "stream",
     "text": [
      "Intercept -0.5140760855744724\n",
      "Prediction_local [1.70218993]\n",
      "Right: -0.7642131615102755\n"
     ]
    },
    {
     "name": "stderr",
     "output_type": "stream",
     "text": [
      "\r",
      " 80%|████████  | 803/1000 [3:23:58<50:24, 15.35s/it]"
     ]
    },
    {
     "name": "stdout",
     "output_type": "stream",
     "text": [
      "Intercept -0.8152444261936419\n",
      "Prediction_local [2.55675093]\n",
      "Right: 3.072645172560219\n"
     ]
    },
    {
     "name": "stderr",
     "output_type": "stream",
     "text": [
      "\r",
      " 80%|████████  | 804/1000 [3:24:13<49:46, 15.24s/it]"
     ]
    },
    {
     "name": "stdout",
     "output_type": "stream",
     "text": [
      "Intercept -0.4188148375809416\n",
      "Prediction_local [1.74167315]\n",
      "Right: 2.958974362548086\n"
     ]
    },
    {
     "name": "stderr",
     "output_type": "stream",
     "text": [
      "\r",
      " 80%|████████  | 805/1000 [3:24:28<49:20, 15.18s/it]"
     ]
    },
    {
     "name": "stdout",
     "output_type": "stream",
     "text": [
      "Intercept -0.04558035431707949\n",
      "Prediction_local [0.41186498]\n",
      "Right: 2.5779386660696724\n"
     ]
    },
    {
     "name": "stderr",
     "output_type": "stream",
     "text": [
      "\r",
      " 81%|████████  | 806/1000 [3:24:43<48:57, 15.14s/it]"
     ]
    },
    {
     "name": "stdout",
     "output_type": "stream",
     "text": [
      "Intercept 0.6145096318742518\n",
      "Prediction_local [-1.58188249]\n",
      "Right: 0.37920704461536625\n"
     ]
    },
    {
     "name": "stderr",
     "output_type": "stream",
     "text": [
      "\r",
      " 81%|████████  | 807/1000 [3:24:58<48:41, 15.14s/it]"
     ]
    },
    {
     "name": "stdout",
     "output_type": "stream",
     "text": [
      "Intercept -1.5777812741270014\n",
      "Prediction_local [5.14403809]\n",
      "Right: 8.30113370610123\n"
     ]
    },
    {
     "name": "stderr",
     "output_type": "stream",
     "text": [
      "\r",
      " 81%|████████  | 808/1000 [3:25:13<48:17, 15.09s/it]"
     ]
    },
    {
     "name": "stdout",
     "output_type": "stream",
     "text": [
      "Intercept 0.15880429552884548\n",
      "Prediction_local [-0.33086829]\n",
      "Right: 1.2911770018062882\n"
     ]
    },
    {
     "name": "stderr",
     "output_type": "stream",
     "text": [
      "\r",
      " 81%|████████  | 809/1000 [3:25:28<47:59, 15.08s/it]"
     ]
    },
    {
     "name": "stdout",
     "output_type": "stream",
     "text": [
      "Intercept -0.10169442629089807\n",
      "Prediction_local [0.4817562]\n",
      "Right: -0.7378632638075517\n"
     ]
    },
    {
     "name": "stderr",
     "output_type": "stream",
     "text": [
      "\r",
      " 81%|████████  | 810/1000 [3:25:43<47:38, 15.04s/it]"
     ]
    },
    {
     "name": "stdout",
     "output_type": "stream",
     "text": [
      "Intercept 0.5723949906115404\n",
      "Prediction_local [-1.47332616]\n",
      "Right: -5.045252915842536\n"
     ]
    },
    {
     "name": "stderr",
     "output_type": "stream",
     "text": [
      "\r",
      " 81%|████████  | 811/1000 [3:25:58<47:21, 15.03s/it]"
     ]
    },
    {
     "name": "stdout",
     "output_type": "stream",
     "text": [
      "Intercept -0.012003509365505663\n",
      "Prediction_local [0.36696582]\n",
      "Right: -0.04013457655759504\n"
     ]
    },
    {
     "name": "stderr",
     "output_type": "stream",
     "text": [
      "\r",
      " 81%|████████  | 812/1000 [3:26:13<47:02, 15.01s/it]"
     ]
    },
    {
     "name": "stdout",
     "output_type": "stream",
     "text": [
      "Intercept 0.27959386704398864\n",
      "Prediction_local [-0.76637293]\n",
      "Right: -1.8828044308895773\n"
     ]
    },
    {
     "name": "stderr",
     "output_type": "stream",
     "text": [
      "\r",
      " 81%|████████▏ | 813/1000 [3:26:28<46:45, 15.00s/it]"
     ]
    },
    {
     "name": "stdout",
     "output_type": "stream",
     "text": [
      "Intercept -0.40528300226416325\n",
      "Prediction_local [1.48108251]\n",
      "Right: -0.5600066087664747\n"
     ]
    },
    {
     "name": "stderr",
     "output_type": "stream",
     "text": [
      "\r",
      " 81%|████████▏ | 814/1000 [3:26:43<46:28, 14.99s/it]"
     ]
    },
    {
     "name": "stdout",
     "output_type": "stream",
     "text": [
      "Intercept 0.5725699164978926\n",
      "Prediction_local [-1.18617499]\n",
      "Right: 0.42213861350536314\n"
     ]
    },
    {
     "name": "stderr",
     "output_type": "stream",
     "text": [
      "\r",
      " 82%|████████▏ | 815/1000 [3:26:58<46:10, 14.97s/it]"
     ]
    },
    {
     "name": "stdout",
     "output_type": "stream",
     "text": [
      "Intercept -0.5673031423391055\n",
      "Prediction_local [2.28190225]\n",
      "Right: 2.1992310301721387\n"
     ]
    },
    {
     "name": "stderr",
     "output_type": "stream",
     "text": [
      "\r",
      " 82%|████████▏ | 816/1000 [3:27:13<46:00, 15.00s/it]"
     ]
    },
    {
     "name": "stdout",
     "output_type": "stream",
     "text": [
      "Intercept 0.5672919737939988\n",
      "Prediction_local [-1.56308613]\n",
      "Right: -1.9821071655235816\n"
     ]
    },
    {
     "name": "stderr",
     "output_type": "stream",
     "text": [
      "\r",
      " 82%|████████▏ | 817/1000 [3:27:28<45:52, 15.04s/it]"
     ]
    },
    {
     "name": "stdout",
     "output_type": "stream",
     "text": [
      "Intercept 0.9716784792915377\n",
      "Prediction_local [-2.73010189]\n",
      "Right: -2.357122480456651\n"
     ]
    },
    {
     "name": "stderr",
     "output_type": "stream",
     "text": [
      "\r",
      " 82%|████████▏ | 818/1000 [3:27:43<45:29, 15.00s/it]"
     ]
    },
    {
     "name": "stdout",
     "output_type": "stream",
     "text": [
      "Intercept -0.8375622792290437\n",
      "Prediction_local [2.72092046]\n",
      "Right: 0.9788491817369973\n"
     ]
    },
    {
     "name": "stderr",
     "output_type": "stream",
     "text": [
      "\r",
      " 82%|████████▏ | 819/1000 [3:27:58<45:18, 15.02s/it]"
     ]
    },
    {
     "name": "stdout",
     "output_type": "stream",
     "text": [
      "Intercept 0.6670894975415752\n",
      "Prediction_local [-1.30772733]\n",
      "Right: -3.9642482978480063\n"
     ]
    },
    {
     "name": "stderr",
     "output_type": "stream",
     "text": [
      "\r",
      " 82%|████████▏ | 820/1000 [3:28:13<45:13, 15.08s/it]"
     ]
    },
    {
     "name": "stdout",
     "output_type": "stream",
     "text": [
      "Intercept -0.1065944842172898\n",
      "Prediction_local [0.34987516]\n",
      "Right: -2.3771889886679554\n"
     ]
    },
    {
     "name": "stderr",
     "output_type": "stream",
     "text": [
      "\r",
      " 82%|████████▏ | 821/1000 [3:28:28<45:01, 15.09s/it]"
     ]
    },
    {
     "name": "stdout",
     "output_type": "stream",
     "text": [
      "Intercept -0.8788472885101866\n",
      "Prediction_local [2.99831917]\n",
      "Right: 2.297452113735598\n"
     ]
    },
    {
     "name": "stderr",
     "output_type": "stream",
     "text": [
      "\r",
      " 82%|████████▏ | 822/1000 [3:28:43<44:46, 15.09s/it]"
     ]
    },
    {
     "name": "stdout",
     "output_type": "stream",
     "text": [
      "Intercept -1.6283429108678154\n",
      "Prediction_local [5.06177818]\n",
      "Right: 0.3839847939260602\n"
     ]
    },
    {
     "name": "stderr",
     "output_type": "stream",
     "text": [
      "\r",
      " 82%|████████▏ | 823/1000 [3:28:58<44:29, 15.08s/it]"
     ]
    },
    {
     "name": "stdout",
     "output_type": "stream",
     "text": [
      "Intercept 0.7899268313995196\n",
      "Prediction_local [-2.56955229]\n",
      "Right: -2.512093557125533\n"
     ]
    },
    {
     "name": "stderr",
     "output_type": "stream",
     "text": [
      "\r",
      " 82%|████████▏ | 824/1000 [3:29:13<44:08, 15.05s/it]"
     ]
    },
    {
     "name": "stdout",
     "output_type": "stream",
     "text": [
      "Intercept 0.5747544108913781\n",
      "Prediction_local [-1.47086422]\n",
      "Right: -0.6342481726838523\n"
     ]
    },
    {
     "name": "stderr",
     "output_type": "stream",
     "text": [
      "\r",
      " 82%|████████▎ | 825/1000 [3:29:28<43:49, 15.03s/it]"
     ]
    },
    {
     "name": "stdout",
     "output_type": "stream",
     "text": [
      "Intercept -0.032371029078234234\n",
      "Prediction_local [0.29864752]\n",
      "Right: 1.0488413349585208\n"
     ]
    },
    {
     "name": "stderr",
     "output_type": "stream",
     "text": [
      "\r",
      " 83%|████████▎ | 826/1000 [3:29:43<43:30, 15.00s/it]"
     ]
    },
    {
     "name": "stdout",
     "output_type": "stream",
     "text": [
      "Intercept 0.5516045759165944\n",
      "Prediction_local [-1.62898696]\n",
      "Right: -0.3891873289970623\n"
     ]
    },
    {
     "name": "stderr",
     "output_type": "stream",
     "text": [
      "\r",
      " 83%|████████▎ | 827/1000 [3:29:58<43:12, 14.98s/it]"
     ]
    },
    {
     "name": "stdout",
     "output_type": "stream",
     "text": [
      "Intercept -1.1950872981679002\n",
      "Prediction_local [3.67352073]\n",
      "Right: 3.586015801406179\n"
     ]
    },
    {
     "name": "stderr",
     "output_type": "stream",
     "text": [
      "\r",
      " 83%|████████▎ | 828/1000 [3:30:13<42:56, 14.98s/it]"
     ]
    },
    {
     "name": "stdout",
     "output_type": "stream",
     "text": [
      "Intercept 0.09188633176173282\n",
      "Prediction_local [-0.43615824]\n",
      "Right: -2.2284734544938374\n"
     ]
    },
    {
     "name": "stderr",
     "output_type": "stream",
     "text": [
      "\r",
      " 83%|████████▎ | 829/1000 [3:30:28<42:41, 14.98s/it]"
     ]
    },
    {
     "name": "stdout",
     "output_type": "stream",
     "text": [
      "Intercept 0.13761016992767028\n",
      "Prediction_local [-0.40612915]\n",
      "Right: 0.2866838260404644\n"
     ]
    },
    {
     "name": "stderr",
     "output_type": "stream",
     "text": [
      "\r",
      " 83%|████████▎ | 830/1000 [3:30:43<42:25, 14.97s/it]"
     ]
    },
    {
     "name": "stdout",
     "output_type": "stream",
     "text": [
      "Intercept -1.489480102656987\n",
      "Prediction_local [4.74955893]\n",
      "Right: 6.649495330257514\n"
     ]
    },
    {
     "name": "stderr",
     "output_type": "stream",
     "text": [
      "\r",
      " 83%|████████▎ | 831/1000 [3:30:58<42:11, 14.98s/it]"
     ]
    },
    {
     "name": "stdout",
     "output_type": "stream",
     "text": [
      "Intercept -0.03218552933731675\n",
      "Prediction_local [0.63343416]\n",
      "Right: 0.7467171229550473\n"
     ]
    },
    {
     "name": "stderr",
     "output_type": "stream",
     "text": [
      "\r",
      " 83%|████████▎ | 832/1000 [3:31:13<41:57, 14.98s/it]"
     ]
    },
    {
     "name": "stdout",
     "output_type": "stream",
     "text": [
      "Intercept 0.3428100018402727\n",
      "Prediction_local [-0.70488369]\n",
      "Right: -3.543727449930445\n"
     ]
    },
    {
     "name": "stderr",
     "output_type": "stream",
     "text": [
      "\r",
      " 83%|████████▎ | 833/1000 [3:31:28<41:38, 14.96s/it]"
     ]
    },
    {
     "name": "stdout",
     "output_type": "stream",
     "text": [
      "Intercept 1.3635261411525486\n",
      "Prediction_local [-3.71527732]\n",
      "Right: -3.746192527878352\n"
     ]
    },
    {
     "name": "stderr",
     "output_type": "stream",
     "text": [
      "\r",
      " 83%|████████▎ | 834/1000 [3:31:43<41:23, 14.96s/it]"
     ]
    },
    {
     "name": "stdout",
     "output_type": "stream",
     "text": [
      "Intercept 0.16634789351093276\n",
      "Prediction_local [-0.44375377]\n",
      "Right: 2.7714783724110874\n"
     ]
    },
    {
     "name": "stderr",
     "output_type": "stream",
     "text": [
      "\r",
      " 84%|████████▎ | 835/1000 [3:31:58<41:13, 14.99s/it]"
     ]
    },
    {
     "name": "stdout",
     "output_type": "stream",
     "text": [
      "Intercept -1.1163609848411649\n",
      "Prediction_local [3.89763758]\n",
      "Right: 0.23095378205713396\n"
     ]
    },
    {
     "name": "stderr",
     "output_type": "stream",
     "text": [
      "\r",
      " 84%|████████▎ | 836/1000 [3:32:13<40:51, 14.95s/it]"
     ]
    },
    {
     "name": "stdout",
     "output_type": "stream",
     "text": [
      "Intercept 0.5594259731208127\n",
      "Prediction_local [-1.49305812]\n",
      "Right: -5.228284664759091\n"
     ]
    },
    {
     "name": "stderr",
     "output_type": "stream",
     "text": [
      "\r",
      " 84%|████████▎ | 837/1000 [3:32:28<40:33, 14.93s/it]"
     ]
    },
    {
     "name": "stdout",
     "output_type": "stream",
     "text": [
      "Intercept 0.6284312084394523\n",
      "Prediction_local [-1.53403429]\n",
      "Right: 1.5318223239512172\n"
     ]
    },
    {
     "name": "stderr",
     "output_type": "stream",
     "text": [
      "\r",
      " 84%|████████▍ | 838/1000 [3:32:43<40:17, 14.92s/it]"
     ]
    },
    {
     "name": "stdout",
     "output_type": "stream",
     "text": [
      "Intercept 0.2834119463913184\n",
      "Prediction_local [-0.19565049]\n",
      "Right: 4.184322676101613\n"
     ]
    },
    {
     "name": "stderr",
     "output_type": "stream",
     "text": [
      "\r",
      " 84%|████████▍ | 839/1000 [3:32:57<40:01, 14.92s/it]"
     ]
    },
    {
     "name": "stdout",
     "output_type": "stream",
     "text": [
      "Intercept -0.16835869663218475\n",
      "Prediction_local [0.55573615]\n",
      "Right: -0.15217822208361254\n"
     ]
    },
    {
     "name": "stderr",
     "output_type": "stream",
     "text": [
      "\r",
      " 84%|████████▍ | 840/1000 [3:33:12<39:45, 14.91s/it]"
     ]
    },
    {
     "name": "stdout",
     "output_type": "stream",
     "text": [
      "Intercept -0.14456100644822065\n",
      "Prediction_local [0.65906737]\n",
      "Right: 3.880138751537838\n"
     ]
    },
    {
     "name": "stderr",
     "output_type": "stream",
     "text": [
      "\r",
      " 84%|████████▍ | 841/1000 [3:33:27<39:29, 14.90s/it]"
     ]
    },
    {
     "name": "stdout",
     "output_type": "stream",
     "text": [
      "Intercept -0.9067826099251021\n",
      "Prediction_local [2.93616194]\n",
      "Right: 3.2239690861178354\n"
     ]
    },
    {
     "name": "stderr",
     "output_type": "stream",
     "text": [
      "\r",
      " 84%|████████▍ | 842/1000 [3:33:42<39:15, 14.91s/it]"
     ]
    },
    {
     "name": "stdout",
     "output_type": "stream",
     "text": [
      "Intercept -0.5942181582628171\n",
      "Prediction_local [1.69786877]\n",
      "Right: 0.7627003217380547\n"
     ]
    },
    {
     "name": "stderr",
     "output_type": "stream",
     "text": [
      "\r",
      " 84%|████████▍ | 843/1000 [3:33:57<39:02, 14.92s/it]"
     ]
    },
    {
     "name": "stdout",
     "output_type": "stream",
     "text": [
      "Intercept -0.808913482191156\n",
      "Prediction_local [2.8322346]\n",
      "Right: 5.399162272535745\n"
     ]
    },
    {
     "name": "stderr",
     "output_type": "stream",
     "text": [
      "\r",
      " 84%|████████▍ | 844/1000 [3:34:12<38:48, 14.93s/it]"
     ]
    },
    {
     "name": "stdout",
     "output_type": "stream",
     "text": [
      "Intercept 0.5697082418534429\n",
      "Prediction_local [-1.4216881]\n",
      "Right: -2.557154460011551\n"
     ]
    },
    {
     "name": "stderr",
     "output_type": "stream",
     "text": [
      "\r",
      " 84%|████████▍ | 845/1000 [3:34:27<38:38, 14.96s/it]"
     ]
    },
    {
     "name": "stdout",
     "output_type": "stream",
     "text": [
      "Intercept 0.4890804905312993\n",
      "Prediction_local [-1.34439549]\n",
      "Right: -2.9859568961382545\n"
     ]
    },
    {
     "name": "stderr",
     "output_type": "stream",
     "text": [
      "\r",
      " 85%|████████▍ | 846/1000 [3:34:42<38:25, 14.97s/it]"
     ]
    },
    {
     "name": "stdout",
     "output_type": "stream",
     "text": [
      "Intercept -0.46084737607043413\n",
      "Prediction_local [1.69562521]\n",
      "Right: 3.3296372505278145\n"
     ]
    },
    {
     "name": "stderr",
     "output_type": "stream",
     "text": [
      "\r",
      " 85%|████████▍ | 847/1000 [3:34:57<38:12, 14.99s/it]"
     ]
    },
    {
     "name": "stdout",
     "output_type": "stream",
     "text": [
      "Intercept -0.5660615430001184\n",
      "Prediction_local [1.94888572]\n",
      "Right: 1.1214713834641388\n"
     ]
    },
    {
     "name": "stderr",
     "output_type": "stream",
     "text": [
      "\r",
      " 85%|████████▍ | 848/1000 [3:35:12<38:01, 15.01s/it]"
     ]
    },
    {
     "name": "stdout",
     "output_type": "stream",
     "text": [
      "Intercept 0.8783617500394931\n",
      "Prediction_local [-2.30807235]\n",
      "Right: -2.6355756036427236\n"
     ]
    },
    {
     "name": "stderr",
     "output_type": "stream",
     "text": [
      "\r",
      " 85%|████████▍ | 849/1000 [3:35:27<37:50, 15.03s/it]"
     ]
    },
    {
     "name": "stdout",
     "output_type": "stream",
     "text": [
      "Intercept -1.5194528083588286\n",
      "Prediction_local [4.66535132]\n",
      "Right: 1.9029484277780604\n"
     ]
    },
    {
     "name": "stderr",
     "output_type": "stream",
     "text": [
      "\r",
      " 85%|████████▌ | 850/1000 [3:35:42<37:36, 15.05s/it]"
     ]
    },
    {
     "name": "stdout",
     "output_type": "stream",
     "text": [
      "Intercept -0.4177157765921026\n",
      "Prediction_local [1.565838]\n",
      "Right: -1.782024279584079\n"
     ]
    },
    {
     "name": "stderr",
     "output_type": "stream",
     "text": [
      "\r",
      " 85%|████████▌ | 851/1000 [3:35:57<37:18, 15.02s/it]"
     ]
    },
    {
     "name": "stdout",
     "output_type": "stream",
     "text": [
      "Intercept 1.301298744236702\n",
      "Prediction_local [-3.61813339]\n",
      "Right: -6.506158674017508\n"
     ]
    },
    {
     "name": "stderr",
     "output_type": "stream",
     "text": [
      "\r",
      " 85%|████████▌ | 852/1000 [3:36:12<37:06, 15.04s/it]"
     ]
    },
    {
     "name": "stdout",
     "output_type": "stream",
     "text": [
      "Intercept 1.7126056118474782\n",
      "Prediction_local [-4.80418015]\n",
      "Right: -7.079346270104045\n"
     ]
    },
    {
     "name": "stderr",
     "output_type": "stream",
     "text": [
      "\r",
      " 85%|████████▌ | 853/1000 [3:36:27<36:46, 15.01s/it]"
     ]
    },
    {
     "name": "stdout",
     "output_type": "stream",
     "text": [
      "Intercept 0.5713288677715693\n",
      "Prediction_local [-1.68998533]\n",
      "Right: -4.927017839097259\n"
     ]
    },
    {
     "name": "stderr",
     "output_type": "stream",
     "text": [
      "\r",
      " 85%|████████▌ | 854/1000 [3:36:42<36:25, 14.97s/it]"
     ]
    },
    {
     "name": "stdout",
     "output_type": "stream",
     "text": [
      "Intercept -0.06183077661766477\n",
      "Prediction_local [0.57726101]\n",
      "Right: -0.7131730135216007\n"
     ]
    },
    {
     "name": "stderr",
     "output_type": "stream",
     "text": [
      "\r",
      " 86%|████████▌ | 855/1000 [3:36:57<36:09, 14.96s/it]"
     ]
    },
    {
     "name": "stdout",
     "output_type": "stream",
     "text": [
      "Intercept -0.3431445833024722\n",
      "Prediction_local [1.47898074]\n",
      "Right: -1.2191700204353244\n"
     ]
    },
    {
     "name": "stderr",
     "output_type": "stream",
     "text": [
      "\r",
      " 86%|████████▌ | 856/1000 [3:37:12<35:54, 14.96s/it]"
     ]
    },
    {
     "name": "stdout",
     "output_type": "stream",
     "text": [
      "Intercept -0.9556671159073007\n",
      "Prediction_local [2.87071437]\n",
      "Right: 5.896533351656764\n"
     ]
    },
    {
     "name": "stderr",
     "output_type": "stream",
     "text": [
      "\r",
      " 86%|████████▌ | 857/1000 [3:37:27<35:34, 14.93s/it]"
     ]
    },
    {
     "name": "stdout",
     "output_type": "stream",
     "text": [
      "Intercept 0.9438153960155766\n",
      "Prediction_local [-2.63019264]\n",
      "Right: -1.5212061109586243\n"
     ]
    },
    {
     "name": "stderr",
     "output_type": "stream",
     "text": [
      "\r",
      " 86%|████████▌ | 858/1000 [3:37:42<35:18, 14.92s/it]"
     ]
    },
    {
     "name": "stdout",
     "output_type": "stream",
     "text": [
      "Intercept 0.7654381536960124\n",
      "Prediction_local [-1.52636886]\n",
      "Right: -2.5650219239539163\n"
     ]
    },
    {
     "name": "stderr",
     "output_type": "stream",
     "text": [
      "\r",
      " 86%|████████▌ | 859/1000 [3:37:57<35:03, 14.92s/it]"
     ]
    },
    {
     "name": "stdout",
     "output_type": "stream",
     "text": [
      "Intercept -1.5424221593520815\n",
      "Prediction_local [4.74978886]\n",
      "Right: 3.968687218759622\n"
     ]
    },
    {
     "name": "stderr",
     "output_type": "stream",
     "text": [
      "\r",
      " 86%|████████▌ | 860/1000 [3:38:12<34:50, 14.93s/it]"
     ]
    },
    {
     "name": "stdout",
     "output_type": "stream",
     "text": [
      "Intercept 0.2923959217730043\n",
      "Prediction_local [-0.51595434]\n",
      "Right: -0.43076690273760415\n"
     ]
    },
    {
     "name": "stderr",
     "output_type": "stream",
     "text": [
      "\r",
      " 86%|████████▌ | 861/1000 [3:38:27<34:37, 14.95s/it]"
     ]
    },
    {
     "name": "stdout",
     "output_type": "stream",
     "text": [
      "Intercept 0.610883316968135\n",
      "Prediction_local [-1.47896175]\n",
      "Right: 3.4653002430439344\n"
     ]
    },
    {
     "name": "stderr",
     "output_type": "stream",
     "text": [
      "\r",
      " 86%|████████▌ | 862/1000 [3:38:42<34:22, 14.94s/it]"
     ]
    },
    {
     "name": "stdout",
     "output_type": "stream",
     "text": [
      "Intercept -0.7839972251437972\n",
      "Prediction_local [2.515238]\n",
      "Right: 0.9619463845984166\n"
     ]
    },
    {
     "name": "stderr",
     "output_type": "stream",
     "text": [
      "\r",
      " 86%|████████▋ | 863/1000 [3:38:57<34:09, 14.96s/it]"
     ]
    },
    {
     "name": "stdout",
     "output_type": "stream",
     "text": [
      "Intercept -0.41787163574800296\n",
      "Prediction_local [1.46681849]\n",
      "Right: 2.7406161242750815\n"
     ]
    },
    {
     "name": "stderr",
     "output_type": "stream",
     "text": [
      "\r",
      " 86%|████████▋ | 864/1000 [3:39:12<33:53, 14.95s/it]"
     ]
    },
    {
     "name": "stdout",
     "output_type": "stream",
     "text": [
      "Intercept -0.4383655007555707\n",
      "Prediction_local [1.64350636]\n",
      "Right: -0.12095109513747944\n"
     ]
    },
    {
     "name": "stderr",
     "output_type": "stream",
     "text": [
      "\r",
      " 86%|████████▋ | 865/1000 [3:39:27<33:52, 15.05s/it]"
     ]
    },
    {
     "name": "stdout",
     "output_type": "stream",
     "text": [
      "Intercept 1.5875920660726917\n",
      "Prediction_local [-4.59545665]\n",
      "Right: -5.23807067647925\n"
     ]
    },
    {
     "name": "stderr",
     "output_type": "stream",
     "text": [
      "\r",
      " 87%|████████▋ | 866/1000 [3:39:42<33:42, 15.09s/it]"
     ]
    },
    {
     "name": "stdout",
     "output_type": "stream",
     "text": [
      "Intercept -0.4908817179360937\n",
      "Prediction_local [1.53006806]\n",
      "Right: 3.494127161159897\n"
     ]
    },
    {
     "name": "stderr",
     "output_type": "stream",
     "text": [
      "\r",
      " 87%|████████▋ | 867/1000 [3:39:57<33:34, 15.15s/it]"
     ]
    },
    {
     "name": "stdout",
     "output_type": "stream",
     "text": [
      "Intercept 0.7170353392588272\n",
      "Prediction_local [-1.56325126]\n",
      "Right: -1.24677314664522\n"
     ]
    },
    {
     "name": "stderr",
     "output_type": "stream",
     "text": [
      "\r",
      " 87%|████████▋ | 868/1000 [3:40:13<33:24, 15.18s/it]"
     ]
    },
    {
     "name": "stdout",
     "output_type": "stream",
     "text": [
      "Intercept 0.6124205010864213\n",
      "Prediction_local [-1.63199144]\n",
      "Right: -3.0434294572777945\n"
     ]
    },
    {
     "name": "stderr",
     "output_type": "stream",
     "text": [
      "\r",
      " 87%|████████▋ | 869/1000 [3:40:28<33:14, 15.22s/it]"
     ]
    },
    {
     "name": "stdout",
     "output_type": "stream",
     "text": [
      "Intercept 1.0307293239934703\n",
      "Prediction_local [-2.99222971]\n",
      "Right: -4.504761416630507\n"
     ]
    },
    {
     "name": "stderr",
     "output_type": "stream",
     "text": [
      "\r",
      " 87%|████████▋ | 870/1000 [3:40:43<32:57, 15.21s/it]"
     ]
    },
    {
     "name": "stdout",
     "output_type": "stream",
     "text": [
      "Intercept -0.47440974704433814\n",
      "Prediction_local [1.64648157]\n",
      "Right: -1.6639528898354148\n"
     ]
    },
    {
     "name": "stderr",
     "output_type": "stream",
     "text": [
      "\r",
      " 87%|████████▋ | 871/1000 [3:40:58<32:41, 15.20s/it]"
     ]
    },
    {
     "name": "stdout",
     "output_type": "stream",
     "text": [
      "Intercept -1.5187777850331174\n",
      "Prediction_local [4.95880335]\n",
      "Right: 3.461684395762302\n"
     ]
    },
    {
     "name": "stderr",
     "output_type": "stream",
     "text": [
      "\r",
      " 87%|████████▋ | 872/1000 [3:41:13<32:16, 15.13s/it]"
     ]
    },
    {
     "name": "stdout",
     "output_type": "stream",
     "text": [
      "Intercept 0.6403387412256187\n",
      "Prediction_local [-1.71282463]\n",
      "Right: -4.340961225300309\n"
     ]
    },
    {
     "name": "stderr",
     "output_type": "stream",
     "text": [
      "\r",
      " 87%|████████▋ | 873/1000 [3:41:28<31:51, 15.05s/it]"
     ]
    },
    {
     "name": "stdout",
     "output_type": "stream",
     "text": [
      "Intercept 0.9609039254836375\n",
      "Prediction_local [-2.38742612]\n",
      "Right: -0.45183987542032733\n"
     ]
    },
    {
     "name": "stderr",
     "output_type": "stream",
     "text": [
      "\r",
      " 87%|████████▋ | 874/1000 [3:41:43<31:29, 14.99s/it]"
     ]
    },
    {
     "name": "stdout",
     "output_type": "stream",
     "text": [
      "Intercept 1.1976371047670153\n",
      "Prediction_local [-3.48009354]\n",
      "Right: -4.856703651876704\n"
     ]
    },
    {
     "name": "stderr",
     "output_type": "stream",
     "text": [
      "\r",
      " 88%|████████▊ | 875/1000 [3:41:58<31:11, 14.98s/it]"
     ]
    },
    {
     "name": "stdout",
     "output_type": "stream",
     "text": [
      "Intercept -1.1822808061229373\n",
      "Prediction_local [3.69908624]\n",
      "Right: 5.573379902443122\n"
     ]
    },
    {
     "name": "stderr",
     "output_type": "stream",
     "text": [
      "\r",
      " 88%|████████▊ | 876/1000 [3:42:13<31:01, 15.01s/it]"
     ]
    },
    {
     "name": "stdout",
     "output_type": "stream",
     "text": [
      "Intercept 1.001089088908423\n",
      "Prediction_local [-2.65986528]\n",
      "Right: -1.1113074830955711\n"
     ]
    },
    {
     "name": "stderr",
     "output_type": "stream",
     "text": [
      "\r",
      " 88%|████████▊ | 877/1000 [3:42:28<30:50, 15.05s/it]"
     ]
    },
    {
     "name": "stdout",
     "output_type": "stream",
     "text": [
      "Intercept 0.6687472859751298\n",
      "Prediction_local [-1.5473829]\n",
      "Right: -2.560653528604843\n"
     ]
    },
    {
     "name": "stderr",
     "output_type": "stream",
     "text": [
      "\r",
      " 88%|████████▊ | 878/1000 [3:42:43<30:37, 15.07s/it]"
     ]
    },
    {
     "name": "stdout",
     "output_type": "stream",
     "text": [
      "Intercept 1.0133046372159977\n",
      "Prediction_local [-2.69495183]\n",
      "Right: -2.5782724823500436\n"
     ]
    },
    {
     "name": "stderr",
     "output_type": "stream",
     "text": [
      "\r",
      " 88%|████████▊ | 879/1000 [3:42:58<30:27, 15.10s/it]"
     ]
    },
    {
     "name": "stdout",
     "output_type": "stream",
     "text": [
      "Intercept -0.08565092558836768\n",
      "Prediction_local [0.42636553]\n",
      "Right: 4.137986457273977\n"
     ]
    },
    {
     "name": "stderr",
     "output_type": "stream",
     "text": [
      "\r",
      " 88%|████████▊ | 880/1000 [3:43:14<30:12, 15.10s/it]"
     ]
    },
    {
     "name": "stdout",
     "output_type": "stream",
     "text": [
      "Intercept 1.613893408649971\n",
      "Prediction_local [-4.68462937]\n",
      "Right: -7.661881553479101\n"
     ]
    },
    {
     "name": "stderr",
     "output_type": "stream",
     "text": [
      "\r",
      " 88%|████████▊ | 881/1000 [3:43:29<29:59, 15.12s/it]"
     ]
    },
    {
     "name": "stdout",
     "output_type": "stream",
     "text": [
      "Intercept 0.9753749666238164\n",
      "Prediction_local [-2.82537357]\n",
      "Right: -3.9667811357487373\n"
     ]
    },
    {
     "name": "stderr",
     "output_type": "stream",
     "text": [
      "\r",
      " 88%|████████▊ | 882/1000 [3:43:44<29:42, 15.10s/it]"
     ]
    },
    {
     "name": "stdout",
     "output_type": "stream",
     "text": [
      "Intercept -1.468379712343026\n",
      "Prediction_local [4.96130902]\n",
      "Right: 5.77892492596582\n"
     ]
    },
    {
     "name": "stderr",
     "output_type": "stream",
     "text": [
      "\r",
      " 88%|████████▊ | 883/1000 [3:43:59<29:33, 15.16s/it]"
     ]
    },
    {
     "name": "stdout",
     "output_type": "stream",
     "text": [
      "Intercept 0.5661379216384469\n",
      "Prediction_local [-1.51180464]\n",
      "Right: -6.473181338753126\n"
     ]
    },
    {
     "name": "stderr",
     "output_type": "stream",
     "text": [
      "\r",
      " 88%|████████▊ | 884/1000 [3:44:14<29:22, 15.20s/it]"
     ]
    },
    {
     "name": "stdout",
     "output_type": "stream",
     "text": [
      "Intercept 0.23895102817824293\n",
      "Prediction_local [-0.40962384]\n",
      "Right: 2.3409571729793583\n"
     ]
    },
    {
     "name": "stderr",
     "output_type": "stream",
     "text": [
      "\r",
      " 88%|████████▊ | 885/1000 [3:44:30<29:05, 15.18s/it]"
     ]
    },
    {
     "name": "stdout",
     "output_type": "stream",
     "text": [
      "Intercept 0.5442683515983132\n",
      "Prediction_local [-1.6375707]\n",
      "Right: -4.773497350241699\n"
     ]
    },
    {
     "name": "stderr",
     "output_type": "stream",
     "text": [
      "\r",
      " 89%|████████▊ | 886/1000 [3:44:45<28:50, 15.18s/it]"
     ]
    },
    {
     "name": "stdout",
     "output_type": "stream",
     "text": [
      "Intercept 0.15213538143588817\n",
      "Prediction_local [-0.27461494]\n",
      "Right: 1.2464846468026627\n"
     ]
    },
    {
     "name": "stderr",
     "output_type": "stream",
     "text": [
      "\r",
      " 89%|████████▊ | 887/1000 [3:45:00<28:40, 15.22s/it]"
     ]
    },
    {
     "name": "stdout",
     "output_type": "stream",
     "text": [
      "Intercept -0.7022306294045791\n",
      "Prediction_local [2.2596662]\n",
      "Right: 3.008467100918655\n"
     ]
    },
    {
     "name": "stderr",
     "output_type": "stream",
     "text": [
      "\r",
      " 89%|████████▉ | 888/1000 [3:45:15<28:24, 15.21s/it]"
     ]
    },
    {
     "name": "stdout",
     "output_type": "stream",
     "text": [
      "Intercept 0.6254841620152457\n",
      "Prediction_local [-1.60701549]\n",
      "Right: -0.8365834891347571\n"
     ]
    },
    {
     "name": "stderr",
     "output_type": "stream",
     "text": [
      "\r",
      " 89%|████████▉ | 889/1000 [3:45:30<28:11, 15.24s/it]"
     ]
    },
    {
     "name": "stdout",
     "output_type": "stream",
     "text": [
      "Intercept 1.3114574460948847\n",
      "Prediction_local [-3.708686]\n",
      "Right: -5.725694038649708\n"
     ]
    },
    {
     "name": "stderr",
     "output_type": "stream",
     "text": [
      "\r",
      " 89%|████████▉ | 890/1000 [3:45:46<27:58, 15.26s/it]"
     ]
    },
    {
     "name": "stdout",
     "output_type": "stream",
     "text": [
      "Intercept 0.9503870789281622\n",
      "Prediction_local [-2.7368771]\n",
      "Right: -5.034712623578978\n"
     ]
    },
    {
     "name": "stderr",
     "output_type": "stream",
     "text": [
      "\r",
      " 89%|████████▉ | 891/1000 [3:46:01<27:43, 15.26s/it]"
     ]
    },
    {
     "name": "stdout",
     "output_type": "stream",
     "text": [
      "Intercept -0.49595826923422975\n",
      "Prediction_local [1.57172765]\n",
      "Right: 4.260406103397845\n"
     ]
    },
    {
     "name": "stderr",
     "output_type": "stream",
     "text": [
      "\r",
      " 89%|████████▉ | 892/1000 [3:46:16<27:24, 15.22s/it]"
     ]
    },
    {
     "name": "stdout",
     "output_type": "stream",
     "text": [
      "Intercept 0.9627893513225589\n",
      "Prediction_local [-2.52291978]\n",
      "Right: -1.3287578462384715\n"
     ]
    },
    {
     "name": "stderr",
     "output_type": "stream",
     "text": [
      "\r",
      " 89%|████████▉ | 893/1000 [3:46:31<27:08, 15.22s/it]"
     ]
    },
    {
     "name": "stdout",
     "output_type": "stream",
     "text": [
      "Intercept 0.5871339464341366\n",
      "Prediction_local [-1.54338909]\n",
      "Right: -2.245751380652327\n"
     ]
    },
    {
     "name": "stderr",
     "output_type": "stream",
     "text": [
      "\r",
      " 89%|████████▉ | 894/1000 [3:46:47<26:54, 15.23s/it]"
     ]
    },
    {
     "name": "stdout",
     "output_type": "stream",
     "text": [
      "Intercept -0.46366689562450497\n",
      "Prediction_local [1.67813317]\n",
      "Right: 3.2425910781395\n"
     ]
    },
    {
     "name": "stderr",
     "output_type": "stream",
     "text": [
      "\r",
      " 90%|████████▉ | 895/1000 [3:47:02<26:37, 15.22s/it]"
     ]
    },
    {
     "name": "stdout",
     "output_type": "stream",
     "text": [
      "Intercept 1.0123728775045973\n",
      "Prediction_local [-2.66430907]\n",
      "Right: -2.2135878170053442\n"
     ]
    },
    {
     "name": "stderr",
     "output_type": "stream",
     "text": [
      "\r",
      " 90%|████████▉ | 896/1000 [3:47:17<26:23, 15.22s/it]"
     ]
    },
    {
     "name": "stdout",
     "output_type": "stream",
     "text": [
      "Intercept -0.13685899925133993\n",
      "Prediction_local [0.49174449]\n",
      "Right: 0.8131212586819021\n"
     ]
    },
    {
     "name": "stderr",
     "output_type": "stream",
     "text": [
      "\r",
      " 90%|████████▉ | 897/1000 [3:47:32<26:08, 15.22s/it]"
     ]
    },
    {
     "name": "stdout",
     "output_type": "stream",
     "text": [
      "Intercept -0.5644994355512645\n",
      "Prediction_local [1.73583376]\n",
      "Right: 3.0690977605278045\n"
     ]
    },
    {
     "name": "stderr",
     "output_type": "stream",
     "text": [
      "\r",
      " 90%|████████▉ | 898/1000 [3:47:48<25:53, 15.23s/it]"
     ]
    },
    {
     "name": "stdout",
     "output_type": "stream",
     "text": [
      "Intercept 0.6139438105785441\n",
      "Prediction_local [-1.47576888]\n",
      "Right: 0.2104571963791344\n"
     ]
    },
    {
     "name": "stderr",
     "output_type": "stream",
     "text": [
      "\r",
      " 90%|████████▉ | 899/1000 [3:48:03<25:37, 15.22s/it]"
     ]
    },
    {
     "name": "stdout",
     "output_type": "stream",
     "text": [
      "Intercept 1.6746419693106542\n",
      "Prediction_local [-4.82232935]\n",
      "Right: -3.823027852771953\n"
     ]
    },
    {
     "name": "stderr",
     "output_type": "stream",
     "text": [
      "\r",
      " 90%|█████████ | 900/1000 [3:48:18<25:21, 15.22s/it]"
     ]
    },
    {
     "name": "stdout",
     "output_type": "stream",
     "text": [
      "Intercept 0.6387264005421461\n",
      "Prediction_local [-1.60959424]\n",
      "Right: 0.3581990223260158\n"
     ]
    },
    {
     "name": "stderr",
     "output_type": "stream",
     "text": [
      "\r",
      " 90%|█████████ | 901/1000 [3:48:33<25:05, 15.21s/it]"
     ]
    },
    {
     "name": "stdout",
     "output_type": "stream",
     "text": [
      "Intercept -1.5512487058325104\n",
      "Prediction_local [4.89808977]\n",
      "Right: 10.956396869827525\n"
     ]
    },
    {
     "name": "stderr",
     "output_type": "stream",
     "text": [
      "\r",
      " 90%|█████████ | 902/1000 [3:48:49<24:56, 15.27s/it]"
     ]
    },
    {
     "name": "stdout",
     "output_type": "stream",
     "text": [
      "Intercept 0.9266297627718263\n",
      "Prediction_local [-2.3032727]\n",
      "Right: -1.4178102216346251\n"
     ]
    },
    {
     "name": "stderr",
     "output_type": "stream",
     "text": [
      "\r",
      " 90%|█████████ | 903/1000 [3:49:04<24:56, 15.42s/it]"
     ]
    },
    {
     "name": "stdout",
     "output_type": "stream",
     "text": [
      "Intercept -1.5685521684945192\n",
      "Prediction_local [4.89848003]\n",
      "Right: 3.3893146934198115\n"
     ]
    },
    {
     "name": "stderr",
     "output_type": "stream",
     "text": [
      "\r",
      " 90%|█████████ | 904/1000 [3:49:20<24:43, 15.46s/it]"
     ]
    },
    {
     "name": "stdout",
     "output_type": "stream",
     "text": [
      "Intercept 0.25191691220990037\n",
      "Prediction_local [-0.37576366]\n",
      "Right: 2.931411088296379\n"
     ]
    },
    {
     "name": "stderr",
     "output_type": "stream",
     "text": [
      "\r",
      " 90%|█████████ | 905/1000 [3:49:36<24:33, 15.52s/it]"
     ]
    },
    {
     "name": "stdout",
     "output_type": "stream",
     "text": [
      "Intercept 0.7182531729198415\n",
      "Prediction_local [-2.15760648]\n",
      "Right: -1.2384823533078684\n"
     ]
    },
    {
     "name": "stderr",
     "output_type": "stream",
     "text": [
      "\r",
      " 91%|█████████ | 906/1000 [3:49:51<24:25, 15.59s/it]"
     ]
    },
    {
     "name": "stdout",
     "output_type": "stream",
     "text": [
      "Intercept -0.5783384182835022\n",
      "Prediction_local [1.60925965]\n",
      "Right: 0.6252720686132313\n"
     ]
    },
    {
     "name": "stderr",
     "output_type": "stream",
     "text": [
      "\r",
      " 91%|█████████ | 907/1000 [3:50:07<24:11, 15.60s/it]"
     ]
    },
    {
     "name": "stdout",
     "output_type": "stream",
     "text": [
      "Intercept -0.159954623375422\n",
      "Prediction_local [0.67831767]\n",
      "Right: 3.487071127026726\n"
     ]
    },
    {
     "name": "stderr",
     "output_type": "stream",
     "text": [
      "\r",
      " 91%|█████████ | 908/1000 [3:50:23<23:57, 15.63s/it]"
     ]
    },
    {
     "name": "stdout",
     "output_type": "stream",
     "text": [
      "Intercept 0.9704726438151686\n",
      "Prediction_local [-2.64874486]\n",
      "Right: -0.9497105106129841\n"
     ]
    },
    {
     "name": "stderr",
     "output_type": "stream",
     "text": [
      "\r",
      " 91%|█████████ | 909/1000 [3:50:38<23:41, 15.62s/it]"
     ]
    },
    {
     "name": "stdout",
     "output_type": "stream",
     "text": [
      "Intercept -0.38082094106266884\n",
      "Prediction_local [1.72757314]\n",
      "Right: 1.2034890843721844\n"
     ]
    },
    {
     "name": "stderr",
     "output_type": "stream",
     "text": [
      "\r",
      " 91%|█████████ | 910/1000 [3:50:54<23:25, 15.62s/it]"
     ]
    },
    {
     "name": "stdout",
     "output_type": "stream",
     "text": [
      "Intercept 1.2988315653652789\n",
      "Prediction_local [-3.48943037]\n",
      "Right: -6.935993650484019\n"
     ]
    },
    {
     "name": "stderr",
     "output_type": "stream",
     "text": [
      "\r",
      " 91%|█████████ | 911/1000 [3:51:09<22:56, 15.47s/it]"
     ]
    },
    {
     "name": "stdout",
     "output_type": "stream",
     "text": [
      "Intercept -0.778982508816437\n",
      "Prediction_local [2.68611512]\n",
      "Right: 3.941306656342961\n"
     ]
    },
    {
     "name": "stderr",
     "output_type": "stream",
     "text": [
      "\r",
      " 91%|█████████ | 912/1000 [3:51:24<22:28, 15.32s/it]"
     ]
    },
    {
     "name": "stdout",
     "output_type": "stream",
     "text": [
      "Intercept -0.13830353992583727\n",
      "Prediction_local [0.40492915]\n",
      "Right: 6.641115126087266\n"
     ]
    },
    {
     "name": "stderr",
     "output_type": "stream",
     "text": [
      "\r",
      " 91%|█████████▏| 913/1000 [3:51:39<22:03, 15.21s/it]"
     ]
    },
    {
     "name": "stdout",
     "output_type": "stream",
     "text": [
      "Intercept -0.535807184622435\n",
      "Prediction_local [1.60276826]\n",
      "Right: 8.737791242043546\n"
     ]
    },
    {
     "name": "stderr",
     "output_type": "stream",
     "text": [
      "\r",
      " 91%|█████████▏| 914/1000 [3:51:54<21:40, 15.12s/it]"
     ]
    },
    {
     "name": "stdout",
     "output_type": "stream",
     "text": [
      "Intercept -1.5180121575925927\n",
      "Prediction_local [4.79740307]\n",
      "Right: 3.6610181575512613\n"
     ]
    },
    {
     "name": "stderr",
     "output_type": "stream",
     "text": [
      "\r",
      " 92%|█████████▏| 915/1000 [3:52:09<21:23, 15.10s/it]"
     ]
    },
    {
     "name": "stdout",
     "output_type": "stream",
     "text": [
      "Intercept 1.291915201218761\n",
      "Prediction_local [-3.61042139]\n",
      "Right: -4.054881469662612\n"
     ]
    },
    {
     "name": "stderr",
     "output_type": "stream",
     "text": [
      "\r",
      " 92%|█████████▏| 916/1000 [3:52:24<21:04, 15.05s/it]"
     ]
    },
    {
     "name": "stdout",
     "output_type": "stream",
     "text": [
      "Intercept -0.8560440813889224\n",
      "Prediction_local [2.71020528]\n",
      "Right: 3.97969295734161\n"
     ]
    },
    {
     "name": "stderr",
     "output_type": "stream",
     "text": [
      "\r",
      " 92%|█████████▏| 917/1000 [3:52:39<20:47, 15.03s/it]"
     ]
    },
    {
     "name": "stdout",
     "output_type": "stream",
     "text": [
      "Intercept 0.6484829347276184\n",
      "Prediction_local [-1.71874595]\n",
      "Right: -4.818152089364993\n"
     ]
    },
    {
     "name": "stderr",
     "output_type": "stream",
     "text": [
      "\r",
      " 92%|█████████▏| 918/1000 [3:52:54<20:34, 15.05s/it]"
     ]
    },
    {
     "name": "stdout",
     "output_type": "stream",
     "text": [
      "Intercept -0.8677479258116156\n",
      "Prediction_local [2.74802133]\n",
      "Right: 0.1277155394875434\n"
     ]
    },
    {
     "name": "stderr",
     "output_type": "stream",
     "text": [
      "\r",
      " 92%|█████████▏| 919/1000 [3:53:09<20:17, 15.03s/it]"
     ]
    },
    {
     "name": "stdout",
     "output_type": "stream",
     "text": [
      "Intercept 0.3287405786874145\n",
      "Prediction_local [-0.80660851]\n",
      "Right: -3.0016595822700287\n"
     ]
    },
    {
     "name": "stderr",
     "output_type": "stream",
     "text": [
      "\r",
      " 92%|█████████▏| 920/1000 [3:53:24<20:00, 15.00s/it]"
     ]
    },
    {
     "name": "stdout",
     "output_type": "stream",
     "text": [
      "Intercept -0.34885388299815945\n",
      "Prediction_local [1.50188747]\n",
      "Right: -0.4238955144678068\n"
     ]
    },
    {
     "name": "stderr",
     "output_type": "stream",
     "text": [
      "\r",
      " 92%|█████████▏| 921/1000 [3:53:39<19:44, 15.00s/it]"
     ]
    },
    {
     "name": "stdout",
     "output_type": "stream",
     "text": [
      "Intercept 0.27666559942103014\n",
      "Prediction_local [-0.32643611]\n",
      "Right: -2.568508163266844\n"
     ]
    },
    {
     "name": "stderr",
     "output_type": "stream",
     "text": [
      "\r",
      " 92%|█████████▏| 922/1000 [3:53:54<19:30, 15.01s/it]"
     ]
    },
    {
     "name": "stdout",
     "output_type": "stream",
     "text": [
      "Intercept 0.5614371935261254\n",
      "Prediction_local [-1.70236314]\n",
      "Right: -3.8511270521346104\n"
     ]
    },
    {
     "name": "stderr",
     "output_type": "stream",
     "text": [
      "\r",
      " 92%|█████████▏| 923/1000 [3:54:09<19:15, 15.01s/it]"
     ]
    },
    {
     "name": "stdout",
     "output_type": "stream",
     "text": [
      "Intercept 0.15149259453386874\n",
      "Prediction_local [-0.43310112]\n",
      "Right: 2.816621228320702\n"
     ]
    },
    {
     "name": "stderr",
     "output_type": "stream",
     "text": [
      "\r",
      " 92%|█████████▏| 924/1000 [3:54:24<18:58, 14.98s/it]"
     ]
    },
    {
     "name": "stdout",
     "output_type": "stream",
     "text": [
      "Intercept 0.5766790738094439\n",
      "Prediction_local [-1.16374505]\n",
      "Right: -1.3323259866328274\n"
     ]
    },
    {
     "name": "stderr",
     "output_type": "stream",
     "text": [
      "\r",
      " 92%|█████████▎| 925/1000 [3:54:39<18:43, 14.98s/it]"
     ]
    },
    {
     "name": "stdout",
     "output_type": "stream",
     "text": [
      "Intercept 0.17924864648617975\n",
      "Prediction_local [-0.4024664]\n",
      "Right: 0.9820434329693418\n"
     ]
    },
    {
     "name": "stderr",
     "output_type": "stream",
     "text": [
      "\r",
      " 93%|█████████▎| 926/1000 [3:54:54<18:32, 15.03s/it]"
     ]
    },
    {
     "name": "stdout",
     "output_type": "stream",
     "text": [
      "Intercept 1.0371611229422015\n",
      "Prediction_local [-2.75269624]\n",
      "Right: -3.0968391367280788\n"
     ]
    },
    {
     "name": "stderr",
     "output_type": "stream",
     "text": [
      "\r",
      " 93%|█████████▎| 927/1000 [3:55:09<18:17, 15.03s/it]"
     ]
    },
    {
     "name": "stdout",
     "output_type": "stream",
     "text": [
      "Intercept 0.6044622628048534\n",
      "Prediction_local [-1.87780206]\n",
      "Right: -1.4793818240799503\n"
     ]
    },
    {
     "name": "stderr",
     "output_type": "stream",
     "text": [
      "\r",
      " 93%|█████████▎| 928/1000 [3:55:24<18:02, 15.04s/it]"
     ]
    },
    {
     "name": "stdout",
     "output_type": "stream",
     "text": [
      "Intercept 8.470907752738954e-05\n",
      "Prediction_local [0.42056135]\n",
      "Right: 2.9124427158076025\n"
     ]
    },
    {
     "name": "stderr",
     "output_type": "stream",
     "text": [
      "\r",
      " 93%|█████████▎| 929/1000 [3:55:39<17:46, 15.02s/it]"
     ]
    },
    {
     "name": "stdout",
     "output_type": "stream",
     "text": [
      "Intercept 0.5108478702579831\n",
      "Prediction_local [-1.89143242]\n",
      "Right: -0.541716335378509\n"
     ]
    },
    {
     "name": "stderr",
     "output_type": "stream",
     "text": [
      "\r",
      " 93%|█████████▎| 930/1000 [3:55:54<17:32, 15.03s/it]"
     ]
    },
    {
     "name": "stdout",
     "output_type": "stream",
     "text": [
      "Intercept -0.45915102747229586\n",
      "Prediction_local [1.72165046]\n",
      "Right: 1.0728492710151323\n"
     ]
    },
    {
     "name": "stderr",
     "output_type": "stream",
     "text": [
      "\r",
      " 93%|█████████▎| 931/1000 [3:56:09<17:19, 15.07s/it]"
     ]
    },
    {
     "name": "stdout",
     "output_type": "stream",
     "text": [
      "Intercept -0.09068656058136121\n",
      "Prediction_local [0.29474878]\n",
      "Right: -0.6040793318815832\n"
     ]
    },
    {
     "name": "stderr",
     "output_type": "stream",
     "text": [
      "\r",
      " 93%|█████████▎| 932/1000 [3:56:24<17:05, 15.09s/it]"
     ]
    },
    {
     "name": "stdout",
     "output_type": "stream",
     "text": [
      "Intercept 0.8322224495799054\n",
      "Prediction_local [-2.43534364]\n",
      "Right: -2.9482469242541907\n"
     ]
    },
    {
     "name": "stderr",
     "output_type": "stream",
     "text": [
      "\r",
      " 93%|█████████▎| 933/1000 [3:56:39<16:50, 15.09s/it]"
     ]
    },
    {
     "name": "stdout",
     "output_type": "stream",
     "text": [
      "Intercept -0.47100323718186143\n",
      "Prediction_local [1.41225255]\n",
      "Right: -3.733788207176578\n"
     ]
    },
    {
     "name": "stderr",
     "output_type": "stream",
     "text": [
      "\r",
      " 93%|█████████▎| 934/1000 [3:56:54<16:34, 15.07s/it]"
     ]
    },
    {
     "name": "stdout",
     "output_type": "stream",
     "text": [
      "Intercept 1.643044812939904\n",
      "Prediction_local [-4.76643398]\n",
      "Right: -2.041844934050798\n"
     ]
    },
    {
     "name": "stderr",
     "output_type": "stream",
     "text": [
      "\r",
      " 94%|█████████▎| 935/1000 [3:57:09<16:18, 15.05s/it]"
     ]
    },
    {
     "name": "stdout",
     "output_type": "stream",
     "text": [
      "Intercept 0.5741303213991593\n",
      "Prediction_local [-1.53649129]\n",
      "Right: -7.790600259932768\n"
     ]
    },
    {
     "name": "stderr",
     "output_type": "stream",
     "text": [
      "\r",
      " 94%|█████████▎| 936/1000 [3:57:24<16:02, 15.04s/it]"
     ]
    },
    {
     "name": "stdout",
     "output_type": "stream",
     "text": [
      "Intercept -0.49149182338650893\n",
      "Prediction_local [1.63650557]\n",
      "Right: -1.0046723915517177\n"
     ]
    },
    {
     "name": "stderr",
     "output_type": "stream",
     "text": [
      "\r",
      " 94%|█████████▎| 937/1000 [3:57:39<15:47, 15.04s/it]"
     ]
    },
    {
     "name": "stdout",
     "output_type": "stream",
     "text": [
      "Intercept 1.7260614971209711\n",
      "Prediction_local [-4.86280493]\n",
      "Right: -4.596011119699169\n"
     ]
    },
    {
     "name": "stderr",
     "output_type": "stream",
     "text": [
      "\r",
      " 94%|█████████▍| 938/1000 [3:57:54<15:31, 15.03s/it]"
     ]
    },
    {
     "name": "stdout",
     "output_type": "stream",
     "text": [
      "Intercept -0.4371767340552352\n",
      "Prediction_local [1.75344855]\n",
      "Right: 5.151462616945942\n"
     ]
    },
    {
     "name": "stderr",
     "output_type": "stream",
     "text": [
      "\r",
      " 94%|█████████▍| 939/1000 [3:58:09<15:16, 15.03s/it]"
     ]
    },
    {
     "name": "stdout",
     "output_type": "stream",
     "text": [
      "Intercept 0.5022669944913585\n",
      "Prediction_local [-1.25623753]\n",
      "Right: -0.6783363400941076\n"
     ]
    },
    {
     "name": "stderr",
     "output_type": "stream",
     "text": [
      "\r",
      " 94%|█████████▍| 940/1000 [3:58:24<14:59, 15.00s/it]"
     ]
    },
    {
     "name": "stdout",
     "output_type": "stream",
     "text": [
      "Intercept 0.3775014154535604\n",
      "Prediction_local [-0.71739845]\n",
      "Right: 1.6516314089674957\n"
     ]
    },
    {
     "name": "stderr",
     "output_type": "stream",
     "text": [
      "\r",
      " 94%|█████████▍| 941/1000 [3:58:40<14:46, 15.03s/it]"
     ]
    },
    {
     "name": "stdout",
     "output_type": "stream",
     "text": [
      "Intercept 0.6435666560111497\n",
      "Prediction_local [-1.53650461]\n",
      "Right: -2.834467586640546\n"
     ]
    },
    {
     "name": "stderr",
     "output_type": "stream",
     "text": [
      "\r",
      " 94%|█████████▍| 942/1000 [3:58:55<14:30, 15.01s/it]"
     ]
    },
    {
     "name": "stdout",
     "output_type": "stream",
     "text": [
      "Intercept 1.7001797406061723\n",
      "Prediction_local [-4.81552491]\n",
      "Right: -6.608438441670836\n"
     ]
    },
    {
     "name": "stderr",
     "output_type": "stream",
     "text": [
      "\r",
      " 94%|█████████▍| 943/1000 [3:59:10<14:16, 15.03s/it]"
     ]
    },
    {
     "name": "stdout",
     "output_type": "stream",
     "text": [
      "Intercept 0.03528525669776093\n",
      "Prediction_local [0.40647119]\n",
      "Right: 0.1041920656437881\n"
     ]
    },
    {
     "name": "stderr",
     "output_type": "stream",
     "text": [
      "\r",
      " 94%|█████████▍| 944/1000 [3:59:25<14:01, 15.02s/it]"
     ]
    },
    {
     "name": "stdout",
     "output_type": "stream",
     "text": [
      "Intercept 0.4936929119714653\n",
      "Prediction_local [-1.11015534]\n",
      "Right: -1.0412356871110802\n"
     ]
    },
    {
     "name": "stderr",
     "output_type": "stream",
     "text": [
      "\r",
      " 94%|█████████▍| 945/1000 [3:59:40<13:45, 15.01s/it]"
     ]
    },
    {
     "name": "stdout",
     "output_type": "stream",
     "text": [
      "Intercept -1.58168548946189\n",
      "Prediction_local [4.90009392]\n",
      "Right: 1.832421292571227\n"
     ]
    },
    {
     "name": "stderr",
     "output_type": "stream",
     "text": [
      "\r",
      " 95%|█████████▍| 946/1000 [3:59:55<13:29, 15.00s/it]"
     ]
    },
    {
     "name": "stdout",
     "output_type": "stream",
     "text": [
      "Intercept 0.8913639614413007\n",
      "Prediction_local [-2.52696737]\n",
      "Right: -0.12138928575920471\n"
     ]
    },
    {
     "name": "stderr",
     "output_type": "stream",
     "text": [
      "\r",
      " 95%|█████████▍| 947/1000 [4:00:09<13:14, 14.98s/it]"
     ]
    },
    {
     "name": "stdout",
     "output_type": "stream",
     "text": [
      "Intercept -0.1120200460058535\n",
      "Prediction_local [0.45878868]\n",
      "Right: 1.83000428982078\n"
     ]
    },
    {
     "name": "stderr",
     "output_type": "stream",
     "text": [
      "\r",
      " 95%|█████████▍| 948/1000 [4:00:24<12:56, 14.94s/it]"
     ]
    },
    {
     "name": "stdout",
     "output_type": "stream",
     "text": [
      "Intercept -0.6979436096794981\n",
      "Prediction_local [2.36701741]\n",
      "Right: 5.192776378040414\n"
     ]
    },
    {
     "name": "stderr",
     "output_type": "stream",
     "text": [
      "\r",
      " 95%|█████████▍| 949/1000 [4:00:39<12:42, 14.95s/it]"
     ]
    },
    {
     "name": "stdout",
     "output_type": "stream",
     "text": [
      "Intercept 0.26930186791941824\n",
      "Prediction_local [-0.6657646]\n",
      "Right: 0.6941979472668702\n"
     ]
    },
    {
     "name": "stderr",
     "output_type": "stream",
     "text": [
      "\r",
      " 95%|█████████▌| 950/1000 [4:00:54<12:29, 14.99s/it]"
     ]
    },
    {
     "name": "stdout",
     "output_type": "stream",
     "text": [
      "Intercept -0.5159361084834737\n",
      "Prediction_local [1.58588109]\n",
      "Right: -0.8981810676697839\n"
     ]
    },
    {
     "name": "stderr",
     "output_type": "stream",
     "text": [
      "\r",
      " 95%|█████████▌| 951/1000 [4:01:09<12:15, 15.01s/it]"
     ]
    },
    {
     "name": "stdout",
     "output_type": "stream",
     "text": [
      "Intercept 0.21233081157306638\n",
      "Prediction_local [-0.53730848]\n",
      "Right: 2.7823301724038534\n"
     ]
    },
    {
     "name": "stderr",
     "output_type": "stream",
     "text": [
      "\r",
      " 95%|█████████▌| 952/1000 [4:01:24<12:01, 15.02s/it]"
     ]
    },
    {
     "name": "stdout",
     "output_type": "stream",
     "text": [
      "Intercept -1.5779783147313025\n",
      "Prediction_local [4.6813136]\n",
      "Right: 4.173896826979126\n"
     ]
    },
    {
     "name": "stderr",
     "output_type": "stream",
     "text": [
      "\r",
      " 95%|█████████▌| 953/1000 [4:01:40<11:46, 15.04s/it]"
     ]
    },
    {
     "name": "stdout",
     "output_type": "stream",
     "text": [
      "Intercept -0.46030283333115196\n",
      "Prediction_local [1.590954]\n",
      "Right: 5.80123245395721\n"
     ]
    },
    {
     "name": "stderr",
     "output_type": "stream",
     "text": [
      "\r",
      " 95%|█████████▌| 954/1000 [4:01:55<11:31, 15.03s/it]"
     ]
    },
    {
     "name": "stdout",
     "output_type": "stream",
     "text": [
      "Intercept -1.5905465434311903\n",
      "Prediction_local [4.95966408]\n",
      "Right: 6.94431212898373\n"
     ]
    },
    {
     "name": "stderr",
     "output_type": "stream",
     "text": [
      "\r",
      " 96%|█████████▌| 955/1000 [4:02:10<11:16, 15.04s/it]"
     ]
    },
    {
     "name": "stdout",
     "output_type": "stream",
     "text": [
      "Intercept -0.4317725555404625\n",
      "Prediction_local [1.59091732]\n",
      "Right: -0.30275110078020545\n"
     ]
    },
    {
     "name": "stderr",
     "output_type": "stream",
     "text": [
      "\r",
      " 96%|█████████▌| 956/1000 [4:02:25<11:01, 15.03s/it]"
     ]
    },
    {
     "name": "stdout",
     "output_type": "stream",
     "text": [
      "Intercept 0.12287230058305594\n",
      "Prediction_local [-0.19757926]\n",
      "Right: 0.8378763139103992\n"
     ]
    },
    {
     "name": "stderr",
     "output_type": "stream",
     "text": [
      "\r",
      " 96%|█████████▌| 957/1000 [4:02:40<10:47, 15.06s/it]"
     ]
    },
    {
     "name": "stdout",
     "output_type": "stream",
     "text": [
      "Intercept -0.5417922492308651\n",
      "Prediction_local [1.88149295]\n",
      "Right: 0.2925513830353765\n"
     ]
    },
    {
     "name": "stderr",
     "output_type": "stream",
     "text": [
      "\r",
      " 96%|█████████▌| 958/1000 [4:02:55<10:32, 15.07s/it]"
     ]
    },
    {
     "name": "stdout",
     "output_type": "stream",
     "text": [
      "Intercept -0.4917235140831566\n",
      "Prediction_local [1.89060815]\n",
      "Right: -0.2280426674190675\n"
     ]
    },
    {
     "name": "stderr",
     "output_type": "stream",
     "text": [
      "\r",
      " 96%|█████████▌| 959/1000 [4:03:10<10:16, 15.04s/it]"
     ]
    },
    {
     "name": "stdout",
     "output_type": "stream",
     "text": [
      "Intercept -0.1206678636971488\n",
      "Prediction_local [0.34418995]\n",
      "Right: 1.4927771299418713\n"
     ]
    },
    {
     "name": "stderr",
     "output_type": "stream",
     "text": [
      "\r",
      " 96%|█████████▌| 960/1000 [4:03:25<10:01, 15.03s/it]"
     ]
    },
    {
     "name": "stdout",
     "output_type": "stream",
     "text": [
      "Intercept 0.026223268843694025\n",
      "Prediction_local [0.45702102]\n",
      "Right: -1.7075780561781286\n"
     ]
    },
    {
     "name": "stderr",
     "output_type": "stream",
     "text": [
      "\r",
      " 96%|█████████▌| 961/1000 [4:03:40<09:46, 15.03s/it]"
     ]
    },
    {
     "name": "stdout",
     "output_type": "stream",
     "text": [
      "Intercept -0.9058535245471859\n",
      "Prediction_local [2.8281189]\n",
      "Right: -0.7642131615102755\n"
     ]
    },
    {
     "name": "stderr",
     "output_type": "stream",
     "text": [
      "\r",
      " 96%|█████████▌| 962/1000 [4:03:55<09:33, 15.08s/it]"
     ]
    },
    {
     "name": "stdout",
     "output_type": "stream",
     "text": [
      "Intercept -0.9491896666382261\n",
      "Prediction_local [2.92221191]\n",
      "Right: 4.282790677285304\n"
     ]
    },
    {
     "name": "stderr",
     "output_type": "stream",
     "text": [
      "\r",
      " 96%|█████████▋| 963/1000 [4:04:10<09:18, 15.11s/it]"
     ]
    },
    {
     "name": "stdout",
     "output_type": "stream",
     "text": [
      "Intercept 1.679888144020468\n",
      "Prediction_local [-4.78472639]\n",
      "Right: -4.577578297671581\n"
     ]
    },
    {
     "name": "stderr",
     "output_type": "stream",
     "text": [
      "\r",
      " 96%|█████████▋| 964/1000 [4:04:25<09:04, 15.12s/it]"
     ]
    },
    {
     "name": "stdout",
     "output_type": "stream",
     "text": [
      "Intercept 0.5804266897262604\n",
      "Prediction_local [-1.58326211]\n",
      "Right: -0.14047086897685718\n"
     ]
    },
    {
     "name": "stderr",
     "output_type": "stream",
     "text": [
      "\r",
      " 96%|█████████▋| 965/1000 [4:04:41<08:50, 15.15s/it]"
     ]
    },
    {
     "name": "stdout",
     "output_type": "stream",
     "text": [
      "Intercept 1.751525858793507\n",
      "Prediction_local [-4.94535037]\n",
      "Right: -5.867908302635792\n"
     ]
    },
    {
     "name": "stderr",
     "output_type": "stream",
     "text": [
      "\r",
      " 97%|█████████▋| 966/1000 [4:04:56<08:36, 15.19s/it]"
     ]
    },
    {
     "name": "stdout",
     "output_type": "stream",
     "text": [
      "Intercept -0.05114926710026936\n",
      "Prediction_local [0.54446423]\n",
      "Right: -0.7307559260015557\n"
     ]
    },
    {
     "name": "stderr",
     "output_type": "stream",
     "text": [
      "\r",
      " 97%|█████████▋| 967/1000 [4:05:11<08:22, 15.22s/it]"
     ]
    },
    {
     "name": "stdout",
     "output_type": "stream",
     "text": [
      "Intercept 1.2918222344005408\n",
      "Prediction_local [-3.54179595]\n",
      "Right: -7.012204849092688\n"
     ]
    },
    {
     "name": "stderr",
     "output_type": "stream",
     "text": [
      "\r",
      " 97%|█████████▋| 968/1000 [4:05:27<08:07, 15.25s/it]"
     ]
    },
    {
     "name": "stdout",
     "output_type": "stream",
     "text": [
      "Intercept -1.1436736006425905\n",
      "Prediction_local [3.92860414]\n",
      "Right: 5.25336569231356\n"
     ]
    },
    {
     "name": "stderr",
     "output_type": "stream",
     "text": [
      "\r",
      " 97%|█████████▋| 969/1000 [4:05:42<07:52, 15.23s/it]"
     ]
    },
    {
     "name": "stdout",
     "output_type": "stream",
     "text": [
      "Intercept 1.3476314418668576\n",
      "Prediction_local [-3.62964631]\n",
      "Right: -4.809454859095516\n"
     ]
    },
    {
     "name": "stderr",
     "output_type": "stream",
     "text": [
      "\r",
      " 97%|█████████▋| 970/1000 [4:05:57<07:37, 15.24s/it]"
     ]
    },
    {
     "name": "stdout",
     "output_type": "stream",
     "text": [
      "Intercept 0.17223798835826956\n",
      "Prediction_local [-0.28768645]\n",
      "Right: -3.234163152638196\n"
     ]
    },
    {
     "name": "stderr",
     "output_type": "stream",
     "text": [
      "\r",
      " 97%|█████████▋| 971/1000 [4:06:12<07:21, 15.22s/it]"
     ]
    },
    {
     "name": "stdout",
     "output_type": "stream",
     "text": [
      "Intercept -0.16500462514015204\n",
      "Prediction_local [0.8607608]\n",
      "Right: 0.3187875543482806\n"
     ]
    },
    {
     "name": "stderr",
     "output_type": "stream",
     "text": [
      "\r",
      " 97%|█████████▋| 972/1000 [4:06:27<07:05, 15.21s/it]"
     ]
    },
    {
     "name": "stdout",
     "output_type": "stream",
     "text": [
      "Intercept 0.5705118703407834\n",
      "Prediction_local [-1.62536151]\n",
      "Right: -0.7796335554456336\n"
     ]
    },
    {
     "name": "stderr",
     "output_type": "stream",
     "text": [
      "\r",
      " 97%|█████████▋| 973/1000 [4:06:43<06:51, 15.23s/it]"
     ]
    },
    {
     "name": "stdout",
     "output_type": "stream",
     "text": [
      "Intercept 0.26041532730657346\n",
      "Prediction_local [-0.36648617]\n",
      "Right: 0.33095711343874307\n"
     ]
    },
    {
     "name": "stderr",
     "output_type": "stream",
     "text": [
      "\r",
      " 97%|█████████▋| 974/1000 [4:06:58<06:36, 15.26s/it]"
     ]
    },
    {
     "name": "stdout",
     "output_type": "stream",
     "text": [
      "Intercept 1.297428787650199\n",
      "Prediction_local [-3.48816074]\n",
      "Right: -5.212381252801973\n"
     ]
    },
    {
     "name": "stderr",
     "output_type": "stream",
     "text": [
      "\r",
      " 98%|█████████▊| 975/1000 [4:07:13<06:21, 15.25s/it]"
     ]
    },
    {
     "name": "stdout",
     "output_type": "stream",
     "text": [
      "Intercept -0.1082715845719536\n",
      "Prediction_local [0.76105662]\n",
      "Right: 2.967979304034239\n"
     ]
    },
    {
     "name": "stderr",
     "output_type": "stream",
     "text": [
      "\r",
      " 98%|█████████▊| 976/1000 [4:07:28<06:05, 15.22s/it]"
     ]
    },
    {
     "name": "stdout",
     "output_type": "stream",
     "text": [
      "Intercept -1.1573929232446438\n",
      "Prediction_local [3.79194255]\n",
      "Right: 3.023632625074634\n"
     ]
    },
    {
     "name": "stderr",
     "output_type": "stream",
     "text": [
      "\r",
      " 98%|█████████▊| 977/1000 [4:07:44<05:50, 15.22s/it]"
     ]
    },
    {
     "name": "stdout",
     "output_type": "stream",
     "text": [
      "Intercept -0.4835193405295155\n",
      "Prediction_local [1.73335658]\n",
      "Right: -1.0882948807195016\n"
     ]
    },
    {
     "name": "stderr",
     "output_type": "stream",
     "text": [
      "\r",
      " 98%|█████████▊| 978/1000 [4:07:59<05:34, 15.22s/it]"
     ]
    },
    {
     "name": "stdout",
     "output_type": "stream",
     "text": [
      "Intercept -0.4499720762503356\n",
      "Prediction_local [1.7628636]\n",
      "Right: 4.760690243006173\n"
     ]
    },
    {
     "name": "stderr",
     "output_type": "stream",
     "text": [
      "\r",
      " 98%|█████████▊| 979/1000 [4:08:14<05:19, 15.21s/it]"
     ]
    },
    {
     "name": "stdout",
     "output_type": "stream",
     "text": [
      "Intercept 1.6503140352723376\n",
      "Prediction_local [-4.48047925]\n",
      "Right: -8.212410422307393\n"
     ]
    },
    {
     "name": "stderr",
     "output_type": "stream",
     "text": [
      "\r",
      " 98%|█████████▊| 980/1000 [4:08:29<05:03, 15.19s/it]"
     ]
    },
    {
     "name": "stdout",
     "output_type": "stream",
     "text": [
      "Intercept 0.9000861728525813\n",
      "Prediction_local [-2.38242716]\n",
      "Right: -1.714031921134118\n"
     ]
    },
    {
     "name": "stderr",
     "output_type": "stream",
     "text": [
      "\r",
      " 98%|█████████▊| 981/1000 [4:08:44<04:48, 15.20s/it]"
     ]
    },
    {
     "name": "stdout",
     "output_type": "stream",
     "text": [
      "Intercept 0.5938550450252854\n",
      "Prediction_local [-1.55450117]\n",
      "Right: -3.4831058076582964\n"
     ]
    },
    {
     "name": "stderr",
     "output_type": "stream",
     "text": [
      "\r",
      " 98%|█████████▊| 982/1000 [4:09:00<04:34, 15.23s/it]"
     ]
    },
    {
     "name": "stdout",
     "output_type": "stream",
     "text": [
      "Intercept -0.5066885978198014\n",
      "Prediction_local [1.57818561]\n",
      "Right: -2.262799812952858\n"
     ]
    },
    {
     "name": "stderr",
     "output_type": "stream",
     "text": [
      "\r",
      " 98%|█████████▊| 983/1000 [4:09:15<04:18, 15.21s/it]"
     ]
    },
    {
     "name": "stdout",
     "output_type": "stream",
     "text": [
      "Intercept -1.2442435854152523\n",
      "Prediction_local [3.81611449]\n",
      "Right: 6.940591680273053\n"
     ]
    },
    {
     "name": "stderr",
     "output_type": "stream",
     "text": [
      "\r",
      " 98%|█████████▊| 984/1000 [4:09:30<04:03, 15.23s/it]"
     ]
    },
    {
     "name": "stdout",
     "output_type": "stream",
     "text": [
      "Intercept -0.6846667956570842\n",
      "Prediction_local [2.70512722]\n",
      "Right: 4.095684427259956\n"
     ]
    },
    {
     "name": "stderr",
     "output_type": "stream",
     "text": [
      "\r",
      " 98%|█████████▊| 985/1000 [4:09:45<03:48, 15.22s/it]"
     ]
    },
    {
     "name": "stdout",
     "output_type": "stream",
     "text": [
      "Intercept 0.32047553652727556\n",
      "Prediction_local [-0.76760321]\n",
      "Right: -0.15769518371836658\n"
     ]
    },
    {
     "name": "stderr",
     "output_type": "stream",
     "text": [
      "\r",
      " 99%|█████████▊| 986/1000 [4:10:00<03:33, 15.22s/it]"
     ]
    },
    {
     "name": "stdout",
     "output_type": "stream",
     "text": [
      "Intercept -1.5294950094309994\n",
      "Prediction_local [4.94609469]\n",
      "Right: 8.196742991109128\n"
     ]
    },
    {
     "name": "stderr",
     "output_type": "stream",
     "text": [
      "\r",
      " 99%|█████████▊| 987/1000 [4:10:16<03:17, 15.18s/it]"
     ]
    },
    {
     "name": "stdout",
     "output_type": "stream",
     "text": [
      "Intercept 1.7085337557219968\n",
      "Prediction_local [-4.81727152]\n",
      "Right: -5.417682293151018\n"
     ]
    },
    {
     "name": "stderr",
     "output_type": "stream",
     "text": [
      "\r",
      " 99%|█████████▉| 988/1000 [4:10:31<03:01, 15.17s/it]"
     ]
    },
    {
     "name": "stdout",
     "output_type": "stream",
     "text": [
      "Intercept 1.2531292334469821\n",
      "Prediction_local [-3.68842845]\n",
      "Right: -1.9979850005185136\n"
     ]
    },
    {
     "name": "stderr",
     "output_type": "stream",
     "text": [
      "\r",
      " 99%|█████████▉| 989/1000 [4:10:46<02:46, 15.13s/it]"
     ]
    },
    {
     "name": "stdout",
     "output_type": "stream",
     "text": [
      "Intercept -0.510960845996747\n",
      "Prediction_local [1.58205087]\n",
      "Right: 6.687699015600344\n"
     ]
    },
    {
     "name": "stderr",
     "output_type": "stream",
     "text": [
      "\r",
      " 99%|█████████▉| 990/1000 [4:11:01<02:30, 15.10s/it]"
     ]
    },
    {
     "name": "stdout",
     "output_type": "stream",
     "text": [
      "Intercept -0.6356080358544022\n",
      "Prediction_local [1.81630071]\n",
      "Right: -2.4254901925402974\n"
     ]
    },
    {
     "name": "stderr",
     "output_type": "stream",
     "text": [
      "\r",
      " 99%|█████████▉| 991/1000 [4:11:16<02:15, 15.07s/it]"
     ]
    },
    {
     "name": "stdout",
     "output_type": "stream",
     "text": [
      "Intercept 0.6077291460151402\n",
      "Prediction_local [-1.60802596]\n",
      "Right: -2.2572619015023414\n"
     ]
    },
    {
     "name": "stderr",
     "output_type": "stream",
     "text": [
      "\r",
      " 99%|█████████▉| 992/1000 [4:11:31<02:00, 15.06s/it]"
     ]
    },
    {
     "name": "stdout",
     "output_type": "stream",
     "text": [
      "Intercept 1.043476999565563\n",
      "Prediction_local [-2.80005725]\n",
      "Right: -2.2900971850198624\n"
     ]
    },
    {
     "name": "stderr",
     "output_type": "stream",
     "text": [
      "\r",
      " 99%|█████████▉| 993/1000 [4:11:46<01:45, 15.02s/it]"
     ]
    },
    {
     "name": "stdout",
     "output_type": "stream",
     "text": [
      "Intercept -0.42208856786532073\n",
      "Prediction_local [1.57596583]\n",
      "Right: -0.008043222110703685\n"
     ]
    },
    {
     "name": "stderr",
     "output_type": "stream",
     "text": [
      "\r",
      " 99%|█████████▉| 994/1000 [4:12:01<01:30, 15.01s/it]"
     ]
    },
    {
     "name": "stdout",
     "output_type": "stream",
     "text": [
      "Intercept 0.4882808532885695\n",
      "Prediction_local [-1.47968046]\n",
      "Right: -5.137197690343561\n"
     ]
    },
    {
     "name": "stderr",
     "output_type": "stream",
     "text": [
      "\r",
      "100%|█████████▉| 995/1000 [4:12:16<01:15, 15.01s/it]"
     ]
    },
    {
     "name": "stdout",
     "output_type": "stream",
     "text": [
      "Intercept -0.402756888683743\n",
      "Prediction_local [1.52045]\n",
      "Right: 0.8844134013837905\n"
     ]
    },
    {
     "name": "stderr",
     "output_type": "stream",
     "text": [
      "\r",
      "100%|█████████▉| 996/1000 [4:12:31<01:00, 15.00s/it]"
     ]
    },
    {
     "name": "stdout",
     "output_type": "stream",
     "text": [
      "Intercept -0.14031011603761173\n",
      "Prediction_local [0.644722]\n",
      "Right: 1.7968050373452862\n"
     ]
    },
    {
     "name": "stderr",
     "output_type": "stream",
     "text": [
      "\r",
      "100%|█████████▉| 997/1000 [4:12:46<00:44, 14.99s/it]"
     ]
    },
    {
     "name": "stdout",
     "output_type": "stream",
     "text": [
      "Intercept -0.8211800549206973\n",
      "Prediction_local [2.74195411]\n",
      "Right: 0.02839848744000707\n"
     ]
    },
    {
     "name": "stderr",
     "output_type": "stream",
     "text": [
      "\r",
      "100%|█████████▉| 998/1000 [4:13:01<00:30, 15.01s/it]"
     ]
    },
    {
     "name": "stdout",
     "output_type": "stream",
     "text": [
      "Intercept 1.2958791568390369\n",
      "Prediction_local [-3.70211185]\n",
      "Right: -6.819554322765645\n"
     ]
    },
    {
     "name": "stderr",
     "output_type": "stream",
     "text": [
      "\r",
      "100%|█████████▉| 999/1000 [4:13:16<00:15, 15.01s/it]"
     ]
    },
    {
     "name": "stdout",
     "output_type": "stream",
     "text": [
      "Intercept 1.3550314173128422\n",
      "Prediction_local [-3.7719575]\n",
      "Right: -5.321223687507614\n"
     ]
    },
    {
     "name": "stderr",
     "output_type": "stream",
     "text": [
      "100%|██████████| 1000/1000 [4:13:31<00:00, 15.21s/it]"
     ]
    },
    {
     "name": "stdout",
     "output_type": "stream",
     "text": [
      "Intercept 0.25618701631572965\n",
      "Prediction_local [-0.57079587]\n",
      "Right: -0.031102226535924354\n"
     ]
    },
    {
     "name": "stderr",
     "output_type": "stream",
     "text": [
      "\n"
     ]
    }
   ],
   "source": [
    "list_exp = []\n",
    "n_test = 1000\n",
    "for i in tqdm(range(n_test)):\n",
    "    exp = explainer.explain_instance(x_test.values[i], model.predict, num_features=3)\n",
    "    list_exp.append([ex[0] for ex in exp.local_exp[0]])"
   ]
  },
  {
   "cell_type": "code",
   "execution_count": 42,
   "id": "abstract-monaco",
   "metadata": {},
   "outputs": [],
   "source": [
    "importance_lime = np.zeros((n_test, d))\n",
    "K = np.sum(g_test, axis=1).astype(np.int)\n",
    "for i in range(n_test):\n",
    "    for j in range(K[i]):\n",
    "        importance_lime[i, list_exp[i][j]] = 1\n",
    "    "
   ]
  },
  {
   "cell_type": "code",
   "execution_count": 43,
   "id": "forward-ottawa",
   "metadata": {},
   "outputs": [
    {
     "data": {
      "text/plain": [
       "array([[1., 0., 1., ..., 0., 0., 0.],\n",
       "       [1., 1., 0., ..., 0., 0., 0.],\n",
       "       [0., 1., 1., ..., 0., 0., 0.],\n",
       "       ...,\n",
       "       [0., 1., 1., ..., 0., 0., 0.],\n",
       "       [1., 1., 1., ..., 0., 0., 0.],\n",
       "       [1., 0., 1., ..., 0., 0., 0.]])"
      ]
     },
     "execution_count": 43,
     "metadata": {},
     "output_type": "execute_result"
    }
   ],
   "source": [
    "importance_lime"
   ]
  },
  {
   "cell_type": "markdown",
   "id": "f0438153",
   "metadata": {},
   "source": [
    "## Discovery Score"
   ]
  },
  {
   "cell_type": "code",
   "execution_count": 44,
   "id": "experimental-haven",
   "metadata": {},
   "outputs": [
    {
     "name": "stdout",
     "output_type": "stream",
     "text": [
      "TPR mean: 50.7\\%, TPR std: 16.7\\%, \n",
      "FDR mean: 49.3\\%, FDR std: 16.7\\%, \n"
     ]
    }
   ],
   "source": [
    "# Evaluate the performance of feature importance\n",
    "mean_tpr, std_tpr, mean_fdr, std_fdr = \\\n",
    "feature_performance_metric(g_test, importance_lime)\n",
    "\n",
    "# Print the performance of feature importance    \n",
    "print('TPR mean: ' + str(np.round(mean_tpr,1)) + '\\%, ' + \\\n",
    "    'TPR std: ' + str(np.round(std_tpr,1)) + '\\%, ')\n",
    "print('FDR mean: ' + str(np.round(mean_fdr,1)) + '\\%, ' + \\\n",
    "    'FDR std: ' + str(np.round(std_fdr,1)) + '\\%, ')"
   ]
  },
  {
   "cell_type": "markdown",
   "id": "1070331d",
   "metadata": {},
   "source": [
    "## P-MSE Score"
   ]
  },
  {
   "cell_type": "code",
   "execution_count": 46,
   "id": "supported-basin",
   "metadata": {},
   "outputs": [
    {
     "name": "stderr",
     "output_type": "stream",
     "text": [
      "100%|██████████| 1000/1000 [00:02<00:00, 437.94it/s]\n"
     ]
    },
    {
     "data": {
      "text/plain": [
       "5.005296546757587"
      ]
     },
     "execution_count": 46,
     "metadata": {},
     "output_type": "execute_result"
    }
   ],
   "source": [
    "importance = importance_lime.copy()\n",
    "N = 1000\n",
    "allS = [i for i in range(x_train.shape[1])]\n",
    "n_test = 1000\n",
    "err_samples = []\n",
    "for i in tqdm(range(n_test)):\n",
    "    S = np.argwhere(importance[i] == 1).reshape(-1)\n",
    "    err = (sample_mcexp(x_test.values[i:i+1], coefs, mean, cov, S=S, N=N) -\\\n",
    "           sample_mcexp(x_test.values[i:i+1], coefs, mean, cov, S=allS, N=N))**2\n",
    "    err_samples.append(err)\n",
    "\n",
    "np.mean(err_samples)"
   ]
  }
 ],
 "metadata": {
  "kernelspec": {
   "display_name": "Python 3 (ipykernel)",
   "language": "python",
   "name": "python3"
  },
  "language_info": {
   "codemirror_mode": {
    "name": "ipython",
    "version": 3
   },
   "file_extension": ".py",
   "mimetype": "text/x-python",
   "name": "python",
   "nbconvert_exporter": "python",
   "pygments_lexer": "ipython3",
   "version": "3.8.12"
  }
 },
 "nbformat": 4,
 "nbformat_minor": 5
}
