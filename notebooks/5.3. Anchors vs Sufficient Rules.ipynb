{
 "cells": [
  {
   "cell_type": "markdown",
   "id": "75918ae4",
   "metadata": {},
   "source": [
    "# Anchors VS Minimal Sufficient Rules"
   ]
  },
  {
   "cell_type": "code",
   "execution_count": 1,
   "id": "d719bea4",
   "metadata": {},
   "outputs": [],
   "source": [
    "import argparse\n",
    "import numpy as np\n",
    "# from acv_explainers.utils import generate_dataset\n",
    "# from experiments.utils import feature_performance_metric, prediction_performance_metric   \n",
    "from sklearn.metrics import mean_squared_error\n",
    "from sklearn.ensemble import RandomForestClassifier\n",
    "from sklearn.metrics import mean_squared_error\n",
    "# from skranger.ensemble.classifier import RangerForestClassifier\n",
    "from sklearn.ensemble import RandomForestRegressor\n",
    "from acv_explainers.acv_tree import ACVTreeAgnostic\n",
    "# Necessary packages\n",
    "import numpy as np\n",
    "from sklearn.metrics import roc_auc_score, average_precision_score, accuracy_score\n",
    "import pandas as pd\n",
    "import seaborn as sns\n",
    "import matplotlib.pyplot as plt\n",
    "import scipy.stats as st\n",
    "import sys\n",
    "import itertools\n",
    "from collections import defaultdict\n",
    "from operator import itemgetter\n",
    "import string\n",
    "import random\n",
    "import scipy.stats as stats\n",
    "from typing import Tuple, List\n",
    "from sklearn.cluster import AffinityPropagation\n",
    "import matplotlib.pyplot as plt\n",
    "import numpy as np\n",
    "import pandas as pd\n",
    "import seaborn as sns\n",
    "from sklearn.preprocessing import OrdinalEncoder\n",
    "from sklearn import datasets\n"
   ]
  },
  {
   "cell_type": "markdown",
   "id": "7899aad8",
   "metadata": {},
   "source": [
    "## Generated moon dataset"
   ]
  },
  {
   "cell_type": "code",
   "execution_count": 2,
   "id": "2ba4349c",
   "metadata": {},
   "outputs": [],
   "source": [
    "def generate_x(n, dim):\n",
    "    \"\"\"Generate the features (x).\n",
    "\n",
    "  Args:\n",
    "    - n: the number of samples\n",
    "    - dim: the number of features (feature dimensions)\n",
    "\n",
    "  Returns:\n",
    "    - x: (n x dim) data points sample from N(0, 1)\n",
    "  \"\"\"\n",
    "    x = np.random.randn(n, dim)\n",
    "    return x\n",
    "\n",
    "\n",
    "def generate_y(x, data_type, reg=False, coefs=None, logit_values=True):\n",
    "    \"\"\"Generate corresponding label (y) given feature (x).\n",
    "\n",
    "  Args:\n",
    "    - x: features\n",
    "    - data_type: synthetic data type (syn1 to syn6)\n",
    "\n",
    "  Returns:\n",
    "    - y: corresponding labels\n",
    "  \"\"\"\n",
    "    # number of samples\n",
    "    n = x.shape[0]\n",
    "    if reg:\n",
    "        if data_type == 'syn7':\n",
    "            logit1 = np.sum(coefs[0:2] * x[:, 0:2], axis=1)\n",
    "            logit2 = np.sum(coefs[2:4] * x[:, 2:4], axis=1)\n",
    "            idx1 = (x[:, 4] < 0) * 1\n",
    "            idx2 = (x[:, 4] >= 0) * 1\n",
    "            logit = logit1 * idx1 + logit2 * idx2\n",
    "            return logit\n",
    "        elif data_type == 'syn8':\n",
    "            return np.sum(coefs[:3] * x[:, :3], axis=1)\n",
    "        elif data_type == 'syn9':\n",
    "            logit1 = np.sum(x[:, 2:6] ** 2, axis=1) - 4.0\n",
    "            logit2 = -10 * np.sin(0.2 * x[:, 6]) + abs(x[:, 7]) + \\\n",
    "                     x[:, 8] + np.exp(-x[:, 9]) - 2.4\n",
    "\n",
    "            idx1 = (x[:, 10] < 0) * 1\n",
    "            idx2 = (x[:, 10] >= 0) * 1\n",
    "            logit = logit1 * idx1 + logit2 * idx2\n",
    "            return logit\n",
    "\n",
    "    # Logit computation\n",
    "    if data_type == 'syn1':\n",
    "        logit = np.exp(x[:, 0] * x[:, 1])\n",
    "    elif data_type == 'syn2':\n",
    "        logit = np.exp(np.sum(x[:, 2:6] ** 2, axis=1) - 4.0)\n",
    "    elif data_type == 'syn3':\n",
    "        logit = np.exp(-10 * np.sin(0.2 * x[:, 6]) + abs(x[:, 7]) + \\\n",
    "                       x[:, 8] + np.exp(-x[:, 9]) - 2.4)\n",
    "    elif data_type == 'syn4':\n",
    "        logit1 = np.exp(x[:, 0] * x[:, 1])\n",
    "        logit2 = np.exp(np.sum(x[:, 2:6] ** 2, axis=1) - 4.0)\n",
    "    elif data_type == 'syn5':\n",
    "        logit1 = np.exp(x[:, 0] * x[:, 1])\n",
    "        logit2 = np.exp(-10 * np.sin(0.2 * x[:, 6]) + abs(x[:, 7]) + \\\n",
    "                        x[:, 8] + np.exp(-x[:, 9]) - 2.4)\n",
    "    elif data_type == 'syn6':\n",
    "        logit1 = np.exp(np.sum(x[:, 2:6] ** 2, axis=1) - 4.0)\n",
    "        logit2 = np.exp(-10 * np.sin(0.2 * x[:, 6]) + abs(x[:, 7]) + \\\n",
    "                        x[:, 8] + np.exp(-x[:, 9]) - 2.4)\n",
    "\n",
    "        # For syn4, syn5 and syn6 only\n",
    "    if data_type in ['syn4', 'syn5', 'syn6']:\n",
    "        # Based on X[:,10], combine two logits\n",
    "        idx1 = (x[:, 10] < 0) * 1\n",
    "        idx2 = (x[:, 10] >= 0) * 1\n",
    "        logit = logit1 * idx1 + logit2 * idx2\n",
    "\n",
    "    if not logit_values:\n",
    "        # Compute P(Y=0|X)\n",
    "        prob_0 = np.reshape((logit / (1 + logit)), [n, 1])\n",
    "\n",
    "        # # Sampling process\n",
    "        y = np.zeros([n, 2])\n",
    "        y[:, 0] = np.reshape(np.random.binomial(1, prob_0), [n, ])\n",
    "        y[:, 1] = 1 - y[:, 0]\n",
    "        return y[:, 1]\n",
    "    return logit / (1 + logit)\n",
    "\n",
    "\n",
    "def generate_ground_truth(x, data_type):\n",
    "    \"\"\"Generate ground truth feature importance corresponding to the data type\n",
    "     and feature.\n",
    "\n",
    "  Args:\n",
    "    - x: features\n",
    "    - data_type: synthetic data type (syn1 to syn6)\n",
    "\n",
    "  Returns:\n",
    "    - ground_truth: corresponding ground truth feature importance\n",
    "  \"\"\"\n",
    "\n",
    "    # Number of samples and features\n",
    "    n, d = x.shape\n",
    "\n",
    "    # Output initialization\n",
    "    ground_truth = np.zeros([n, d])\n",
    "\n",
    "    # For each data_type\n",
    "    if data_type == 'syn1':\n",
    "        ground_truth[:, :2] = 1\n",
    "    elif data_type == 'syn2':\n",
    "        ground_truth[:, 2:6] = 1\n",
    "    elif data_type == 'syn3':\n",
    "        ground_truth[:, 6:10] = 1\n",
    "\n",
    "    # Index for syn4, syn5 and syn6\n",
    "    if data_type in ['syn4', 'syn5', 'syn6', 'syn9']:\n",
    "        idx1 = np.where(x[:, 10] < 0)[0]\n",
    "        idx2 = np.where(x[:, 10] >= 0)[0]\n",
    "        ground_truth[:, 10] = 1\n",
    "\n",
    "    if data_type == 'syn4':\n",
    "        ground_truth[idx1, :2] = 1\n",
    "        ground_truth[idx2, 2:6] = 1\n",
    "    elif data_type == 'syn5':\n",
    "        ground_truth[idx1, :2] = 1\n",
    "        ground_truth[idx2, 6:10] = 1\n",
    "    elif data_type == 'syn6':\n",
    "        ground_truth[idx1, 2:6] = 1\n",
    "        ground_truth[idx2, 6:10] = 1\n",
    "    elif data_type == 'syn7':\n",
    "        idx1 = np.where(x[:, 4] < 0)[0]\n",
    "        idx2 = np.where(x[:, 4] >= 0)[0]\n",
    "        ground_truth[:, 4] = 1\n",
    "\n",
    "        ground_truth[idx1, 0:2] = 1\n",
    "        ground_truth[idx2, 2:4] = 1\n",
    "    elif data_type == 'syn8':\n",
    "        ground_truth[:, :3] = 1\n",
    "        # ground_truth[idx2, 6:10] = 1\n",
    "    elif data_type == 'syn9':\n",
    "        ground_truth[idx1, :2] = 1\n",
    "        ground_truth[idx2, 6:10] = 1\n",
    "\n",
    "    return ground_truth\n",
    "\n",
    "\n",
    "def generate_moons(x):\n",
    "    moon_x, y = datasets.make_moons(n_samples=x.shape[0], noise=4 * 0.01)\n",
    "    x = np.concatenate([moon_x, x], axis=1)\n",
    "    for i in range(x.shape[0]):\n",
    "        if x[i, 2] <= 0:\n",
    "            if y[i] == 0:\n",
    "                y[i] = 1\n",
    "            else:\n",
    "                y[i] = 0\n",
    "    ground_truth = np.zeros(shape=x.shape)\n",
    "    ground_truth[:, :3] = 1\n",
    "    return x, y, ground_truth\n",
    "\n",
    "\n",
    "def generate_dataset(mean, cov, n=10000, dim=11, data_type='syn1', seed=0, reg=False, coefs=None, logit_values=True):\n",
    "    \"\"\"Generate dataset (x, y, ground_truth).\n",
    "\n",
    "  Args:\n",
    "    - n: the number of samples\n",
    "    - dim: the number of dimensions\n",
    "    - data_type: synthetic data type (syn1 to syn6)\n",
    "    - seed: random seed\n",
    "\n",
    "  Returns:\n",
    "    - x: features\n",
    "    - y: labels\n",
    "    - ground_truth: ground truth feature importance\n",
    "  \"\"\"\n",
    "\n",
    "    # Seed\n",
    "    np.random.seed(seed)\n",
    "\n",
    "    # x generation\n",
    "    data_gen = st.multivariate_normal(mean, cov)\n",
    "    x = data_gen.rvs(n)\n",
    "    if data_type == 'syn_moons':\n",
    "        x, y, ground_truth = generate_moons(x)\n",
    "        return x, y, ground_truth\n",
    "\n",
    "    # x = generate_x(n, dim)\n",
    "    # y generation\n",
    "    y = generate_y(x, data_type, reg, coefs, logit_values)\n",
    "    # ground truth generation\n",
    "    ground_truth = generate_ground_truth(x, data_type)\n",
    "\n",
    "    return x, y, ground_truth\n"
   ]
  },
  {
   "cell_type": "code",
   "execution_count": 3,
   "id": "bac4f891",
   "metadata": {},
   "outputs": [],
   "source": [
    "parser = argparse.ArgumentParser()\n",
    "parser.add_argument(\n",
    "  '--data_type',\n",
    "  choices=['syn1','syn2','syn3','syn4','syn5','syn6', 'syn7', 'syn8', 'syn_moons'],\n",
    "  default='syn_moons',\n",
    "  type=str)\n",
    "parser.add_argument(\n",
    "  '--train_no',\n",
    "  help='the number of training data',\n",
    "  default=10000,\n",
    "  type=int)\n",
    "parser.add_argument(\n",
    "  '--test_no',\n",
    "  help='the number of testing data',\n",
    "  default=10000,\n",
    "  type=int)\n",
    "parser.add_argument(\n",
    "  '--dim',\n",
    "  help='the number of features',\n",
    "  choices=[11, 100],\n",
    "  default=50,\n",
    "  type=int)\n",
    "\n",
    "args = parser.parse_args([]) \n",
    "\n",
    "# Generate dataset\n",
    "d = args.dim\n",
    "p = 0.8\n",
    "mean = np.zeros(d)\n",
    "coefs = np.ones(d)\n",
    "# Determinitist covariance\n",
    "cov = p*np.ones(shape=(d, d)) + 5*np.eye(d)\n",
    "# b = np.random.randn(d, d)\n",
    "# cov = np.dot(b, b.T)\n",
    "\n",
    "x_train, y_train, g_train = generate_dataset (mean, cov, n = args.train_no, \n",
    "                                            dim = args.dim, \n",
    "                                            data_type = args.data_type, \n",
    "                                            seed = 0, reg=True, coefs=coefs)\n",
    "\n",
    "x_test, y_test, g_test = generate_dataset (mean, cov, n = args.test_no,\n",
    "                                         dim = args.dim, \n",
    "                                         data_type = args.data_type, \n",
    "                                         seed = 5, reg=True, coefs=coefs)\n",
    "# X_train = x_train.copy()\n",
    "# X_test = x_test.copy()"
   ]
  },
  {
   "cell_type": "code",
   "execution_count": 4,
   "id": "5b0b8a37",
   "metadata": {},
   "outputs": [],
   "source": [
    "max_size = 10000\n",
    "x_train = pd.DataFrame(x_train[:max_size], columns=['X{}'.format(i) for i in range(x_train.shape[1])])\n",
    "x_test = pd.DataFrame(x_test[:max_size], columns=['X{}'.format(i) for i in range(x_test.shape[1])])\n",
    "y_test = pd.DataFrame(y_test[:max_size])\n",
    "y_train = pd.DataFrame(y_train[:max_size])"
   ]
  },
  {
   "cell_type": "code",
   "execution_count": 5,
   "id": "2f504c62",
   "metadata": {},
   "outputs": [],
   "source": [
    "y_train = y_train.values.squeeze()\n",
    "y_test = y_test.values.squeeze()"
   ]
  },
  {
   "cell_type": "markdown",
   "id": "1ff02b8e",
   "metadata": {},
   "source": [
    "### Train Explainer (ACXplainer)"
   ]
  },
  {
   "cell_type": "code",
   "execution_count": 6,
   "id": "b76e18c9",
   "metadata": {},
   "outputs": [],
   "source": [
    "from acv_explainers import ACXplainer"
   ]
  },
  {
   "cell_type": "code",
   "execution_count": 7,
   "id": "659c1be7",
   "metadata": {},
   "outputs": [],
   "source": [
    "ac_explainer = ACXplainer(classifier=True, n_estimators=10, mtry=x_train.shape[1], max_depth=8, replace=False)\n",
    "ac_explainer.fit(x_train, y_train)"
   ]
  },
  {
   "cell_type": "code",
   "execution_count": 8,
   "id": "a5ca16a1",
   "metadata": {},
   "outputs": [
    {
     "data": {
      "text/plain": [
       "0.9971953903148482"
      ]
     },
     "execution_count": 8,
     "metadata": {},
     "output_type": "execute_result"
    }
   ],
   "source": [
    "from sklearn.metrics import roc_auc_score\n",
    "roc_auc_score(y_test, ac_explainer.predict_proba(x_test)[:, 1])"
   ]
  },
  {
   "cell_type": "markdown",
   "id": "8729e6c0",
   "metadata": {},
   "source": [
    "# Plot the Data"
   ]
  },
  {
   "cell_type": "code",
   "execution_count": 9,
   "id": "d61e8b4b",
   "metadata": {},
   "outputs": [],
   "source": [
    "data_plots = x_train.copy()\n",
    "data_plots['label'] = y_train"
   ]
  },
  {
   "cell_type": "code",
   "execution_count": 10,
   "id": "ae206c73",
   "metadata": {},
   "outputs": [],
   "source": [
    "c = ['#3e82fc', '#ff073a']"
   ]
  },
  {
   "cell_type": "code",
   "execution_count": 11,
   "id": "e041515b",
   "metadata": {},
   "outputs": [
    {
     "data": {
      "text/plain": [
       "<matplotlib.collections.PathCollection at 0x7f78500f8280>"
      ]
     },
     "execution_count": 11,
     "metadata": {},
     "output_type": "execute_result"
    },
    {
     "data": {
      "image/png": "[encoded data removed]",
      "text/plain": [
       "<Figure size 600x400 with 1 Axes>"
      ]
     },
     "metadata": {
      "needs_background": "light"
     },
     "output_type": "display_data"
    }
   ],
   "source": [
    "plt.figure(dpi=100)\n",
    "sns.scatterplot(x='X0', y='X1', hue='label', data=data_plots[data_plots['X2']>=0], palette=c)\n",
    "\n",
    "idx = np.random.randint(0, x_test.shape[0])\n",
    "idx = 241\n",
    "\n",
    "# Find a nearest neighbor \n",
    "nearest = (x_test.values[:, 0] <= x_test.values[idx, 0] + 0.05)*(x_test.values[:, 0] >= x_test.values[idx, 0] - 0.05) *\\\n",
    "(x_test.values[:, 1] <= x_test.values[idx, 1] + 0.05)*(x_test.values[:, 1] >= x_test.values[idx, 1] - 0.05)\\\n",
    "*(x_test.values[:, 2] * x_test.values[idx, 2]>=0)\n",
    "\n",
    "\n",
    "idx_nb = np.argwhere(nearest==1).reshape(-1)[0]\n",
    "plt.scatter(x_test.values[idx][0], x_test.values[idx][1], marker='*', c = 'yellow', s=100)\n",
    "\n",
    "plt.scatter(x_test.values[idx_nb][0], x_test.values[idx_nb][1], marker='*', c = 'black', s=100)"
   ]
  },
  {
   "cell_type": "markdown",
   "id": "832efb40",
   "metadata": {},
   "source": [
    "- The instance chosen for the explanations"
   ]
  },
  {
   "cell_type": "code",
   "execution_count": 12,
   "id": "d7c366db",
   "metadata": {},
   "outputs": [
    {
     "data": {
      "text/plain": [
       "array([ 1.63645292, -0.2793297 ,  1.1650732 ,  1.88235015,  2.49913727,\n",
       "       -1.64285735,  1.27680176,  2.45025881,  0.98483542,  1.399923  ,\n",
       "        2.17315306, -2.01988491,  1.25697649,  3.67057427, -1.6332039 ,\n",
       "        3.23049706,  0.97244603, -2.39847463,  1.70059623, -0.01561015,\n",
       "       -1.17356708,  2.59495247, -1.91668032, -0.89221211,  0.96514319,\n",
       "        3.38968788,  1.08474971, -1.80336752,  1.59423612, -1.20047646,\n",
       "        0.13382636,  2.38093543,  1.02614918, -0.58335811,  2.75487779,\n",
       "        2.80870358, -3.7982218 , -0.6960405 , -1.95697686, -0.83167336,\n",
       "       -0.86123272,  3.4648318 , -1.53976004,  1.04271566,  6.63027349,\n",
       "       -1.93127588,  2.63058311, -0.36321488, -2.44844684, -0.55983083,\n",
       "        7.01145599,  1.33260344])"
      ]
     },
     "execution_count": 12,
     "metadata": {},
     "output_type": "execute_result"
    }
   ],
   "source": [
    "x_test.values[idx]"
   ]
  },
  {
   "cell_type": "markdown",
   "id": "3bb0e6f4",
   "metadata": {},
   "source": [
    "- The nearest point of the chosen instance "
   ]
  },
  {
   "cell_type": "code",
   "execution_count": 13,
   "id": "3b12edff",
   "metadata": {},
   "outputs": [
    {
     "data": {
      "text/plain": [
       "array([ 1.63088441, -0.25730066,  0.20338427,  1.17814416, -2.6493092 ,\n",
       "        0.22126136, -3.96573552, -1.35014364, -0.86752407,  0.98335055,\n",
       "       -1.64288684, -3.75673208, -3.7682473 , -1.34598429,  2.2540965 ,\n",
       "        0.66347964, -2.23927705,  1.33631652, -3.2965628 , -2.75256269,\n",
       "        1.18059732, -1.76704693,  1.17167364, -2.51065328, -0.84983104,\n",
       "       -2.96633617, -3.07332822,  1.46168502,  1.40754213, -4.34082663,\n",
       "       -0.06708767, -0.39437461, -1.6966872 , -4.24897085, -1.31074416,\n",
       "       -1.58809364,  2.72170277,  2.60363464,  1.83307095, -0.29065748,\n",
       "        3.89778162, -0.0605856 ,  1.29259719, -0.82891234, -2.03805243,\n",
       "       -5.56735686,  0.69744213,  0.22037855, -0.74372118,  0.00772882,\n",
       "       -2.99636024,  0.92686732])"
      ]
     },
     "execution_count": 13,
     "metadata": {},
     "output_type": "execute_result"
    }
   ],
   "source": [
    "x_test.values[idx_nb]"
   ]
  },
  {
   "cell_type": "markdown",
   "id": "80192cde",
   "metadata": {},
   "source": [
    "# Anchors Fitting"
   ]
  },
  {
   "cell_type": "code",
   "execution_count": 14,
   "id": "1a33ac81",
   "metadata": {},
   "outputs": [],
   "source": [
    "from anchor import anchor_tabular"
   ]
  },
  {
   "cell_type": "code",
   "execution_count": 15,
   "id": "5277f23f",
   "metadata": {},
   "outputs": [],
   "source": [
    "columns = ['X{}'.format(i) for i in range(x_train.shape[1])]"
   ]
  },
  {
   "cell_type": "code",
   "execution_count": 16,
   "id": "631dc436",
   "metadata": {},
   "outputs": [],
   "source": [
    "explainer = anchor_tabular.AnchorTabularExplainer(\n",
    "    ['0', '1'],\n",
    "    columns,\n",
    "    x_train.values)"
   ]
  },
  {
   "cell_type": "markdown",
   "id": "adb7c8d4",
   "metadata": {},
   "source": [
    "#### Rules of the reference point"
   ]
  },
  {
   "cell_type": "code",
   "execution_count": 17,
   "id": "f4922ec7",
   "metadata": {},
   "outputs": [
    {
     "name": "stdout",
     "output_type": "stream",
     "text": [
      "66.88029608400001\n"
     ]
    },
    {
     "data": {
      "text/plain": [
       "['X32 <= 1.62', 'X44 > 1.66', 'X9 > -1.66', 'X0 > -0.03', 'X2 > 0.01']"
      ]
     },
     "execution_count": 17,
     "metadata": {},
     "output_type": "execute_result"
    }
   ],
   "source": [
    "# idx = 607\n",
    "import time\n",
    "t0 = time.perf_counter()\n",
    "exp = explainer.explain_instance(x_test.values[idx], ac_explainer.model.predict, threshold=0.95, delta=0.05, max_anchor_size=5)\n",
    "t1 = time.perf_counter()\n",
    "print(t1 - t0)\n",
    "exp.names()"
   ]
  },
  {
   "cell_type": "code",
   "execution_count": 18,
   "id": "2fc626c1",
   "metadata": {},
   "outputs": [
    {
     "name": "stdout",
     "output_type": "stream",
     "text": [
      "Anchor: X32 <= 1.62 AND X44 > 1.66 AND X9 > -1.66 AND X0 > -0.03 AND X2 > 0.01\n",
      "Precision: 0.70\n",
      "Coverage: 0.06\n"
     ]
    }
   ],
   "source": [
    "print('Anchor: %s' % (' AND '.join(exp.names())))\n",
    "print('Precision: %.2f' % exp.precision())\n",
    "print('Coverage: %.2f' % exp.coverage())"
   ]
  },
  {
   "cell_type": "markdown",
   "id": "c8f92f8e",
   "metadata": {},
   "source": [
    "#### Rules of the nearest point"
   ]
  },
  {
   "cell_type": "code",
   "execution_count": 19,
   "id": "d835c361",
   "metadata": {},
   "outputs": [
    {
     "name": "stdout",
     "output_type": "stream",
     "text": [
      "48.016825063\n"
     ]
    },
    {
     "data": {
      "text/plain": [
       "['X45 <= -1.57', 'X28 > 0.01', 'X0 > 1.04', 'X2 > 0.01', 'X1 <= -0.20']"
      ]
     },
     "execution_count": 19,
     "metadata": {},
     "output_type": "execute_result"
    }
   ],
   "source": [
    "for i in range(4):\n",
    "\n",
    "    import time\n",
    "    t0 = time.perf_counter()\n",
    "    exp = explainer.explain_instance(x_test.values[idx_nb], ac_explainer.model.predict, threshold=0.95, delta=0.05, max_anchor_size=30)\n",
    "    t1 = time.perf_counter()\n",
    "print(t1 - t0)\n",
    "exp.names()"
   ]
  },
  {
   "cell_type": "code",
   "execution_count": 20,
   "id": "12f2bdd4",
   "metadata": {},
   "outputs": [
    {
     "name": "stdout",
     "output_type": "stream",
     "text": [
      "Anchor: X45 <= -1.57 AND X28 > 0.01 AND X0 > 1.04 AND X2 > 0.01 AND X1 <= -0.20\n",
      "Precision: 1.00\n",
      "Coverage: 0.01\n"
     ]
    }
   ],
   "source": [
    "print('Anchor: %s' % (' AND '.join(exp.names())))\n",
    "print('Precision: %.2f' % exp.precision())\n",
    "print('Coverage: %.2f' % exp.coverage())"
   ]
  },
  {
   "cell_type": "code",
   "execution_count": 21,
   "id": "57a81007",
   "metadata": {},
   "outputs": [],
   "source": [
    "X = x_train.values.copy()\n",
    "plot_step = 0.01"
   ]
  },
  {
   "cell_type": "markdown",
   "id": "dc581d96",
   "metadata": {},
   "source": [
    "# Sufficient Explanations and Sufficient Rules"
   ]
  },
  {
   "cell_type": "markdown",
   "id": "501e9873",
   "metadata": {},
   "source": [
    "### 1- Sufficient Explanations"
   ]
  },
  {
   "cell_type": "code",
   "execution_count": 22,
   "id": "f8a17707",
   "metadata": {},
   "outputs": [],
   "source": [
    "# idx = 0\n",
    "# sufficient_coal, sdp_coal, sdp_global = ac_explainer.sufficient_expl_rf(x_test.values[idx_nb:idx_nb+1], y_test[idx_nb:idx_nb+1].reshape(-1).astype(np.double),\n",
    "#                                                                 x_train.values[:10000], y_train[:10000].reshape(-1).astype(np.double),\n",
    "#                                                                 stop=False, pi_level=0.95, t=10)\n",
    "\n",
    "# sufficient_coal[0].pop(0)\n",
    "# sufficient_coal = sufficient_coal[0]\n",
    "# sufficient_coal\n",
    "\n",
    "# S0 = sufficient_coal[0]\n",
    "# S1 = sufficient_coal[1]"
   ]
  },
  {
   "cell_type": "code",
   "execution_count": 23,
   "id": "3df11b6d",
   "metadata": {},
   "outputs": [],
   "source": [
    "S0 = [0, 2]\n",
    "S1 = [1, 2]"
   ]
  },
  {
   "cell_type": "code",
   "execution_count": 24,
   "id": "cec7ce0b",
   "metadata": {},
   "outputs": [
    {
     "name": "stdout",
     "output_type": "stream",
     "text": [
      "Index of the Sufficient Explanations X_[0, 2], X_[1, 2]\n"
     ]
    }
   ],
   "source": [
    "print('Index of the Sufficient Explanations X_{}, X_{}'.format(S0, S1))"
   ]
  },
  {
   "cell_type": "markdown",
   "id": "5f33d55d",
   "metadata": {},
   "source": [
    "### 2- Sufficient Rules"
   ]
  },
  {
   "cell_type": "code",
   "execution_count": 25,
   "id": "11295469",
   "metadata": {},
   "outputs": [],
   "source": [
    "ns = x_train.shape[0]\n",
    "tn = np.ceil(np.sqrt(ns) * np.log(ns)**(1.5) / 250)"
   ]
  },
  {
   "cell_type": "code",
   "execution_count": 26,
   "id": "2aeab79f",
   "metadata": {},
   "outputs": [
    {
     "name": "stderr",
     "output_type": "stream",
     "text": [
      "100%|███████████████████████████████████████████| 10/10 [00:00<00:00, 40.99it/s]\n",
      "100%|█████████████████████████████████████████████| 1/1 [00:34<00:00, 34.19s/it]\n"
     ]
    },
    {
     "name": "stdout",
     "output_type": "stream",
     "text": [
      "The Sufficient rule when S=[0, 2] is \n",
      "= 1.4525739203424117 <= X0 <= inf and 0.16052448619447984 <= X2 <= inf\n"
     ]
    },
    {
     "name": "stderr",
     "output_type": "stream",
     "text": [
      "100%|█████████████████████████████████████████████| 1/1 [00:35<00:00, 35.35s/it]"
     ]
    },
    {
     "name": "stdout",
     "output_type": "stream",
     "text": [
      "The Sufficient rule when S=[1, 2] is \n",
      "= -inf <= X1 <= -0.14392577469514237 and 0.16052448619447984 <= X2 <= inf\n"
     ]
    },
    {
     "name": "stderr",
     "output_type": "stream",
     "text": [
      "\n"
     ]
    }
   ],
   "source": [
    "sdp, rules, sdp_all, rules_data, w = ac_explainer.compute_sdp_maxrules(x_test.values[idx:idx+1], y_test[idx:idx+1].astype(np.double),\n",
    "                                                         x_train, y_train.astype(np.double), [S0], verbose=True,\n",
    "                                                                       min_node_size=tn)\n",
    "\n",
    "\n",
    "rule = rules[0]\n",
    "columns = [x_train.columns[i] for i in range(x_train.shape[1])]\n",
    "rule_string = ['{} <= {} <= {}'.format(rule[i, 0] if rule[i, 0] > -1e+10 else -np.inf, columns[i],\n",
    "                                       rule[i, 1] if rule[i, 1] < 1e+10 else +np.inf) for i in S0]\n",
    "rule_string = ' and '.join(rule_string)\n",
    "\n",
    "print('The Sufficient rule when S={} is \\n= {}'.format(S0, rule_string))\n",
    "\n",
    "# Rule by SDP of the reference point with S1\n",
    "sdp, rules, sdp_all, rules_data, w = ac_explainer.compute_sdp_maxrules(x_test.values[idx:idx+1], y_test[idx:idx+1].astype(np.double),\n",
    "                                                         x_train, y_train.astype(np.double), [S1], verbose=True,\n",
    "                                                                       min_node_size=tn)\n",
    "\n",
    "rule = rules[0]\n",
    "columns = [x_train.columns[i] for i in range(x_train.shape[1])]\n",
    "rule_string = ['{} <= {} <= {}'.format(rule[i, 0] if rule[i, 0] > -1e+10 else -np.inf, columns[i],\n",
    "                                       rule[i, 1] if rule[i, 1] < 1e+10 else +np.inf) for i in S1]\n",
    "rule_string = ' and '.join(rule_string)\n",
    "\n",
    "\n",
    "# Rule by SDP of the nearest point with S1\n",
    "print('The Sufficient rule when S={} is \\n= {}'.format(S1, rule_string))\n"
   ]
  },
  {
   "cell_type": "markdown",
   "id": "04820560",
   "metadata": {},
   "source": [
    "#### Rule of the nearest point "
   ]
  },
  {
   "cell_type": "code",
   "execution_count": 27,
   "id": "99f828f6",
   "metadata": {},
   "outputs": [
    {
     "name": "stderr",
     "output_type": "stream",
     "text": [
      "100%|█████████████████████████████████████████████| 1/1 [00:33<00:00, 33.72s/it]\n"
     ]
    },
    {
     "name": "stdout",
     "output_type": "stream",
     "text": [
      "The Sufficient rule when S=[0, 2] is \n",
      "= 1.4525739203424117 <= X0 <= inf and 0.16052448619447984 <= X2 <= inf\n"
     ]
    },
    {
     "name": "stderr",
     "output_type": "stream",
     "text": [
      "100%|█████████████████████████████████████████████| 1/1 [00:32<00:00, 32.76s/it]"
     ]
    },
    {
     "name": "stdout",
     "output_type": "stream",
     "text": [
      "The Sufficient rule when S=[1, 2] is \n",
      "= -inf <= X1 <= -0.14392577469514237 and 0.16052448619447984 <= X2 <= inf\n"
     ]
    },
    {
     "name": "stderr",
     "output_type": "stream",
     "text": [
      "\n"
     ]
    }
   ],
   "source": [
    "sdp, rules, sdp_all, rules_data, w = ac_explainer.compute_sdp_maxrules(x_test.values[idx_nb:idx_nb+1], y_test[idx_nb:idx_nb+1].astype(np.double),\n",
    "                                                         x_train, y_train.astype(np.double), [S0], verbose=True,\n",
    "                                                                       min_node_size=tn)\n",
    "\n",
    "\n",
    "rule = rules[0]\n",
    "columns = [x_train.columns[i] for i in range(x_train.shape[1])]\n",
    "rule_string = ['{} <= {} <= {}'.format(rule[i, 0] if rule[i, 0] > -1e+10 else -np.inf, columns[i],\n",
    "                                       rule[i, 1] if rule[i, 1] < 1e+10 else +np.inf) for i in S0]\n",
    "rule_string = ' and '.join(rule_string)\n",
    "\n",
    "print('The Sufficient rule when S={} is \\n= {}'.format(S0, rule_string))\n",
    "\n",
    "# Rule by SDP of the reference point with S1\n",
    "sdp, rules, sdp_all, rules_data, w = ac_explainer.compute_sdp_maxrules(x_test.values[idx_nb:idx_nb+1], y_test[idx_nb:idx_nb+1].astype(np.double),\n",
    "                                                         x_train, y_train.astype(np.double), [S1], verbose=True,\n",
    "                                                                       min_node_size=tn)\n",
    "\n",
    "# from tqdm import tqdm\n",
    "\n",
    "# pi_level = 0.6\n",
    "# for a, ru in tqdm(enumerate(rules)):\n",
    "#     rules_comp = [rules_data[a, j] for j in range(rules_data.shape[1]) if sdp_all[a, j] >= sdp[a]]\n",
    "#     r, _ = return_best(rules[a], rules_comp, S1)\n",
    "#     rules[a][S1] = r\n",
    "    \n",
    "rule = rules[0]\n",
    "columns = [x_train.columns[i] for i in range(x_train.shape[1])]\n",
    "rule_string = ['{} <= {} <= {}'.format(rule[i, 0] if rule[i, 0] > -1e+10 else -np.inf, columns[i],\n",
    "                                       rule[i, 1] if rule[i, 1] < 1e+10 else +np.inf) for i in S1]\n",
    "rule_string = ' and '.join(rule_string)\n",
    "\n",
    "\n",
    "# Rule by SDP of the nearest point with S1\n",
    "print('The Sufficient rule when S={} is \\n= {}'.format(S1, rule_string))\n"
   ]
  },
  {
   "cell_type": "markdown",
   "id": "d03c1dc6",
   "metadata": {},
   "source": [
    "### 3- Plot the rules"
   ]
  },
  {
   "cell_type": "code",
   "execution_count": 28,
   "id": "5c1bed5f",
   "metadata": {},
   "outputs": [
    {
     "data": {
      "text/plain": [
       "(-1.5, 2.0)"
      ]
     },
     "execution_count": 28,
     "metadata": {},
     "output_type": "execute_result"
    },
    {
     "data": {
      "image/png": "[encoded data removed]",
      "text/plain": [
       "<Figure size 600x400 with 1 Axes>"
      ]
     },
     "metadata": {
      "needs_background": "light"
     },
     "output_type": "display_data"
    }
   ],
   "source": [
    "plt.figure(dpi=100)\n",
    "x_min, x_max = X[:, 0].min() - 1, X[:, 0].max() + 1\n",
    "y_min, y_max = X[:, 1].min() - 1, X[:, 1].max() + 1\n",
    "xx, yy = np.meshgrid(np.arange(x_min, x_max, plot_step),\n",
    "                     np.arange(y_min, y_max, plot_step))\n",
    "\n",
    "plt.tight_layout(h_pad=0.5, w_pad=0.5, pad=2.5)\n",
    "plot_X = np.c_[xx.ravel(), yy.ravel()]\n",
    "\n",
    "def rule(X):\n",
    "    Y = []\n",
    "    A = []\n",
    "    j = 0\n",
    "    for i in range(X.shape[0]):\n",
    "        if X[i, 1] <=  -0.14392577469514237 and  1.457438946406726  <= X[i, 0]:\n",
    "            j += 1\n",
    "            Y.append(0)\n",
    "        elif X[i, 1] >=  -0.14392577469514237 and  1.457438946406726 <= X[i, 0]:\n",
    "            Y.append(1)\n",
    "        elif X[i, 1] <= -0.14392577469514237 and  1.457438946406726  >= X[i, 0]:\n",
    "            Y.append(1)\n",
    "        else:\n",
    "            Y.append(4)\n",
    "    return np.array(Y), np.array(A)\n",
    "\n",
    "Z, A = rule(plot_X)\n",
    "Z = Z.reshape(xx.shape)\n",
    "# A = A.reshape(xx.shape)\n",
    "cs = plt.contourf(xx, yy, Z, colors='white', linestyles='dashed')\n",
    "# cs = plt.contourf(xx, yy, A)\n",
    "# plt.colorbar()\n",
    "sns.scatterplot(x='X0', y='X1', hue='label', data=data_plots[data_plots[\"X2\"]>=0], palette=c)\n",
    "plt.scatter(x_test.values[idx][0], x_test.values[idx][1], marker='*', c ='yellow', s=50)\n",
    "plt.scatter(x_test.values[idx_nb][0]-0.05, x_test.values[idx_nb][1], marker='*', c ='black', s=50)\n",
    "x = np.linspace(-2, 3, 100)\n",
    "y = np.ones(100)*(-0.0323284026235342)\n",
    "plt.plot(x, y, linestyle='dashed', color='black')\n",
    "# plt.plot(-2*np.ones(100), np.linspace(-1.5, y[0], 100), linestyle='dashed', color='black')\n",
    "\n",
    "plt.text(x[20]+0.5, y[20]-0.9, r\"$L_{S^\\star_1}(x)=  X_2 \\leq -0.14 \\; and \\; Z_1 > 0.1$\",\n",
    "         horizontalalignment='center', fontsize=9, bbox=dict(boxstyle=\"round\",\n",
    "                   ec=(1., 0.5, 0.5),\n",
    "                   fc=(1., 0.8, 0.8),\n",
    "                   ))\n",
    "\n",
    "\n",
    "x = np.ones(100)*1.4608486890792847 \n",
    "y = np.linspace(-1.5, 2, 100)\n",
    "plt.plot(x, y, linestyle='dotted', color='black')\n",
    "\n",
    "plt.text(x[20]+0.8, y[20]+0.6, r\"$L_{S^\\star_2}(x)=  X_1 \\geq 1.45 \\; and \\; Z_1 > 0.1$\",\n",
    "         verticalalignment='center', fontsize=9, rotation='vertical', bbox=dict(boxstyle=\"round\",\n",
    "                   ec=(1., 0.5, 0.5),\n",
    "                   fc=(1., 0.8, 0.8),\n",
    "                   ))\n",
    "\n",
    "plt.xlabel(r'$X_1$')\n",
    "plt.ylabel(r'$X_2$')\n",
    "plt.xlim(-2, 3)\n",
    "plt.ylim(-1.5, 2)"
   ]
  }
 ],
 "metadata": {
  "kernelspec": {
   "display_name": "Python 3 (ipykernel)",
   "language": "python",
   "name": "python3"
  },
  "language_info": {
   "codemirror_mode": {
    "name": "ipython",
    "version": 3
   },
   "file_extension": ".py",
   "mimetype": "text/x-python",
   "name": "python",
   "nbconvert_exporter": "python",
   "pygments_lexer": "ipython3",
   "version": "3.8.12"
  }
 },
 "nbformat": 4,
 "nbformat_minor": 5
}
