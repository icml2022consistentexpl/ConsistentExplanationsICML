{
 "cells": [
  {
   "cell_type": "code",
   "execution_count": 1,
   "id": "tribal-browser",
   "metadata": {},
   "outputs": [],
   "source": [
    "import pandas as pd\n",
    "import numpy as np\n",
    "\n",
    "from sklearn.datasets import load_breast_cancer\n",
    "from sklearn.model_selection import train_test_split"
   ]
  },
  {
   "cell_type": "markdown",
   "id": "95de9a81",
   "metadata": {},
   "source": [
    "# Load Dataset"
   ]
  },
  {
   "cell_type": "code",
   "execution_count": 2,
   "id": "german-crime",
   "metadata": {},
   "outputs": [],
   "source": [
    "seed = 2022\n",
    "\n",
    "X = pd.read_csv('diabetes/train.csv')\n",
    "y = X.Outcome\n",
    "\n",
    "X.drop(['Id', 'Outcome'], axis=1, inplace=True)\n",
    "X_train, X_test, y_train, y_test = train_test_split(X, y, test_size=0.20, random_state=seed)"
   ]
  },
  {
   "cell_type": "code",
   "execution_count": 3,
   "id": "invisible-dancing",
   "metadata": {},
   "outputs": [
    {
     "data": {
      "text/html": [
       "<div>\n",
       "<style scoped>\n",
       "    .dataframe tbody tr th:only-of-type {\n",
       "        vertical-align: middle;\n",
       "    }\n",
       "\n",
       "    .dataframe tbody tr th {\n",
       "        vertical-align: top;\n",
       "    }\n",
       "\n",
       "    .dataframe thead th {\n",
       "        text-align: right;\n",
       "    }\n",
       "</style>\n",
       "<table border=\"1\" class=\"dataframe\">\n",
       "  <thead>\n",
       "    <tr style=\"text-align: right;\">\n",
       "      <th></th>\n",
       "      <th>Pregnancies</th>\n",
       "      <th>Glucose</th>\n",
       "      <th>BloodPressure</th>\n",
       "      <th>SkinThickness</th>\n",
       "      <th>Insulin</th>\n",
       "      <th>BMI</th>\n",
       "      <th>DiabetesPedigreeFunction</th>\n",
       "      <th>Age</th>\n",
       "    </tr>\n",
       "  </thead>\n",
       "  <tbody>\n",
       "    <tr>\n",
       "      <th>0</th>\n",
       "      <td>2</td>\n",
       "      <td>138</td>\n",
       "      <td>62</td>\n",
       "      <td>35</td>\n",
       "      <td>0</td>\n",
       "      <td>33.6</td>\n",
       "      <td>0.127</td>\n",
       "      <td>47</td>\n",
       "    </tr>\n",
       "    <tr>\n",
       "      <th>1</th>\n",
       "      <td>0</td>\n",
       "      <td>135</td>\n",
       "      <td>68</td>\n",
       "      <td>42</td>\n",
       "      <td>250</td>\n",
       "      <td>42.3</td>\n",
       "      <td>0.365</td>\n",
       "      <td>24</td>\n",
       "    </tr>\n",
       "    <tr>\n",
       "      <th>2</th>\n",
       "      <td>0</td>\n",
       "      <td>173</td>\n",
       "      <td>78</td>\n",
       "      <td>32</td>\n",
       "      <td>265</td>\n",
       "      <td>46.5</td>\n",
       "      <td>1.159</td>\n",
       "      <td>58</td>\n",
       "    </tr>\n",
       "    <tr>\n",
       "      <th>3</th>\n",
       "      <td>4</td>\n",
       "      <td>99</td>\n",
       "      <td>72</td>\n",
       "      <td>17</td>\n",
       "      <td>0</td>\n",
       "      <td>25.6</td>\n",
       "      <td>0.294</td>\n",
       "      <td>28</td>\n",
       "    </tr>\n",
       "    <tr>\n",
       "      <th>4</th>\n",
       "      <td>8</td>\n",
       "      <td>194</td>\n",
       "      <td>80</td>\n",
       "      <td>0</td>\n",
       "      <td>0</td>\n",
       "      <td>26.1</td>\n",
       "      <td>0.551</td>\n",
       "      <td>67</td>\n",
       "    </tr>\n",
       "  </tbody>\n",
       "</table>\n",
       "</div>"
      ],
      "text/plain": [
       "   Pregnancies  Glucose  BloodPressure  SkinThickness  Insulin   BMI  \\\n",
       "0            2      138             62             35        0  33.6   \n",
       "1            0      135             68             42      250  42.3   \n",
       "2            0      173             78             32      265  46.5   \n",
       "3            4       99             72             17        0  25.6   \n",
       "4            8      194             80              0        0  26.1   \n",
       "\n",
       "   DiabetesPedigreeFunction  Age  \n",
       "0                     0.127   47  \n",
       "1                     0.365   24  \n",
       "2                     1.159   58  \n",
       "3                     0.294   28  \n",
       "4                     0.551   67  "
      ]
     },
     "execution_count": 3,
     "metadata": {},
     "output_type": "execute_result"
    }
   ],
   "source": [
    "X.head()"
   ]
  },
  {
   "cell_type": "code",
   "execution_count": 4,
   "id": "conventional-response",
   "metadata": {},
   "outputs": [
    {
     "data": {
      "text/plain": [
       "(1124, 8)"
      ]
     },
     "execution_count": 4,
     "metadata": {},
     "output_type": "execute_result"
    }
   ],
   "source": [
    "X_train.shape"
   ]
  },
  {
   "cell_type": "markdown",
   "id": "4166cd4c",
   "metadata": {},
   "source": [
    "# Fit Global Sufficient Rules"
   ]
  },
  {
   "cell_type": "code",
   "execution_count": 5,
   "id": "sustainable-giant",
   "metadata": {},
   "outputs": [],
   "source": [
    "from acv_explainers import ACXplainer\n",
    "from sklearn.metrics import roc_auc_score, accuracy_score\n",
    "\n",
    "# It has the same params as a Random Forest, and it should be tuned to maximize the performance.  \n",
    "acv_xplainer = ACXplainer(classifier=True, n_estimators=20, max_depth=10, sample_fraction=0.9, seed=4686)\n",
    "acv_xplainer.fit(X_train, y_train)"
   ]
  },
  {
   "cell_type": "code",
   "execution_count": 6,
   "id": "concerned-contact",
   "metadata": {},
   "outputs": [
    {
     "data": {
      "text/plain": [
       "0.9110320284697508"
      ]
     },
     "execution_count": 6,
     "metadata": {},
     "output_type": "execute_result"
    }
   ],
   "source": [
    "accuracy_score(y_test, acv_xplainer.predict(X_test))"
   ]
  },
  {
   "cell_type": "markdown",
   "id": "addressed-tradition",
   "metadata": {},
   "source": [
    "### 1- Compute Sufficient Explanations"
   ]
  },
  {
   "cell_type": "code",
   "execution_count": 7,
   "id": "political-google",
   "metadata": {},
   "outputs": [
    {
     "name": "stderr",
     "output_type": "stream",
     "text": [
      "100%|███████████████████████████████████████████| 20/20 [00:00<00:00, 85.44it/s]\n",
      "100%|█████████████████████████████████████████████| 8/8 [01:59<00:00, 14.91s/it]\n"
     ]
    }
   ],
   "source": [
    "sdp_importance, sdp_index, size, sdp = acv_xplainer.importance_sdp_rf(X_train, y_train.astype(np.double),\n",
    "                                                                      X_train, y_train.astype(np.double), stop=False, \n",
    "                                                                      pi_level=0.9)"
   ]
  },
  {
   "cell_type": "code",
   "execution_count": 8,
   "id": "df519a7e",
   "metadata": {},
   "outputs": [],
   "source": [
    "from acv_explainers.utils import get_active_null_coalition_list\n",
    "\n",
    "S_star, N_star = get_active_null_coalition_list(sdp_index, size)"
   ]
  },
  {
   "cell_type": "markdown",
   "id": "d64832f3",
   "metadata": {},
   "source": [
    "### 2- Compute Sufficient Rules"
   ]
  },
  {
   "cell_type": "code",
   "execution_count": 9,
   "id": "b114e94b",
   "metadata": {},
   "outputs": [
    {
     "name": "stderr",
     "output_type": "stream",
     "text": [
      "100%|███████████████████████████████████████| 1124/1124 [06:12<00:00,  3.02it/s]\n"
     ]
    }
   ],
   "source": [
    "sdp, rules, sdp_all, rules_data, w = acv_xplainer.compute_sdp_maxrules(X_train, y_train.astype(np.double),\n",
    "                                                         X_train, y_train.astype(np.double), S_star, verbose=True)"
   ]
  },
  {
   "cell_type": "markdown",
   "id": "7ea0fc97",
   "metadata": {},
   "source": [
    "### 3- Compute Global Sufficient Rules (G-SR)"
   ]
  },
  {
   "cell_type": "code",
   "execution_count": 10,
   "id": "01799a11",
   "metadata": {},
   "outputs": [],
   "source": [
    "acv_xplainer.fit_global_rules(X_train, y_train, rules, S_star)"
   ]
  },
  {
   "cell_type": "code",
   "execution_count": 11,
   "id": "6c4bf784",
   "metadata": {},
   "outputs": [],
   "source": [
    "y_test_pred = acv_xplainer.predict_proba_global_rules(X_test.values, min_acc=0.9)"
   ]
  },
  {
   "cell_type": "markdown",
   "id": "8831b844",
   "metadata": {},
   "source": [
    "### 4-  Compute the coverage and the precision of G-SR"
   ]
  },
  {
   "cell_type": "code",
   "execution_count": 12,
   "id": "4694656b",
   "metadata": {},
   "outputs": [
    {
     "name": "stdout",
     "output_type": "stream",
     "text": [
      "Accuracy = 0.982532751091703 --- Test Coverage = 0.8149466192170819\n"
     ]
    }
   ],
   "source": [
    "y_o = []\n",
    "y_r = []\n",
    "for i, ya in enumerate(y_test_pred[0]):\n",
    "    if ya != None:\n",
    "        y_o.append(ya)\n",
    "        y_r.append(y_test.values[i])\n",
    "        \n",
    "y_o = np.array(y_o, dtype=int)\n",
    "\n",
    "print('Accuracy = {} --- Test Coverage = {}'.format(accuracy_score(y_r, y_o), len(y_r)/X_test.shape[0]))"
   ]
  },
  {
   "cell_type": "markdown",
   "id": "631879bd",
   "metadata": {},
   "source": [
    "# Baseline models"
   ]
  },
  {
   "cell_type": "code",
   "execution_count": 13,
   "id": "complete-stock",
   "metadata": {},
   "outputs": [],
   "source": [
    "from imodels import BoostedRulesClassifier, BayesianRuleListClassifier, GreedyRuleListClassifier, SkopeRulesClassifier # see more models below\n",
    "from imodels import SLIMRegressor, RuleFitRegressor, RuleFitClassifier"
   ]
  },
  {
   "cell_type": "markdown",
   "id": "professional-exclusion",
   "metadata": {},
   "source": [
    "# Rule Fit"
   ]
  },
  {
   "cell_type": "code",
   "execution_count": 14,
   "id": "waiting-diamond",
   "metadata": {},
   "outputs": [
    {
     "data": {
      "text/plain": [
       "RuleFitClassifier()"
      ]
     },
     "execution_count": 14,
     "metadata": {},
     "output_type": "execute_result"
    }
   ],
   "source": [
    "rf = RuleFitClassifier()  # initialize a model\n",
    "rf.fit(X_train, y_train)  "
   ]
  },
  {
   "cell_type": "code",
   "execution_count": 15,
   "id": "artistic-aquarium",
   "metadata": {},
   "outputs": [
    {
     "data": {
      "text/plain": [
       "0.7615658362989324"
      ]
     },
     "execution_count": 15,
     "metadata": {},
     "output_type": "execute_result"
    }
   ],
   "source": [
    "accuracy_score(y_test, rf.predict(X_test))"
   ]
  },
  {
   "cell_type": "markdown",
   "id": "exotic-secondary",
   "metadata": {},
   "source": [
    "# Skoped Rule"
   ]
  },
  {
   "cell_type": "code",
   "execution_count": 16,
   "id": "rocky-quilt",
   "metadata": {},
   "outputs": [
    {
     "data": {
      "text/plain": [
       "0.7188612099644128"
      ]
     },
     "execution_count": 16,
     "metadata": {},
     "output_type": "execute_result"
    }
   ],
   "source": [
    "rf = SkopeRulesClassifier(n_estimators=10, precision_min=0.7, recall_min=0.25)  # initialize a model\n",
    "rf.fit(X_train, y_train)  \n",
    "\n",
    "accuracy_score(y_test, rf.predict(X_test))"
   ]
  },
  {
   "cell_type": "markdown",
   "id": "annoying-premises",
   "metadata": {},
   "source": [
    "# Decision Tree"
   ]
  },
  {
   "cell_type": "code",
   "execution_count": 17,
   "id": "regulation-woman",
   "metadata": {},
   "outputs": [],
   "source": [
    "from sklearn.tree import DecisionTreeClassifier"
   ]
  },
  {
   "cell_type": "code",
   "execution_count": 18,
   "id": "cleared-coalition",
   "metadata": {},
   "outputs": [
    {
     "data": {
      "text/plain": [
       "0.9074733096085409"
      ]
     },
     "execution_count": 18,
     "metadata": {},
     "output_type": "execute_result"
    }
   ],
   "source": [
    "rf = DecisionTreeClassifier()  # initialize a model\n",
    "rf.fit(X_train, y_train)  \n",
    "\n",
    "accuracy_score(y_test, rf.predict(X_test))"
   ]
  },
  {
   "cell_type": "markdown",
   "id": "printable-confidentiality",
   "metadata": {},
   "source": [
    "# Random Forest"
   ]
  },
  {
   "cell_type": "code",
   "execution_count": 19,
   "id": "confused-architect",
   "metadata": {},
   "outputs": [],
   "source": [
    "from sklearn.ensemble import RandomForestClassifier"
   ]
  },
  {
   "cell_type": "code",
   "execution_count": 20,
   "id": "labeled-recruitment",
   "metadata": {},
   "outputs": [
    {
     "data": {
      "text/plain": [
       "0.9217081850533808"
      ]
     },
     "execution_count": 20,
     "metadata": {},
     "output_type": "execute_result"
    }
   ],
   "source": [
    "rf = RandomForestClassifier(n_estimators=500, random_state=202)  # initialize a model\n",
    "rf.fit(X_train, y_train)  \n",
    "\n",
    "accuracy_score(y_test, rf.predict(X_test))"
   ]
  }
 ],
 "metadata": {
  "kernelspec": {
   "display_name": "Python 3 (ipykernel)",
   "language": "python",
   "name": "python3"
  },
  "language_info": {
   "codemirror_mode": {
    "name": "ipython",
    "version": 3
   },
   "file_extension": ".py",
   "mimetype": "text/x-python",
   "name": "python",
   "nbconvert_exporter": "python",
   "pygments_lexer": "ipython3",
   "version": "3.8.12"
  }
 },
 "nbformat": 4,
 "nbformat_minor": 5
}
