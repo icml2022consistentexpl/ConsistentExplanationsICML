{
 "cells": [
  {
   "cell_type": "markdown",
   "id": "beneficial-finland",
   "metadata": {},
   "source": [
    "# ACXplainer DEMO on LUCAS Data Set"
   ]
  },
  {
   "cell_type": "code",
   "execution_count": 1,
   "id": "broad-tracy",
   "metadata": {},
   "outputs": [],
   "source": [
    "# import shap \n",
    "import sys\n",
    "from sklearn.model_selection import train_test_split\n",
    "from acv_explainers import *\n",
    "import numpy as np\n",
    "import acv_explainers\n",
    "from acv_explainers import ACXplainer\n",
    "import pandas as pd\n",
    "from sklearn.ensemble import RandomForestClassifier\n",
    "\n",
    "\n",
    "sys.setrecursionlimit(10000)"
   ]
  },
  {
   "cell_type": "markdown",
   "id": "gorgeous-warehouse",
   "metadata": {},
   "source": [
    "- Load data"
   ]
  },
  {
   "cell_type": "code",
   "execution_count": 2,
   "id": "bored-sample",
   "metadata": {},
   "outputs": [],
   "source": [
    "np.random.seed(2021)\n",
    "data_frame = pd.read_csv('lucas/lucas0_train.csv')\n",
    "\n",
    "y = data_frame.Lung_cancer.values\n",
    "data_frame.drop(['Lung_cancer'], axis=1, inplace=True)\n",
    "X = data_frame.copy()\n",
    "\n",
    "X_train, X_test, y_train, y_test = train_test_split(X, y, test_size=0.2, random_state=21)"
   ]
  },
  {
   "cell_type": "markdown",
   "id": "german-kelly",
   "metadata": {},
   "source": [
    "- Train Explainer"
   ]
  },
  {
   "cell_type": "code",
   "execution_count": 3,
   "id": "painful-construction",
   "metadata": {},
   "outputs": [],
   "source": [
    "ac_explainer = ACXplainer(classifier=True, n_estimators=10, min_node_size=2, mtry=0)\n",
    "ac_explainer.fit(X_train, y_train)"
   ]
  },
  {
   "cell_type": "code",
   "execution_count": 4,
   "id": "assured-honor",
   "metadata": {},
   "outputs": [
    {
     "data": {
      "text/plain": [
       "0.9212833333333333"
      ]
     },
     "execution_count": 4,
     "metadata": {},
     "output_type": "execute_result"
    }
   ],
   "source": [
    "from sklearn.metrics import roc_auc_score\n",
    "roc_auc_score(y_test, ac_explainer.predict_proba(X_test)[:, 1])"
   ]
  },
  {
   "cell_type": "markdown",
   "id": "1eecefb1",
   "metadata": {},
   "source": [
    "## Launch the WebApp"
   ]
  },
  {
   "cell_type": "code",
   "execution_count": null,
   "id": "julian-minneapolis",
   "metadata": {},
   "outputs": [
    {
     "name": "stdout",
     "output_type": "stream",
     "text": [
      "\n",
      "  You can now view your Streamlit app in your browser.\n",
      "\n",
      "  Local URL: http://localhost:8501\n",
      "  Network URL: http://192.168.1.76:8501\n",
      "\n"
     ]
    },
    {
     "name": "stderr",
     "output_type": "stream",
     "text": [
      "100%|██████████| 10/10 [00:00<00:00, 349.95it/s]\n",
      "100%|██████████| 10/10 [00:08<00:00,  1.23it/s]\n",
      "100%|██████████| 10/10 [00:16<00:00,  1.67s/it]"
     ]
    }
   ],
   "source": [
    "import acv_app\n",
    "import os\n",
    "\n",
    "# compile the ACXplainer\n",
    "acv_app.compile_ACXplainers(ac_explainer, X_train, y_train, X_test, y_test, path=os.getcwd())\n",
    "\n",
    "# Launch the webApp\n",
    "acv_app.run_webapp(pickle_path=os.getcwd())"
   ]
  }
 ],
 "metadata": {
  "kernelspec": {
   "display_name": "Python 3 (ipykernel)",
   "language": "python",
   "name": "python3"
  },
  "language_info": {
   "codemirror_mode": {
    "name": "ipython",
    "version": 3
   },
   "file_extension": ".py",
   "mimetype": "text/x-python",
   "name": "python",
   "nbconvert_exporter": "python",
   "pygments_lexer": "ipython3",
   "version": "3.8.12"
  }
 },
 "nbformat": 4,
 "nbformat_minor": 5
}
